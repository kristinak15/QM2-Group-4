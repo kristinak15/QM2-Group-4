{
  "nbformat": 4,
  "nbformat_minor": 0,
  "metadata": {
    "colab": {
      "name": "nlp api.ipynb",
      "provenance": [],
      "collapsed_sections": [],
      "include_colab_link": true
    },
    "kernelspec": {
      "name": "python3",
      "display_name": "Python 3"
    }
  },
  "cells": [
    {
      "cell_type": "markdown",
      "metadata": {
        "id": "view-in-github",
        "colab_type": "text"
      },
      "source": [
        "<a href=\"https://colab.research.google.com/github/kristinak15/QM2-Group-4/blob/main/nlp_api.ipynb\" target=\"_parent\"><img src=\"https://colab.research.google.com/assets/colab-badge.svg\" alt=\"Open In Colab\"/></a>"
      ]
    },
    {
      "cell_type": "code",
      "metadata": {
        "colab": {
          "base_uri": "https://localhost:8080/"
        },
        "id": "f6ZLgbSZv5UF",
        "outputId": "276810c9-6763-4249-8677-cb2978d70164"
      },
      "source": [
        "import pandas as pd \n",
        "import pylab\n",
        "%matplotlib inline\n",
        "pylab.rcParams['figure.figsize'] = (10., 8.)\n",
        "import nltk\n",
        "nltk.download('book')\n",
        "from nltk.book import *"
      ],
      "execution_count": 1,
      "outputs": [
        {
          "output_type": "stream",
          "text": [
            "[nltk_data] Downloading collection 'book'\n",
            "[nltk_data]    | \n",
            "[nltk_data]    | Downloading package abc to /root/nltk_data...\n",
            "[nltk_data]    |   Unzipping corpora/abc.zip.\n",
            "[nltk_data]    | Downloading package brown to /root/nltk_data...\n",
            "[nltk_data]    |   Unzipping corpora/brown.zip.\n",
            "[nltk_data]    | Downloading package chat80 to /root/nltk_data...\n",
            "[nltk_data]    |   Unzipping corpora/chat80.zip.\n",
            "[nltk_data]    | Downloading package cmudict to /root/nltk_data...\n",
            "[nltk_data]    |   Unzipping corpora/cmudict.zip.\n",
            "[nltk_data]    | Downloading package conll2000 to /root/nltk_data...\n",
            "[nltk_data]    |   Unzipping corpora/conll2000.zip.\n",
            "[nltk_data]    | Downloading package conll2002 to /root/nltk_data...\n",
            "[nltk_data]    |   Unzipping corpora/conll2002.zip.\n",
            "[nltk_data]    | Downloading package dependency_treebank to\n",
            "[nltk_data]    |     /root/nltk_data...\n",
            "[nltk_data]    |   Unzipping corpora/dependency_treebank.zip.\n",
            "[nltk_data]    | Downloading package genesis to /root/nltk_data...\n",
            "[nltk_data]    |   Unzipping corpora/genesis.zip.\n",
            "[nltk_data]    | Downloading package gutenberg to /root/nltk_data...\n",
            "[nltk_data]    |   Unzipping corpora/gutenberg.zip.\n",
            "[nltk_data]    | Downloading package ieer to /root/nltk_data...\n",
            "[nltk_data]    |   Unzipping corpora/ieer.zip.\n",
            "[nltk_data]    | Downloading package inaugural to /root/nltk_data...\n",
            "[nltk_data]    |   Unzipping corpora/inaugural.zip.\n",
            "[nltk_data]    | Downloading package movie_reviews to\n",
            "[nltk_data]    |     /root/nltk_data...\n",
            "[nltk_data]    |   Unzipping corpora/movie_reviews.zip.\n",
            "[nltk_data]    | Downloading package nps_chat to /root/nltk_data...\n",
            "[nltk_data]    |   Unzipping corpora/nps_chat.zip.\n",
            "[nltk_data]    | Downloading package names to /root/nltk_data...\n",
            "[nltk_data]    |   Unzipping corpora/names.zip.\n",
            "[nltk_data]    | Downloading package ppattach to /root/nltk_data...\n",
            "[nltk_data]    |   Unzipping corpora/ppattach.zip.\n",
            "[nltk_data]    | Downloading package reuters to /root/nltk_data...\n",
            "[nltk_data]    | Downloading package senseval to /root/nltk_data...\n",
            "[nltk_data]    |   Unzipping corpora/senseval.zip.\n",
            "[nltk_data]    | Downloading package state_union to /root/nltk_data...\n",
            "[nltk_data]    |   Unzipping corpora/state_union.zip.\n",
            "[nltk_data]    | Downloading package stopwords to /root/nltk_data...\n",
            "[nltk_data]    |   Unzipping corpora/stopwords.zip.\n",
            "[nltk_data]    | Downloading package swadesh to /root/nltk_data...\n",
            "[nltk_data]    |   Unzipping corpora/swadesh.zip.\n",
            "[nltk_data]    | Downloading package timit to /root/nltk_data...\n",
            "[nltk_data]    |   Unzipping corpora/timit.zip.\n",
            "[nltk_data]    | Downloading package treebank to /root/nltk_data...\n",
            "[nltk_data]    |   Unzipping corpora/treebank.zip.\n",
            "[nltk_data]    | Downloading package toolbox to /root/nltk_data...\n",
            "[nltk_data]    |   Unzipping corpora/toolbox.zip.\n",
            "[nltk_data]    | Downloading package udhr to /root/nltk_data...\n",
            "[nltk_data]    |   Unzipping corpora/udhr.zip.\n",
            "[nltk_data]    | Downloading package udhr2 to /root/nltk_data...\n",
            "[nltk_data]    |   Unzipping corpora/udhr2.zip.\n",
            "[nltk_data]    | Downloading package unicode_samples to\n",
            "[nltk_data]    |     /root/nltk_data...\n",
            "[nltk_data]    |   Unzipping corpora/unicode_samples.zip.\n",
            "[nltk_data]    | Downloading package webtext to /root/nltk_data...\n",
            "[nltk_data]    |   Unzipping corpora/webtext.zip.\n",
            "[nltk_data]    | Downloading package wordnet to /root/nltk_data...\n",
            "[nltk_data]    |   Unzipping corpora/wordnet.zip.\n",
            "[nltk_data]    | Downloading package wordnet_ic to /root/nltk_data...\n",
            "[nltk_data]    |   Unzipping corpora/wordnet_ic.zip.\n",
            "[nltk_data]    | Downloading package words to /root/nltk_data...\n",
            "[nltk_data]    |   Unzipping corpora/words.zip.\n",
            "[nltk_data]    | Downloading package maxent_treebank_pos_tagger to\n",
            "[nltk_data]    |     /root/nltk_data...\n",
            "[nltk_data]    |   Unzipping taggers/maxent_treebank_pos_tagger.zip.\n",
            "[nltk_data]    | Downloading package maxent_ne_chunker to\n",
            "[nltk_data]    |     /root/nltk_data...\n",
            "[nltk_data]    |   Unzipping chunkers/maxent_ne_chunker.zip.\n",
            "[nltk_data]    | Downloading package universal_tagset to\n",
            "[nltk_data]    |     /root/nltk_data...\n",
            "[nltk_data]    |   Unzipping taggers/universal_tagset.zip.\n",
            "[nltk_data]    | Downloading package punkt to /root/nltk_data...\n",
            "[nltk_data]    |   Unzipping tokenizers/punkt.zip.\n",
            "[nltk_data]    | Downloading package book_grammars to\n",
            "[nltk_data]    |     /root/nltk_data...\n",
            "[nltk_data]    |   Unzipping grammars/book_grammars.zip.\n",
            "[nltk_data]    | Downloading package city_database to\n",
            "[nltk_data]    |     /root/nltk_data...\n",
            "[nltk_data]    |   Unzipping corpora/city_database.zip.\n",
            "[nltk_data]    | Downloading package tagsets to /root/nltk_data...\n",
            "[nltk_data]    |   Unzipping help/tagsets.zip.\n",
            "[nltk_data]    | Downloading package panlex_swadesh to\n",
            "[nltk_data]    |     /root/nltk_data...\n",
            "[nltk_data]    | Downloading package averaged_perceptron_tagger to\n",
            "[nltk_data]    |     /root/nltk_data...\n",
            "[nltk_data]    |   Unzipping taggers/averaged_perceptron_tagger.zip.\n",
            "[nltk_data]    | \n",
            "[nltk_data]  Done downloading collection book\n",
            "*** Introductory Examples for the NLTK Book ***\n",
            "Loading text1, ..., text9 and sent1, ..., sent9\n",
            "Type the name of the text or sentence to view it.\n",
            "Type: 'texts()' or 'sents()' to list the materials.\n",
            "text1: Moby Dick by Herman Melville 1851\n",
            "text2: Sense and Sensibility by Jane Austen 1811\n",
            "text3: The Book of Genesis\n",
            "text4: Inaugural Address Corpus\n",
            "text5: Chat Corpus\n",
            "text6: Monty Python and the Holy Grail\n",
            "text7: Wall Street Journal\n",
            "text8: Personals Corpus\n",
            "text9: The Man Who Was Thursday by G . K . Chesterton 1908\n"
          ],
          "name": "stdout"
        }
      ]
    },
    {
      "cell_type": "code",
      "metadata": {
        "colab": {
          "base_uri": "https://localhost:8080/"
        },
        "id": "KRc5wnD1VosH",
        "outputId": "89fee8a9-3c6a-45e3-adc3-8a9437e12c6f"
      },
      "source": [
        "# Clone the entire repo.\n",
        "!git clone -l -s git://github.com/kristinak15/QM2-Group-4.git cloned-repo\n",
        "%cd cloned-repo\n",
        "!ls"
      ],
      "execution_count": 2,
      "outputs": [
        {
          "output_type": "stream",
          "text": [
            "Cloning into 'cloned-repo'...\n",
            "warning: --local is ignored\n",
            "remote: Enumerating objects: 52, done.\u001b[K\n",
            "remote: Counting objects: 100% (52/52), done.\u001b[K\n",
            "remote: Compressing objects: 100% (52/52), done.\u001b[K\n",
            "remote: Total 748 (delta 26), reused 0 (delta 0), pack-reused 696\u001b[K\n",
            "Receiving objects: 100% (748/748), 226.26 MiB | 34.47 MiB/s, done.\n",
            "Resolving deltas: 100% (404/404), done.\n",
            "/content/cloned-repo\n",
            " api\n",
            " ColabDocuments\n",
            " Copy_of_crop_prices_per_kg.ipynb\n",
            " crop_prices_per_kg.csv\n",
            " datasets_guide1.6.pdf\n",
            "'FINAL DATA SETS'\n",
            " final_data_table.csv\n",
            " GM_corn_analysis.ipynb\n",
            " GM_corn_analysis_with_normalised_GDP.ipynb\n",
            " GM_crop_by_country.ipynb\n",
            " LICENSE\n",
            " Mapping_United_States.ipynb\n",
            " Pearson_GM_PO.ipynb\n",
            " processed_anti_GMO\n",
            " processed_pro_GMO\n",
            " README.md\n",
            "'real gdp by state agriculture.csv'\n",
            "'real gdp by state farms.csv'\n",
            " RHoMIS_Indicators.csv\n",
            "'sentiment analysis'\n",
            "'To do list'\n",
            " US_GM_crops_Visualisations.ipynb\n",
            " website\n"
          ],
          "name": "stdout"
        }
      ]
    },
    {
      "cell_type": "code",
      "metadata": {
        "id": "kg6lvNMwxUVU"
      },
      "source": [
        "data = pd.read_csv('/content/cloned-repo/api/api.csv')"
      ],
      "execution_count": 21,
      "outputs": []
    },
    {
      "cell_type": "code",
      "metadata": {
        "id": "QJzeCejWydxO",
        "colab": {
          "base_uri": "https://localhost:8080/",
          "height": 198
        },
        "outputId": "c6096ec0-536d-4269-f331-7bb80e21d33a"
      },
      "source": [
        "data.head()"
      ],
      "execution_count": 22,
      "outputs": [
        {
          "output_type": "execute_result",
          "data": {
            "text/html": [
              "<div>\n",
              "<style scoped>\n",
              "    .dataframe tbody tr th:only-of-type {\n",
              "        vertical-align: middle;\n",
              "    }\n",
              "\n",
              "    .dataframe tbody tr th {\n",
              "        vertical-align: top;\n",
              "    }\n",
              "\n",
              "    .dataframe thead th {\n",
              "        text-align: right;\n",
              "    }\n",
              "</style>\n",
              "<table border=\"1\" class=\"dataframe\">\n",
              "  <thead>\n",
              "    <tr style=\"text-align: right;\">\n",
              "      <th></th>\n",
              "      <th>tweet</th>\n",
              "      <th>link</th>\n",
              "      <th>Unnamed: 2</th>\n",
              "      <th>Unnamed: 3</th>\n",
              "    </tr>\n",
              "  </thead>\n",
              "  <tbody>\n",
              "    <tr>\n",
              "      <th>0</th>\n",
              "      <td>A German brand of food supplement organic and ...</td>\n",
              "      <td>https://t.co/bJyf5laljQ</td>\n",
              "      <td>NaN</td>\n",
              "      <td>NaN</td>\n",
              "    </tr>\n",
              "    <tr>\n",
              "      <th>1</th>\n",
              "      <td>RT @DrLeoRebello: The 5 Big Lies they do not w...</td>\n",
              "      <td>NaN</td>\n",
              "      <td>NaN</td>\n",
              "      <td>NaN</td>\n",
              "    </tr>\n",
              "    <tr>\n",
              "      <th>2</th>\n",
              "      <td>RT @ladydiaphanous: @___Prodigy___ @DrMadej @b...</td>\n",
              "      <td>NaN</td>\n",
              "      <td>NaN</td>\n",
              "      <td>NaN</td>\n",
              "    </tr>\n",
              "    <tr>\n",
              "      <th>3</th>\n",
              "      <td>@Chena_Punim Funny it’s a sign of zinc deficie...</td>\n",
              "      <td>https://t.co/Tmj7ffzAqH</td>\n",
              "      <td>NaN</td>\n",
              "      <td>NaN</td>\n",
              "    </tr>\n",
              "    <tr>\n",
              "      <th>4</th>\n",
              "      <td>RT @ChickenGate: @kirstiealley Check this out ...</td>\n",
              "      <td>NaN</td>\n",
              "      <td>NaN</td>\n",
              "      <td>NaN</td>\n",
              "    </tr>\n",
              "  </tbody>\n",
              "</table>\n",
              "</div>"
            ],
            "text/plain": [
              "                                               tweet  ... Unnamed: 3\n",
              "0  A German brand of food supplement organic and ...  ...        NaN\n",
              "1  RT @DrLeoRebello: The 5 Big Lies they do not w...  ...        NaN\n",
              "2  RT @ladydiaphanous: @___Prodigy___ @DrMadej @b...  ...        NaN\n",
              "3  @Chena_Punim Funny it’s a sign of zinc deficie...  ...        NaN\n",
              "4  RT @ChickenGate: @kirstiealley Check this out ...  ...        NaN\n",
              "\n",
              "[5 rows x 4 columns]"
            ]
          },
          "metadata": {
            "tags": []
          },
          "execution_count": 22
        }
      ]
    },
    {
      "cell_type": "code",
      "metadata": {
        "id": "EH7HS8oSyhUf"
      },
      "source": [
        "data.drop(['Unnamed: 2','Unnamed: 3'], axis=1,inplace=True)"
      ],
      "execution_count": 23,
      "outputs": []
    },
    {
      "cell_type": "code",
      "metadata": {
        "id": "Xxk7zWhgbslh"
      },
      "source": [
        "tweets = data.drop('link',axis=1)"
      ],
      "execution_count": 24,
      "outputs": []
    },
    {
      "cell_type": "code",
      "metadata": {
        "id": "6KUvp1Y3f6dR"
      },
      "source": [
        "value = 1 \n",
        "tweets['value'] = value"
      ],
      "execution_count": 25,
      "outputs": []
    },
    {
      "cell_type": "code",
      "metadata": {
        "id": "vdI3Y-Idb3N2"
      },
      "source": [
        "tweets['tweet'] = tweets['tweet'].astype(str)"
      ],
      "execution_count": 26,
      "outputs": []
    },
    {
      "cell_type": "code",
      "metadata": {
        "id": "ZW5Alz2dgPe4"
      },
      "source": [
        "text = tweets.groupby('value')['tweet'].apply(' '.join).reset_index()"
      ],
      "execution_count": 27,
      "outputs": []
    },
    {
      "cell_type": "code",
      "metadata": {
        "id": "Nk3Ko3yVggia",
        "colab": {
          "base_uri": "https://localhost:8080/",
          "height": 78
        },
        "outputId": "9cf886b6-4cfe-4d6d-a268-e35664a99879"
      },
      "source": [
        "text"
      ],
      "execution_count": 28,
      "outputs": [
        {
          "output_type": "execute_result",
          "data": {
            "text/html": [
              "<div>\n",
              "<style scoped>\n",
              "    .dataframe tbody tr th:only-of-type {\n",
              "        vertical-align: middle;\n",
              "    }\n",
              "\n",
              "    .dataframe tbody tr th {\n",
              "        vertical-align: top;\n",
              "    }\n",
              "\n",
              "    .dataframe thead th {\n",
              "        text-align: right;\n",
              "    }\n",
              "</style>\n",
              "<table border=\"1\" class=\"dataframe\">\n",
              "  <thead>\n",
              "    <tr style=\"text-align: right;\">\n",
              "      <th></th>\n",
              "      <th>value</th>\n",
              "      <th>tweet</th>\n",
              "    </tr>\n",
              "  </thead>\n",
              "  <tbody>\n",
              "    <tr>\n",
              "      <th>0</th>\n",
              "      <td>1</td>\n",
              "      <td>A German brand of food supplement organic and ...</td>\n",
              "    </tr>\n",
              "  </tbody>\n",
              "</table>\n",
              "</div>"
            ],
            "text/plain": [
              "   value                                              tweet\n",
              "0      1  A German brand of food supplement organic and ..."
            ]
          },
          "metadata": {
            "tags": []
          },
          "execution_count": 28
        }
      ]
    },
    {
      "cell_type": "code",
      "metadata": {
        "id": "-95a3jOFgxLL"
      },
      "source": [
        "text = text.drop('value', axis=1)\n",
        "text.reset_index(drop=True, inplace=True)"
      ],
      "execution_count": 29,
      "outputs": []
    },
    {
      "cell_type": "code",
      "metadata": {
        "id": "5_UxcZiKhLEB"
      },
      "source": [
        "text['tweet'] = text['tweet'].astype(str)"
      ],
      "execution_count": 30,
      "outputs": []
    },
    {
      "cell_type": "code",
      "metadata": {
        "id": "r6pLwHLdiGhr"
      },
      "source": [
        "text = text.iloc[0]['tweet']"
      ],
      "execution_count": 31,
      "outputs": []
    },
    {
      "cell_type": "code",
      "metadata": {
        "id": "Vne-0Feqt3G8"
      },
      "source": [
        "text\n",
        "newAPItext = \"The hazards of asset allocation in a latestage major bubble  ()2rt @_reviveyourself when a guy who has enough money to end world hunger end poverty regenerate the soils and clean the oceans  instea3rt @gr33nbot us and china caught secretly testing gmo rice on children  @gr33nbot us and china caught secretly testing gmo rice on children  @farmpolicy mexico to decide if gmo corn ban will apply to animal feed * agriculture ministry will meet wit6rt @gr33nbot us and china caught secretly testing gmo rice on children  @mearth86 birth control electrical systems mobile / cell phones 2g3g4g5g medical advancements cancer treatments gmo foods mo8@adamwolach @kevinnbass @alexjleaf absolutely  it has been shown to happen with any exclusion labels gmo gluten free etc9us and china caught secretly testing gmo rice on children  are always mad when they cant understand what a person says what keri is asking people to understand that  hazards of asset allocation in a latestage major bubble  comments  so @twitter @twitterbrasil is it fine as per your regulations because per brazilian law it is a cri  @_reviveyourself when a guy who has enough money to end world hunger end poverty regenerate the soils and clean the oceans  instea14rt @farmpolicy mexico to decide if gmo corn ban will apply to animal feed * agriculture ministry will meet wit15the hazards of asset allocation in a latestage major bubble  hazards of asset allocation in a latestage major bubble   to decide if gmo corn ban will apply to animal feed * agriculture ministry will  @gmwatch brexit scotland may be forced to sell gmo food if england changes law  though the consultation is e19rt @gmwatch brexit scotland may be forced to sell gmo food if england changes law  though the consultation is e20rt @gmwatch brexit scotland may be forced to sell gmo food if england changes law  though the consultation is e21@sulka @gusv01 @merrittk @jim_unwin look at all those wonderful genetically modified foods almost everything we ea  hazards of asset allocation in a latestage major bubblel   ones  without gmo from other species and without pesticides and conjugate with agroecology permaculture  @bhadeanup the elites agenda is to control the population of the world under 500 crto cope up with the natureso gmo 5g vaccine f25failure to rule out allergenicity rendersmonsantos gmo hammond study inconclusive   gmo version of castoroides perhaps  @edwardjcornwell @kylelord_ @mdlnnttng @merrittk except that the gmo varieties created are a lot more destructive to the natural enviro28the next generation will be the feral gmo children we thought were lost to the melting ice caps29@neon_woof if theyre on hrt do they count as a gmo30rt @kylelord_ @merrittk this is why being antigmo makes no sense every food we eat is a gmo we genetically modify plants and animals to31why non gmo labels are a bunch of bullshit its all wild mustard  @mearth86 birth control electrical systems mobile / cell phones 2g3g4g5g medical advancements cancer treatments gmo foods mo33rt @onebodyisrael israelites caught waiting in line for gmo chicken on the lords sabbath day  onebodyinyahawashi34rt @onebodyisrael israelites caught waiting in line for gmo chicken on the lords sabbath day  onebodyinyahawashi35rt @onebodyisrael israelites caught waiting in line for gmo chicken on the lords sabbath day  onebodyinyahawashi36rt @onebodyisrael israelites caught waiting in line for gmo chicken on the lords sabbath day  onebodyinyahawashi37rt @sonnyrossdraws when people say they dont eat gmo foods honestly its a license to never listen to anything they ever say because they38rt @gmwatch gene editing of british produce could cause problems for exports to the eu  the concern is come from bi39rt @onebodyisrael israelites caught waiting in line for gmo chicken on the lords sabbath day  onebodyinyahawashi40@stommepoes thats a wild plant gmo are often infertile both because of greed (so farmers buy seeds again) and so  @_reviveyourself when a guy who has enough money to end world hunger end poverty regenerate the soils and clean the oceans  instea42rt @onebodyisrael israelites caught waiting in line for gmo chicken on the lords sabbath day  onebodyinyahawashi43the only dvm to interpret the gmo rat study  @nailanephalatse @al68318218 @ernstroets i like the pack up tools let this be the most peaceful repatriation of settler species ever45israelites caught waiting in line for gmo chicken on the lords sabbath day   @_reviveyourself when a guy who has enough money to end world hunger end poverty regenerate the soils and clean the oceans  instea47rt @_reviveyourself when a guy who has enough money to end world hunger end poverty regenerate the soils and clean the oceans  instea48your tshirt doesnt say made by 10 year old girl and your food label in the supermarket doesnt say picked by 12  pelosi remarked that poc died from covid  @speakerpelosi no they died because the us gov prioritizes the  why gmo labeling matters joel salatin explains to junestoyer why folks this aint normal theorganicview  people say they dont eat gmo foods honestly its a license to never listen to anything they ever say because  @nailanephalatse @al68318218 @ernstroets i like the pack up tools let this be the most peaceful repatriation of settler species ever53rt @kiracomedy these dudes that think trump cares about them are probably the same ones who think strippers really like them54organic lavender calendula lotion infusednongmo55rt @johnfaealloa @feorlean are we going to wait till there is no scotland and direct rule from london is forced upon us imo may electio56rt @jersjustaskin @caroljhedges @angela68060318 theres big changes ahead this is one of my favorite food facts and i might regularly bring it up for people who try to tell me gmo  omg did you enjoy the gmo chocolate pie the 120 day frozen steak the trans fat refried fries infamouseats59@feorlean are we going to wait till there is no scotland and direct rule from london is forced upon us imo may e  advocate says roundup is safe enough to drinkthen refuses to drink it   natural non gmo vegan no tobacco no nicotine 350mg cbd shisha for hookah smoking  @word2hiphop all natural non gmo vegan no tobacco no nicotine 350mg cbd shisha for hookah smoking  for the last dance  widow or gmo cookies for me  @0328stagram face they are so precious got7     poison pushers    @esotericexposal chances are you cant afford to eat organic that is why gmo food and synthetic pesticides have been such a successful68rt @gmwatch brexit scotland may be forced to sell gmo food if england changes law  though the consultation is e69rt @jersjustaskin @caroljhedges @angela68060318 theres big changes ahead @_reviveyourself when a guy who has enough money to end world hunger end poverty regenerate the soils and clean the oceans  instea71rt @gmwatch leading tory brexiteer urges boris johnson to scrap eu safeguards including on gmo crops and dangerous chemicals 72rt @gmwatch gene editing of british produce could cause problems for exports to the eu  the concern is come from bi73rt @kylelord_ @merrittk this is why being antigmo makes no sense every food we eat is a gmo we genetically modify plants and animals to74@rssurjewala gmopovertyinequalityagriculturefarmersprotestfavouritismkleptocracykakistocracycrony cap  @jersjustaskin @caroljhedges @angela68060318 theres big changes ahead @angela68060318 theres big changes ahead many steps away from healthy europe one step closer to unhealthy gmo usa food quality  geneediting ukgmo78did you knowmonsantoco uses your tax money topromote gmos overseas  like antibiotic resistance mass obesity farmers tied into mortgages patents and pesticide regimens bat  @ernstroets fao  food agricultural organization still maintains a strong presence there ensuring (w  the sign that rules finances and material goods you tend t more for taurus  need food crops to not starve either we use pesticides or gmo time for eco activists to grow up  ive never understood people who are against gmo foods  @peterson_gmo fine 85rt @monsterdruid @stabilobozz1274 @europeanunity1 not really it takes more crops and water to feed livestock than vegansand most vegans86rt @gmwatch gene editing of british produce could cause problems for exports to the eu  the concern is come from bi87@al68318218 @ernstroets i like the pack up tools let this be the most peaceful repatriation of settler species e  @richardjmurphy next on their agenda is gmo food  they want to deregulate gene editing despite increasing  @5th_davidroser @jasonkclark @ireallymeanit33 @marcuswrightus @humanistreport lol not to mention t  @europeanunity1 not really it takes more crops and water to feed livestock than vegansand most  @merrittk contrary to popular propaganda food safety was never the sole concern there are anticapitali  hemp foods hemp protein powder plus fiber   @_reviveyourself when a guy who has enough money to end world hunger end poverty regenerate the soils and clean the oceans  instea94@edwardjcornwell @kylelord_ @mdlnnttng @merrittk why are your gmo crops growing in natural environmentthey grow  or practicality as soon as he intimates there might be a case media will ask him on what terms1  @gmwatch gene editing of british produce could cause problems for exports to the eu  the concern is come from bi97vilsack lobbied for monsanto and the gmo industry when he was iowa governor recently earned $1 million a year as a  @gmwatch gene editing of british produce could cause problems for exports to the eu  the concern is come from bi99imma dogimma catgmo snekhow bout thatspace googreen and redserial bytes w/impossible friendswordofboom100rt @appfunds jeremy grantham my best guess as to the longest this bubble might survive is the late spring or early summer coinciding wi\"\n",
        "text = text + newAPItext"
      ],
      "execution_count": 32,
      "outputs": []
    },
    {
      "cell_type": "code",
      "metadata": {
        "id": "-KC9xNIjhupW"
      },
      "source": [
        "sentence = nltk.sent_tokenize(text)\n",
        "tokens = nltk.word_tokenize(text)\n",
        "simple_text = nltk.Text(tokens)\n",
        "tagged = nltk.pos_tag(tokens)"
      ],
      "execution_count": 33,
      "outputs": []
    },
    {
      "cell_type": "code",
      "metadata": {
        "id": "46_UMhZ1t8z3",
        "colab": {
          "base_uri": "https://localhost:8080/",
          "height": 324
        },
        "outputId": "786d645e-645e-4b1d-e7e9-3f0fdad53dd2"
      },
      "source": [
        "fd = nltk.FreqDist(word.lower() for word in tokens)\n",
        "fd.plot(20)"
      ],
      "execution_count": 34,
      "outputs": [
        {
          "output_type": "display_data",
          "data": {
            "image/png": "[encoded data removed]",
            "text/plain": [
              "<Figure size 432x288 with 1 Axes>"
            ]
          },
          "metadata": {
            "tags": [],
            "needs_background": "light"
          }
        }
      ]
    },
    {
      "cell_type": "code",
      "metadata": {
        "id": "-ZVijUPhumTg"
      },
      "source": [
        "#nouns, POS tagging \n",
        "permitted_tags = set([\n",
        "    'NN',\n",
        "    'NNS',\n",
        "    'NNP',\n",
        "    'NNPS',\n",
        "])\n",
        "#adjectives\n",
        "permitted_tags1 = set([\n",
        "     'JJS',\n",
        "    'JJ',\n",
        "    'JJR',                   \n",
        "])\n",
        "#verbs\n",
        "permitted_tags2 = set([\n",
        "    'VB',\n",
        "    'VBD',\n",
        "    'VBG',\n",
        "    'VBN',\n",
        "    'VBP',\n",
        "    'VPZ'\n",
        "])"
      ],
      "execution_count": 35,
      "outputs": []
    },
    {
      "cell_type": "code",
      "metadata": {
        "id": "SZ9aHqA8HFUO"
      },
      "source": [
        "import matplotlib.pyplot as plt\n"
      ],
      "execution_count": 36,
      "outputs": []
    },
    {
      "cell_type": "code",
      "metadata": {
        "id": "XO6RNqeTuf4U",
        "colab": {
          "base_uri": "https://localhost:8080/",
          "height": 1000
        },
        "outputId": "2155f9e3-a770-495a-e7a7-d2175c149748"
      },
      "source": [
        "fig = plt.figure(figsize = (10,4))\n",
        "fd = nltk.FreqDist()\n",
        "\n",
        "for bit in tagged:\n",
        "    if bit[1] in permitted_tags and len(bit[0])>2:\n",
        "        fd[bit[0]] = fd[bit[0]] + 1\n",
        "\n",
        "plt.title('20 most frequent nouns')       \n",
        "fd.plot(20)\n",
        "plt.show()\n",
        "fig.savefig('nouns')\n",
        "\n",
        "fig = plt.figure(figsize = (10,4))\n",
        "fd = nltk.FreqDist()\n",
        "\n",
        "for bit in tagged:\n",
        "    if bit[1] in permitted_tags1 and len(bit[0])>2:\n",
        "        fd[bit[0]] = fd[bit[0]] + 1\n",
        "\n",
        "plt.title('20 most frequent adjectives')        \n",
        "fd.plot(20)\n",
        "plt.show()\n",
        "fig.savefig('adjectives')\n",
        "\n",
        "fig = plt.figure(figsize = (10,4))\n",
        "fd = nltk.FreqDist()\n",
        "\n",
        "for bit in tagged:\n",
        "    if bit[1] in permitted_tags2 and len(bit[0])>2:\n",
        "        fd[bit[0]] = fd[bit[0]] + 1\n",
        "\n",
        "plt.title('20 most frequent verbs')       \n",
        "fd.plot(20)\n",
        "plt.show()\n",
        "fig.savefig('verbs')"
      ],
      "execution_count": 37,
      "outputs": [
        {
          "output_type": "display_data",
          "data": {
            "image/png": "[encoded data removed]",
            "text/plain": [
              "<Figure size 720x288 with 1 Axes>"
            ]
          },
          "metadata": {
            "tags": [],
            "needs_background": "light"
          }
        },
        {
          "output_type": "display_data",
          "data": {
            "image/png": "[encoded data removed]",
            "text/plain": [
              "<Figure size 720x288 with 1 Axes>"
            ]
          },
          "metadata": {
            "tags": [],
            "needs_background": "light"
          }
        },
        {
          "output_type": "display_data",
          "data": {
            "image/png": "[encoded data removed]",
            "text/plain": [
              "<Figure size 720x288 with 1 Axes>"
            ]
          },
          "metadata": {
            "tags": [],
            "needs_background": "light"
          }
        }
      ]
    },
    {
      "cell_type": "code",
      "metadata": {
        "id": "de279YbMvB4P",
        "colab": {
          "base_uri": "https://localhost:8080/"
        },
        "outputId": "eb92d017-bc03-45fd-aa2b-f39bdac01f2a"
      },
      "source": [
        "simple_text.collocations()"
      ],
      "execution_count": 38,
      "outputs": [
        {
          "output_type": "stream",
          "text": [
            "genetically modified; final product; rarely occur; effects rarely;\n",
            "undesirable effects; modified ...; Groundbreaking 2013; shows pigs;\n",
            "2013 study; study shows; first long-t…; feed containing; modified\n",
            "crops; Genetically Modified; containing GMO; persistent pollution;\n",
            "Modified Crops; lords sabbath; poverty regenerate; sabbath day\n"
          ],
          "name": "stdout"
        }
      ]
    }
  ]
}