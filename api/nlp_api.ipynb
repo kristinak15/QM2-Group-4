{
  "nbformat": 4,
  "nbformat_minor": 0,
  "metadata": {
    "colab": {
      "name": "nlp_api.ipynb",
      "provenance": [],
      "collapsed_sections": []
    },
    "kernelspec": {
      "name": "python3",
      "display_name": "Python 3"
    }
  },
  "cells": [
    {
      "cell_type": "markdown",
      "metadata": {
        "id": "view-in-github"
      },
      "source": [
        "<a href=\"https://colab.research.google.com/github/kristinak15/QM2-Group-4/blob/main/nlp_api.ipynb\" target=\"_parent\"><img src=\"https://colab.research.google.com/assets/colab-badge.svg\" alt=\"Open In Colab\"/></a>"
      ]
    },
    {
      "cell_type": "code",
      "metadata": {
        "colab": {
          "base_uri": "https://localhost:8080/"
        },
        "id": "f6ZLgbSZv5UF",
        "outputId": "6eb73dd7-6bf8-4330-cd96-cf59b50cde82"
      },
      "source": [
        "import pandas as pd \n",
        "import pylab\n",
        "%matplotlib inline\n",
        "pylab.rcParams['figure.figsize'] = (10., 8.)\n",
        "import nltk\n",
        "nltk.download('book')\n",
        "from nltk.book import *\n",
        "from textblob import TextBlob"
      ],
      "execution_count": 17,
      "outputs": [
        {
          "output_type": "stream",
          "text": [
            "[nltk_data] Downloading collection 'book'\n",
            "[nltk_data]    | \n",
            "[nltk_data]    | Downloading package abc to /root/nltk_data...\n",
            "[nltk_data]    |   Package abc is already up-to-date!\n",
            "[nltk_data]    | Downloading package brown to /root/nltk_data...\n",
            "[nltk_data]    |   Package brown is already up-to-date!\n",
            "[nltk_data]    | Downloading package chat80 to /root/nltk_data...\n",
            "[nltk_data]    |   Package chat80 is already up-to-date!\n",
            "[nltk_data]    | Downloading package cmudict to /root/nltk_data...\n",
            "[nltk_data]    |   Package cmudict is already up-to-date!\n",
            "[nltk_data]    | Downloading package conll2000 to /root/nltk_data...\n",
            "[nltk_data]    |   Package conll2000 is already up-to-date!\n",
            "[nltk_data]    | Downloading package conll2002 to /root/nltk_data...\n",
            "[nltk_data]    |   Package conll2002 is already up-to-date!\n",
            "[nltk_data]    | Downloading package dependency_treebank to\n",
            "[nltk_data]    |     /root/nltk_data...\n",
            "[nltk_data]    |   Package dependency_treebank is already up-to-date!\n",
            "[nltk_data]    | Downloading package genesis to /root/nltk_data...\n",
            "[nltk_data]    |   Package genesis is already up-to-date!\n",
            "[nltk_data]    | Downloading package gutenberg to /root/nltk_data...\n",
            "[nltk_data]    |   Package gutenberg is already up-to-date!\n",
            "[nltk_data]    | Downloading package ieer to /root/nltk_data...\n",
            "[nltk_data]    |   Package ieer is already up-to-date!\n",
            "[nltk_data]    | Downloading package inaugural to /root/nltk_data...\n",
            "[nltk_data]    |   Package inaugural is already up-to-date!\n",
            "[nltk_data]    | Downloading package movie_reviews to\n",
            "[nltk_data]    |     /root/nltk_data...\n",
            "[nltk_data]    |   Package movie_reviews is already up-to-date!\n",
            "[nltk_data]    | Downloading package nps_chat to /root/nltk_data...\n",
            "[nltk_data]    |   Package nps_chat is already up-to-date!\n",
            "[nltk_data]    | Downloading package names to /root/nltk_data...\n",
            "[nltk_data]    |   Package names is already up-to-date!\n",
            "[nltk_data]    | Downloading package ppattach to /root/nltk_data...\n",
            "[nltk_data]    |   Package ppattach is already up-to-date!\n",
            "[nltk_data]    | Downloading package reuters to /root/nltk_data...\n",
            "[nltk_data]    |   Package reuters is already up-to-date!\n",
            "[nltk_data]    | Downloading package senseval to /root/nltk_data...\n",
            "[nltk_data]    |   Package senseval is already up-to-date!\n",
            "[nltk_data]    | Downloading package state_union to /root/nltk_data...\n",
            "[nltk_data]    |   Package state_union is already up-to-date!\n",
            "[nltk_data]    | Downloading package stopwords to /root/nltk_data...\n",
            "[nltk_data]    |   Package stopwords is already up-to-date!\n",
            "[nltk_data]    | Downloading package swadesh to /root/nltk_data...\n",
            "[nltk_data]    |   Package swadesh is already up-to-date!\n",
            "[nltk_data]    | Downloading package timit to /root/nltk_data...\n",
            "[nltk_data]    |   Package timit is already up-to-date!\n",
            "[nltk_data]    | Downloading package treebank to /root/nltk_data...\n",
            "[nltk_data]    |   Package treebank is already up-to-date!\n",
            "[nltk_data]    | Downloading package toolbox to /root/nltk_data...\n",
            "[nltk_data]    |   Package toolbox is already up-to-date!\n",
            "[nltk_data]    | Downloading package udhr to /root/nltk_data...\n",
            "[nltk_data]    |   Package udhr is already up-to-date!\n",
            "[nltk_data]    | Downloading package udhr2 to /root/nltk_data...\n",
            "[nltk_data]    |   Package udhr2 is already up-to-date!\n",
            "[nltk_data]    | Downloading package unicode_samples to\n",
            "[nltk_data]    |     /root/nltk_data...\n",
            "[nltk_data]    |   Package unicode_samples is already up-to-date!\n",
            "[nltk_data]    | Downloading package webtext to /root/nltk_data...\n",
            "[nltk_data]    |   Package webtext is already up-to-date!\n",
            "[nltk_data]    | Downloading package wordnet to /root/nltk_data...\n",
            "[nltk_data]    |   Package wordnet is already up-to-date!\n",
            "[nltk_data]    | Downloading package wordnet_ic to /root/nltk_data...\n",
            "[nltk_data]    |   Package wordnet_ic is already up-to-date!\n",
            "[nltk_data]    | Downloading package words to /root/nltk_data...\n",
            "[nltk_data]    |   Package words is already up-to-date!\n",
            "[nltk_data]    | Downloading package maxent_treebank_pos_tagger to\n",
            "[nltk_data]    |     /root/nltk_data...\n",
            "[nltk_data]    |   Package maxent_treebank_pos_tagger is already up-\n",
            "[nltk_data]    |       to-date!\n",
            "[nltk_data]    | Downloading package maxent_ne_chunker to\n",
            "[nltk_data]    |     /root/nltk_data...\n",
            "[nltk_data]    |   Package maxent_ne_chunker is already up-to-date!\n",
            "[nltk_data]    | Downloading package universal_tagset to\n",
            "[nltk_data]    |     /root/nltk_data...\n",
            "[nltk_data]    |   Package universal_tagset is already up-to-date!\n",
            "[nltk_data]    | Downloading package punkt to /root/nltk_data...\n",
            "[nltk_data]    |   Package punkt is already up-to-date!\n",
            "[nltk_data]    | Downloading package book_grammars to\n",
            "[nltk_data]    |     /root/nltk_data...\n",
            "[nltk_data]    |   Package book_grammars is already up-to-date!\n",
            "[nltk_data]    | Downloading package city_database to\n",
            "[nltk_data]    |     /root/nltk_data...\n",
            "[nltk_data]    |   Package city_database is already up-to-date!\n",
            "[nltk_data]    | Downloading package tagsets to /root/nltk_data...\n",
            "[nltk_data]    |   Package tagsets is already up-to-date!\n",
            "[nltk_data]    | Downloading package panlex_swadesh to\n",
            "[nltk_data]    |     /root/nltk_data...\n",
            "[nltk_data]    |   Package panlex_swadesh is already up-to-date!\n",
            "[nltk_data]    | Downloading package averaged_perceptron_tagger to\n",
            "[nltk_data]    |     /root/nltk_data...\n",
            "[nltk_data]    |   Package averaged_perceptron_tagger is already up-\n",
            "[nltk_data]    |       to-date!\n",
            "[nltk_data]    | \n",
            "[nltk_data]  Done downloading collection book\n"
          ],
          "name": "stdout"
        }
      ]
    },
    {
      "cell_type": "code",
      "metadata": {
        "colab": {
          "base_uri": "https://localhost:8080/"
        },
        "id": "KRc5wnD1VosH",
        "outputId": "a27c7cd3-f43b-48f8-dcce-bfe39c6829f4"
      },
      "source": [
        "!mkdir nlp\n",
        "!curl https://github.com/kristinak15/QM2-Group-4/blob/main/api.csv -o ./nlp/api.csv"
      ],
      "execution_count": null,
      "outputs": [
        {
          "output_type": "stream",
          "text": [
            "  % Total    % Received % Xferd  Average Speed   Time    Time     Time  Current\n",
            "                                 Dload  Upload   Total   Spent    Left  Speed\n",
            "100  148k    0  148k    0     0   415k      0 --:--:-- --:--:-- --:--:--  415k\n"
          ],
          "name": "stdout"
        }
      ]
    },
    {
      "cell_type": "code",
      "metadata": {
        "id": "kg6lvNMwxUVU"
      },
      "source": [
        "data = pd.read_csv('api.csv')"
      ],
      "execution_count": 50,
      "outputs": []
    },
    {
      "cell_type": "code",
      "metadata": {
        "id": "QJzeCejWydxO",
        "colab": {
          "base_uri": "https://localhost:8080/",
          "height": 204
        },
        "outputId": "eac59c68-d407-440f-a38d-f6dc511b4301"
      },
      "source": [
        "data.head()"
      ],
      "execution_count": 51,
      "outputs": [
        {
          "output_type": "execute_result",
          "data": {
            "text/html": [
              "<div>\n",
              "<style scoped>\n",
              "    .dataframe tbody tr th:only-of-type {\n",
              "        vertical-align: middle;\n",
              "    }\n",
              "\n",
              "    .dataframe tbody tr th {\n",
              "        vertical-align: top;\n",
              "    }\n",
              "\n",
              "    .dataframe thead th {\n",
              "        text-align: right;\n",
              "    }\n",
              "</style>\n",
              "<table border=\"1\" class=\"dataframe\">\n",
              "  <thead>\n",
              "    <tr style=\"text-align: right;\">\n",
              "      <th></th>\n",
              "      <th>tweet</th>\n",
              "      <th>link</th>\n",
              "      <th>Unnamed: 2</th>\n",
              "      <th>Unnamed: 3</th>\n",
              "    </tr>\n",
              "  </thead>\n",
              "  <tbody>\n",
              "    <tr>\n",
              "      <th>0</th>\n",
              "      <td>A German brand of food supplement organic and ...</td>\n",
              "      <td>https://t.co/bJyf5laljQ</td>\n",
              "      <td>NaN</td>\n",
              "      <td>NaN</td>\n",
              "    </tr>\n",
              "    <tr>\n",
              "      <th>1</th>\n",
              "      <td>RT @DrLeoRebello: The 5 Big Lies they do not w...</td>\n",
              "      <td>NaN</td>\n",
              "      <td>NaN</td>\n",
              "      <td>NaN</td>\n",
              "    </tr>\n",
              "    <tr>\n",
              "      <th>2</th>\n",
              "      <td>RT @ladydiaphanous: @___Prodigy___ @DrMadej @b...</td>\n",
              "      <td>NaN</td>\n",
              "      <td>NaN</td>\n",
              "      <td>NaN</td>\n",
              "    </tr>\n",
              "    <tr>\n",
              "      <th>3</th>\n",
              "      <td>@Chena_Punim Funny it’s a sign of zinc deficie...</td>\n",
              "      <td>https://t.co/Tmj7ffzAqH</td>\n",
              "      <td>NaN</td>\n",
              "      <td>NaN</td>\n",
              "    </tr>\n",
              "    <tr>\n",
              "      <th>4</th>\n",
              "      <td>RT @ChickenGate: @kirstiealley Check this out ...</td>\n",
              "      <td>NaN</td>\n",
              "      <td>NaN</td>\n",
              "      <td>NaN</td>\n",
              "    </tr>\n",
              "  </tbody>\n",
              "</table>\n",
              "</div>"
            ],
            "text/plain": [
              "                                               tweet  ... Unnamed: 3\n",
              "0  A German brand of food supplement organic and ...  ...        NaN\n",
              "1  RT @DrLeoRebello: The 5 Big Lies they do not w...  ...        NaN\n",
              "2  RT @ladydiaphanous: @___Prodigy___ @DrMadej @b...  ...        NaN\n",
              "3  @Chena_Punim Funny it’s a sign of zinc deficie...  ...        NaN\n",
              "4  RT @ChickenGate: @kirstiealley Check this out ...  ...        NaN\n",
              "\n",
              "[5 rows x 4 columns]"
            ]
          },
          "metadata": {
            "tags": []
          },
          "execution_count": 51
        }
      ]
    },
    {
      "cell_type": "code",
      "metadata": {
        "id": "EH7HS8oSyhUf"
      },
      "source": [
        "data.drop(['Unnamed: 2','Unnamed: 3'], axis=1,inplace=True)"
      ],
      "execution_count": 53,
      "outputs": []
    },
    {
      "cell_type": "code",
      "metadata": {
        "id": "Xxk7zWhgbslh"
      },
      "source": [
        "tweets = data.drop('link',axis=1)"
      ],
      "execution_count": 7,
      "outputs": []
    },
    {
      "cell_type": "code",
      "metadata": {
        "id": "6KUvp1Y3f6dR"
      },
      "source": [
        "value = 1 \n",
        "tweets['value'] = value"
      ],
      "execution_count": 8,
      "outputs": []
    },
    {
      "cell_type": "code",
      "metadata": {
        "id": "vdI3Y-Idb3N2"
      },
      "source": [
        "tweets['tweet'] = tweets['tweet'].astype(str)"
      ],
      "execution_count": 9,
      "outputs": []
    },
    {
      "cell_type": "code",
      "metadata": {
        "id": "ZW5Alz2dgPe4"
      },
      "source": [
        "text = tweets.groupby('value')['tweet'].apply(' '.join).reset_index()"
      ],
      "execution_count": 20,
      "outputs": []
    },
    {
      "cell_type": "code",
      "metadata": {
        "id": "Nk3Ko3yVggia",
        "colab": {
          "base_uri": "https://localhost:8080/",
          "height": 80
        },
        "outputId": "ea81bf54-70eb-4a93-efdd-762679a2abbd"
      },
      "source": [
        "text"
      ],
      "execution_count": 21,
      "outputs": [
        {
          "output_type": "execute_result",
          "data": {
            "text/html": [
              "<div>\n",
              "<style scoped>\n",
              "    .dataframe tbody tr th:only-of-type {\n",
              "        vertical-align: middle;\n",
              "    }\n",
              "\n",
              "    .dataframe tbody tr th {\n",
              "        vertical-align: top;\n",
              "    }\n",
              "\n",
              "    .dataframe thead th {\n",
              "        text-align: right;\n",
              "    }\n",
              "</style>\n",
              "<table border=\"1\" class=\"dataframe\">\n",
              "  <thead>\n",
              "    <tr style=\"text-align: right;\">\n",
              "      <th></th>\n",
              "      <th>value</th>\n",
              "      <th>tweet</th>\n",
              "    </tr>\n",
              "  </thead>\n",
              "  <tbody>\n",
              "    <tr>\n",
              "      <th>0</th>\n",
              "      <td>1</td>\n",
              "      <td>A German brand of food supplement organic and ...</td>\n",
              "    </tr>\n",
              "  </tbody>\n",
              "</table>\n",
              "</div>"
            ],
            "text/plain": [
              "   value                                              tweet\n",
              "0      1  A German brand of food supplement organic and ..."
            ]
          },
          "metadata": {
            "tags": []
          },
          "execution_count": 21
        }
      ]
    },
    {
      "cell_type": "code",
      "metadata": {
        "id": "-95a3jOFgxLL"
      },
      "source": [
        "text = text.drop('value', axis=1)\n",
        "text.reset_index(drop=True, inplace=True)"
      ],
      "execution_count": 22,
      "outputs": []
    },
    {
      "cell_type": "code",
      "metadata": {
        "id": "5_UxcZiKhLEB"
      },
      "source": [
        "text['tweet'] = text['tweet'].astype(str)"
      ],
      "execution_count": 23,
      "outputs": []
    },
    {
      "cell_type": "code",
      "metadata": {
        "id": "r6pLwHLdiGhr"
      },
      "source": [
        "text = text.iloc[0]['tweet']"
      ],
      "execution_count": 24,
      "outputs": []
    },
    {
      "cell_type": "code",
      "metadata": {
        "id": "Vne-0Feqt3G8",
        "colab": {
          "base_uri": "https://localhost:8080/",
          "height": 1000
        },
        "outputId": "28d586e0-4cb9-4ccf-cd32-f1079e4ae15a"
      },
      "source": [
        "text"
      ],
      "execution_count": 25,
      "outputs": [
        {
          "output_type": "execute_result",
          "data": {
            "application/vnd.google.colaboratory.intrinsic+json": {
              "type": "string"
            },
            "text/plain": [
              "'A German brand of food supplement organic and no gmo includin vitamin d supplement.  RT @DrLeoRebello: The 5 Big Lies they do not want you to find out.  RT @ladydiaphanous: @___Prodigy___ @DrMadej @bitchute The gates don\\'t vaccinate.. they also grow their own food in bubble greenhouses and h… @Chena_Punim Funny it’s a sign of zinc deficiency, and zinc is good for immunity, and gmo crops have wrecked the so…  RT @ChickenGate: @kirstiealley Check this out Bill Gates caught on video admitting that his ‘experimental’ vaccine will CHANGE our DNA FORE… RT @GMOFreeUSA: #GMOs are invasive species and persistent pollution, and need to be treated as such. We need to work on changing our laws s… It is worth remembering what you’re advertising when you are doing advertising for Spotify.” RT @_ReddDotMedia: The only females left in the world are all GMO’d \\U0001f92e @WrightBethani @NYGovCuomo Begging for the Vaccine? #WakeUp #GMO GMO GENETICALLY MODIFIED ORGANISM DNA test.  Non-GMO “Low-Allergen” Varieties of Common Allergens  @TheRealTriscuit ...then contributing to the further demonization of GMO\\'s, such as via the Non-GMO Project BS, wil…  @Poundcake921 @mchicon @NYGovCuomo #PoundSand Beg for the Vaccine be a GMO GENETICALLY MODIFIED ORGANISM. RT @GMOFreeUSA: #GMOs are invasive species and persistent pollution, and need to be treated as such. We need to work on changing our laws s… Did you hear about the GMO that almost destroyed all life?  @mcnees Not that I’m defending Hercules, but it didn’t strike me that he was refuting science. He seemed to be taki…  RT @_ReddDotMedia: The only females left in the world are all GMO’d \\U0001f92e The only females left in the world are all GMO’d \\U0001f92e RT @GMOFreeUSA: #GMOs are invasive species and persistent pollution, and need to be treated as such. We need to work on changing our laws s… @JennCunningham2 @NYGovCuomo And everything else including what your stuffing yo face with. Billions will starve ar…  RT @GMOFreeUSA: #GMOs are invasive species and persistent pollution, and need to be treated as such. We need to work on changing our laws s… Did you hear about the GMO that almost destroyed all life?  Check the labels GMO- Genetically Modified Engineering or Bio-Genetically Modified. Also the \"kraft mac &amp; cheese, I…   RT @GMOFreeUSA: #GMOs are invasive species and persistent pollution, and need to be treated as such. We need to work on changing our laws s… @vermonterbro @NYGovCuomo Begging you to research.GMO GENETICALLY MODIFIED ORGANISM DNA RNA WARPSPEED VACCINES PLE…  Nature s Edge Premium Quality Red Yeast Rice 600mg. Non-GMO and CITRININ-Free. Vegetarian. 60 Vegetarian Capsules B…  RT @natoshisakamato: @zerohedge GMO vaccination by Bill Gates  @zerohedge GMO vaccination by Bill Gates  When the chemistry is organic no gmo 😭  RT @GMOAnswers: Many are surprised to learn that there are very few GMO crops grown around the world. Today, we take a look at a few popula… RT @rapandroses: I don’t understand how people trust a system built off of legally poisoning its people in many ways (air, gmo food, fluori… What Caused Polio? Dr. Thomas Cowan-Toxic Pesticides-At Same Time Hawaiian Sugar Plantations-1st Place to Use Arsen…  RT @ChickenGate: @kirstiealley Check this out Bill Gates caught on video admitting that his ‘experimental’ vaccine will CHANGE our DNA FORE… @gmo_kelley I’ve started doing it in similar situations &amp; so far so good! If you keep on top of the reviews and sit…  Economy vs science: GMO food tech causes clashes among Indian food sector  RT @GMWatch: @IMidwest Glazik’s soybeans have been repeatedly damaged. His neighbors who spray #dicamba are frustrated with him. There’s an… @heyitskaylyn @NYGovCuomo Probably begging for a Vaccine too. O please turn me into a GMO GENETICALLY MODIFIED ORGA…  Germs, Viruses and diseases don’t exist. Just people eating like shit and filling them selves up with gmo and parasites @straybec That is a good suggestion. Im always a little paranoid ordering from 3rd party people online but at least…  RT @SeedsHereNow: Buy (1) Full pack from the CaliSunset line and get a pack of Chellofornia* for FREE! AND/OR Buy (1) Full pack from the Bl… Autoimmunity RAMPANT-Changing Nature of Illness TRAUMA TREATMENT-Dr Tom Cowan’s Version of the Gaps Diet-NO GMO or…  Anatomy of Meatball Sub-1000 Calories-Live as if YOU NEVER HAVE TO SAY \"I AM SORRY\"-Longevity a Bridge Too Far\\' in…  @gmo_kelley Can you find it from somewhere that likely already bought it &amp; won’t directly giving nintendo more mone…  @Jesusis53688620 @Patriotic_Storm gmo the food is fake or its made from a 3d printer RT @SeedsHereNow: Buy (1) Full pack from the CaliSunset line and get a pack of Chellofornia* for FREE! AND/OR Buy (1) Full pack from the Bl… RT @lilbenghazi: RETWEET TO SHOW A FRIEND 100% tobacco free 100% gmo free 100% chlorine free 100% natural  RT @biotechaction: Genetically modified food: \"To eat or not to eat - that is the question\" for #TWOSEscitap panel, but there\\'s no choice w…   @newwestgenetics Ban GMO or RoundUp ready weed If the ash is black it isn’t worthy!51 RT @PhishStats: new #phishing at hXXp://bar-banks[.]com/ | 157[.]7[.]107[.]185 | Japan | INTERQ GMO Internet | ASN 7506 #infosec #cybersecu… Marijuana producers Against Monsanto (bayer) ((bastardized cannabis)) Say no to GMO! Enjoy your breakfast! #GMO  #Monsanto #fakefood #goodmorning #poison #AmericanDream  #freedommatters #NWO…  @gmo_kelley like nintendo is shit but dont bring it to the point of possibly not getting someones christmas gift, i…  @gmo_kelley try looking for Mario Kart Live on a shopping app like OfferUp, try looking for a new box and try to lo…  I\\'m not demonizing cannabis  because it aids in the function of endocannabinoid system but you really do more harm…  RT @GMOFreeUSA: #GMOs are invasive species and persistent pollution, and need to be treated as such. We need to work on changing our laws s… new #phishing at hXXp://bar-banks[.]com/ | 157[.]7[.]107[.]185 | Japan | INTERQ GMO Internet | ASN 7506 #infosec…  @miamooo @MattHarperUK @airstripone84 @Cornubian2 What if the 299, due to the entirely new Novel experimental GMO v…  On the Radio Show: Diet soda no better than regular for heart health; Solutions for nightti…   Deep down they know its a death sentence for \"you\" taking the shot or refusing. So do your \"friends\" calling for it…  Buy (1) Full pack from the CaliSunset line and get a pack of Chellofornia* for FREE! AND/OR Buy (1) Full pack from…  RT @ChickenGate: @kirstiealley Check this out Bill Gates caught on video admitting that his ‘experimental’ vaccine will CHANGE our DNA FORE… RT @DrLeoRebello: The 5 Big Lies they do not want you to find out. [1] Chemtrails. [2] Drugs and Vaccines. [3] GMO. [4]Radiation and [5]… Autoimmunity RAMPANT-Changing Nature of Illness TRAUMA TREATMENT – Dr Tom Cowan’s Version of the Gaps Diet-NO GMO-F…  @kkarissay I should’ve recorded it LOL RT @GMOFreeUSA: #GMOs are invasive species and persistent pollution, and need to be treated as such. We need to work on changing our laws s… Anatomy of Meatball Sub-1000 Calories-Live as if YOU NEVER HAVE TO SAY \"I AM SORRY\"- Longevity a Bridge Too Far\\' in…  If you want genuine organic food on your table support your farmers. Corporations are only GMO\\'s.…  RT @ChickenGate: @kirstiealley Check this out Bill Gates caught on video admitting that his ‘experimental’ vaccine will CHANGE our DNA FORE… @greta Im not anti-vaccine by any means but it does strike me as odd that after a lifetime of being told I need to…  At Jeff\\'s Best we say NO to BPA plastics! We also don’t use ingredients that have been exposed to herbicides, pesti…  CASH PRICE UPDATED – CIF/FOB TEXAS &amp; FOB UPRIVER Sorghum basis and outright #OATT But my GF really wants mario kart live. My back up christmas gift was to detail her car but she already did that la…  RT @LotusOak2: If you look at @OrganicValley &amp; @Horizon_Organic, both utilize #vaccines in their veterinary care practices, some of which e… Context for some people: Nintendo has done some really shitty PR stuff lately. Specifically to the melee comp commu…  On one hand my gf really wants mario kart live for Christmas On the other hand fuck nintendo Many are surprised to learn that there are very few GMO crops grown around the world. Today, we take a look at a fe…  If Humans Were Rats… Monsanto’s Own# GMO \"Safety\" Test by Hammond Assures that HALF WILL BE DEAD:…  All the GMO crops took the testosterone out of the food.  The new vaccinations will take the Soul out of  man.  Passion 4 Life Mega Liquid Multivitamins, Trace Minerals, Amino Acids, Turmeric for Adults, Men, Women, Teens, Kids…  That\\'s good. Air quality at the TJ Mahal cleanup. But what about the farmers with their GMO crops comitting suicide…  RT @GMOFreeUSA: #GMOs are invasive species and persistent pollution, and need to be treated as such. We need to work on changing our laws s… @joannepenn @DawgAlfie Guess you know about farmers protest in India? No farmers, no \\'natural\\' food. Monsanto wants…  Classic Collusion-Big Business-Big Gov-Medicare and Covid-How Our Nation STARVES-at Same Time with GMO and Over-Mil…  Western Medicine-Basing Medical System on Flawed Premises? Insanity Doing the Same (Flawed) Thing and Expecting Dif…  I know what a GMO is because I understand what that actually is. The reason certain marking doesn’t fool me because…  A fantastic lesson in Science where we debated the pros and cons to genetically modified crops. Well done…  @MatthewNewell67 @Effiedeans I\\'m fine with that. Good science, very clever. Like genetically modified crops. Or nuc…  Genetically modified crops represent the most rapidly adopted technology in the history of agriculture.The benefi…  @CodeMonkeyZ More likely some Chinese genetically modified seeds that will destroy our crops.  Wuhan Seeds Of Death. @CodeMonkeyZ @IronSkillet85 Genetically modified seeds to destroy the crops and food supply. @livemint @manujosephsan Abruptly ends with a plug for genetically modified crops. It\\'s almost as if the writer was…  @manujosephsan If farming and farmers fall in a morally grey area so does genetically modified crops and the scient…  For me surely the next reform by Modi govt should be to liberalise usage of Genetically Modified Crops!…  Continued *(Note this --- Here in India Activists oppositing GM are philosophical Thugs from both left wing and…  \"Bayer bought Monsanto as part of its reinvention as a life-science firm with a focus on health and agriculture. Ba…  @99freemind Polly, I love you like a sister but please educate yourself re GMOs. Seedless grapes &amp; insulin are gene…  @rich1mages @rodcampsbay Look around you evolution would never have produced: Modern dairy cows n chickens Genetica…  @ishkarnBHANDARI Hi, A bit off topic but there\\'s a problem since there are 16K farmer suicides in India &amp; similar i…  RT @gr33nbot: DNA From Genetically Modified Crops Can Be Transferred Into Humans Who Eat Them:  @Effiedeans If we trust scientists , why has the Scottish government got a blanket ban on Genetically Modified crops? RT @gr33nbot: DNA From Genetically Modified Crops Can Be Transferred Into Humans Who Eat Them:  RT @gr33nbot: DNA From Genetically Modified Crops Can Be Transferred Into Humans Who Eat Them:  DNA From Genetically Modified Crops Can Be Transferred Into Humans Who Eat Them:  @timesofindia No need to look west when it comes to agriculture-WTO is an acronym for World Trauma Ogre,eager to pu…  @spacedoutlily Maybe the genetically modified plants are a red herring because a particularly invasive fungus is ki…  pharmacology she calycine organism both as much dna sequences genetically modified crops when scientist but flax where epigraphy RT @JeanMichelAne: Impact of Genetically Modified Crops on the Biodiversity of Arbuscular Mycorrhizal Fungi  @microdot3313 @LGBT_Activist Besides genetically modified sh*t, toxic Roundup, suing farmers whose crops were pollu…  RT @JeanMichelAne: Impact of Genetically Modified Crops on the Biodiversity of Arbuscular Mycorrhizal Fungi  Impact of Genetically Modified Crops on the Biodiversity of Arbuscular Mycorrhizal Fungi  RT @gr33nbot: Global incidents of genetic contamination from genetically modified crops are on the rise, while companies responsible ignore… RT @gr33nbot: Global incidents of genetic contamination from genetically modified crops are on the rise, while companies responsible ignore… Global incidents of genetic contamination from genetically modified crops are on the rise, while companies responsible ignore consequences. RT @gr33nbot: When it comes to genetically modified crops and foods, we really have no idea of what the long term effects will be on the pu… RT @gr33nbot: When it comes to genetically modified crops and foods, we really have no idea of what the long term effects will be on the pu… RT @gr33nbot: When it comes to genetically modified crops and foods, we really have no idea of what the long term effects will be on the pu… When it comes to genetically modified crops and foods, we really have no idea of what the long term effects will be on the public. The number of #Countries growing genetically-modified (GM) cotton in #Africa has doubled since 2018, says a Interna…  @avi58757609 @dennchdind @captjasdeep It will even go crapier when companies will ask farmers to grow genetically m…  @BrownSpiderCLE The bag says \"non-gmo,\" but the ingredients list no crops that are genetically modified. So, that\\'s just a marketing ploy. RT @GMOFreeUSA: Groundbreaking 2013 study shows pigs were harmed by the consumption of feed containing GMO crops. This was the first long-t… there actually arent that many genetically modified crops. there are only like eleven. and most of the gm food is for cattle. RT @AgBioWorld: How crops are genetically modified...over time. Unstable, undesirable effects rarely occur in the final product of any crop… RT @GMOFreeUSA: Groundbreaking 2013 study shows pigs were harmed by the consumption of feed containing GMO crops. This was the first long-t… RT @GMOFreeUSA: Groundbreaking 2013 study shows pigs were harmed by the consumption of feed containing GMO crops. This was the first long-t… RT @GMOFreeUSA: Groundbreaking 2013 study shows pigs were harmed by the consumption of feed containing GMO crops. This was the first long-t… RT @GMOFreeUSA: Groundbreaking 2013 study shows pigs were harmed by the consumption of feed containing GMO crops. This was the first long-t… @wrak_shaii bas Pakistan is an agricultural country and how genetically modified crops can help agricultural growth…  RT @GMOFreeUSA: Groundbreaking 2013 study shows pigs were harmed by the consumption of feed containing GMO crops. This was the first long-t… When looking at food labels, be careful of marketing schemes! Currently, there is no such thing as a GMO (Genetical…  RT @GMOFreeUSA: Groundbreaking 2013 study shows pigs were harmed by the consumption of feed containing GMO crops. This was the first long-t… RT @GMOFreeUSA: Groundbreaking 2013 study shows pigs were harmed by the consumption of feed containing GMO crops. This was the first long-t… RT @GMOFreeUSA: Groundbreaking 2013 study shows pigs were harmed by the consumption of feed containing GMO crops. This was the first long-t… RT @GMOFreeUSA: Groundbreaking 2013 study shows pigs were harmed by the consumption of feed containing GMO crops. This was the first long-t… RT @GMOFreeUSA: Groundbreaking 2013 study shows pigs were harmed by the consumption of feed containing GMO crops. This was the first long-t… Groundbreaking 2013 study shows pigs were harmed by the consumption of feed containing GMO crops. This was the firs…  @AledGwynWiliams @lowri_journo @WelshDalaiLama @ITVWales Considering the first thing we learn in science is \"we don…  @CropLifeIndia Canadian farmers can help alleviate some food loss by using a number of plant science innovations, s…  RT @AgBioWorld: How crops are genetically modified...over time. Unstable, undesirable effects rarely occur in the final product of any crop… @ShekharGupta When you take on the double standard of Indians on genetically modified crops I think our govt should listen to this @mattwridley While at the same time banning imports of genetically modified crops that would, in many cases, not re…  RT @MASIPAGFarmers: LOOK: How the herbicide glyphosate is partitioned in different environmental media when sprayed. It can contaminate our… RT @TrumpFragile: @mrmarksteel Just had an anti-vaxxer tell me the vaccine is a poison. Coming from someone who undoubtedly eats genetical… @MrHarryCole @SunPolitics Okay I am Good with Frozen Meat on Steroids from US, Chlorinated yummy Chicken, Genetical…  RT @AgBioWorld: How crops are genetically modified...over time. Unstable, undesirable effects rarely occur in the final product of any crop… Are these vaccines genetically modified? If so, what do those who oppose GM crops think about accepting it? I hope…  RT @AgBioWorld: How crops are genetically modified...over time. Unstable, undesirable effects rarely occur in the final product of any crop… @LeafLee6 Not to mention allowing Monsanto pesticides in our food, genetically modified crops, and allowing a famil…  RT @TrumpFragile: @mrmarksteel Just had an anti-vaxxer tell me the vaccine is a poison. Coming from someone who undoubtedly eats genetical… Some conservative n left leaning ppl who used to oppose the cultivation f GM food crops, must go through the scienc…  \"Some of the most popular agricultural biotech products are running into problems. These plants have been genetical…  @Mirzaraja14 Monsanto. Patent new genetically modified crops, build a monopoly through patents &amp; make a billion dollars. RT @AgBioWorld: How crops are genetically modified...over time. Unstable, undesirable effects rarely occur in the final product of any crop… @AaronBastani @AyoCaesar Serious question: is it consistent to promote this while opposing genetically modified crops? @MonicaHone Hmm. Lab grown meat is ok. Genetically modified crops aren’t.I plan to continue to source my meat from farm grown animals. Mandate the Labelling of #GMO Products in Canada - Sign the Petition!  RT @AgBioWorld: How crops are genetically modified...over time. Unstable, undesirable effects rarely occur in the final product of any crop… RT @AgBioWorld: How crops are genetically modified...over time. Unstable, undesirable effects rarely occur in the final product of any crop… RT @AgBioWorld: How crops are genetically modified...over time. Unstable, undesirable effects rarely occur in the final product of any crop… RT @AgBioWorld: How crops are genetically modified...over time. Unstable, undesirable effects rarely occur in the final product of any crop… RT @AgBioWorld: How crops are genetically modified...over time. Unstable, undesirable effects rarely occur in the final product of any crop… RT @AgBioWorld: How crops are genetically modified...over time. Unstable, undesirable effects rarely occur in the final product of any crop… RT @AgBioWorld: How crops are genetically modified...over time. Unstable, undesirable effects rarely occur in the final product of any crop… @Leethewalker89 @robbeckettcomic It has been tested 👍 You do realise you eat genetically modified crops which are…  RT @AgBioWorld: How crops are genetically modified...over time. Unstable, undesirable effects rarely occur in the final product of any crop… RT @AgBioWorld: How crops are genetically modified...over time. Unstable, undesirable effects rarely occur in the final product of any crop… RT @AgBioWorld: How crops are genetically modified...over time. Unstable, undesirable effects rarely occur in the final product of any crop… RT @AgBioWorld: How crops are genetically modified...over time. Unstable, undesirable effects rarely occur in the final product of any crop… RT @AgBioWorld: How crops are genetically modified...over time. Unstable, undesirable effects rarely occur in the final product of any crop… RT @AgBioWorld: How crops are genetically modified...over time. Unstable, undesirable effects rarely occur in the final product of any crop… RT @AgBioWorld: How crops are genetically modified...over time. Unstable, undesirable effects rarely occur in the final product of any crop… @TomChivers @richardtgarland Lab Grown Meat otherwise called \"Clean Meat\" might also rightly be called \"Genetically…  RT @AgBioWorld: How crops are genetically modified...over time. Unstable, undesirable effects rarely occur in the final product of any crop… 🌏The global genetically modified crops market was valued at US$ 18.15 Bn in 2018, and is expected to exhibit a CAGR…  @mrmarksteel Just had an anti-vaxxer tell me the vaccine is a poison. Coming from someone who undoubtedly eats gen…  @MarcherLord1 its interesting how people who dont want genetically modified crops are fine with lab grown meat. @Marcus_Arscott You\\'ll be too young to remember (you lucky thing), but some time around the turn of the century, ge…  RT @MASIPAGFarmers: LOOK: How the herbicide glyphosate is partitioned in different environmental media when sprayed. It can contaminate our… LOOK: How the herbicide glyphosate is partitioned in different environmental media when sprayed. It can contaminate…  @xdianneeee @pxstellixmira Golden rice is a genetically modified, biofortified crop. Biofortification increases the…  nan'"
            ]
          },
          "metadata": {
            "tags": []
          },
          "execution_count": 25
        }
      ]
    },
    {
      "cell_type": "code",
      "metadata": {
        "colab": {
          "base_uri": "https://localhost:8080/"
        },
        "id": "Mym5garKkiqk",
        "outputId": "10fedbf7-fd84-4299-a216-f686379b88a4"
      },
      "source": [
        "#We perform the general sentiment analysis\n",
        "analysis = TextBlob(text)\n",
        "print(analysis.sentiment)\n",
        "\n",
        "#We then perform an sentiment analysis for all sentences found, meaning each Tweet.\n",
        "analysis = analysis.sentences\n",
        "print(analysis)\n",
        "\n",
        "print('For each individual tweet, the polarity and subjectivity factors are as followed:')\n",
        "iteration = 1\n",
        "for sentence in analysis:\n",
        "  print(iteration)\n",
        "  print(sentence.sentiment)\n",
        "  iteration = iteration+1\n"
      ],
      "execution_count": 38,
      "outputs": [
        {
          "output_type": "stream",
          "text": [
            "Sentiment(polarity=0.1345920172185995, subjectivity=0.5357206038218699)\n",
            "[Sentence(\"A German brand of food supplement organic and no gmo includin vitamin d supplement.\"), Sentence(\"RT @DrLeoRebello: The 5 Big Lies they do not want you to find out.\"), Sentence(\"RT @ladydiaphanous: @___Prodigy___ @DrMadej @bitchute The gates don't vaccinate.. they also grow their own food in bubble greenhouses and h… @Chena_Punim Funny it’s a sign of zinc deficiency, and zinc is good for immunity, and gmo crops have wrecked the so…  RT @ChickenGate: @kirstiealley Check this out Bill Gates caught on video admitting that his ‘experimental’ vaccine will CHANGE our DNA FORE… RT @GMOFreeUSA: #GMOs are invasive species and persistent pollution, and need to be treated as such.\"), Sentence(\"We need to work on changing our laws s… It is worth remembering what you’re advertising when you are doing advertising for Spotify.” RT @_ReddDotMedia: The only females left in the world are all GMO’d 🤮 @WrightBethani @NYGovCuomo Begging for the Vaccine?\"), Sentence(\"#WakeUp #GMO GMO GENETICALLY MODIFIED ORGANISM DNA test.\"), Sentence(\"Non-GMO “Low-Allergen” Varieties of Common Allergens  @TheRealTriscuit ...then contributing to the further demonization of GMO's, such as via the Non-GMO Project BS, wil…  @Poundcake921 @mchicon @NYGovCuomo #PoundSand Beg for the Vaccine be a GMO GENETICALLY MODIFIED ORGANISM.\"), Sentence(\"RT @GMOFreeUSA: #GMOs are invasive species and persistent pollution, and need to be treated as such.\"), Sentence(\"We need to work on changing our laws s… Did you hear about the GMO that almost destroyed all life?\"), Sentence(\"@mcnees Not that I’m defending Hercules, but it didn’t strike me that he was refuting science.\"), Sentence(\"He seemed to be taki…  RT @_ReddDotMedia: The only females left in the world are all GMO’d 🤮 The only females left in the world are all GMO’d 🤮 RT @GMOFreeUSA: #GMOs are invasive species and persistent pollution, and need to be treated as such.\"), Sentence(\"We need to work on changing our laws s… @JennCunningham2 @NYGovCuomo And everything else including what your stuffing yo face with.\"), Sentence(\"Billions will starve ar…  RT @GMOFreeUSA: #GMOs are invasive species and persistent pollution, and need to be treated as such.\"), Sentence(\"We need to work on changing our laws s… Did you hear about the GMO that almost destroyed all life?\"), Sentence(\"Check the labels GMO- Genetically Modified Engineering or Bio-Genetically Modified.\"), Sentence(\"Also the \"kraft mac &amp; cheese, I…   RT @GMOFreeUSA: #GMOs are invasive species and persistent pollution, and need to be treated as such.\"), Sentence(\"We need to work on changing our laws s… @vermonterbro @NYGovCuomo Begging you to research.GMO GENETICALLY MODIFIED ORGANISM DNA RNA WARPSPEED VACCINES PLE…  Nature s Edge Premium Quality Red Yeast Rice 600mg.\"), Sentence(\"Non-GMO and CITRININ-Free.\"), Sentence(\"Vegetarian.\"), Sentence(\"60 Vegetarian Capsules B…  RT @natoshisakamato: @zerohedge GMO vaccination by Bill Gates  @zerohedge GMO vaccination by Bill Gates  When the chemistry is organic no gmo 😭  RT @GMOAnswers: Many are surprised to learn that there are very few GMO crops grown around the world.\"), Sentence(\"Today, we take a look at a few popula… RT @rapandroses: I don’t understand how people trust a system built off of legally poisoning its people in many ways (air, gmo food, fluori… What Caused Polio?\"), Sentence(\"Dr. Thomas Cowan-Toxic Pesticides-At Same Time Hawaiian Sugar Plantations-1st Place to Use Arsen…  RT @ChickenGate: @kirstiealley Check this out Bill Gates caught on video admitting that his ‘experimental’ vaccine will CHANGE our DNA FORE… @gmo_kelley I’ve started doing it in similar situations &amp; so far so good!\"), Sentence(\"If you keep on top of the reviews and sit…  Economy vs science: GMO food tech causes clashes among Indian food sector  RT @GMWatch: @IMidwest Glazik’s soybeans have been repeatedly damaged.\"), Sentence(\"His neighbors who spray #dicamba are frustrated with him.\"), Sentence(\"There’s an… @heyitskaylyn @NYGovCuomo Probably begging for a Vaccine too.\"), Sentence(\"O please turn me into a GMO GENETICALLY MODIFIED ORGA…  Germs, Viruses and diseases don’t exist.\"), Sentence(\"Just people eating like shit and filling them selves up with gmo and parasites @straybec That is a good suggestion.\"), Sentence(\"Im always a little paranoid ordering from 3rd party people online but at least…  RT @SeedsHereNow: Buy (1) Full pack from the CaliSunset line and get a pack of Chellofornia* for FREE!\"), Sentence(\"AND/OR Buy (1) Full pack from the Bl… Autoimmunity RAMPANT-Changing Nature of Illness TRAUMA TREATMENT-Dr Tom Cowan’s Version of the Gaps Diet-NO GMO or…  Anatomy of Meatball Sub-1000 Calories-Live as if YOU NEVER HAVE TO SAY \"I AM SORRY\"-Longevity a Bridge Too Far' in…  @gmo_kelley Can you find it from somewhere that likely already bought it &amp; won’t directly giving nintendo more mone…  @Jesusis53688620 @Patriotic_Storm gmo the food is fake or its made from a 3d printer RT @SeedsHereNow: Buy (1) Full pack from the CaliSunset line and get a pack of Chellofornia* for FREE!\"), Sentence(\"AND/OR Buy (1) Full pack from the Bl… RT @lilbenghazi: RETWEET TO SHOW A FRIEND 100% tobacco free 100% gmo free 100% chlorine free 100% natural  RT @biotechaction: Genetically modified food: \"To eat or not to eat - that is the question\" for #TWOSEscitap panel, but there's no choice w…   @newwestgenetics Ban GMO or RoundUp ready weed If the ash is black it isn’t worthy!51 RT @PhishStats: new #phishing at hXXp://bar-banks[.\"), Sentence(\"]com/ | 157[.]7[.]107[.\"), Sentence(\"]185 | Japan | INTERQ GMO Internet | ASN 7506 #infosec #cybersecu… Marijuana producers Against Monsanto (bayer) ((bastardized cannabis)) Say no to GMO!\"), Sentence(\"Enjoy your breakfast!\"), Sentence(\"#GMO  #Monsanto #fakefood #goodmorning #poison #AmericanDream  #freedommatters #NWO…  @gmo_kelley like nintendo is shit but dont bring it to the point of possibly not getting someones christmas gift, i…  @gmo_kelley try looking for Mario Kart Live on a shopping app like OfferUp, try looking for a new box and try to lo…  I'm not demonizing cannabis  because it aids in the function of endocannabinoid system but you really do more harm…  RT @GMOFreeUSA: #GMOs are invasive species and persistent pollution, and need to be treated as such.\"), Sentence(\"We need to work on changing our laws s… new #phishing at hXXp://bar-banks[.\"), Sentence(\"]com/ | 157[.]7[.]107[.\"), Sentence(\"]185 | Japan | INTERQ GMO Internet | ASN 7506 #infosec…  @miamooo @MattHarperUK @airstripone84 @Cornubian2 What if the 299, due to the entirely new Novel experimental GMO v…  On the Radio Show: Diet soda no better than regular for heart health; Solutions for nightti…   Deep down they know its a death sentence for \"you\" taking the shot or refusing.\"), Sentence(\"So do your \"friends\" calling for it…  Buy (1) Full pack from the CaliSunset line and get a pack of Chellofornia* for FREE!\"), Sentence(\"AND/OR Buy (1) Full pack from…  RT @ChickenGate: @kirstiealley Check this out Bill Gates caught on video admitting that his ‘experimental’ vaccine will CHANGE our DNA FORE… RT @DrLeoRebello: The 5 Big Lies they do not want you to find out.\"), Sentence(\"[1] Chemtrails.\"), Sentence(\"[2] Drugs and Vaccines.\"), Sentence(\"[3] GMO.\"), Sentence(\"[4]Radiation and [5]… Autoimmunity RAMPANT-Changing Nature of Illness TRAUMA TREATMENT – Dr Tom Cowan’s Version of the Gaps Diet-NO GMO-F…  @kkarissay I should’ve recorded it LOL RT @GMOFreeUSA: #GMOs are invasive species and persistent pollution, and need to be treated as such.\"), Sentence(\"We need to work on changing our laws s… Anatomy of Meatball Sub-1000 Calories-Live as if YOU NEVER HAVE TO SAY \"I AM SORRY\"- Longevity a Bridge Too Far' in…  If you want genuine organic food on your table support your farmers.\"), Sentence(\"Corporations are only GMO's.…  RT @ChickenGate: @kirstiealley Check this out Bill Gates caught on video admitting that his ‘experimental’ vaccine will CHANGE our DNA FORE… @greta Im not anti-vaccine by any means but it does strike me as odd that after a lifetime of being told I need to…  At Jeff's Best we say NO to BPA plastics!\"), Sentence(\"We also don’t use ingredients that have been exposed to herbicides, pesti…  CASH PRICE UPDATED – CIF/FOB TEXAS &amp; FOB UPRIVER Sorghum basis and outright #OATT But my GF really wants mario kart live.\"), Sentence(\"My back up christmas gift was to detail her car but she already did that la…  RT @LotusOak2: If you look at @OrganicValley &amp; @Horizon_Organic, both utilize #vaccines in their veterinary care practices, some of which e… Context for some people: Nintendo has done some really shitty PR stuff lately.\"), Sentence(\"Specifically to the melee comp commu…  On one hand my gf really wants mario kart live for Christmas On the other hand fuck nintendo Many are surprised to learn that there are very few GMO crops grown around the world.\"), Sentence(\"Today, we take a look at a fe…  If Humans Were Rats… Monsanto’s Own# GMO \"Safety\" Test by Hammond Assures that HALF WILL BE DEAD:…  All the GMO crops took the testosterone out of the food.\"), Sentence(\"The new vaccinations will take the Soul out of  man.\"), Sentence(\"Passion 4 Life Mega Liquid Multivitamins, Trace Minerals, Amino Acids, Turmeric for Adults, Men, Women, Teens, Kids…  That's good.\"), Sentence(\"Air quality at the TJ Mahal cleanup.\"), Sentence(\"But what about the farmers with their GMO crops comitting suicide…  RT @GMOFreeUSA: #GMOs are invasive species and persistent pollution, and need to be treated as such.\"), Sentence(\"We need to work on changing our laws s… @joannepenn @DawgAlfie Guess you know about farmers protest in India?\"), Sentence(\"No farmers, no 'natural' food.\"), Sentence(\"Monsanto wants…  Classic Collusion-Big Business-Big Gov-Medicare and Covid-How Our Nation STARVES-at Same Time with GMO and Over-Mil…  Western Medicine-Basing Medical System on Flawed Premises?\"), Sentence(\"Insanity Doing the Same (Flawed) Thing and Expecting Dif…  I know what a GMO is because I understand what that actually is.\"), Sentence(\"The reason certain marking doesn’t fool me because…  A fantastic lesson in Science where we debated the pros and cons to genetically modified crops.\"), Sentence(\"Well done…  @MatthewNewell67 @Effiedeans I'm fine with that.\"), Sentence(\"Good science, very clever.\"), Sentence(\"Like genetically modified crops.\"), Sentence(\"Or nuc…  Genetically modified crops represent the most rapidly adopted technology in the history of agriculture.The benefi…  @CodeMonkeyZ More likely some Chinese genetically modified seeds that will destroy our crops.\"), Sentence(\"Wuhan Seeds Of Death.\"), Sentence(\"@CodeMonkeyZ @IronSkillet85 Genetically modified seeds to destroy the crops and food supply.\"), Sentence(\"@livemint @manujosephsan Abruptly ends with a plug for genetically modified crops.\"), Sentence(\"It's almost as if the writer was…  @manujosephsan If farming and farmers fall in a morally grey area so does genetically modified crops and the scient…  For me surely the next reform by Modi govt should be to liberalise usage of Genetically Modified Crops!…  Continued *(Note this --- Here in India Activists oppositing GM are philosophical Thugs from both left wing and…  \"Bayer bought Monsanto as part of its reinvention as a life-science firm with a focus on health and agriculture.\"), Sentence(\"Ba…  @99freemind Polly, I love you like a sister but please educate yourself re GMOs.\"), Sentence(\"Seedless grapes &amp; insulin are gene…  @rich1mages @rodcampsbay Look around you evolution would never have produced: Modern dairy cows n chickens Genetica…  @ishkarnBHANDARI Hi, A bit off topic but there's a problem since there are 16K farmer suicides in India &amp; similar i…  RT @gr33nbot: DNA From Genetically Modified Crops Can Be Transferred Into Humans Who Eat Them:  @Effiedeans If we trust scientists , why has the Scottish government got a blanket ban on Genetically Modified crops?\"), Sentence(\"RT @gr33nbot: DNA From Genetically Modified Crops Can Be Transferred Into Humans Who Eat Them:  RT @gr33nbot: DNA From Genetically Modified Crops Can Be Transferred Into Humans Who Eat Them:  DNA From Genetically Modified Crops Can Be Transferred Into Humans Who Eat Them:  @timesofindia No need to look west when it comes to agriculture-WTO is an acronym for World Trauma Ogre,eager to pu…  @spacedoutlily Maybe the genetically modified plants are a red herring because a particularly invasive fungus is ki…  pharmacology she calycine organism both as much dna sequences genetically modified crops when scientist but flax where epigraphy RT @JeanMichelAne: Impact of Genetically Modified Crops on the Biodiversity of Arbuscular Mycorrhizal Fungi  @microdot3313 @LGBT_Activist Besides genetically modified sh*t, toxic Roundup, suing farmers whose crops were pollu…  RT @JeanMichelAne: Impact of Genetically Modified Crops on the Biodiversity of Arbuscular Mycorrhizal Fungi  Impact of Genetically Modified Crops on the Biodiversity of Arbuscular Mycorrhizal Fungi  RT @gr33nbot: Global incidents of genetic contamination from genetically modified crops are on the rise, while companies responsible ignore… RT @gr33nbot: Global incidents of genetic contamination from genetically modified crops are on the rise, while companies responsible ignore… Global incidents of genetic contamination from genetically modified crops are on the rise, while companies responsible ignore consequences.\"), Sentence(\"RT @gr33nbot: When it comes to genetically modified crops and foods, we really have no idea of what the long term effects will be on the pu… RT @gr33nbot: When it comes to genetically modified crops and foods, we really have no idea of what the long term effects will be on the pu… RT @gr33nbot: When it comes to genetically modified crops and foods, we really have no idea of what the long term effects will be on the pu… When it comes to genetically modified crops and foods, we really have no idea of what the long term effects will be on the public.\"), Sentence(\"The number of #Countries growing genetically-modified (GM) cotton in #Africa has doubled since 2018, says a Interna…  @avi58757609 @dennchdind @captjasdeep It will even go crapier when companies will ask farmers to grow genetically m…  @BrownSpiderCLE The bag says \"non-gmo,\" but the ingredients list no crops that are genetically modified.\"), Sentence(\"So, that's just a marketing ploy.\"), Sentence(\"RT @GMOFreeUSA: Groundbreaking 2013 study shows pigs were harmed by the consumption of feed containing GMO crops.\"), Sentence(\"This was the first long-t… there actually arent that many genetically modified crops.\"), Sentence(\"there are only like eleven.\"), Sentence(\"and most of the gm food is for cattle.\"), Sentence(\"RT @AgBioWorld: How crops are genetically modified...over time.\"), Sentence(\"Unstable, undesirable effects rarely occur in the final product of any crop… RT @GMOFreeUSA: Groundbreaking 2013 study shows pigs were harmed by the consumption of feed containing GMO crops.\"), Sentence(\"This was the first long-t… RT @GMOFreeUSA: Groundbreaking 2013 study shows pigs were harmed by the consumption of feed containing GMO crops.\"), Sentence(\"This was the first long-t… RT @GMOFreeUSA: Groundbreaking 2013 study shows pigs were harmed by the consumption of feed containing GMO crops.\"), Sentence(\"This was the first long-t… RT @GMOFreeUSA: Groundbreaking 2013 study shows pigs were harmed by the consumption of feed containing GMO crops.\"), Sentence(\"This was the first long-t… @wrak_shaii bas Pakistan is an agricultural country and how genetically modified crops can help agricultural growth…  RT @GMOFreeUSA: Groundbreaking 2013 study shows pigs were harmed by the consumption of feed containing GMO crops.\"), Sentence(\"This was the first long-t… When looking at food labels, be careful of marketing schemes!\"), Sentence(\"Currently, there is no such thing as a GMO (Genetical…  RT @GMOFreeUSA: Groundbreaking 2013 study shows pigs were harmed by the consumption of feed containing GMO crops.\"), Sentence(\"This was the first long-t… RT @GMOFreeUSA: Groundbreaking 2013 study shows pigs were harmed by the consumption of feed containing GMO crops.\"), Sentence(\"This was the first long-t… RT @GMOFreeUSA: Groundbreaking 2013 study shows pigs were harmed by the consumption of feed containing GMO crops.\"), Sentence(\"This was the first long-t… RT @GMOFreeUSA: Groundbreaking 2013 study shows pigs were harmed by the consumption of feed containing GMO crops.\"), Sentence(\"This was the first long-t… RT @GMOFreeUSA: Groundbreaking 2013 study shows pigs were harmed by the consumption of feed containing GMO crops.\"), Sentence(\"This was the first long-t… Groundbreaking 2013 study shows pigs were harmed by the consumption of feed containing GMO crops.\"), Sentence(\"This was the firs…  @AledGwynWiliams @lowri_journo @WelshDalaiLama @ITVWales Considering the first thing we learn in science is \"we don…  @CropLifeIndia Canadian farmers can help alleviate some food loss by using a number of plant science innovations, s…  RT @AgBioWorld: How crops are genetically modified...over time.\"), Sentence(\"Unstable, undesirable effects rarely occur in the final product of any crop… @ShekharGupta When you take on the double standard of Indians on genetically modified crops I think our govt should listen to this @mattwridley While at the same time banning imports of genetically modified crops that would, in many cases, not re…  RT @MASIPAGFarmers: LOOK: How the herbicide glyphosate is partitioned in different environmental media when sprayed.\"), Sentence(\"It can contaminate our… RT @TrumpFragile: @mrmarksteel Just had an anti-vaxxer tell me the vaccine is a poison.\"), Sentence(\"Coming from someone who undoubtedly eats genetical… @MrHarryCole @SunPolitics Okay I am Good with Frozen Meat on Steroids from US, Chlorinated yummy Chicken, Genetical…  RT @AgBioWorld: How crops are genetically modified...over time.\"), Sentence(\"Unstable, undesirable effects rarely occur in the final product of any crop… Are these vaccines genetically modified?\"), Sentence(\"If so, what do those who oppose GM crops think about accepting it?\"), Sentence(\"I hope…  RT @AgBioWorld: How crops are genetically modified...over time.\"), Sentence(\"Unstable, undesirable effects rarely occur in the final product of any crop… @LeafLee6 Not to mention allowing Monsanto pesticides in our food, genetically modified crops, and allowing a famil…  RT @TrumpFragile: @mrmarksteel Just had an anti-vaxxer tell me the vaccine is a poison.\"), Sentence(\"Coming from someone who undoubtedly eats genetical… Some conservative n left leaning ppl who used to oppose the cultivation f GM food crops, must go through the scienc…  \"Some of the most popular agricultural biotech products are running into problems.\"), Sentence(\"These plants have been genetical…  @Mirzaraja14 Monsanto.\"), Sentence(\"Patent new genetically modified crops, build a monopoly through patents &amp; make a billion dollars.\"), Sentence(\"RT @AgBioWorld: How crops are genetically modified...over time.\"), Sentence(\"Unstable, undesirable effects rarely occur in the final product of any crop… @AaronBastani @AyoCaesar Serious question: is it consistent to promote this while opposing genetically modified crops?\"), Sentence(\"@MonicaHone Hmm.\"), Sentence(\"Lab grown meat is ok.\"), Sentence(\"Genetically modified crops aren’t.I plan to continue to source my meat from farm grown animals.\"), Sentence(\"Mandate the Labelling of #GMO Products in Canada - Sign the Petition!\"), Sentence(\"RT @AgBioWorld: How crops are genetically modified...over time.\"), Sentence(\"Unstable, undesirable effects rarely occur in the final product of any crop… RT @AgBioWorld: How crops are genetically modified...over time.\"), Sentence(\"Unstable, undesirable effects rarely occur in the final product of any crop… RT @AgBioWorld: How crops are genetically modified...over time.\"), Sentence(\"Unstable, undesirable effects rarely occur in the final product of any crop… RT @AgBioWorld: How crops are genetically modified...over time.\"), Sentence(\"Unstable, undesirable effects rarely occur in the final product of any crop… RT @AgBioWorld: How crops are genetically modified...over time.\"), Sentence(\"Unstable, undesirable effects rarely occur in the final product of any crop… RT @AgBioWorld: How crops are genetically modified...over time.\"), Sentence(\"Unstable, undesirable effects rarely occur in the final product of any crop… RT @AgBioWorld: How crops are genetically modified...over time.\"), Sentence(\"Unstable, undesirable effects rarely occur in the final product of any crop… @Leethewalker89 @robbeckettcomic It has been tested 👍 You do realise you eat genetically modified crops which are…  RT @AgBioWorld: How crops are genetically modified...over time.\"), Sentence(\"Unstable, undesirable effects rarely occur in the final product of any crop… RT @AgBioWorld: How crops are genetically modified...over time.\"), Sentence(\"Unstable, undesirable effects rarely occur in the final product of any crop… RT @AgBioWorld: How crops are genetically modified...over time.\"), Sentence(\"Unstable, undesirable effects rarely occur in the final product of any crop… RT @AgBioWorld: How crops are genetically modified...over time.\"), Sentence(\"Unstable, undesirable effects rarely occur in the final product of any crop… RT @AgBioWorld: How crops are genetically modified...over time.\"), Sentence(\"Unstable, undesirable effects rarely occur in the final product of any crop… RT @AgBioWorld: How crops are genetically modified...over time.\"), Sentence(\"Unstable, undesirable effects rarely occur in the final product of any crop… RT @AgBioWorld: How crops are genetically modified...over time.\"), Sentence(\"Unstable, undesirable effects rarely occur in the final product of any crop… @TomChivers @richardtgarland Lab Grown Meat otherwise called \"Clean Meat\" might also rightly be called \"Genetically…  RT @AgBioWorld: How crops are genetically modified...over time.\"), Sentence(\"Unstable, undesirable effects rarely occur in the final product of any crop… 🌏The global genetically modified crops market was valued at US$ 18.15 Bn in 2018, and is expected to exhibit a CAGR…  @mrmarksteel Just had an anti-vaxxer tell me the vaccine is a poison.\"), Sentence(\"Coming from someone who undoubtedly eats gen…  @MarcherLord1 its interesting how people who dont want genetically modified crops are fine with lab grown meat.\"), Sentence(\"@Marcus_Arscott You'll be too young to remember (you lucky thing), but some time around the turn of the century, ge…  RT @MASIPAGFarmers: LOOK: How the herbicide glyphosate is partitioned in different environmental media when sprayed.\"), Sentence(\"It can contaminate our… LOOK: How the herbicide glyphosate is partitioned in different environmental media when sprayed.\"), Sentence(\"It can contaminate…  @xdianneeee @pxstellixmira Golden rice is a genetically modified, biofortified crop.\"), Sentence(\"Biofortification increases the…  nan\")]\n",
            "For each individual tweet, the polarity and subjectivity factors are as followed:\n",
            "1\n",
            "Sentiment(polarity=0.0, subjectivity=0.0)\n",
            "2\n",
            "Sentiment(polarity=0.0, subjectivity=0.1)\n",
            "3\n",
            "Sentiment(polarity=0.32999999999999996, subjectivity=0.7)\n",
            "4\n",
            "Sentiment(polarity=0.09999999999999999, subjectivity=0.3666666666666667)\n",
            "5\n",
            "Sentiment(polarity=0.0, subjectivity=0.0)\n",
            "6\n",
            "Sentiment(polarity=-0.09999999999999999, subjectivity=0.5)\n",
            "7\n",
            "Sentiment(polarity=0.0, subjectivity=0.5)\n",
            "8\n",
            "Sentiment(polarity=0.0, subjectivity=0.0)\n",
            "9\n",
            "Sentiment(polarity=0.0, subjectivity=0.0)\n",
            "10\n",
            "Sentiment(polarity=0.0, subjectivity=0.5)\n",
            "11\n",
            "Sentiment(polarity=0.0, subjectivity=0.0)\n",
            "12\n",
            "Sentiment(polarity=0.0, subjectivity=0.5)\n",
            "13\n",
            "Sentiment(polarity=0.0, subjectivity=0.0)\n",
            "14\n",
            "Sentiment(polarity=0.0, subjectivity=0.0)\n",
            "15\n",
            "Sentiment(polarity=0.0, subjectivity=0.5)\n",
            "16\n",
            "Sentiment(polarity=0.0, subjectivity=0.0)\n",
            "17\n",
            "Sentiment(polarity=0.0, subjectivity=0.0)\n",
            "18\n",
            "Sentiment(polarity=0.0, subjectivity=0.0)\n",
            "19\n",
            "Sentiment(polarity=0.11333333333333333, subjectivity=0.5099999999999999)\n",
            "20\n",
            "Sentiment(polarity=0.16666666666666666, subjectivity=0.26666666666666666)\n",
            "21\n",
            "Sentiment(polarity=0.215, subjectivity=0.5050000000000001)\n",
            "22\n",
            "Sentiment(polarity=0.5, subjectivity=0.5)\n",
            "23\n",
            "Sentiment(polarity=-0.7, subjectivity=0.2)\n",
            "24\n",
            "Sentiment(polarity=0.0, subjectivity=0.0)\n",
            "25\n",
            "Sentiment(polarity=0.0, subjectivity=0.0)\n",
            "26\n",
            "Sentiment(polarity=0.24999999999999997, subjectivity=0.7000000000000001)\n",
            "27\n",
            "Sentiment(polarity=0.165625, subjectivity=0.4625)\n",
            "28\n",
            "Sentiment(polarity=0.1, subjectivity=0.7555555555555554)\n",
            "29\n",
            "Sentiment(polarity=0.22746212121212117, subjectivity=0.5922348484848484)\n",
            "30\n",
            "Sentiment(polarity=0.0, subjectivity=0.0)\n",
            "31\n",
            "Sentiment(polarity=0.0, subjectivity=0.0)\n",
            "32\n",
            "Sentiment(polarity=0.5, subjectivity=0.5)\n",
            "33\n",
            "Sentiment(polarity=0.09545454545454546, subjectivity=0.6257575757575757)\n",
            "34\n",
            "Sentiment(polarity=0.13636363636363635, subjectivity=0.45454545454545453)\n",
            "35\n",
            "Sentiment(polarity=0.0, subjectivity=0.0)\n",
            "36\n",
            "Sentiment(polarity=-0.04202741702741703, subjectivity=0.35647963147963146)\n",
            "37\n",
            "Sentiment(polarity=0.425, subjectivity=0.675)\n",
            "38\n",
            "Sentiment(polarity=0.15, subjectivity=0.35000000000000003)\n",
            "39\n",
            "Sentiment(polarity=0.0, subjectivity=0.0)\n",
            "40\n",
            "Sentiment(polarity=0.0, subjectivity=0.0)\n",
            "41\n",
            "Sentiment(polarity=0.0, subjectivity=0.0)\n",
            "42\n",
            "Sentiment(polarity=0.4, subjectivity=0.6)\n",
            "43\n",
            "Sentiment(polarity=0.0, subjectivity=0.8333333333333334)\n",
            "44\n",
            "Sentiment(polarity=0.23333333333333334, subjectivity=0.4875)\n",
            "45\n",
            "Sentiment(polarity=0.16818181818181818, subjectivity=0.3)\n",
            "46\n",
            "Sentiment(polarity=-0.033333333333333326, subjectivity=0.26666666666666666)\n",
            "47\n",
            "Sentiment(polarity=0.021623376623376624, subjectivity=0.44357142857142856)\n",
            "48\n",
            "Sentiment(polarity=0.21666666666666667, subjectivity=0.5833333333333334)\n",
            "49\n",
            "Sentiment(polarity=0.13636363636363635, subjectivity=0.45454545454545453)\n",
            "50\n",
            "Sentiment(polarity=0.7, subjectivity=0.6000000000000001)\n",
            "51\n",
            "Sentiment(polarity=0.0, subjectivity=0.0)\n",
            "52\n",
            "Sentiment(polarity=0.0, subjectivity=0.5)\n",
            "53\n",
            "Sentiment(polarity=0.0, subjectivity=0.0)\n",
            "54\n",
            "Sentiment(polarity=-0.05, subjectivity=0.4)\n",
            "55\n",
            "Sentiment(polarity=-0.06666666666666668, subjectivity=0.15833333333333333)\n",
            "56\n",
            "Sentiment(polarity=-0.16666666666666666, subjectivity=0.24166666666666667)\n",
            "57\n",
            "Sentiment(polarity=0.30714285714285716, subjectivity=0.7357142857142858)\n",
            "58\n",
            "Sentiment(polarity=0.4166666666666667, subjectivity=0.5)\n",
            "59\n",
            "Sentiment(polarity=0.4583333333333333, subjectivity=0.8)\n",
            "60\n",
            "Sentiment(polarity=0.0, subjectivity=0.0)\n",
            "61\n",
            "Sentiment(polarity=0.16, subjectivity=0.4)\n",
            "62\n",
            "Sentiment(polarity=0.0, subjectivity=0.0)\n",
            "63\n",
            "Sentiment(polarity=-0.2, subjectivity=0.0)\n",
            "64\n",
            "Sentiment(polarity=-0.125, subjectivity=1.0)\n",
            "65\n",
            "Sentiment(polarity=0.041666666666666664, subjectivity=0.23148148148148148)\n",
            "66\n",
            "Sentiment(polarity=0.5, subjectivity=0.6)\n",
            "67\n",
            "Sentiment(polarity=0.1, subjectivity=0.35)\n",
            "68\n",
            "Sentiment(polarity=0.1074074074074074, subjectivity=0.2425925925925926)\n",
            "69\n",
            "Sentiment(polarity=0.06666666666666667, subjectivity=0.27407407407407414)\n",
            "70\n",
            "Sentiment(polarity=0.0, subjectivity=0.0)\n",
            "71\n",
            "Sentiment(polarity=0.0, subjectivity=0.0)\n",
            "72\n",
            "Sentiment(polarity=0.0, subjectivity=0.0)\n",
            "73\n",
            "Sentiment(polarity=0.25, subjectivity=0.3111111111111111)\n",
            "74\n",
            "Sentiment(polarity=0.0, subjectivity=1.0)\n",
            "75\n",
            "Sentiment(polarity=0.5, subjectivity=0.5)\n",
            "76\n",
            "Sentiment(polarity=0.0, subjectivity=0.0)\n",
            "77\n",
            "Sentiment(polarity=0.15, subjectivity=0.95)\n",
            "78\n",
            "Sentiment(polarity=0.25, subjectivity=0.3333333333333333)\n",
            "79\n",
            "Sentiment(polarity=0.25, subjectivity=0.3333333333333333)\n",
            "80\n",
            "Sentiment(polarity=0.25, subjectivity=0.3333333333333333)\n",
            "81\n",
            "Sentiment(polarity=0.25, subjectivity=0.3333333333333333)\n",
            "82\n",
            "Sentiment(polarity=0.0625, subjectivity=0.6666666666666666)\n",
            "83\n",
            "Sentiment(polarity=0.0, subjectivity=0.45)\n",
            "84\n",
            "Sentiment(polarity=0.25, subjectivity=0.3333333333333333)\n",
            "85\n",
            "Sentiment(polarity=0.25, subjectivity=0.3333333333333333)\n",
            "86\n",
            "Sentiment(polarity=0.25, subjectivity=0.3333333333333333)\n",
            "87\n",
            "Sentiment(polarity=0.25, subjectivity=0.3333333333333333)\n",
            "88\n",
            "Sentiment(polarity=0.25, subjectivity=0.3333333333333333)\n",
            "89\n",
            "Sentiment(polarity=0.25, subjectivity=0.3333333333333333)\n",
            "90\n",
            "Sentiment(polarity=0.1142857142857143, subjectivity=0.44642857142857145)\n",
            "91\n",
            "Sentiment(polarity=0.0, subjectivity=0.0)\n",
            "92\n",
            "Sentiment(polarity=0.19999999999999998, subjectivity=0.6833333333333332)\n",
            "93\n",
            "Sentiment(polarity=0.15, subjectivity=0.95)\n",
            "94\n",
            "Sentiment(polarity=0.0, subjectivity=0.0)\n",
            "95\n",
            "Sentiment(polarity=0.0, subjectivity=0.0)\n",
            "96\n",
            "Sentiment(polarity=0.15, subjectivity=0.95)\n",
            "97\n",
            "Sentiment(polarity=0.3666666666666667, subjectivity=0.4666666666666666)\n",
            "98\n",
            "Sentiment(polarity=0.0, subjectivity=0.0)\n",
            "99\n",
            "Sentiment(polarity=0.13636363636363635, subjectivity=0.45454545454545453)\n",
            "100\n",
            "Sentiment(polarity=0.0, subjectivity=0.0)\n",
            "101\n",
            "Sentiment(polarity=0.05416666666666667, subjectivity=0.7041666666666666)\n",
            "102\n",
            "Sentiment(polarity=0.0, subjectivity=0.0)\n",
            "103\n",
            "Sentiment(polarity=0.5, subjectivity=0.5)\n",
            "104\n",
            "Sentiment(polarity=0.0, subjectivity=0.0)\n",
            "105\n",
            "Sentiment(polarity=0.0, subjectivity=0.0)\n",
            "106\n",
            "Sentiment(polarity=0.0, subjectivity=0.0)\n",
            "107\n",
            "Sentiment(polarity=0.15, subjectivity=0.95)\n",
            "108\n",
            "Sentiment(polarity=0.15, subjectivity=0.95)\n",
            "109\n",
            "Sentiment(polarity=0.15, subjectivity=0.95)\n",
            "110\n",
            "Sentiment(polarity=0.15, subjectivity=0.95)\n",
            "111\n",
            "Sentiment(polarity=0.15, subjectivity=0.95)\n",
            "112\n",
            "Sentiment(polarity=0.15, subjectivity=0.95)\n",
            "113\n",
            "Sentiment(polarity=0.15, subjectivity=0.95)\n",
            "114\n",
            "Sentiment(polarity=0.15, subjectivity=0.95)\n",
            "115\n",
            "Sentiment(polarity=0.15, subjectivity=0.95)\n",
            "116\n",
            "Sentiment(polarity=0.15, subjectivity=0.95)\n",
            "117\n",
            "Sentiment(polarity=0.15, subjectivity=0.95)\n",
            "118\n",
            "Sentiment(polarity=0.15, subjectivity=0.95)\n",
            "119\n",
            "Sentiment(polarity=0.15, subjectivity=0.95)\n",
            "120\n",
            "Sentiment(polarity=0.2380952380952381, subjectivity=0.7839285714285714)\n",
            "121\n",
            "Sentiment(polarity=0.049999999999999996, subjectivity=0.575)\n",
            "122\n",
            "Sentiment(polarity=0.45833333333333337, subjectivity=0.5)\n",
            "123\n",
            "Sentiment(polarity=0.14444444444444446, subjectivity=0.6111111111111112)\n",
            "124\n",
            "Sentiment(polarity=0.0, subjectivity=0.6)\n",
            "125\n",
            "Sentiment(polarity=0.3, subjectivity=0.5)\n",
            "126\n",
            "Sentiment(polarity=0.0, subjectivity=0.0)\n"
          ],
          "name": "stdout"
        }
      ]
    },
    {
      "cell_type": "code",
      "metadata": {
        "id": "-KC9xNIjhupW"
      },
      "source": [
        "sentence = nltk.sent_tokenize(text)\n",
        "tokens = nltk.word_tokenize(text)\n",
        "simple_text = nltk.Text(tokens)\n",
        "tagged = nltk.pos_tag(tokens)"
      ],
      "execution_count": null,
      "outputs": []
    },
    {
      "cell_type": "code",
      "metadata": {
        "id": "46_UMhZ1t8z3",
        "colab": {
          "base_uri": "https://localhost:8080/",
          "height": 324
        },
        "outputId": "42a6ac76-c43e-4cef-e369-61ad11b2bf9a"
      },
      "source": [
        "fd = nltk.FreqDist(word.lower() for word in tokens)\n",
        "fd.plot(20)"
      ],
      "execution_count": null,
      "outputs": [
        {
          "output_type": "display_data",
          "data": {
            "image/png": "[encoded data removed]",
            "text/plain": [
              "<Figure size 432x288 with 1 Axes>"
            ]
          },
          "metadata": {
            "tags": [],
            "needs_background": "light"
          }
        }
      ]
    },
    {
      "cell_type": "code",
      "metadata": {
        "id": "-ZVijUPhumTg"
      },
      "source": [
        "#nouns\n",
        "permitted_tags = set([\n",
        "    'NN',\n",
        "    'NNS',\n",
        "    'NNP',\n",
        "    'NNPS',\n",
        "])\n",
        "#adjectives\n",
        "permitted_tags1 = set([\n",
        "     'JJS',\n",
        "    'JJ',\n",
        "    'JJR',                   \n",
        "])\n",
        "#verbs\n",
        "permitted_tags2 = set([\n",
        "    'VB',\n",
        "    'VBD',\n",
        "    'VBG',\n",
        "    'VBN',\n",
        "    'VBP',\n",
        "    'VPZ'\n",
        "])"
      ],
      "execution_count": null,
      "outputs": []
    },
    {
      "cell_type": "code",
      "metadata": {
        "id": "SZ9aHqA8HFUO"
      },
      "source": [
        "import matplotlib.pyplot as plt\n"
      ],
      "execution_count": null,
      "outputs": []
    },
    {
      "cell_type": "code",
      "metadata": {
        "id": "XO6RNqeTuf4U",
        "colab": {
          "base_uri": "https://localhost:8080/",
          "height": 1000
        },
        "outputId": "184e6afc-5a8d-49c1-bfe2-af89f4e416f6"
      },
      "source": [
        "fig = plt.figure(figsize = (10,4))\n",
        "fd = nltk.FreqDist()\n",
        "\n",
        "for bit in tagged:\n",
        "    if bit[1] in permitted_tags and len(bit[0])>2:\n",
        "        fd[bit[0]] = fd[bit[0]] + 1\n",
        "\n",
        "plt.title('20 most frequent nouns')       \n",
        "fd.plot(20)\n",
        "plt.show()\n",
        "fig.savefig('nouns')\n",
        "\n",
        "fig = plt.figure(figsize = (10,4))\n",
        "fd = nltk.FreqDist()\n",
        "\n",
        "for bit in tagged:\n",
        "    if bit[1] in permitted_tags1 and len(bit[0])>2:\n",
        "        fd[bit[0]] = fd[bit[0]] + 1\n",
        "\n",
        "plt.title('20 most frequent adjectives')        \n",
        "fd.plot(20)\n",
        "plt.show()\n",
        "fig.savefig('adjectives')\n",
        "\n",
        "fig = plt.figure(figsize = (10,4))\n",
        "fd = nltk.FreqDist()\n",
        "\n",
        "for bit in tagged:\n",
        "    if bit[1] in permitted_tags2 and len(bit[0])>2:\n",
        "        fd[bit[0]] = fd[bit[0]] + 1\n",
        "\n",
        "plt.title('20 most frequent verbs')       \n",
        "fd.plot(20)\n",
        "plt.show()\n",
        "fig.savefig('verbs')"
      ],
      "execution_count": null,
      "outputs": [
        {
          "output_type": "display_data",
          "data": {
            "image/png": "[encoded data removed]",
            "text/plain": [
              "<Figure size 720x288 with 1 Axes>"
            ]
          },
          "metadata": {
            "tags": [],
            "needs_background": "light"
          }
        },
        {
          "output_type": "display_data",
          "data": {
            "image/png": "[encoded data removed]",
            "text/plain": [
              "<Figure size 720x288 with 1 Axes>"
            ]
          },
          "metadata": {
            "tags": [],
            "needs_background": "light"
          }
        },
        {
          "output_type": "display_data",
          "data": {
            "image/png": "[encoded data removed]",
            "text/plain": [
              "<Figure size 720x288 with 1 Axes>"
            ]
          },
          "metadata": {
            "tags": [],
            "needs_background": "light"
          }
        }
      ]
    },
    {
      "cell_type": "code",
      "metadata": {
        "id": "de279YbMvB4P",
        "colab": {
          "base_uri": "https://localhost:8080/"
        },
        "outputId": "388997b6-ebb5-4865-e28f-1af2cf20192e"
      },
      "source": [
        "simple_text.collocations()"
      ],
      "execution_count": null,
      "outputs": [
        {
          "output_type": "stream",
          "text": [
            "genetically modified; final product; rarely occur; effects rarely;\n",
            "undesirable effects; modified ...; 2013 study; Groundbreaking 2013;\n",
            "feed containing; shows pigs; study shows; first long-t…; modified\n",
            "crops; Genetically Modified; persistent pollution; containing GMO;\n",
            "invasive species; Modified Crops; Bill Gates; GMO crops\n"
          ],
          "name": "stdout"
        }
      ]
    }
  ]
}