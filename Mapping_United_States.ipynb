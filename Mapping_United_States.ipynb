{
  "nbformat": 4,
  "nbformat_minor": 0,
  "metadata": {
    "colab": {
      "name": "Mapping United States.ipynb",
      "provenance": [],
      "authorship_tag": "ABX9TyNlMRWyhlNd8XJyiVDa/v3t",
      "include_colab_link": true
    },
    "kernelspec": {
      "name": "python3",
      "display_name": "Python 3"
    }
  },
  "cells": [
    {
      "cell_type": "markdown",
      "metadata": {
        "id": "view-in-github",
        "colab_type": "text"
      },
      "source": [
        "<a href=\"https://colab.research.google.com/github/kristinak15/QM2-Group-4/blob/main/Mapping_United_States.ipynb\" target=\"_parent\"><img src=\"https://colab.research.google.com/assets/colab-badge.svg\" alt=\"Open In Colab\"/></a>"
      ]
    },
    {
      "cell_type": "code",
      "metadata": {
        "colab": {
          "base_uri": "https://localhost:8080/"
        },
        "id": "vewpJgp6XaSt",
        "outputId": "fdaddc77-1de9-4a6e-8355-5b8c7562b033"
      },
      "source": [
        "!pip install geopandas\n",
        "\n",
        "!pip install pysal "
      ],
      "execution_count": 1,
      "outputs": [
        {
          "output_type": "stream",
          "text": [
            "Collecting geopandas\n",
            "\u001b[?25l  Downloading https://files.pythonhosted.org/packages/f7/a4/e66aafbefcbb717813bf3a355c8c4fc3ed04ea1dd7feb2920f2f4f868921/geopandas-0.8.1-py2.py3-none-any.whl (962kB)\n",
            "\u001b[K     |████████████████████████████████| 972kB 8.0MB/s \n",
            "\u001b[?25hCollecting pyproj>=2.2.0\n",
            "\u001b[?25l  Downloading https://files.pythonhosted.org/packages/e4/ab/280e80a67cfc109d15428c0ec56391fc03a65857b7727cf4e6e6f99a4204/pyproj-3.0.0.post1-cp36-cp36m-manylinux2010_x86_64.whl (6.4MB)\n",
            "\u001b[K     |████████████████████████████████| 6.5MB 16.7MB/s \n",
            "\u001b[?25hRequirement already satisfied: pandas>=0.23.0 in /usr/local/lib/python3.6/dist-packages (from geopandas) (1.1.5)\n",
            "Requirement already satisfied: shapely in /usr/local/lib/python3.6/dist-packages (from geopandas) (1.7.1)\n",
            "Collecting fiona\n",
            "\u001b[?25l  Downloading https://files.pythonhosted.org/packages/37/94/4910fd55246c1d963727b03885ead6ef1cd3748a465f7b0239ab25dfc9a3/Fiona-1.8.18-cp36-cp36m-manylinux1_x86_64.whl (14.8MB)\n",
            "\u001b[K     |████████████████████████████████| 14.8MB 318kB/s \n",
            "\u001b[?25hRequirement already satisfied: certifi in /usr/local/lib/python3.6/dist-packages (from pyproj>=2.2.0->geopandas) (2020.12.5)\n",
            "Requirement already satisfied: pytz>=2017.2 in /usr/local/lib/python3.6/dist-packages (from pandas>=0.23.0->geopandas) (2018.9)\n",
            "Requirement already satisfied: numpy>=1.15.4 in /usr/local/lib/python3.6/dist-packages (from pandas>=0.23.0->geopandas) (1.18.5)\n",
            "Requirement already satisfied: python-dateutil>=2.7.3 in /usr/local/lib/python3.6/dist-packages (from pandas>=0.23.0->geopandas) (2.8.1)\n",
            "Requirement already satisfied: click<8,>=4.0 in /usr/local/lib/python3.6/dist-packages (from fiona->geopandas) (7.1.2)\n",
            "Collecting cligj>=0.5\n",
            "  Downloading https://files.pythonhosted.org/packages/42/1e/947eadf10d6804bf276eb8a038bd5307996dceaaa41cfd21b7a15ec62f5d/cligj-0.7.1-py3-none-any.whl\n",
            "Requirement already satisfied: six>=1.7 in /usr/local/lib/python3.6/dist-packages (from fiona->geopandas) (1.15.0)\n",
            "Collecting click-plugins>=1.0\n",
            "  Downloading https://files.pythonhosted.org/packages/e9/da/824b92d9942f4e472702488857914bdd50f73021efea15b4cad9aca8ecef/click_plugins-1.1.1-py2.py3-none-any.whl\n",
            "Collecting munch\n",
            "  Downloading https://files.pythonhosted.org/packages/cc/ab/85d8da5c9a45e072301beb37ad7f833cd344e04c817d97e0cc75681d248f/munch-2.5.0-py2.py3-none-any.whl\n",
            "Requirement already satisfied: attrs>=17 in /usr/local/lib/python3.6/dist-packages (from fiona->geopandas) (20.3.0)\n",
            "Installing collected packages: pyproj, cligj, click-plugins, munch, fiona, geopandas\n",
            "Successfully installed click-plugins-1.1.1 cligj-0.7.1 fiona-1.8.18 geopandas-0.8.1 munch-2.5.0 pyproj-3.0.0.post1\n",
            "Collecting pysal\n",
            "\u001b[?25l  Downloading https://files.pythonhosted.org/packages/ae/81/15c6ee658197330923cbd892b82323c4b8ac276503f9d38620343acb3822/pysal-2.3.0.tar.gz (108kB)\n",
            "\u001b[K     |████████████████████████████████| 112kB 7.2MB/s \n",
            "\u001b[?25hCollecting libpysal>=4.3.0\n",
            "\u001b[?25l  Downloading https://files.pythonhosted.org/packages/98/b8/90e8d8a1cf8e5d38c89debf40d5bc89496395b5e2014a1de22228ead4b55/libpysal-4.3.0.tar.gz (2.4MB)\n",
            "\u001b[K     |████████████████████████████████| 2.4MB 13.3MB/s \n",
            "\u001b[?25hCollecting access>=1.1.1\n",
            "  Downloading https://files.pythonhosted.org/packages/b3/5d/7331b59591001d8a290d8a46a401f1192f7dda5a3ee074bf71ab4869b94a/access-1.1.2-py3-none-any.whl\n",
            "Collecting esda>=2.3.1\n",
            "\u001b[?25l  Downloading https://files.pythonhosted.org/packages/c1/ee/80d6c041e4b5b81a41058efcb4b92b03bc13d6005dd5263f8a7896ee8804/esda-2.3.1.tar.gz (71kB)\n",
            "\u001b[K     |████████████████████████████████| 71kB 6.6MB/s \n",
            "\u001b[?25hCollecting giddy>=2.3.3\n",
            "\u001b[?25l  Downloading https://files.pythonhosted.org/packages/5c/71/f7fc2b41e36b2a06bac30937435d2dedd125f74f3157213ec121ff52d961/giddy-2.3.3-py3-none-any.whl (60kB)\n",
            "\u001b[K     |████████████████████████████████| 61kB 7.9MB/s \n",
            "\u001b[?25hCollecting inequality>=1.0.0\n",
            "  Downloading https://files.pythonhosted.org/packages/74/0f/9ed2d097f29160d0c873f33ffc0b9806c1083e3611acb2143eb66adcf580/inequality-1.0.0.tar.gz\n",
            "Collecting pointpats>=2.2.0\n",
            "\u001b[?25l  Downloading https://files.pythonhosted.org/packages/5f/2b/a3e99c42b37c3e848eb8e55f2ee2b2d281ae0d49df261f13eaaeba7171a5/pointpats-2.2.0.tar.gz (55kB)\n",
            "\u001b[K     |████████████████████████████████| 61kB 8.1MB/s \n",
            "\u001b[?25hCollecting segregation>=1.3.0\n",
            "\u001b[?25l  Downloading https://files.pythonhosted.org/packages/68/7f/ec23f5cfdcfe6d92f29ce1a4f2e59e06f43ebfbbd02b98b90dab90d73922/segregation-1.4.0-py3-none-any.whl (83kB)\n",
            "\u001b[K     |████████████████████████████████| 92kB 8.1MB/s \n",
            "\u001b[?25hCollecting spaghetti>=1.5.0\n",
            "\u001b[?25l  Downloading https://files.pythonhosted.org/packages/94/97/b85cc632d31ce8fdbca370aac9c9d1da99b271dfb5e937ed2c8559428984/spaghetti-1.5.3-py3-none-any.whl (43kB)\n",
            "\u001b[K     |████████████████████████████████| 51kB 6.3MB/s \n",
            "\u001b[?25hCollecting mgwr>=2.1.1\n",
            "\u001b[?25l  Downloading https://files.pythonhosted.org/packages/8e/14/e18342b62655ec7f37624ff936d6f273f82b51913cd558110fd4d670794e/mgwr-2.1.2.tar.gz (41kB)\n",
            "\u001b[K     |████████████████████████████████| 51kB 6.1MB/s \n",
            "\u001b[?25hCollecting spglm>=1.0.7\n",
            "  Downloading https://files.pythonhosted.org/packages/07/8f/03f07807967595d2632dbe0f7c442511a5ff422103b49c76557f9eed40c5/spglm-1.0.8.tar.gz\n",
            "Collecting spint>=1.0.6\n",
            "  Downloading https://files.pythonhosted.org/packages/7e/c5/e4862ab3f745a1886135b07e498e77504c14e468d0a6b89f7270f5def979/spint-1.0.7.tar.gz\n",
            "Collecting spreg>=1.1.1\n",
            "\u001b[?25l  Downloading https://files.pythonhosted.org/packages/d6/37/6789fbf602e1ad27ebf5e1a6ec05b7553c5630e3bd0a34a521832da169a8/spreg-1.1.2.post1-py3-none-any.whl (265kB)\n",
            "\u001b[K     |████████████████████████████████| 266kB 44.6MB/s \n",
            "\u001b[?25hCollecting spvcm==0.3.0\n",
            "\u001b[?25l  Downloading https://files.pythonhosted.org/packages/b4/c9/43fb98bc60728b76fceee175119a1ff7e5033ed9012d07570e34a2a19a8f/spvcm-0.3.0.tar.gz (5.7MB)\n",
            "\u001b[K     |████████████████████████████████| 5.7MB 30.6MB/s \n",
            "\u001b[?25hCollecting tobler>=0.3.1\n",
            "  Downloading https://files.pythonhosted.org/packages/05/2a/d40c1c9dc8c83f5f87889a8ca4cb252124b11fb26ebf437ee2561e898f25/tobler-0.4.0-py3-none-any.whl\n",
            "Collecting mapclassify>=2.3.0\n",
            "  Downloading https://files.pythonhosted.org/packages/11/80/cd58dc848a93bfb01c4b84f26e3d5d6c64266163ca1e2453c3f6fb291ef7/mapclassify-2.3.0-py3-none-any.whl\n",
            "Collecting splot>=1.1.3\n",
            "  Downloading https://files.pythonhosted.org/packages/83/1c/afb3e3eeeda4eef065f0b3249ca74cbcc44af3bc59ddb5a21b5445753955/splot-1.1.3.tar.gz\n",
            "Requirement already satisfied: urllib3<1.25 in /usr/local/lib/python3.6/dist-packages (from pysal) (1.24.3)\n",
            "Collecting python-dateutil<=2.8.0\n",
            "\u001b[?25l  Downloading https://files.pythonhosted.org/packages/41/17/c62faccbfbd163c7f57f3844689e3a78bae1f403648a6afb1d0866d87fbb/python_dateutil-2.8.0-py2.py3-none-any.whl (226kB)\n",
            "\u001b[K     |████████████████████████████████| 235kB 40.8MB/s \n",
            "\u001b[?25hRequirement already satisfied: pytest in /usr/local/lib/python3.6/dist-packages (from pysal) (3.6.4)\n",
            "Collecting pytest-cov\n",
            "  Downloading https://files.pythonhosted.org/packages/e5/18/401594af67eda194a8b9167208621761927c937db7d60292608342bbac0a/pytest_cov-2.10.1-py2.py3-none-any.whl\n",
            "Requirement already satisfied: coverage in /usr/local/lib/python3.6/dist-packages (from pysal) (3.7.1)\n",
            "Requirement already satisfied: scipy>=0.11 in /usr/local/lib/python3.6/dist-packages (from libpysal>=4.3.0->pysal) (1.4.1)\n",
            "Requirement already satisfied: numpy>=1.3 in /usr/local/lib/python3.6/dist-packages (from libpysal>=4.3.0->pysal) (1.18.5)\n",
            "Requirement already satisfied: pandas in /usr/local/lib/python3.6/dist-packages (from libpysal>=4.3.0->pysal) (1.1.5)\n",
            "Requirement already satisfied: beautifulsoup4 in /usr/local/lib/python3.6/dist-packages (from libpysal>=4.3.0->pysal) (4.6.3)\n",
            "Requirement already satisfied: requests in /usr/local/lib/python3.6/dist-packages (from libpysal>=4.3.0->pysal) (2.23.0)\n",
            "Requirement already satisfied: jinja2 in /usr/local/lib/python3.6/dist-packages (from libpysal>=4.3.0->pysal) (2.11.2)\n",
            "Requirement already satisfied: scikit-learn in /usr/local/lib/python3.6/dist-packages (from esda>=2.3.1->pysal) (0.22.2.post1)\n",
            "Collecting quantecon>=0.4.7\n",
            "\u001b[?25l  Downloading https://files.pythonhosted.org/packages/5d/e3/4fd5f948de917036b5696347b28fa25da7bd7df995e4f9f42db1c3070eb8/quantecon-0.4.8-py3-none-any.whl (230kB)\n",
            "\u001b[K     |████████████████████████████████| 235kB 46.3MB/s \n",
            "\u001b[?25hRequirement already satisfied: matplotlib in /usr/local/lib/python3.6/dist-packages (from pointpats>=2.2.0->pysal) (3.2.2)\n",
            "Collecting opencv-contrib-python>=4.2.0\n",
            "\u001b[?25l  Downloading https://files.pythonhosted.org/packages/b4/ec/a66505cb25704066235369c8a1c1ed8d37b21f260f7b66d2cfa3264f0724/opencv_contrib_python-4.4.0.46-cp36-cp36m-manylinux2014_x86_64.whl (55.7MB)\n",
            "\u001b[K     |████████████████████████████████| 55.7MB 65kB/s \n",
            "\u001b[?25hRequirement already satisfied: geopandas in /usr/local/lib/python3.6/dist-packages (from segregation>=1.3.0->pysal) (0.8.1)\n",
            "Requirement already satisfied: tqdm in /usr/local/lib/python3.6/dist-packages (from segregation>=1.3.0->pysal) (4.41.1)\n",
            "Requirement already satisfied: seaborn in /usr/local/lib/python3.6/dist-packages (from segregation>=1.3.0->pysal) (0.11.0)\n",
            "Collecting rtree\n",
            "\u001b[?25l  Downloading https://files.pythonhosted.org/packages/56/6f/f1e91001d5ad9fa9bed65875152f5a1c7955c5763168cae309546e6e9fda/Rtree-0.9.4.tar.gz (62kB)\n",
            "\u001b[K     |████████████████████████████████| 71kB 8.6MB/s \n",
            "\u001b[31mERROR: Command errored out with exit status 1: python setup.py egg_info Check the logs for full command output.\u001b[0m\n",
            "\u001b[?25h"
          ],
          "name": "stdout"
        }
      ]
    },
    {
      "cell_type": "code",
      "metadata": {
        "colab": {
          "base_uri": "https://localhost:8080/"
        },
        "id": "riJQmiyFXpZj",
        "outputId": "fa3937ab-0874-489b-c9e3-8c1aff42a6ed"
      },
      "source": [
        "!pip install descartes"
      ],
      "execution_count": 2,
      "outputs": [
        {
          "output_type": "stream",
          "text": [
            "Requirement already satisfied: descartes in /usr/local/lib/python3.6/dist-packages (1.1.0)\n",
            "Requirement already satisfied: matplotlib in /usr/local/lib/python3.6/dist-packages (from descartes) (3.2.2)\n",
            "Requirement already satisfied: cycler>=0.10 in /usr/local/lib/python3.6/dist-packages (from matplotlib->descartes) (0.10.0)\n",
            "Requirement already satisfied: numpy>=1.11 in /usr/local/lib/python3.6/dist-packages (from matplotlib->descartes) (1.18.5)\n",
            "Requirement already satisfied: kiwisolver>=1.0.1 in /usr/local/lib/python3.6/dist-packages (from matplotlib->descartes) (1.3.1)\n",
            "Requirement already satisfied: python-dateutil>=2.1 in /usr/local/lib/python3.6/dist-packages (from matplotlib->descartes) (2.8.1)\n",
            "Requirement already satisfied: pyparsing!=2.0.4,!=2.1.2,!=2.1.6,>=2.0.1 in /usr/local/lib/python3.6/dist-packages (from matplotlib->descartes) (2.4.7)\n",
            "Requirement already satisfied: six in /usr/local/lib/python3.6/dist-packages (from cycler>=0.10->matplotlib->descartes) (1.15.0)\n"
          ],
          "name": "stdout"
        }
      ]
    },
    {
      "cell_type": "code",
      "metadata": {
        "id": "UTAcohCBXqDq"
      },
      "source": [
        "import geopandas as gp\n",
        "import pandas as pd\n",
        "import matplotlib.pyplot as plt\n",
        "import matplotlib\n",
        "import pylab\n",
        "import descartes\n",
        "\n",
        "%matplotlib inline\n",
        "\n",
        "plt.style.use('ggplot')\n",
        "pylab.rcParams['figure.figsize'] = (20., 16.)"
      ],
      "execution_count": 3,
      "outputs": []
    },
    {
      "cell_type": "code",
      "metadata": {
        "id": "myCQECunapWb"
      },
      "source": [
        "!mkdir data"
      ],
      "execution_count": 12,
      "outputs": []
    },
    {
      "cell_type": "code",
      "metadata": {
        "colab": {
          "base_uri": "https://localhost:8080/",
          "height": 547
        },
        "id": "byV82MV8Xqj7",
        "outputId": "fbfaa429-d2ec-46d0-af69-bc80a8f743b6"
      },
      "source": [
        "us_states = gp.read_file('/content/data/tl_2019_us_state.shp')\n",
        "\n",
        "us_states.head()"
      ],
      "execution_count": 13,
      "outputs": [
        {
          "output_type": "execute_result",
          "data": {
            "text/html": [
              "<div>\n",
              "<style scoped>\n",
              "    .dataframe tbody tr th:only-of-type {\n",
              "        vertical-align: middle;\n",
              "    }\n",
              "\n",
              "    .dataframe tbody tr th {\n",
              "        vertical-align: top;\n",
              "    }\n",
              "\n",
              "    .dataframe thead th {\n",
              "        text-align: right;\n",
              "    }\n",
              "</style>\n",
              "<table border=\"1\" class=\"dataframe\">\n",
              "  <thead>\n",
              "    <tr style=\"text-align: right;\">\n",
              "      <th></th>\n",
              "      <th>REGION</th>\n",
              "      <th>DIVISION</th>\n",
              "      <th>STATEFP</th>\n",
              "      <th>STATENS</th>\n",
              "      <th>GEOID</th>\n",
              "      <th>STUSPS</th>\n",
              "      <th>NAME</th>\n",
              "      <th>LSAD</th>\n",
              "      <th>MTFCC</th>\n",
              "      <th>FUNCSTAT</th>\n",
              "      <th>ALAND</th>\n",
              "      <th>AWATER</th>\n",
              "      <th>INTPTLAT</th>\n",
              "      <th>INTPTLON</th>\n",
              "      <th>geometry</th>\n",
              "    </tr>\n",
              "  </thead>\n",
              "  <tbody>\n",
              "    <tr>\n",
              "      <th>0</th>\n",
              "      <td>3</td>\n",
              "      <td>5</td>\n",
              "      <td>54</td>\n",
              "      <td>01779805</td>\n",
              "      <td>54</td>\n",
              "      <td>WV</td>\n",
              "      <td>West Virginia</td>\n",
              "      <td>00</td>\n",
              "      <td>G4000</td>\n",
              "      <td>A</td>\n",
              "      <td>62266231560</td>\n",
              "      <td>489271086</td>\n",
              "      <td>+38.6472854</td>\n",
              "      <td>-080.6183274</td>\n",
              "      <td>POLYGON ((-81.74725 39.09538, -81.74635 39.096...</td>\n",
              "    </tr>\n",
              "    <tr>\n",
              "      <th>1</th>\n",
              "      <td>3</td>\n",
              "      <td>5</td>\n",
              "      <td>12</td>\n",
              "      <td>00294478</td>\n",
              "      <td>12</td>\n",
              "      <td>FL</td>\n",
              "      <td>Florida</td>\n",
              "      <td>00</td>\n",
              "      <td>G4000</td>\n",
              "      <td>A</td>\n",
              "      <td>138947364717</td>\n",
              "      <td>31362872853</td>\n",
              "      <td>+28.4574302</td>\n",
              "      <td>-082.4091477</td>\n",
              "      <td>MULTIPOLYGON (((-86.38865 30.99418, -86.38385 ...</td>\n",
              "    </tr>\n",
              "    <tr>\n",
              "      <th>2</th>\n",
              "      <td>2</td>\n",
              "      <td>3</td>\n",
              "      <td>17</td>\n",
              "      <td>01779784</td>\n",
              "      <td>17</td>\n",
              "      <td>IL</td>\n",
              "      <td>Illinois</td>\n",
              "      <td>00</td>\n",
              "      <td>G4000</td>\n",
              "      <td>A</td>\n",
              "      <td>143779863817</td>\n",
              "      <td>6215723896</td>\n",
              "      <td>+40.1028754</td>\n",
              "      <td>-089.1526108</td>\n",
              "      <td>POLYGON ((-91.18529 40.63780, -91.17510 40.643...</td>\n",
              "    </tr>\n",
              "    <tr>\n",
              "      <th>3</th>\n",
              "      <td>2</td>\n",
              "      <td>4</td>\n",
              "      <td>27</td>\n",
              "      <td>00662849</td>\n",
              "      <td>27</td>\n",
              "      <td>MN</td>\n",
              "      <td>Minnesota</td>\n",
              "      <td>00</td>\n",
              "      <td>G4000</td>\n",
              "      <td>A</td>\n",
              "      <td>206230065476</td>\n",
              "      <td>18942261495</td>\n",
              "      <td>+46.3159573</td>\n",
              "      <td>-094.1996043</td>\n",
              "      <td>POLYGON ((-96.78438 46.63050, -96.78434 46.630...</td>\n",
              "    </tr>\n",
              "    <tr>\n",
              "      <th>4</th>\n",
              "      <td>3</td>\n",
              "      <td>5</td>\n",
              "      <td>24</td>\n",
              "      <td>01714934</td>\n",
              "      <td>24</td>\n",
              "      <td>MD</td>\n",
              "      <td>Maryland</td>\n",
              "      <td>00</td>\n",
              "      <td>G4000</td>\n",
              "      <td>A</td>\n",
              "      <td>25151726296</td>\n",
              "      <td>6979340970</td>\n",
              "      <td>+38.9466584</td>\n",
              "      <td>-076.6744939</td>\n",
              "      <td>POLYGON ((-77.45881 39.22027, -77.45866 39.220...</td>\n",
              "    </tr>\n",
              "  </tbody>\n",
              "</table>\n",
              "</div>"
            ],
            "text/plain": [
              "  REGION  ...                                           geometry\n",
              "0      3  ...  POLYGON ((-81.74725 39.09538, -81.74635 39.096...\n",
              "1      3  ...  MULTIPOLYGON (((-86.38865 30.99418, -86.38385 ...\n",
              "2      2  ...  POLYGON ((-91.18529 40.63780, -91.17510 40.643...\n",
              "3      2  ...  POLYGON ((-96.78438 46.63050, -96.78434 46.630...\n",
              "4      3  ...  POLYGON ((-77.45881 39.22027, -77.45866 39.220...\n",
              "\n",
              "[5 rows x 15 columns]"
            ]
          },
          "metadata": {
            "tags": []
          },
          "execution_count": 13
        }
      ]
    },
    {
      "cell_type": "code",
      "metadata": {
        "colab": {
          "base_uri": "https://localhost:8080/"
        },
        "id": "k9FNe4vlYsOG",
        "outputId": "391ff040-313b-48d2-9b60-c736ce4a581c"
      },
      "source": [
        "us_states.crs"
      ],
      "execution_count": 14,
      "outputs": [
        {
          "output_type": "execute_result",
          "data": {
            "text/plain": [
              "<Geographic 2D CRS: EPSG:4269>\n",
              "Name: NAD83\n",
              "Axis Info [ellipsoidal]:\n",
              "- Lat[north]: Geodetic latitude (degree)\n",
              "- Lon[east]: Geodetic longitude (degree)\n",
              "Area of Use:\n",
              "- name: North America - onshore and offshore: Canada - Alberta; British Columbia; Manitoba; New Brunswick; Newfoundland and Labrador; Northwest Territories; Nova Scotia; Nunavut; Ontario; Prince Edward Island; Quebec; Saskatchewan; Yukon. Puerto Rico. United States (USA) - Alabama; Alaska; Arizona; Arkansas; California; Colorado; Connecticut; Delaware; Florida; Georgia; Hawaii; Idaho; Illinois; Indiana; Iowa; Kansas; Kentucky; Louisiana; Maine; Maryland; Massachusetts; Michigan; Minnesota; Mississippi; Missouri; Montana; Nebraska; Nevada; New Hampshire; New Jersey; New Mexico; New York; North Carolina; North Dakota; Ohio; Oklahoma; Oregon; Pennsylvania; Rhode Island; South Carolina; South Dakota; Tennessee; Texas; Utah; Vermont; Virginia; Washington; West Virginia; Wisconsin; Wyoming. US Virgin Islands.  British Virgin Islands.\n",
              "- bounds: (167.65, 14.92, -47.74, 86.46)\n",
              "Datum: North American Datum 1983\n",
              "- Ellipsoid: GRS 1980\n",
              "- Prime Meridian: Greenwich"
            ]
          },
          "metadata": {
            "tags": []
          },
          "execution_count": 14
        }
      ]
    },
    {
      "cell_type": "code",
      "metadata": {
        "colab": {
          "base_uri": "https://localhost:8080/"
        },
        "id": "8JeXYhY2bIG-",
        "outputId": "641cf3f8-ddf6-4855-f160-bd3b107126a0"
      },
      "source": [
        "us_states['geometry'].head()"
      ],
      "execution_count": 15,
      "outputs": [
        {
          "output_type": "execute_result",
          "data": {
            "text/plain": [
              "0    POLYGON ((-81.74725 39.09538, -81.74635 39.096...\n",
              "1    MULTIPOLYGON (((-86.38865 30.99418, -86.38385 ...\n",
              "2    POLYGON ((-91.18529 40.63780, -91.17510 40.643...\n",
              "3    POLYGON ((-96.78438 46.63050, -96.78434 46.630...\n",
              "4    POLYGON ((-77.45881 39.22027, -77.45866 39.220...\n",
              "Name: geometry, dtype: geometry"
            ]
          },
          "metadata": {
            "tags": []
          },
          "execution_count": 15
        }
      ]
    },
    {
      "cell_type": "markdown",
      "metadata": {
        "id": "hJSfJz8Abuw3"
      },
      "source": [
        ". original_crs is the latlon co-ordinates; target_crs is a mercator ('merc') projection; and the third line, to_crs projects the geometry so we can plot it"
      ]
    },
    {
      "cell_type": "code",
      "metadata": {
        "id": "NsqhzIZQbvd-"
      },
      "source": [
        ""
      ],
      "execution_count": null,
      "outputs": []
    }
  ]
}