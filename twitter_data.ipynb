{
  "nbformat": 4,
  "nbformat_minor": 0,
  "metadata": {
    "colab": {
      "name": "twitter data.ipynb",
      "provenance": [],
      "authorship_tag": "ABX9TyPOOw2AZjv9QlGE7jYFu4ZG",
      "include_colab_link": true
    },
    "kernelspec": {
      "name": "python3",
      "display_name": "Python 3"
    }
  },
  "cells": [
    {
      "cell_type": "markdown",
      "metadata": {
        "id": "view-in-github",
        "colab_type": "text"
      },
      "source": [
        "<a href=\"https://colab.research.google.com/github/kristinak15/QM2-Group-4/blob/main/twitter_data.ipynb\" target=\"_parent\"><img src=\"https://colab.research.google.com/assets/colab-badge.svg\" alt=\"Open In Colab\"/></a>"
      ]
    },
    {
      "cell_type": "code",
      "metadata": {
        "id": "p7gWKDCleHE3"
      },
      "source": [
        "import pandas as pd\n",
        "\n",
        "import matplotlib\n",
        "%matplotlib inline\n",
        "\n",
        "import matplotlib.pyplot as plt\n",
        "import numpy as np\n"
      ],
      "execution_count": 2,
      "outputs": []
    },
    {
      "cell_type": "code",
      "metadata": {
        "id": "HVNc8KvueIt4"
      },
      "source": [
        "gm_crops = pd.read_csv('/content/gm_crops.csv')\n",
        "public = pd.read_csv('/content/state of GMOs on social media USA.csv')\n",
        " "
      ],
      "execution_count": 3,
      "outputs": []
    },
    {
      "cell_type": "code",
      "metadata": {
        "id": "RQiWGXBHk4MI"
      },
      "source": [
        "gm_crops.drop(columns='Unnamed: 0',inplace=True)\n",
        "gm_crops = gm_crops.iloc[2860:,]"
      ],
      "execution_count": 4,
      "outputs": []
    },
    {
      "cell_type": "code",
      "metadata": {
        "colab": {
          "base_uri": "https://localhost:8080/",
          "height": 198
        },
        "id": "yuk1pBzqmwrk",
        "outputId": "298c4464-791b-463c-f4ff-66bd2e78fa07"
      },
      "source": [
        "gm_crops.head()"
      ],
      "execution_count": 5,
      "outputs": [
        {
          "output_type": "execute_result",
          "data": {
            "text/html": [
              "<div>\n",
              "<style scoped>\n",
              "    .dataframe tbody tr th:only-of-type {\n",
              "        vertical-align: middle;\n",
              "    }\n",
              "\n",
              "    .dataframe tbody tr th {\n",
              "        vertical-align: top;\n",
              "    }\n",
              "\n",
              "    .dataframe thead th {\n",
              "        text-align: right;\n",
              "    }\n",
              "</style>\n",
              "<table border=\"1\" class=\"dataframe\">\n",
              "  <thead>\n",
              "    <tr style=\"text-align: right;\">\n",
              "      <th></th>\n",
              "      <th>Table</th>\n",
              "      <th>Unit</th>\n",
              "      <th>Variety</th>\n",
              "      <th>Year</th>\n",
              "      <th>Attribute</th>\n",
              "      <th>Value</th>\n",
              "    </tr>\n",
              "  </thead>\n",
              "  <tbody>\n",
              "    <tr>\n",
              "      <th>2860</th>\n",
              "      <td>Genetically engineered (GE) soybean varieties</td>\n",
              "      <td>Percent of all soybeans planted</td>\n",
              "      <td>All GE varieties</td>\n",
              "      <td>2016</td>\n",
              "      <td>Arkansas</td>\n",
              "      <td>96</td>\n",
              "    </tr>\n",
              "    <tr>\n",
              "      <th>2861</th>\n",
              "      <td>Genetically engineered (GE) soybean varieties</td>\n",
              "      <td>Percent of all soybeans planted</td>\n",
              "      <td>All GE varieties</td>\n",
              "      <td>2016</td>\n",
              "      <td>Illinois</td>\n",
              "      <td>94</td>\n",
              "    </tr>\n",
              "    <tr>\n",
              "      <th>2862</th>\n",
              "      <td>Genetically engineered (GE) soybean varieties</td>\n",
              "      <td>Percent of all soybeans planted</td>\n",
              "      <td>All GE varieties</td>\n",
              "      <td>2016</td>\n",
              "      <td>Indiana</td>\n",
              "      <td>92</td>\n",
              "    </tr>\n",
              "    <tr>\n",
              "      <th>2863</th>\n",
              "      <td>Genetically engineered (GE) soybean varieties</td>\n",
              "      <td>Percent of all soybeans planted</td>\n",
              "      <td>All GE varieties</td>\n",
              "      <td>2016</td>\n",
              "      <td>Iowa</td>\n",
              "      <td>97</td>\n",
              "    </tr>\n",
              "    <tr>\n",
              "      <th>2864</th>\n",
              "      <td>Genetically engineered (GE) soybean varieties</td>\n",
              "      <td>Percent of all soybeans planted</td>\n",
              "      <td>All GE varieties</td>\n",
              "      <td>2016</td>\n",
              "      <td>Kansas</td>\n",
              "      <td>95</td>\n",
              "    </tr>\n",
              "  </tbody>\n",
              "</table>\n",
              "</div>"
            ],
            "text/plain": [
              "                                              Table  ... Value\n",
              "2860  Genetically engineered (GE) soybean varieties  ...    96\n",
              "2861  Genetically engineered (GE) soybean varieties  ...    94\n",
              "2862  Genetically engineered (GE) soybean varieties  ...    92\n",
              "2863  Genetically engineered (GE) soybean varieties  ...    97\n",
              "2864  Genetically engineered (GE) soybean varieties  ...    95\n",
              "\n",
              "[5 rows x 6 columns]"
            ]
          },
          "metadata": {
            "tags": []
          },
          "execution_count": 5
        }
      ]
    },
    {
      "cell_type": "code",
      "metadata": {
        "id": "nPjnK7nDm3QK"
      },
      "source": [
        "gm_crops= gm_crops.drop([2908,2909,2910,2911,2912,2913,2914,2915,2916,2917,2918,2919,2920,2921,2922,2923,2924,2925,2926,2927,2928,2929,2930,2931,2932,2933,2934,2935,2936,2937,2938,2939])"
      ],
      "execution_count": 6,
      "outputs": []
    },
    {
      "cell_type": "code",
      "metadata": {
        "colab": {
          "base_uri": "https://localhost:8080/",
          "height": 198
        },
        "id": "dgaZd84unlvg",
        "outputId": "128bea19-e1f2-4be6-a3d5-434da9a6736a"
      },
      "source": [
        "gm_crops.tail()"
      ],
      "execution_count": null,
      "outputs": [
        {
          "output_type": "execute_result",
          "data": {
            "text/html": [
              "<div>\n",
              "<style scoped>\n",
              "    .dataframe tbody tr th:only-of-type {\n",
              "        vertical-align: middle;\n",
              "    }\n",
              "\n",
              "    .dataframe tbody tr th {\n",
              "        vertical-align: top;\n",
              "    }\n",
              "\n",
              "    .dataframe thead th {\n",
              "        text-align: right;\n",
              "    }\n",
              "</style>\n",
              "<table border=\"1\" class=\"dataframe\">\n",
              "  <thead>\n",
              "    <tr style=\"text-align: right;\">\n",
              "      <th></th>\n",
              "      <th>Table</th>\n",
              "      <th>Unit</th>\n",
              "      <th>Variety</th>\n",
              "      <th>Year</th>\n",
              "      <th>Attribute</th>\n",
              "      <th>Value</th>\n",
              "    </tr>\n",
              "  </thead>\n",
              "  <tbody>\n",
              "    <tr>\n",
              "      <th>2903</th>\n",
              "      <td>Genetically engineered (GE) soybean varieties</td>\n",
              "      <td>Percent of all soybeans planted</td>\n",
              "      <td>All GE varieties</td>\n",
              "      <td>2018</td>\n",
              "      <td>Ohio</td>\n",
              "      <td>91</td>\n",
              "    </tr>\n",
              "    <tr>\n",
              "      <th>2904</th>\n",
              "      <td>Genetically engineered (GE) soybean varieties</td>\n",
              "      <td>Percent of all soybeans planted</td>\n",
              "      <td>All GE varieties</td>\n",
              "      <td>2018</td>\n",
              "      <td>South Dakota</td>\n",
              "      <td>97</td>\n",
              "    </tr>\n",
              "    <tr>\n",
              "      <th>2905</th>\n",
              "      <td>Genetically engineered (GE) soybean varieties</td>\n",
              "      <td>Percent of all soybeans planted</td>\n",
              "      <td>All GE varieties</td>\n",
              "      <td>2018</td>\n",
              "      <td>Wisconsin</td>\n",
              "      <td>92</td>\n",
              "    </tr>\n",
              "    <tr>\n",
              "      <th>2906</th>\n",
              "      <td>Genetically engineered (GE) soybean varieties</td>\n",
              "      <td>Percent of all soybeans planted</td>\n",
              "      <td>All GE varieties</td>\n",
              "      <td>2018</td>\n",
              "      <td>Other States</td>\n",
              "      <td>94</td>\n",
              "    </tr>\n",
              "    <tr>\n",
              "      <th>2907</th>\n",
              "      <td>Genetically engineered (GE) soybean varieties</td>\n",
              "      <td>Percent of all soybeans planted</td>\n",
              "      <td>All GE varieties</td>\n",
              "      <td>2018</td>\n",
              "      <td>U.S.</td>\n",
              "      <td>94</td>\n",
              "    </tr>\n",
              "  </tbody>\n",
              "</table>\n",
              "</div>"
            ],
            "text/plain": [
              "                                              Table  ... Value\n",
              "2903  Genetically engineered (GE) soybean varieties  ...    91\n",
              "2904  Genetically engineered (GE) soybean varieties  ...    97\n",
              "2905  Genetically engineered (GE) soybean varieties  ...    92\n",
              "2906  Genetically engineered (GE) soybean varieties  ...    94\n",
              "2907  Genetically engineered (GE) soybean varieties  ...    94\n",
              "\n",
              "[5 rows x 6 columns]"
            ]
          },
          "metadata": {
            "tags": []
          },
          "execution_count": 8
        }
      ]
    },
    {
      "cell_type": "code",
      "metadata": {
        "id": "jeHm1vHrZnHY"
      },
      "source": [
        "public1 = public.drop(columns=['health & safety','enviro.','ag.','reg. & labeling '])\n",
        "public1 = public1.drop([0,2,3,5,7,8,9,10,12,13,14,15,18,19,22,23,24,25,26,28,30,32,33,34,35,36,37,38,39,40,41,42,43,44,46,47,49,50])\n",
        "public1.sort_values(by=['negative (%)'],inplace=True)"
      ],
      "execution_count": 37,
      "outputs": []
    },
    {
      "cell_type": "code",
      "metadata": {
        "colab": {
          "base_uri": "https://localhost:8080/",
          "height": 351
        },
        "id": "k5wZlgzfhdaW",
        "outputId": "733a9218-5c9a-4db0-9ff6-1eecb6284d58"
      },
      "source": [
        "public1.plot.bar(x='state', stacked=True,color={\"negative (%)\": \"red\", \"positive\": \"green\",\"neutral\":\"gray\"})\n",
        "plt.xlabel('State')\n",
        "plt.ylabel('Sentiment of tweets (%)')\n"
      ],
      "execution_count": 38,
      "outputs": [
        {
          "output_type": "execute_result",
          "data": {
            "text/plain": [
              "Text(0, 0.5, 'Sentiment of tweets (%)')"
            ]
          },
          "metadata": {
            "tags": []
          },
          "execution_count": 38
        },
        {
          "output_type": "display_data",
          "data": {
            "image/png": "[encoded data removed]",
            "text/plain": [
              "<Figure size 432x288 with 1 Axes>"
            ]
          },
          "metadata": {
            "tags": [],
            "needs_background": "light"
          }
        }
      ]
    }
  ]
}