{
  "nbformat": 4,
  "nbformat_minor": 0,
  "metadata": {
    "colab": {
      "name": "GM corn analysis.ipynb",
      "provenance": [],
      "authorship_tag": "ABX9TyNvTTtRJjfK/78ZgrmDVj3R",
      "include_colab_link": true
    },
    "kernelspec": {
      "name": "python3",
      "display_name": "Python 3"
    }
  },
  "cells": [
    {
      "cell_type": "markdown",
      "metadata": {
        "id": "view-in-github",
        "colab_type": "text"
      },
      "source": [
        "<a href=\"https://colab.research.google.com/github/kristinak15/QM2-Group-4/blob/main/GM_corn_analysis.ipynb\" target=\"_parent\"><img src=\"https://colab.research.google.com/assets/colab-badge.svg\" alt=\"Open In Colab\"/></a>"
      ]
    },
    {
      "cell_type": "code",
      "metadata": {
        "id": "jye0zVSUWVWs"
      },
      "source": [
        "import pandas as pd\n",
        "\n",
        "import matplotlib\n",
        "%matplotlib inline\n",
        "\n",
        "import matplotlib.pyplot as plt\n",
        "import numpy as np"
      ],
      "execution_count": 1,
      "outputs": []
    },
    {
      "cell_type": "code",
      "metadata": {
        "id": "X5jJxnj6fQfY"
      },
      "source": [
        "gm_crops = pd.read_csv('/content/GM crops %.csv')"
      ],
      "execution_count": 3,
      "outputs": []
    },
    {
      "cell_type": "code",
      "metadata": {
        "id": "h48UBEB2faV8"
      },
      "source": [
        "corn = pd.read_csv('/content/final corn data csv.csv')"
      ],
      "execution_count": 33,
      "outputs": []
    },
    {
      "cell_type": "code",
      "metadata": {
        "id": "PLdeBFkZfy86"
      },
      "source": [
        "gdp_agri = pd.read_csv('/content/real gdp by state agriculture csv.csv')"
      ],
      "execution_count": 83,
      "outputs": []
    },
    {
      "cell_type": "code",
      "metadata": {
        "colab": {
          "base_uri": "https://localhost:8080/",
          "height": 289
        },
        "id": "4amv55kAf6zQ",
        "outputId": "1c2395fe-9027-4253-a198-b7250c5074b3"
      },
      "source": [
        "gm_crops.head()"
      ],
      "execution_count": 6,
      "outputs": [
        {
          "output_type": "execute_result",
          "data": {
            "text/html": [
              "<div>\n",
              "<style scoped>\n",
              "    .dataframe tbody tr th:only-of-type {\n",
              "        vertical-align: middle;\n",
              "    }\n",
              "\n",
              "    .dataframe tbody tr th {\n",
              "        vertical-align: top;\n",
              "    }\n",
              "\n",
              "    .dataframe thead th {\n",
              "        text-align: right;\n",
              "    }\n",
              "</style>\n",
              "<table border=\"1\" class=\"dataframe\">\n",
              "  <thead>\n",
              "    <tr style=\"text-align: right;\">\n",
              "      <th></th>\n",
              "      <th>Table</th>\n",
              "      <th>Unit</th>\n",
              "      <th>Variety</th>\n",
              "      <th>Year</th>\n",
              "      <th>Attribute</th>\n",
              "      <th>Value</th>\n",
              "    </tr>\n",
              "  </thead>\n",
              "  <tbody>\n",
              "    <tr>\n",
              "      <th>0</th>\n",
              "      <td>Genetically engineered (GE) corn varieties</td>\n",
              "      <td>Percent of corn planted</td>\n",
              "      <td>Insect-resistant (Bt) only                    ...</td>\n",
              "      <td>2000</td>\n",
              "      <td>Illinois</td>\n",
              "      <td>13.00</td>\n",
              "    </tr>\n",
              "    <tr>\n",
              "      <th>1</th>\n",
              "      <td>Genetically engineered (GE) corn varieties</td>\n",
              "      <td>Percent of corn planted</td>\n",
              "      <td>Insect-resistant (Bt) only                    ...</td>\n",
              "      <td>2000</td>\n",
              "      <td>Indiana</td>\n",
              "      <td>7.00</td>\n",
              "    </tr>\n",
              "    <tr>\n",
              "      <th>2</th>\n",
              "      <td>Genetically engineered (GE) corn varieties</td>\n",
              "      <td>Percent of corn planted</td>\n",
              "      <td>Insect-resistant (Bt) only                    ...</td>\n",
              "      <td>2000</td>\n",
              "      <td>Iowa</td>\n",
              "      <td>23.00</td>\n",
              "    </tr>\n",
              "    <tr>\n",
              "      <th>3</th>\n",
              "      <td>Genetically engineered (GE) corn varieties</td>\n",
              "      <td>Percent of corn planted</td>\n",
              "      <td>Insect-resistant (Bt) only                    ...</td>\n",
              "      <td>2000</td>\n",
              "      <td>Kansas</td>\n",
              "      <td>25.00</td>\n",
              "    </tr>\n",
              "    <tr>\n",
              "      <th>4</th>\n",
              "      <td>Genetically engineered (GE) corn varieties</td>\n",
              "      <td>Percent of corn planted</td>\n",
              "      <td>Insect-resistant (Bt) only                    ...</td>\n",
              "      <td>2000</td>\n",
              "      <td>Michigan</td>\n",
              "      <td>8.00</td>\n",
              "    </tr>\n",
              "  </tbody>\n",
              "</table>\n",
              "</div>"
            ],
            "text/plain": [
              "                                        Table  ...  Value\n",
              "0  Genetically engineered (GE) corn varieties  ...  13.00\n",
              "1  Genetically engineered (GE) corn varieties  ...   7.00\n",
              "2  Genetically engineered (GE) corn varieties  ...  23.00\n",
              "3  Genetically engineered (GE) corn varieties  ...  25.00\n",
              "4  Genetically engineered (GE) corn varieties  ...   8.00\n",
              "\n",
              "[5 rows x 6 columns]"
            ]
          },
          "metadata": {
            "tags": []
          },
          "execution_count": 6
        }
      ]
    },
    {
      "cell_type": "code",
      "metadata": {
        "id": "jv1HVkwqgZzs"
      },
      "source": [
        "#gm_crops=gm_crops.drop(columns='Table')"
      ],
      "execution_count": null,
      "outputs": []
    },
    {
      "cell_type": "code",
      "metadata": {
        "id": "ltkc2shogG89"
      },
      "source": [
        "gm_crops[\"Value\"].replace({\".\": \"0\"}, inplace=True)\n",
        "gm_crops[\"Value\"].replace({\"*\": \"0\"}, inplace=True)"
      ],
      "execution_count": 9,
      "outputs": []
    },
    {
      "cell_type": "code",
      "metadata": {
        "colab": {
          "base_uri": "https://localhost:8080/"
        },
        "id": "EaUIZ0IGgRB1",
        "outputId": "57bb8b60-2841-4c7c-b773-6046f4f54357"
      },
      "source": [
        "gm_crops.dtypes"
      ],
      "execution_count": 10,
      "outputs": [
        {
          "output_type": "execute_result",
          "data": {
            "text/plain": [
              "Unit         object\n",
              "Variety      object\n",
              "Year          int64\n",
              "Attribute    object\n",
              "Value        object\n",
              "dtype: object"
            ]
          },
          "metadata": {
            "tags": []
          },
          "execution_count": 10
        }
      ]
    },
    {
      "cell_type": "code",
      "metadata": {
        "id": "Kbcw6Em-gmcS"
      },
      "source": [
        "gm_crops[\"Value\"] = gm_crops[\"Value\"].astype(float).astype(int)"
      ],
      "execution_count": 13,
      "outputs": []
    },
    {
      "cell_type": "code",
      "metadata": {
        "colab": {
          "base_uri": "https://localhost:8080/"
        },
        "id": "lmyxeapjgtmw",
        "outputId": "cc924cf6-f69f-442d-d1b8-fdc448329d02"
      },
      "source": [
        "gm_crops.dtypes"
      ],
      "execution_count": 14,
      "outputs": [
        {
          "output_type": "execute_result",
          "data": {
            "text/plain": [
              "Unit         object\n",
              "Variety      object\n",
              "Year          int64\n",
              "Attribute    object\n",
              "Value         int64\n",
              "dtype: object"
            ]
          },
          "metadata": {
            "tags": []
          },
          "execution_count": 14
        }
      ]
    },
    {
      "cell_type": "code",
      "metadata": {
        "colab": {
          "base_uri": "https://localhost:8080/",
          "height": 221
        },
        "id": "5ekP3lxbgzLu",
        "outputId": "bd63f1b0-9c76-49eb-ae38-5ccbb293e66c"
      },
      "source": [
        "corn.head()"
      ],
      "execution_count": 34,
      "outputs": [
        {
          "output_type": "execute_result",
          "data": {
            "text/html": [
              "<div>\n",
              "<style scoped>\n",
              "    .dataframe tbody tr th:only-of-type {\n",
              "        vertical-align: middle;\n",
              "    }\n",
              "\n",
              "    .dataframe tbody tr th {\n",
              "        vertical-align: top;\n",
              "    }\n",
              "\n",
              "    .dataframe thead th {\n",
              "        text-align: right;\n",
              "    }\n",
              "</style>\n",
              "<table border=\"1\" class=\"dataframe\">\n",
              "  <thead>\n",
              "    <tr style=\"text-align: right;\">\n",
              "      <th></th>\n",
              "      <th>Year</th>\n",
              "      <th>State</th>\n",
              "      <th>Unnamed: 2</th>\n",
              "      <th>Area planted</th>\n",
              "      <th>Area harvested for grain</th>\n",
              "      <th>Yield</th>\n",
              "      <th>Production</th>\n",
              "    </tr>\n",
              "  </thead>\n",
              "  <tbody>\n",
              "    <tr>\n",
              "      <th>0</th>\n",
              "      <td>2005</td>\n",
              "      <td>Alabama</td>\n",
              "      <td>NaN</td>\n",
              "      <td>220</td>\n",
              "      <td>200</td>\n",
              "      <td>119</td>\n",
              "      <td>23800</td>\n",
              "    </tr>\n",
              "    <tr>\n",
              "      <th>1</th>\n",
              "      <td>2005</td>\n",
              "      <td>Arizona</td>\n",
              "      <td>NaN</td>\n",
              "      <td>50</td>\n",
              "      <td>22</td>\n",
              "      <td>195</td>\n",
              "      <td>4290</td>\n",
              "    </tr>\n",
              "    <tr>\n",
              "      <th>2</th>\n",
              "      <td>2005</td>\n",
              "      <td>Arkansas</td>\n",
              "      <td>NaN</td>\n",
              "      <td>240</td>\n",
              "      <td>230</td>\n",
              "      <td>131</td>\n",
              "      <td>30130</td>\n",
              "    </tr>\n",
              "    <tr>\n",
              "      <th>3</th>\n",
              "      <td>2005</td>\n",
              "      <td>California</td>\n",
              "      <td>NaN</td>\n",
              "      <td>560</td>\n",
              "      <td>130</td>\n",
              "      <td>172</td>\n",
              "      <td>22360</td>\n",
              "    </tr>\n",
              "    <tr>\n",
              "      <th>4</th>\n",
              "      <td>2005</td>\n",
              "      <td>Colorado</td>\n",
              "      <td>NaN</td>\n",
              "      <td>1100</td>\n",
              "      <td>950</td>\n",
              "      <td>148</td>\n",
              "      <td>140600</td>\n",
              "    </tr>\n",
              "  </tbody>\n",
              "</table>\n",
              "</div>"
            ],
            "text/plain": [
              "   Year       State  Unnamed: 2  ...  Area harvested for grain Yield Production\n",
              "0  2005     Alabama         NaN  ...                       200   119      23800\n",
              "1  2005     Arizona         NaN  ...                        22   195       4290\n",
              "2  2005   Arkansas          NaN  ...                       230   131      30130\n",
              "3  2005  California         NaN  ...                       130   172      22360\n",
              "4  2005   Colorado          NaN  ...                       950   148     140600\n",
              "\n",
              "[5 rows x 7 columns]"
            ]
          },
          "metadata": {
            "tags": []
          },
          "execution_count": 34
        }
      ]
    },
    {
      "cell_type": "code",
      "metadata": {
        "id": "_Lkqd1J8g2Rl"
      },
      "source": [
        "corn=corn.drop(columns='Unnamed: 2')"
      ],
      "execution_count": 35,
      "outputs": []
    },
    {
      "cell_type": "code",
      "metadata": {
        "colab": {
          "base_uri": "https://localhost:8080/"
        },
        "id": "N9HqLCaMhchw",
        "outputId": "3d76ec41-3095-4c6e-fe85-919ee1386691"
      },
      "source": [
        "corn.dtypes"
      ],
      "execution_count": 36,
      "outputs": [
        {
          "output_type": "execute_result",
          "data": {
            "text/plain": [
              "Year                         int64\n",
              "State                       object\n",
              "Area planted                 int64\n",
              "Area harvested for grain    object\n",
              "Yield                       object\n",
              "Production                  object\n",
              "dtype: object"
            ]
          },
          "metadata": {
            "tags": []
          },
          "execution_count": 36
        }
      ]
    },
    {
      "cell_type": "code",
      "metadata": {
        "id": "X8B2z5UkiEd3"
      },
      "source": [
        "corn[\"Area harvested for grain\"].replace({\"(NA)\": \"0\"}, inplace=True) \n",
        "corn[\"Area harvested for grain\"].replace({\"\": \"0\"}, inplace=True) \n",
        "corn[\"Yield\"].replace({\"(NA)\": \"0\"}, inplace=True) \n",
        "corn[\"Yield\"].replace({\"(NA)\": \"0\"}, inplace=True) \n",
        "corn[\"Production\"].replace({\"(NA)\": \"0\"}, inplace=True) \n",
        "corn[\"Production\"].replace({\"\": \"0\"}, inplace=True)\n"
      ],
      "execution_count": 39,
      "outputs": []
    },
    {
      "cell_type": "markdown",
      "metadata": {
        "id": "bqJeFWOokGwl"
      },
      "source": [
        "corn[\"Area harvested for grain\"].replace({\"(NA)\": \"0\"}, inplace=True)\n",
        "corn[\"Area harvested for grain\"].replace({\"\": \"0\"}, inplace=True)\n",
        "corn[\"Yield\"].replace({\"(NA)\": \"0\"}, inplace=True)\n",
        "corn[\"Yield\"].replace({\"(NA)\": \"0\"}, inplace=True)\n",
        "corn[\"Production\"].replace({\"(NA)\": \"0\"}, inplace=True)\n",
        "corn[\"Production\"].replace({\"\": \"0\"}, inplace=True)"
      ]
    },
    {
      "cell_type": "markdown",
      "metadata": {
        "id": "uduhd-IKrX3R"
      },
      "source": [
        "corn[\"Area harvested for grain\"] = corn[\"Area harvested for grain\"].astype(float).astype(int)\n",
        "corn[\"Yield\"] = corn[\"Yield\"].astype(float).astype(int)\n",
        "corn[\"Production\"] = corn[\"Production\"].astype(float).astype(int)"
      ]
    },
    {
      "cell_type": "code",
      "metadata": {
        "id": "x-NTQBWvqNTl"
      },
      "source": [
        "corn[\"Area harvested for grain\"].replace({\"NA\": \"0\"}, inplace=True) "
      ],
      "execution_count": 41,
      "outputs": []
    },
    {
      "cell_type": "code",
      "metadata": {
        "id": "dtkJY7OaqW4H"
      },
      "source": [
        "corn[\"Area harvested for grain\"].replace({\"inf\": \"0\"}, inplace=True) "
      ],
      "execution_count": 42,
      "outputs": []
    },
    {
      "cell_type": "code",
      "metadata": {
        "id": "hulCE3-grIoN"
      },
      "source": [
        "corn = corn.fillna(0)"
      ],
      "execution_count": 52,
      "outputs": []
    },
    {
      "cell_type": "code",
      "metadata": {
        "colab": {
          "base_uri": "https://localhost:8080/"
        },
        "id": "Jt8_t3GRr9bg",
        "outputId": "77da0269-ef20-4930-aea0-e18850df73f0"
      },
      "source": [
        "corn[\"Area harvested for grain\"].astype(float).astype(int)"
      ],
      "execution_count": 53,
      "outputs": [
        {
          "output_type": "execute_result",
          "data": {
            "text/plain": [
              "0        200\n",
              "1         22\n",
              "2        230\n",
              "3        130\n",
              "4        950\n",
              "       ...  \n",
              "730       90\n",
              "731       38\n",
              "732     2680\n",
              "733       67\n",
              "734    81482\n",
              "Name: Area harvested for grain, Length: 735, dtype: int64"
            ]
          },
          "metadata": {
            "tags": []
          },
          "execution_count": 53
        }
      ]
    },
    {
      "cell_type": "code",
      "metadata": {
        "id": "I7lPg7fFr_S9"
      },
      "source": [
        "corn[\"Yield\"] = corn[\"Yield\"].astype(float).astype(int)\n",
        "corn[\"Production\"] = corn[\"Production\"].astype(float).astype(int)"
      ],
      "execution_count": 54,
      "outputs": []
    },
    {
      "cell_type": "code",
      "metadata": {
        "colab": {
          "base_uri": "https://localhost:8080/",
          "height": 204
        },
        "id": "1AfSEfkvsHmk",
        "outputId": "4b7f3ba6-057c-49b1-8c90-c676a6eb2dcf"
      },
      "source": [
        "gm_crops.head()"
      ],
      "execution_count": 55,
      "outputs": [
        {
          "output_type": "execute_result",
          "data": {
            "text/html": [
              "<div>\n",
              "<style scoped>\n",
              "    .dataframe tbody tr th:only-of-type {\n",
              "        vertical-align: middle;\n",
              "    }\n",
              "\n",
              "    .dataframe tbody tr th {\n",
              "        vertical-align: top;\n",
              "    }\n",
              "\n",
              "    .dataframe thead th {\n",
              "        text-align: right;\n",
              "    }\n",
              "</style>\n",
              "<table border=\"1\" class=\"dataframe\">\n",
              "  <thead>\n",
              "    <tr style=\"text-align: right;\">\n",
              "      <th></th>\n",
              "      <th>Unit</th>\n",
              "      <th>Variety</th>\n",
              "      <th>Year</th>\n",
              "      <th>Attribute</th>\n",
              "      <th>Value</th>\n",
              "    </tr>\n",
              "  </thead>\n",
              "  <tbody>\n",
              "    <tr>\n",
              "      <th>0</th>\n",
              "      <td>Percent of corn planted</td>\n",
              "      <td>Insect-resistant (Bt) only                    ...</td>\n",
              "      <td>2000</td>\n",
              "      <td>Illinois</td>\n",
              "      <td>13</td>\n",
              "    </tr>\n",
              "    <tr>\n",
              "      <th>1</th>\n",
              "      <td>Percent of corn planted</td>\n",
              "      <td>Insect-resistant (Bt) only                    ...</td>\n",
              "      <td>2000</td>\n",
              "      <td>Indiana</td>\n",
              "      <td>7</td>\n",
              "    </tr>\n",
              "    <tr>\n",
              "      <th>2</th>\n",
              "      <td>Percent of corn planted</td>\n",
              "      <td>Insect-resistant (Bt) only                    ...</td>\n",
              "      <td>2000</td>\n",
              "      <td>Iowa</td>\n",
              "      <td>23</td>\n",
              "    </tr>\n",
              "    <tr>\n",
              "      <th>3</th>\n",
              "      <td>Percent of corn planted</td>\n",
              "      <td>Insect-resistant (Bt) only                    ...</td>\n",
              "      <td>2000</td>\n",
              "      <td>Kansas</td>\n",
              "      <td>25</td>\n",
              "    </tr>\n",
              "    <tr>\n",
              "      <th>4</th>\n",
              "      <td>Percent of corn planted</td>\n",
              "      <td>Insect-resistant (Bt) only                    ...</td>\n",
              "      <td>2000</td>\n",
              "      <td>Michigan</td>\n",
              "      <td>8</td>\n",
              "    </tr>\n",
              "  </tbody>\n",
              "</table>\n",
              "</div>"
            ],
            "text/plain": [
              "                      Unit  ... Value\n",
              "0  Percent of corn planted  ...    13\n",
              "1  Percent of corn planted  ...     7\n",
              "2  Percent of corn planted  ...    23\n",
              "3  Percent of corn planted  ...    25\n",
              "4  Percent of corn planted  ...     8\n",
              "\n",
              "[5 rows x 5 columns]"
            ]
          },
          "metadata": {
            "tags": []
          },
          "execution_count": 55
        }
      ]
    },
    {
      "cell_type": "code",
      "metadata": {
        "id": "XwwT50E0sPa3"
      },
      "source": [
        "gm_corn = gm_crops[(gm_crops['Unit']=='Percent of corn planted')&(gm_crops['Variety']=='All GE varieties')]"
      ],
      "execution_count": 56,
      "outputs": []
    },
    {
      "cell_type": "code",
      "metadata": {
        "colab": {
          "base_uri": "https://localhost:8080/",
          "height": 204
        },
        "id": "Ml76j9WcstcA",
        "outputId": "d2185001-709e-4e4f-d288-48d691226e65"
      },
      "source": [
        "gm_corn.head()"
      ],
      "execution_count": 57,
      "outputs": [
        {
          "output_type": "execute_result",
          "data": {
            "text/html": [
              "<div>\n",
              "<style scoped>\n",
              "    .dataframe tbody tr th:only-of-type {\n",
              "        vertical-align: middle;\n",
              "    }\n",
              "\n",
              "    .dataframe tbody tr th {\n",
              "        vertical-align: top;\n",
              "    }\n",
              "\n",
              "    .dataframe thead th {\n",
              "        text-align: right;\n",
              "    }\n",
              "</style>\n",
              "<table border=\"1\" class=\"dataframe\">\n",
              "  <thead>\n",
              "    <tr style=\"text-align: right;\">\n",
              "      <th></th>\n",
              "      <th>Unit</th>\n",
              "      <th>Variety</th>\n",
              "      <th>Year</th>\n",
              "      <th>Attribute</th>\n",
              "      <th>Value</th>\n",
              "    </tr>\n",
              "  </thead>\n",
              "  <tbody>\n",
              "    <tr>\n",
              "      <th>945</th>\n",
              "      <td>Percent of corn planted</td>\n",
              "      <td>All GE varieties</td>\n",
              "      <td>2000</td>\n",
              "      <td>Illinois</td>\n",
              "      <td>17</td>\n",
              "    </tr>\n",
              "    <tr>\n",
              "      <th>946</th>\n",
              "      <td>Percent of corn planted</td>\n",
              "      <td>All GE varieties</td>\n",
              "      <td>2000</td>\n",
              "      <td>Indiana</td>\n",
              "      <td>11</td>\n",
              "    </tr>\n",
              "    <tr>\n",
              "      <th>947</th>\n",
              "      <td>Percent of corn planted</td>\n",
              "      <td>All GE varieties</td>\n",
              "      <td>2000</td>\n",
              "      <td>Iowa</td>\n",
              "      <td>30</td>\n",
              "    </tr>\n",
              "    <tr>\n",
              "      <th>948</th>\n",
              "      <td>Percent of corn planted</td>\n",
              "      <td>All GE varieties</td>\n",
              "      <td>2000</td>\n",
              "      <td>Kansas</td>\n",
              "      <td>33</td>\n",
              "    </tr>\n",
              "    <tr>\n",
              "      <th>949</th>\n",
              "      <td>Percent of corn planted</td>\n",
              "      <td>All GE varieties</td>\n",
              "      <td>2000</td>\n",
              "      <td>Michigan</td>\n",
              "      <td>12</td>\n",
              "    </tr>\n",
              "  </tbody>\n",
              "</table>\n",
              "</div>"
            ],
            "text/plain": [
              "                        Unit           Variety  Year Attribute  Value\n",
              "945  Percent of corn planted  All GE varieties  2000  Illinois     17\n",
              "946  Percent of corn planted  All GE varieties  2000   Indiana     11\n",
              "947  Percent of corn planted  All GE varieties  2000      Iowa     30\n",
              "948  Percent of corn planted  All GE varieties  2000    Kansas     33\n",
              "949  Percent of corn planted  All GE varieties  2000  Michigan     12"
            ]
          },
          "metadata": {
            "tags": []
          },
          "execution_count": 57
        }
      ]
    },
    {
      "cell_type": "code",
      "metadata": {
        "colab": {
          "base_uri": "https://localhost:8080/"
        },
        "id": "qUsOdQgdszUj",
        "outputId": "9b9d89a8-ce1b-4b94-e05d-1796dbffa31c"
      },
      "source": [
        "gm_corn[\"Attribute\"].replace({\"U.S.\": \"United States\"}, inplace=True) "
      ],
      "execution_count": 60,
      "outputs": [
        {
          "output_type": "stream",
          "text": [
            "/usr/local/lib/python3.6/dist-packages/pandas/core/series.py:4581: SettingWithCopyWarning: \n",
            "A value is trying to be set on a copy of a slice from a DataFrame\n",
            "\n",
            "See the caveats in the documentation: https://pandas.pydata.org/pandas-docs/stable/user_guide/indexing.html#returning-a-view-versus-a-copy\n",
            "  method=method,\n"
          ],
          "name": "stderr"
        }
      ]
    },
    {
      "cell_type": "code",
      "metadata": {
        "colab": {
          "base_uri": "https://localhost:8080/"
        },
        "id": "MJ9iABYmtKJ_",
        "outputId": "71b4a1e5-0d8e-4791-9b67-cd3b4c9628ab"
      },
      "source": [
        "gm_corn[\"Attribute\"].unique()"
      ],
      "execution_count": 62,
      "outputs": [
        {
          "output_type": "execute_result",
          "data": {
            "text/plain": [
              "array(['Illinois', 'Indiana', 'Iowa', 'Kansas', 'Michigan', 'Minnesota',\n",
              "       'Missouri', 'Nebraska', 'North Dakota', 'Ohio', 'South Dakota',\n",
              "       'Texas', 'Wisconsin', 'Other States', 'United States'],\n",
              "      dtype=object)"
            ]
          },
          "metadata": {
            "tags": []
          },
          "execution_count": 62
        }
      ]
    },
    {
      "cell_type": "code",
      "metadata": {
        "id": "JmMzSLxGtRVI"
      },
      "source": [
        "corn_table = corn.merge(gm_corn, how='inner', left_on=['Year', 'State'], right_on=['Year', 'Attribute'])"
      ],
      "execution_count": 63,
      "outputs": []
    },
    {
      "cell_type": "code",
      "metadata": {
        "colab": {
          "base_uri": "https://localhost:8080/",
          "height": 306
        },
        "id": "L9yRtnHSt0K9",
        "outputId": "46fa8aec-35f6-444e-8543-1dcfec411716"
      },
      "source": [
        "corn_table.head()"
      ],
      "execution_count": 64,
      "outputs": [
        {
          "output_type": "execute_result",
          "data": {
            "text/html": [
              "<div>\n",
              "<style scoped>\n",
              "    .dataframe tbody tr th:only-of-type {\n",
              "        vertical-align: middle;\n",
              "    }\n",
              "\n",
              "    .dataframe tbody tr th {\n",
              "        vertical-align: top;\n",
              "    }\n",
              "\n",
              "    .dataframe thead th {\n",
              "        text-align: right;\n",
              "    }\n",
              "</style>\n",
              "<table border=\"1\" class=\"dataframe\">\n",
              "  <thead>\n",
              "    <tr style=\"text-align: right;\">\n",
              "      <th></th>\n",
              "      <th>Year</th>\n",
              "      <th>State</th>\n",
              "      <th>Area planted</th>\n",
              "      <th>Area harvested for grain</th>\n",
              "      <th>Yield</th>\n",
              "      <th>Production</th>\n",
              "      <th>Unit</th>\n",
              "      <th>Variety</th>\n",
              "      <th>Attribute</th>\n",
              "      <th>Value</th>\n",
              "    </tr>\n",
              "  </thead>\n",
              "  <tbody>\n",
              "    <tr>\n",
              "      <th>0</th>\n",
              "      <td>2005</td>\n",
              "      <td>Indiana</td>\n",
              "      <td>5900</td>\n",
              "      <td>5770</td>\n",
              "      <td>154</td>\n",
              "      <td>888580</td>\n",
              "      <td>Percent of corn planted</td>\n",
              "      <td>All GE varieties</td>\n",
              "      <td>Indiana</td>\n",
              "      <td>26</td>\n",
              "    </tr>\n",
              "    <tr>\n",
              "      <th>1</th>\n",
              "      <td>2005</td>\n",
              "      <td>Michigan</td>\n",
              "      <td>2250</td>\n",
              "      <td>2010</td>\n",
              "      <td>143</td>\n",
              "      <td>287430</td>\n",
              "      <td>Percent of corn planted</td>\n",
              "      <td>All GE varieties</td>\n",
              "      <td>Michigan</td>\n",
              "      <td>40</td>\n",
              "    </tr>\n",
              "    <tr>\n",
              "      <th>2</th>\n",
              "      <td>2005</td>\n",
              "      <td>Minnesota</td>\n",
              "      <td>7300</td>\n",
              "      <td>6850</td>\n",
              "      <td>174</td>\n",
              "      <td>1191900</td>\n",
              "      <td>Percent of corn planted</td>\n",
              "      <td>All GE varieties</td>\n",
              "      <td>Minnesota</td>\n",
              "      <td>66</td>\n",
              "    </tr>\n",
              "    <tr>\n",
              "      <th>3</th>\n",
              "      <td>2005</td>\n",
              "      <td>Nebraska</td>\n",
              "      <td>8500</td>\n",
              "      <td>8250</td>\n",
              "      <td>154</td>\n",
              "      <td>1270500</td>\n",
              "      <td>Percent of corn planted</td>\n",
              "      <td>All GE varieties</td>\n",
              "      <td>Nebraska</td>\n",
              "      <td>69</td>\n",
              "    </tr>\n",
              "    <tr>\n",
              "      <th>4</th>\n",
              "      <td>2005</td>\n",
              "      <td>United States</td>\n",
              "      <td>81779</td>\n",
              "      <td>75117</td>\n",
              "      <td>148</td>\n",
              "      <td>11114082</td>\n",
              "      <td>Percent of corn planted</td>\n",
              "      <td>All GE varieties</td>\n",
              "      <td>United States</td>\n",
              "      <td>52</td>\n",
              "    </tr>\n",
              "  </tbody>\n",
              "</table>\n",
              "</div>"
            ],
            "text/plain": [
              "   Year          State  Area planted  ...           Variety      Attribute  Value\n",
              "0  2005        Indiana          5900  ...  All GE varieties        Indiana     26\n",
              "1  2005       Michigan          2250  ...  All GE varieties       Michigan     40\n",
              "2  2005      Minnesota          7300  ...  All GE varieties      Minnesota     66\n",
              "3  2005       Nebraska          8500  ...  All GE varieties       Nebraska     69\n",
              "4  2005  United States         81779  ...  All GE varieties  United States     52\n",
              "\n",
              "[5 rows x 10 columns]"
            ]
          },
          "metadata": {
            "tags": []
          },
          "execution_count": 64
        }
      ]
    },
    {
      "cell_type": "code",
      "metadata": {
        "id": "bz9D17PDt2cO"
      },
      "source": [
        "corn_table['Value'] = corn_table['Value'].div(100).round(2)"
      ],
      "execution_count": 66,
      "outputs": []
    },
    {
      "cell_type": "code",
      "metadata": {
        "id": "b-MmpQ2WuUQT"
      },
      "source": [
        "corn_table.drop(columns='Valze', inplace=True)"
      ],
      "execution_count": 72,
      "outputs": []
    },
    {
      "cell_type": "code",
      "metadata": {
        "id": "hWpEaRWxuZrV"
      },
      "source": [
        "corn_table[\"GM corn area\"] = corn_table[\"Area planted\"] * corn_table[\"Value\"]"
      ],
      "execution_count": 70,
      "outputs": []
    },
    {
      "cell_type": "code",
      "metadata": {
        "colab": {
          "base_uri": "https://localhost:8080/",
          "height": 306
        },
        "id": "-lMn6HYhvAx0",
        "outputId": "f413cc05-13f5-4b5e-f2d9-e3665dfb9b95"
      },
      "source": [
        "corn_table.head()"
      ],
      "execution_count": 73,
      "outputs": [
        {
          "output_type": "execute_result",
          "data": {
            "text/html": [
              "<div>\n",
              "<style scoped>\n",
              "    .dataframe tbody tr th:only-of-type {\n",
              "        vertical-align: middle;\n",
              "    }\n",
              "\n",
              "    .dataframe tbody tr th {\n",
              "        vertical-align: top;\n",
              "    }\n",
              "\n",
              "    .dataframe thead th {\n",
              "        text-align: right;\n",
              "    }\n",
              "</style>\n",
              "<table border=\"1\" class=\"dataframe\">\n",
              "  <thead>\n",
              "    <tr style=\"text-align: right;\">\n",
              "      <th></th>\n",
              "      <th>Year</th>\n",
              "      <th>State</th>\n",
              "      <th>Area planted</th>\n",
              "      <th>Area harvested for grain</th>\n",
              "      <th>Yield</th>\n",
              "      <th>Production</th>\n",
              "      <th>Unit</th>\n",
              "      <th>Variety</th>\n",
              "      <th>Attribute</th>\n",
              "      <th>Value</th>\n",
              "      <th>GM corn area</th>\n",
              "    </tr>\n",
              "  </thead>\n",
              "  <tbody>\n",
              "    <tr>\n",
              "      <th>0</th>\n",
              "      <td>2005</td>\n",
              "      <td>Indiana</td>\n",
              "      <td>5900</td>\n",
              "      <td>5770</td>\n",
              "      <td>154</td>\n",
              "      <td>888580</td>\n",
              "      <td>Percent of corn planted</td>\n",
              "      <td>All GE varieties</td>\n",
              "      <td>Indiana</td>\n",
              "      <td>0.26</td>\n",
              "      <td>1534.00</td>\n",
              "    </tr>\n",
              "    <tr>\n",
              "      <th>1</th>\n",
              "      <td>2005</td>\n",
              "      <td>Michigan</td>\n",
              "      <td>2250</td>\n",
              "      <td>2010</td>\n",
              "      <td>143</td>\n",
              "      <td>287430</td>\n",
              "      <td>Percent of corn planted</td>\n",
              "      <td>All GE varieties</td>\n",
              "      <td>Michigan</td>\n",
              "      <td>0.40</td>\n",
              "      <td>900.00</td>\n",
              "    </tr>\n",
              "    <tr>\n",
              "      <th>2</th>\n",
              "      <td>2005</td>\n",
              "      <td>Minnesota</td>\n",
              "      <td>7300</td>\n",
              "      <td>6850</td>\n",
              "      <td>174</td>\n",
              "      <td>1191900</td>\n",
              "      <td>Percent of corn planted</td>\n",
              "      <td>All GE varieties</td>\n",
              "      <td>Minnesota</td>\n",
              "      <td>0.66</td>\n",
              "      <td>4818.00</td>\n",
              "    </tr>\n",
              "    <tr>\n",
              "      <th>3</th>\n",
              "      <td>2005</td>\n",
              "      <td>Nebraska</td>\n",
              "      <td>8500</td>\n",
              "      <td>8250</td>\n",
              "      <td>154</td>\n",
              "      <td>1270500</td>\n",
              "      <td>Percent of corn planted</td>\n",
              "      <td>All GE varieties</td>\n",
              "      <td>Nebraska</td>\n",
              "      <td>0.69</td>\n",
              "      <td>5865.00</td>\n",
              "    </tr>\n",
              "    <tr>\n",
              "      <th>4</th>\n",
              "      <td>2005</td>\n",
              "      <td>United States</td>\n",
              "      <td>81779</td>\n",
              "      <td>75117</td>\n",
              "      <td>148</td>\n",
              "      <td>11114082</td>\n",
              "      <td>Percent of corn planted</td>\n",
              "      <td>All GE varieties</td>\n",
              "      <td>United States</td>\n",
              "      <td>0.52</td>\n",
              "      <td>42525.08</td>\n",
              "    </tr>\n",
              "  </tbody>\n",
              "</table>\n",
              "</div>"
            ],
            "text/plain": [
              "   Year          State  Area planted  ...      Attribute  Value  GM corn area\n",
              "0  2005        Indiana          5900  ...        Indiana   0.26       1534.00\n",
              "1  2005       Michigan          2250  ...       Michigan   0.40        900.00\n",
              "2  2005      Minnesota          7300  ...      Minnesota   0.66       4818.00\n",
              "3  2005       Nebraska          8500  ...       Nebraska   0.69       5865.00\n",
              "4  2005  United States         81779  ...  United States   0.52      42525.08\n",
              "\n",
              "[5 rows x 11 columns]"
            ]
          },
          "metadata": {
            "tags": []
          },
          "execution_count": 73
        }
      ]
    },
    {
      "cell_type": "code",
      "metadata": {
        "colab": {
          "base_uri": "https://localhost:8080/",
          "height": 297
        },
        "id": "1ju2NV40vCg1",
        "outputId": "5905a64e-705a-4ef9-9a4f-e53bf80c6804"
      },
      "source": [
        "corn_table.describe()"
      ],
      "execution_count": 77,
      "outputs": [
        {
          "output_type": "execute_result",
          "data": {
            "text/html": [
              "<div>\n",
              "<style scoped>\n",
              "    .dataframe tbody tr th:only-of-type {\n",
              "        vertical-align: middle;\n",
              "    }\n",
              "\n",
              "    .dataframe tbody tr th {\n",
              "        vertical-align: top;\n",
              "    }\n",
              "\n",
              "    .dataframe thead th {\n",
              "        text-align: right;\n",
              "    }\n",
              "</style>\n",
              "<table border=\"1\" class=\"dataframe\">\n",
              "  <thead>\n",
              "    <tr style=\"text-align: right;\">\n",
              "      <th></th>\n",
              "      <th>Year</th>\n",
              "      <th>Area planted</th>\n",
              "      <th>Yield</th>\n",
              "      <th>Production</th>\n",
              "      <th>Value</th>\n",
              "      <th>GM corn area</th>\n",
              "    </tr>\n",
              "  </thead>\n",
              "  <tbody>\n",
              "    <tr>\n",
              "      <th>count</th>\n",
              "      <td>75.000000</td>\n",
              "      <td>75.000000</td>\n",
              "      <td>75.00000</td>\n",
              "      <td>7.500000e+01</td>\n",
              "      <td>75.000000</td>\n",
              "      <td>75.000000</td>\n",
              "    </tr>\n",
              "    <tr>\n",
              "      <th>mean</th>\n",
              "      <td>2012.000000</td>\n",
              "      <td>22967.680000</td>\n",
              "      <td>161.96000</td>\n",
              "      <td>3.413599e+06</td>\n",
              "      <td>0.831067</td>\n",
              "      <td>19381.951733</td>\n",
              "    </tr>\n",
              "    <tr>\n",
              "      <th>std</th>\n",
              "      <td>4.349588</td>\n",
              "      <td>33565.726809</td>\n",
              "      <td>17.15938</td>\n",
              "      <td>4.906297e+06</td>\n",
              "      <td>0.144265</td>\n",
              "      <td>28804.136161</td>\n",
              "    </tr>\n",
              "    <tr>\n",
              "      <th>min</th>\n",
              "      <td>2005.000000</td>\n",
              "      <td>2000.000000</td>\n",
              "      <td>99.00000</td>\n",
              "      <td>2.398900e+05</td>\n",
              "      <td>0.260000</td>\n",
              "      <td>900.000000</td>\n",
              "    </tr>\n",
              "    <tr>\n",
              "      <th>25%</th>\n",
              "      <td>2008.000000</td>\n",
              "      <td>5550.000000</td>\n",
              "      <td>152.50000</td>\n",
              "      <td>8.591300e+05</td>\n",
              "      <td>0.800000</td>\n",
              "      <td>4387.000000</td>\n",
              "    </tr>\n",
              "    <tr>\n",
              "      <th>50%</th>\n",
              "      <td>2012.000000</td>\n",
              "      <td>8050.000000</td>\n",
              "      <td>160.00000</td>\n",
              "      <td>1.201200e+06</td>\n",
              "      <td>0.880000</td>\n",
              "      <td>7084.000000</td>\n",
              "    </tr>\n",
              "    <tr>\n",
              "      <th>75%</th>\n",
              "      <td>2016.000000</td>\n",
              "      <td>9850.000000</td>\n",
              "      <td>174.50000</td>\n",
              "      <td>1.653400e+06</td>\n",
              "      <td>0.920000</td>\n",
              "      <td>9192.000000</td>\n",
              "    </tr>\n",
              "    <tr>\n",
              "      <th>max</th>\n",
              "      <td>2019.000000</td>\n",
              "      <td>97155.000000</td>\n",
              "      <td>194.00000</td>\n",
              "      <td>1.514804e+07</td>\n",
              "      <td>0.960000</td>\n",
              "      <td>86483.680000</td>\n",
              "    </tr>\n",
              "  </tbody>\n",
              "</table>\n",
              "</div>"
            ],
            "text/plain": [
              "              Year  Area planted  ...      Value  GM corn area\n",
              "count    75.000000     75.000000  ...  75.000000     75.000000\n",
              "mean   2012.000000  22967.680000  ...   0.831067  19381.951733\n",
              "std       4.349588  33565.726809  ...   0.144265  28804.136161\n",
              "min    2005.000000   2000.000000  ...   0.260000    900.000000\n",
              "25%    2008.000000   5550.000000  ...   0.800000   4387.000000\n",
              "50%    2012.000000   8050.000000  ...   0.880000   7084.000000\n",
              "75%    2016.000000   9850.000000  ...   0.920000   9192.000000\n",
              "max    2019.000000  97155.000000  ...   0.960000  86483.680000\n",
              "\n",
              "[8 rows x 6 columns]"
            ]
          },
          "metadata": {
            "tags": []
          },
          "execution_count": 77
        }
      ]
    },
    {
      "cell_type": "code",
      "metadata": {
        "id": "puwZSr5zv71k"
      },
      "source": [
        "corn_table.to_csv(r'C:\\Users\\KristinaKolesnikova\\Desktop\\export_dataframe.csv')"
      ],
      "execution_count": 79,
      "outputs": []
    },
    {
      "cell_type": "markdown",
      "metadata": {
        "id": "GSCy6hFVxYV0"
      },
      "source": [
        "How to export csv??"
      ]
    },
    {
      "cell_type": "markdown",
      "metadata": {
        "id": "Vzx5vyd70UvG"
      },
      "source": [
        "---"
      ]
    },
    {
      "cell_type": "code",
      "metadata": {
        "colab": {
          "base_uri": "https://localhost:8080/",
          "height": 204
        },
        "id": "ET_sMlcs0VCO",
        "outputId": "2a67f87d-87fe-4f6f-d61b-e22480ff1fc3"
      },
      "source": [
        "gdp_agri.head()"
      ],
      "execution_count": 84,
      "outputs": [
        {
          "output_type": "execute_result",
          "data": {
            "text/html": [
              "<div>\n",
              "<style scoped>\n",
              "    .dataframe tbody tr th:only-of-type {\n",
              "        vertical-align: middle;\n",
              "    }\n",
              "\n",
              "    .dataframe tbody tr th {\n",
              "        vertical-align: top;\n",
              "    }\n",
              "\n",
              "    .dataframe thead th {\n",
              "        text-align: right;\n",
              "    }\n",
              "</style>\n",
              "<table border=\"1\" class=\"dataframe\">\n",
              "  <thead>\n",
              "    <tr style=\"text-align: right;\">\n",
              "      <th></th>\n",
              "      <th>Year</th>\n",
              "      <th>State</th>\n",
              "      <th>Agri GDP</th>\n",
              "    </tr>\n",
              "  </thead>\n",
              "  <tbody>\n",
              "    <tr>\n",
              "      <th>0</th>\n",
              "      <td>2005</td>\n",
              "      <td>United States</td>\n",
              "      <td>196126.0</td>\n",
              "    </tr>\n",
              "    <tr>\n",
              "      <th>1</th>\n",
              "      <td>2005</td>\n",
              "      <td>Alabama</td>\n",
              "      <td>3837.0</td>\n",
              "    </tr>\n",
              "    <tr>\n",
              "      <th>2</th>\n",
              "      <td>2005</td>\n",
              "      <td>Alaska</td>\n",
              "      <td>417.0</td>\n",
              "    </tr>\n",
              "    <tr>\n",
              "      <th>3</th>\n",
              "      <td>2005</td>\n",
              "      <td>Arizona</td>\n",
              "      <td>3019.6</td>\n",
              "    </tr>\n",
              "    <tr>\n",
              "      <th>4</th>\n",
              "      <td>2005</td>\n",
              "      <td>Arkansas</td>\n",
              "      <td>4282.6</td>\n",
              "    </tr>\n",
              "  </tbody>\n",
              "</table>\n",
              "</div>"
            ],
            "text/plain": [
              "   Year          State  Agri GDP\n",
              "0  2005  United States  196126.0\n",
              "1  2005        Alabama    3837.0\n",
              "2  2005         Alaska     417.0\n",
              "3  2005        Arizona    3019.6\n",
              "4  2005       Arkansas    4282.6"
            ]
          },
          "metadata": {
            "tags": []
          },
          "execution_count": 84
        }
      ]
    },
    {
      "cell_type": "code",
      "metadata": {
        "colab": {
          "base_uri": "https://localhost:8080/"
        },
        "id": "RCjcRpU60YpZ",
        "outputId": "8e2d3604-8f73-4dd3-8fa7-a1d819bc2603"
      },
      "source": [
        "gdp_agri.dtypes"
      ],
      "execution_count": 85,
      "outputs": [
        {
          "output_type": "execute_result",
          "data": {
            "text/plain": [
              "Year          int64\n",
              "State        object\n",
              "Agri GDP    float64\n",
              "dtype: object"
            ]
          },
          "metadata": {
            "tags": []
          },
          "execution_count": 85
        }
      ]
    },
    {
      "cell_type": "code",
      "metadata": {
        "id": "mWLAleiM0cSw"
      },
      "source": [
        "gdp_agri[\"Agri GDP\"] = gdp_agri[\"Agri GDP\"].astype(int)"
      ],
      "execution_count": 86,
      "outputs": []
    },
    {
      "cell_type": "code",
      "metadata": {
        "id": "06pUNSUA0weB"
      },
      "source": [
        "corn_table = corn_table.merge(gdp_agri, how='inner', left_on=['Year', 'State'], right_on=['Year', 'State'])"
      ],
      "execution_count": 87,
      "outputs": []
    },
    {
      "cell_type": "code",
      "metadata": {
        "colab": {
          "base_uri": "https://localhost:8080/",
          "height": 408
        },
        "id": "vfh4LRW90_Fn",
        "outputId": "134ae943-76d1-4227-8d7f-ad07b9e567df"
      },
      "source": [
        "corn_table.head()"
      ],
      "execution_count": 88,
      "outputs": [
        {
          "output_type": "execute_result",
          "data": {
            "text/html": [
              "<div>\n",
              "<style scoped>\n",
              "    .dataframe tbody tr th:only-of-type {\n",
              "        vertical-align: middle;\n",
              "    }\n",
              "\n",
              "    .dataframe tbody tr th {\n",
              "        vertical-align: top;\n",
              "    }\n",
              "\n",
              "    .dataframe thead th {\n",
              "        text-align: right;\n",
              "    }\n",
              "</style>\n",
              "<table border=\"1\" class=\"dataframe\">\n",
              "  <thead>\n",
              "    <tr style=\"text-align: right;\">\n",
              "      <th></th>\n",
              "      <th>Year</th>\n",
              "      <th>State</th>\n",
              "      <th>Area planted</th>\n",
              "      <th>Area harvested for grain</th>\n",
              "      <th>Yield</th>\n",
              "      <th>Production</th>\n",
              "      <th>Unit</th>\n",
              "      <th>Variety</th>\n",
              "      <th>Attribute</th>\n",
              "      <th>Value</th>\n",
              "      <th>GM corn area</th>\n",
              "      <th>Agri GDP</th>\n",
              "    </tr>\n",
              "  </thead>\n",
              "  <tbody>\n",
              "    <tr>\n",
              "      <th>0</th>\n",
              "      <td>2005</td>\n",
              "      <td>Indiana</td>\n",
              "      <td>5900</td>\n",
              "      <td>5770</td>\n",
              "      <td>154</td>\n",
              "      <td>888580</td>\n",
              "      <td>Percent of corn planted</td>\n",
              "      <td>All GE varieties</td>\n",
              "      <td>Indiana</td>\n",
              "      <td>0.26</td>\n",
              "      <td>1534.00</td>\n",
              "      <td>3334</td>\n",
              "    </tr>\n",
              "    <tr>\n",
              "      <th>1</th>\n",
              "      <td>2005</td>\n",
              "      <td>Michigan</td>\n",
              "      <td>2250</td>\n",
              "      <td>2010</td>\n",
              "      <td>143</td>\n",
              "      <td>287430</td>\n",
              "      <td>Percent of corn planted</td>\n",
              "      <td>All GE varieties</td>\n",
              "      <td>Michigan</td>\n",
              "      <td>0.40</td>\n",
              "      <td>900.00</td>\n",
              "      <td>3481</td>\n",
              "    </tr>\n",
              "    <tr>\n",
              "      <th>2</th>\n",
              "      <td>2005</td>\n",
              "      <td>Minnesota</td>\n",
              "      <td>7300</td>\n",
              "      <td>6850</td>\n",
              "      <td>174</td>\n",
              "      <td>1191900</td>\n",
              "      <td>Percent of corn planted</td>\n",
              "      <td>All GE varieties</td>\n",
              "      <td>Minnesota</td>\n",
              "      <td>0.66</td>\n",
              "      <td>4818.00</td>\n",
              "      <td>6597</td>\n",
              "    </tr>\n",
              "    <tr>\n",
              "      <th>3</th>\n",
              "      <td>2005</td>\n",
              "      <td>Nebraska</td>\n",
              "      <td>8500</td>\n",
              "      <td>8250</td>\n",
              "      <td>154</td>\n",
              "      <td>1270500</td>\n",
              "      <td>Percent of corn planted</td>\n",
              "      <td>All GE varieties</td>\n",
              "      <td>Nebraska</td>\n",
              "      <td>0.69</td>\n",
              "      <td>5865.00</td>\n",
              "      <td>6412</td>\n",
              "    </tr>\n",
              "    <tr>\n",
              "      <th>4</th>\n",
              "      <td>2005</td>\n",
              "      <td>United States</td>\n",
              "      <td>81779</td>\n",
              "      <td>75117</td>\n",
              "      <td>148</td>\n",
              "      <td>11114082</td>\n",
              "      <td>Percent of corn planted</td>\n",
              "      <td>All GE varieties</td>\n",
              "      <td>United States</td>\n",
              "      <td>0.52</td>\n",
              "      <td>42525.08</td>\n",
              "      <td>196126</td>\n",
              "    </tr>\n",
              "  </tbody>\n",
              "</table>\n",
              "</div>"
            ],
            "text/plain": [
              "   Year          State  Area planted  ... Value  GM corn area  Agri GDP\n",
              "0  2005        Indiana          5900  ...  0.26       1534.00      3334\n",
              "1  2005       Michigan          2250  ...  0.40        900.00      3481\n",
              "2  2005      Minnesota          7300  ...  0.66       4818.00      6597\n",
              "3  2005       Nebraska          8500  ...  0.69       5865.00      6412\n",
              "4  2005  United States         81779  ...  0.52      42525.08    196126\n",
              "\n",
              "[5 rows x 12 columns]"
            ]
          },
          "metadata": {
            "tags": []
          },
          "execution_count": 88
        }
      ]
    },
    {
      "cell_type": "code",
      "metadata": {
        "colab": {
          "base_uri": "https://localhost:8080/",
          "height": 297
        },
        "id": "c_wfbkrU1BbS",
        "outputId": "c4454327-7594-4f64-d0b7-f5c975e351a3"
      },
      "source": [
        "corn_table.describe()"
      ],
      "execution_count": 92,
      "outputs": [
        {
          "output_type": "execute_result",
          "data": {
            "text/html": [
              "<div>\n",
              "<style scoped>\n",
              "    .dataframe tbody tr th:only-of-type {\n",
              "        vertical-align: middle;\n",
              "    }\n",
              "\n",
              "    .dataframe tbody tr th {\n",
              "        vertical-align: top;\n",
              "    }\n",
              "\n",
              "    .dataframe thead th {\n",
              "        text-align: right;\n",
              "    }\n",
              "</style>\n",
              "<table border=\"1\" class=\"dataframe\">\n",
              "  <thead>\n",
              "    <tr style=\"text-align: right;\">\n",
              "      <th></th>\n",
              "      <th>Year</th>\n",
              "      <th>Area planted</th>\n",
              "      <th>Yield</th>\n",
              "      <th>Production</th>\n",
              "      <th>Value</th>\n",
              "      <th>GM corn area</th>\n",
              "      <th>Agri GDP</th>\n",
              "    </tr>\n",
              "  </thead>\n",
              "  <tbody>\n",
              "    <tr>\n",
              "      <th>count</th>\n",
              "      <td>75.000000</td>\n",
              "      <td>75.000000</td>\n",
              "      <td>75.00000</td>\n",
              "      <td>7.500000e+01</td>\n",
              "      <td>75.000000</td>\n",
              "      <td>75.000000</td>\n",
              "      <td>75.000000</td>\n",
              "    </tr>\n",
              "    <tr>\n",
              "      <th>mean</th>\n",
              "      <td>2012.000000</td>\n",
              "      <td>22967.680000</td>\n",
              "      <td>161.96000</td>\n",
              "      <td>3.413599e+06</td>\n",
              "      <td>0.831067</td>\n",
              "      <td>19381.951733</td>\n",
              "      <td>46544.186667</td>\n",
              "    </tr>\n",
              "    <tr>\n",
              "      <th>std</th>\n",
              "      <td>4.349588</td>\n",
              "      <td>33565.726809</td>\n",
              "      <td>17.15938</td>\n",
              "      <td>4.906297e+06</td>\n",
              "      <td>0.144265</td>\n",
              "      <td>28804.136161</td>\n",
              "      <td>81958.314190</td>\n",
              "    </tr>\n",
              "    <tr>\n",
              "      <th>min</th>\n",
              "      <td>2005.000000</td>\n",
              "      <td>2000.000000</td>\n",
              "      <td>99.00000</td>\n",
              "      <td>2.398900e+05</td>\n",
              "      <td>0.260000</td>\n",
              "      <td>900.000000</td>\n",
              "      <td>3286.000000</td>\n",
              "    </tr>\n",
              "    <tr>\n",
              "      <th>25%</th>\n",
              "      <td>2008.000000</td>\n",
              "      <td>5550.000000</td>\n",
              "      <td>152.50000</td>\n",
              "      <td>8.591300e+05</td>\n",
              "      <td>0.800000</td>\n",
              "      <td>4387.000000</td>\n",
              "      <td>4417.500000</td>\n",
              "    </tr>\n",
              "    <tr>\n",
              "      <th>50%</th>\n",
              "      <td>2012.000000</td>\n",
              "      <td>8050.000000</td>\n",
              "      <td>160.00000</td>\n",
              "      <td>1.201200e+06</td>\n",
              "      <td>0.880000</td>\n",
              "      <td>7084.000000</td>\n",
              "      <td>7279.000000</td>\n",
              "    </tr>\n",
              "    <tr>\n",
              "      <th>75%</th>\n",
              "      <td>2016.000000</td>\n",
              "      <td>9850.000000</td>\n",
              "      <td>174.50000</td>\n",
              "      <td>1.653400e+06</td>\n",
              "      <td>0.920000</td>\n",
              "      <td>9192.000000</td>\n",
              "      <td>9683.000000</td>\n",
              "    </tr>\n",
              "    <tr>\n",
              "      <th>max</th>\n",
              "      <td>2019.000000</td>\n",
              "      <td>97155.000000</td>\n",
              "      <td>194.00000</td>\n",
              "      <td>1.514804e+07</td>\n",
              "      <td>0.960000</td>\n",
              "      <td>86483.680000</td>\n",
              "      <td>243607.000000</td>\n",
              "    </tr>\n",
              "  </tbody>\n",
              "</table>\n",
              "</div>"
            ],
            "text/plain": [
              "              Year  Area planted  ...  GM corn area       Agri GDP\n",
              "count    75.000000     75.000000  ...     75.000000      75.000000\n",
              "mean   2012.000000  22967.680000  ...  19381.951733   46544.186667\n",
              "std       4.349588  33565.726809  ...  28804.136161   81958.314190\n",
              "min    2005.000000   2000.000000  ...    900.000000    3286.000000\n",
              "25%    2008.000000   5550.000000  ...   4387.000000    4417.500000\n",
              "50%    2012.000000   8050.000000  ...   7084.000000    7279.000000\n",
              "75%    2016.000000   9850.000000  ...   9192.000000    9683.000000\n",
              "max    2019.000000  97155.000000  ...  86483.680000  243607.000000\n",
              "\n",
              "[8 rows x 7 columns]"
            ]
          },
          "metadata": {
            "tags": []
          },
          "execution_count": 92
        }
      ]
    },
    {
      "cell_type": "code",
      "metadata": {
        "id": "rFA5rTso1PFg"
      },
      "source": [
        "corn_general = corn_table[(corn_table['State']=='United States')]"
      ],
      "execution_count": 94,
      "outputs": []
    },
    {
      "cell_type": "code",
      "metadata": {
        "colab": {
          "base_uri": "https://localhost:8080/",
          "height": 296
        },
        "id": "UAq04jnw2IY9",
        "outputId": "9d70c94a-4de2-436e-acc7-c4c20a803a43"
      },
      "source": [
        "corn_general.plot(x= 'Year', y = 'Agri GDP')"
      ],
      "execution_count": 95,
      "outputs": [
        {
          "output_type": "execute_result",
          "data": {
            "text/plain": [
              "<matplotlib.axes._subplots.AxesSubplot at 0x7f7db3aeba20>"
            ]
          },
          "metadata": {
            "tags": []
          },
          "execution_count": 95
        },
        {
          "output_type": "display_data",
          "data": {
            "image/png": "[encoded data removed]",
            "text/plain": [
              "<Figure size 432x288 with 1 Axes>"
            ]
          },
          "metadata": {
            "tags": [],
            "needs_background": "light"
          }
        }
      ]
    },
    {
      "cell_type": "code",
      "metadata": {
        "colab": {
          "base_uri": "https://localhost:8080/",
          "height": 296
        },
        "id": "b_N5JJ8c2UsV",
        "outputId": "cca57e9a-4847-495e-d3df-fe95e3dfdede"
      },
      "source": [
        "corn_general.plot(x= 'Year', y = 'GM corn area')"
      ],
      "execution_count": 96,
      "outputs": [
        {
          "output_type": "execute_result",
          "data": {
            "text/plain": [
              "<matplotlib.axes._subplots.AxesSubplot at 0x7f7db3a4d908>"
            ]
          },
          "metadata": {
            "tags": []
          },
          "execution_count": 96
        },
        {
          "output_type": "display_data",
          "data": {
            "image/png": "[encoded data removed]",
            "text/plain": [
              "<Figure size 432x288 with 1 Axes>"
            ]
          },
          "metadata": {
            "tags": [],
            "needs_background": "light"
          }
        }
      ]
    },
    {
      "cell_type": "code",
      "metadata": {
        "colab": {
          "base_uri": "https://localhost:8080/",
          "height": 307
        },
        "id": "HnmqXtLj2ZCl",
        "outputId": "6536ef34-b98e-49b0-8acb-886cbfc29ecc"
      },
      "source": [
        "corn_general.plot(x= 'Year', y = 'Production')"
      ],
      "execution_count": 97,
      "outputs": [
        {
          "output_type": "execute_result",
          "data": {
            "text/plain": [
              "<matplotlib.axes._subplots.AxesSubplot at 0x7f7db3f562e8>"
            ]
          },
          "metadata": {
            "tags": []
          },
          "execution_count": 97
        },
        {
          "output_type": "display_data",
          "data": {
            "image/png": "[encoded data removed]",
            "text/plain": [
              "<Figure size 432x288 with 1 Axes>"
            ]
          },
          "metadata": {
            "tags": [],
            "needs_background": "light"
          }
        }
      ]
    },
    {
      "cell_type": "code",
      "metadata": {
        "colab": {
          "base_uri": "https://localhost:8080/",
          "height": 296
        },
        "id": "f0sksI8A2h8A",
        "outputId": "f9976530-7744-4103-f637-996080a94c0d"
      },
      "source": [
        "corn_general.plot(x= 'Year', y = 'Yield')"
      ],
      "execution_count": 98,
      "outputs": [
        {
          "output_type": "execute_result",
          "data": {
            "text/plain": [
              "<matplotlib.axes._subplots.AxesSubplot at 0x7f7db399d080>"
            ]
          },
          "metadata": {
            "tags": []
          },
          "execution_count": 98
        },
        {
          "output_type": "display_data",
          "data": {
            "image/png": "[encoded data removed]",
            "text/plain": [
              "<Figure size 432x288 with 1 Axes>"
            ]
          },
          "metadata": {
            "tags": [],
            "needs_background": "light"
          }
        }
      ]
    },
    {
      "cell_type": "code",
      "metadata": {
        "colab": {
          "base_uri": "https://localhost:8080/",
          "height": 296
        },
        "id": "Y8xAo3jk2jqb",
        "outputId": "4000a215-dd03-4db8-eb59-312fc0e5eda4"
      },
      "source": [
        "corn_general.plot(x= 'Year', y = 'Area planted')"
      ],
      "execution_count": 100,
      "outputs": [
        {
          "output_type": "execute_result",
          "data": {
            "text/plain": [
              "<matplotlib.axes._subplots.AxesSubplot at 0x7f7db3947710>"
            ]
          },
          "metadata": {
            "tags": []
          },
          "execution_count": 100
        },
        {
          "output_type": "display_data",
          "data": {
            "image/png": "[encoded data removed]",
            "text/plain": [
              "<Figure size 432x288 with 1 Axes>"
            ]
          },
          "metadata": {
            "tags": [],
            "needs_background": "light"
          }
        }
      ]
    },
    {
      "cell_type": "code",
      "metadata": {
        "colab": {
          "base_uri": "https://localhost:8080/",
          "height": 296
        },
        "id": "puDEONQW2uLh",
        "outputId": "bf7fc498-1db0-49d5-c26a-666ad2dc0697"
      },
      "source": [
        "corn_general.plot.scatter(x= 'GM corn area', y = 'Agri GDP')"
      ],
      "execution_count": 102,
      "outputs": [
        {
          "output_type": "execute_result",
          "data": {
            "text/plain": [
              "<matplotlib.axes._subplots.AxesSubplot at 0x7f7db39fb128>"
            ]
          },
          "metadata": {
            "tags": []
          },
          "execution_count": 102
        },
        {
          "output_type": "display_data",
          "data": {
            "image/png": "[encoded data removed]",
            "text/plain": [
              "<Figure size 432x288 with 1 Axes>"
            ]
          },
          "metadata": {
            "tags": [],
            "needs_background": "light"
          }
        }
      ]
    },
    {
      "cell_type": "code",
      "metadata": {
        "colab": {
          "base_uri": "https://localhost:8080/",
          "height": 296
        },
        "id": "gbcV9R783Cnr",
        "outputId": "1aa99da6-314c-4343-f376-def3d4662e51"
      },
      "source": [
        "corn_table.plot.scatter(x='GM corn area', y ='Agri GDP')"
      ],
      "execution_count": 103,
      "outputs": [
        {
          "output_type": "execute_result",
          "data": {
            "text/plain": [
              "<matplotlib.axes._subplots.AxesSubplot at 0x7f7db39e1b70>"
            ]
          },
          "metadata": {
            "tags": []
          },
          "execution_count": 103
        },
        {
          "output_type": "display_data",
          "data": {
            "image/png": "[encoded data removed]",
            "text/plain": [
              "<Figure size 432x288 with 1 Axes>"
            ]
          },
          "metadata": {
            "tags": [],
            "needs_background": "light"
          }
        }
      ]
    },
    {
      "cell_type": "code",
      "metadata": {
        "id": "ik7uvWZv3Uck"
      },
      "source": [
        ""
      ],
      "execution_count": null,
      "outputs": []
    }
  ]
}