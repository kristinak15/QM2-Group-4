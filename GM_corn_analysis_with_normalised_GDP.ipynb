{
  "nbformat": 4,
  "nbformat_minor": 0,
  "metadata": {
    "colab": {
      "name": "GM corn analysis with normalised GDP.ipynb",
      "provenance": [],
      "collapsed_sections": [],
      "toc_visible": true,
      "include_colab_link": true
    },
    "kernelspec": {
      "display_name": "Python 3",
      "name": "python3"
    }
  },
  "cells": [
    {
      "cell_type": "markdown",
      "metadata": {
        "id": "view-in-github",
        "colab_type": "text"
      },
      "source": [
        "<a href=\"https://colab.research.google.com/github/kristinak15/QM2-Group-4/blob/main/GM_corn_analysis_with_normalised_GDP.ipynb\" target=\"_parent\"><img src=\"https://colab.research.google.com/assets/colab-badge.svg\" alt=\"Open In Colab\"/></a>"
      ]
    },
    {
      "cell_type": "code",
      "metadata": {
        "id": "jye0zVSUWVWs"
      },
      "source": [
        "import pandas as pd\n",
        "\n",
        "import matplotlib\n",
        "%matplotlib inline\n",
        "\n",
        "import matplotlib.pyplot as plt\n",
        "import numpy as np"
      ],
      "execution_count": 1301,
      "outputs": []
    },
    {
      "cell_type": "markdown",
      "metadata": {
        "id": "TK6ZPiw2qjT8"
      },
      "source": [
        "# Cleaning and combining initial data (corn yield, acreage, are, GM corn %, Agricultural GDP)"
      ]
    },
    {
      "cell_type": "markdown",
      "metadata": {
        "id": "zveweepTJ25f"
      },
      "source": [
        "!mkdir datafinal\n",
        "!curl https://github.com/kristinak15/QM2-Group-4/blob/main/FINAL%20DATA%20SETS/real%20gdp%20by%20state%20agriculture.csv -o ./datafinal/real_gdp_by_state_agriculture.csv\n",
        "!curl https://github.com/kristinak15/QM2-Group-4/blob/main/FINAL%20DATA%20SETS/alltablesGEcrops.csv -o ./datafinal/GM_crops_%.csv\n",
        "!curl https://github.com/kristinak15/QM2-Group-4/blob/main/FINAL%20DATA%20SETS/final%20corn%20data.csv -o ./datafinal/final_corn_data.csv\n",
        "!curl https://github.com/kristinak15/QM2-Group-4/blob/main/FINAL%20DATA%20SETS/Total%20crop%20acreage.csv -o ./datafinal/Total_crop_acreage.csv\n",
        "!curl https://github.com/kristinak15/QM2-Group-4/blob/main/FINAL%20DATA%20SETS/acres%20operated%20by%20state.csv -o ./datafinal/acres_operated_by_state.csv\n",
        "\n",
        "!curl https://github.com/kristinak15/QM2-Group-4/blob/main/FINAL%20DATA%20SETS/employment%20and%20wage%20agri.csv -o ./datafinal/employment_and_wage_agri.csv\n",
        "!curl https://github.com/kristinak15/QM2-Group-4/blob/main/FINAL%20DATA%20SETS/EXPORTS.csv -o ./datafinal/exports.csv"
      ]
    },
    {
      "cell_type": "markdown",
      "metadata": {
        "id": "r7KjJmkqJtpZ"
      },
      "source": [
        ""
      ]
    },
    {
      "cell_type": "code",
      "metadata": {
        "id": "X5jJxnj6fQfY"
      },
      "source": [
        "gm_crops = pd.read_csv('/content/GM crops %.csv')"
      ],
      "execution_count": 1302,
      "outputs": []
    },
    {
      "cell_type": "code",
      "metadata": {
        "id": "h48UBEB2faV8"
      },
      "source": [
        "corn = pd.read_csv('/content/final corn data.csv')"
      ],
      "execution_count": 1303,
      "outputs": []
    },
    {
      "cell_type": "code",
      "metadata": {
        "id": "PLdeBFkZfy86"
      },
      "source": [
        "gdp_agri = pd.read_csv('/content/real gdp by state agriculture.csv')"
      ],
      "execution_count": 1304,
      "outputs": []
    },
    {
      "cell_type": "markdown",
      "metadata": {
        "id": "igRRaHctfSdr"
      },
      "source": [
        "Other values are also saved as dataframes, which will be used to normalise agricultural GDP and to see which other ones contribute to agricultural GDP other than GM corn production"
      ]
    },
    {
      "cell_type": "code",
      "metadata": {
        "id": "fH5yLi4HqWDs"
      },
      "source": [
        "crops_planted_acreage =pd.read_csv('/content/Total crop acreage.csv')"
      ],
      "execution_count": 1305,
      "outputs": []
    },
    {
      "cell_type": "code",
      "metadata": {
        "id": "xvzzx-9vqiaf"
      },
      "source": [
        "acres_operated = pd.read_csv('/content/acres operated by state.csv')"
      ],
      "execution_count": 1306,
      "outputs": []
    },
    {
      "cell_type": "code",
      "metadata": {
        "id": "Pxv-r6N4fuvm"
      },
      "source": [
        "jobs_and_wage = pd.read_csv('/content/employment and wage agri.csv')"
      ],
      "execution_count": 1307,
      "outputs": []
    },
    {
      "cell_type": "code",
      "metadata": {
        "id": "V9E6luDOg0Uz"
      },
      "source": [
        "exports = pd.read_csv('/content/EXPORTS.csv')"
      ],
      "execution_count": 1308,
      "outputs": []
    },
    {
      "cell_type": "code",
      "metadata": {
        "id": "Cl1r6kAHg7NA"
      },
      "source": [
        "population = pd.read_csv('/content/population by state.csv')"
      ],
      "execution_count": 1309,
      "outputs": []
    },
    {
      "cell_type": "markdown",
      "metadata": {
        "id": "X27FP7SNhEYm"
      },
      "source": [
        "Cleaning the GM crop and corn data, merging them together"
      ]
    },
    {
      "cell_type": "code",
      "metadata": {
        "colab": {
          "base_uri": "https://localhost:8080/",
          "height": 289
        },
        "id": "4amv55kAf6zQ",
        "outputId": "044e4d99-082b-4011-b61e-aeda769f4a61"
      },
      "source": [
        "gm_crops.head()"
      ],
      "execution_count": 1310,
      "outputs": [
        {
          "output_type": "execute_result",
          "data": {
            "text/html": [
              "<div>\n",
              "<style scoped>\n",
              "    .dataframe tbody tr th:only-of-type {\n",
              "        vertical-align: middle;\n",
              "    }\n",
              "\n",
              "    .dataframe tbody tr th {\n",
              "        vertical-align: top;\n",
              "    }\n",
              "\n",
              "    .dataframe thead th {\n",
              "        text-align: right;\n",
              "    }\n",
              "</style>\n",
              "<table border=\"1\" class=\"dataframe\">\n",
              "  <thead>\n",
              "    <tr style=\"text-align: right;\">\n",
              "      <th></th>\n",
              "      <th>Table</th>\n",
              "      <th>Unit</th>\n",
              "      <th>Variety</th>\n",
              "      <th>Year</th>\n",
              "      <th>Attribute</th>\n",
              "      <th>Value</th>\n",
              "    </tr>\n",
              "  </thead>\n",
              "  <tbody>\n",
              "    <tr>\n",
              "      <th>0</th>\n",
              "      <td>Genetically engineered (GE) corn varieties</td>\n",
              "      <td>Percent of corn planted</td>\n",
              "      <td>Insect-resistant (Bt) only                    ...</td>\n",
              "      <td>2000</td>\n",
              "      <td>Illinois</td>\n",
              "      <td>13</td>\n",
              "    </tr>\n",
              "    <tr>\n",
              "      <th>1</th>\n",
              "      <td>Genetically engineered (GE) corn varieties</td>\n",
              "      <td>Percent of corn planted</td>\n",
              "      <td>Insect-resistant (Bt) only                    ...</td>\n",
              "      <td>2000</td>\n",
              "      <td>Indiana</td>\n",
              "      <td>7</td>\n",
              "    </tr>\n",
              "    <tr>\n",
              "      <th>2</th>\n",
              "      <td>Genetically engineered (GE) corn varieties</td>\n",
              "      <td>Percent of corn planted</td>\n",
              "      <td>Insect-resistant (Bt) only                    ...</td>\n",
              "      <td>2000</td>\n",
              "      <td>Iowa</td>\n",
              "      <td>23</td>\n",
              "    </tr>\n",
              "    <tr>\n",
              "      <th>3</th>\n",
              "      <td>Genetically engineered (GE) corn varieties</td>\n",
              "      <td>Percent of corn planted</td>\n",
              "      <td>Insect-resistant (Bt) only                    ...</td>\n",
              "      <td>2000</td>\n",
              "      <td>Kansas</td>\n",
              "      <td>25</td>\n",
              "    </tr>\n",
              "    <tr>\n",
              "      <th>4</th>\n",
              "      <td>Genetically engineered (GE) corn varieties</td>\n",
              "      <td>Percent of corn planted</td>\n",
              "      <td>Insect-resistant (Bt) only                    ...</td>\n",
              "      <td>2000</td>\n",
              "      <td>Michigan</td>\n",
              "      <td>8</td>\n",
              "    </tr>\n",
              "  </tbody>\n",
              "</table>\n",
              "</div>"
            ],
            "text/plain": [
              "                                        Table  ... Value\n",
              "0  Genetically engineered (GE) corn varieties  ...    13\n",
              "1  Genetically engineered (GE) corn varieties  ...     7\n",
              "2  Genetically engineered (GE) corn varieties  ...    23\n",
              "3  Genetically engineered (GE) corn varieties  ...    25\n",
              "4  Genetically engineered (GE) corn varieties  ...     8\n",
              "\n",
              "[5 rows x 6 columns]"
            ]
          },
          "metadata": {
            "tags": []
          },
          "execution_count": 1310
        }
      ]
    },
    {
      "cell_type": "code",
      "metadata": {
        "id": "jv1HVkwqgZzs"
      },
      "source": [
        "#gm_crops=gm_crops.drop(columns='Table')"
      ],
      "execution_count": 1311,
      "outputs": []
    },
    {
      "cell_type": "code",
      "metadata": {
        "id": "ltkc2shogG89"
      },
      "source": [
        "gm_crops[\"Value\"].replace({\".\": \"0\"}, inplace=True)\n",
        "gm_crops[\"Value\"].replace({\"*\": \"0\"}, inplace=True)"
      ],
      "execution_count": 1312,
      "outputs": []
    },
    {
      "cell_type": "code",
      "metadata": {
        "colab": {
          "base_uri": "https://localhost:8080/"
        },
        "id": "EaUIZ0IGgRB1",
        "outputId": "18e6a276-0f52-4e04-aa66-f86262c4f474"
      },
      "source": [
        "gm_crops.dtypes"
      ],
      "execution_count": 1313,
      "outputs": [
        {
          "output_type": "execute_result",
          "data": {
            "text/plain": [
              "Table        object\n",
              "Unit         object\n",
              "Variety      object\n",
              "Year          int64\n",
              "Attribute    object\n",
              "Value        object\n",
              "dtype: object"
            ]
          },
          "metadata": {
            "tags": []
          },
          "execution_count": 1313
        }
      ]
    },
    {
      "cell_type": "code",
      "metadata": {
        "id": "Kbcw6Em-gmcS"
      },
      "source": [
        "gm_crops[\"Value\"] = gm_crops[\"Value\"].astype(float).astype(int)"
      ],
      "execution_count": 1314,
      "outputs": []
    },
    {
      "cell_type": "code",
      "metadata": {
        "colab": {
          "base_uri": "https://localhost:8080/"
        },
        "id": "lmyxeapjgtmw",
        "outputId": "6112485b-41ec-42a3-c6de-6cb8bc1e2fa8"
      },
      "source": [
        "gm_crops.dtypes"
      ],
      "execution_count": 1315,
      "outputs": [
        {
          "output_type": "execute_result",
          "data": {
            "text/plain": [
              "Table        object\n",
              "Unit         object\n",
              "Variety      object\n",
              "Year          int64\n",
              "Attribute    object\n",
              "Value         int64\n",
              "dtype: object"
            ]
          },
          "metadata": {
            "tags": []
          },
          "execution_count": 1315
        }
      ]
    },
    {
      "cell_type": "code",
      "metadata": {
        "colab": {
          "base_uri": "https://localhost:8080/",
          "height": 221
        },
        "id": "5ekP3lxbgzLu",
        "outputId": "9c1c32ed-6e21-4312-fef9-4b2708605114"
      },
      "source": [
        "corn.head()"
      ],
      "execution_count": 1316,
      "outputs": [
        {
          "output_type": "execute_result",
          "data": {
            "text/html": [
              "<div>\n",
              "<style scoped>\n",
              "    .dataframe tbody tr th:only-of-type {\n",
              "        vertical-align: middle;\n",
              "    }\n",
              "\n",
              "    .dataframe tbody tr th {\n",
              "        vertical-align: top;\n",
              "    }\n",
              "\n",
              "    .dataframe thead th {\n",
              "        text-align: right;\n",
              "    }\n",
              "</style>\n",
              "<table border=\"1\" class=\"dataframe\">\n",
              "  <thead>\n",
              "    <tr style=\"text-align: right;\">\n",
              "      <th></th>\n",
              "      <th>Year</th>\n",
              "      <th>State</th>\n",
              "      <th>Unnamed: 2</th>\n",
              "      <th>Area planted</th>\n",
              "      <th>Area harvested for grain</th>\n",
              "      <th>Yield</th>\n",
              "      <th>Production</th>\n",
              "    </tr>\n",
              "  </thead>\n",
              "  <tbody>\n",
              "    <tr>\n",
              "      <th>0</th>\n",
              "      <td>2005</td>\n",
              "      <td>Alabama</td>\n",
              "      <td>NaN</td>\n",
              "      <td>220</td>\n",
              "      <td>200</td>\n",
              "      <td>119</td>\n",
              "      <td>23800</td>\n",
              "    </tr>\n",
              "    <tr>\n",
              "      <th>1</th>\n",
              "      <td>2005</td>\n",
              "      <td>Arizona</td>\n",
              "      <td>NaN</td>\n",
              "      <td>50</td>\n",
              "      <td>22</td>\n",
              "      <td>195</td>\n",
              "      <td>4290</td>\n",
              "    </tr>\n",
              "    <tr>\n",
              "      <th>2</th>\n",
              "      <td>2005</td>\n",
              "      <td>Arkansas</td>\n",
              "      <td>NaN</td>\n",
              "      <td>240</td>\n",
              "      <td>230</td>\n",
              "      <td>131</td>\n",
              "      <td>30130</td>\n",
              "    </tr>\n",
              "    <tr>\n",
              "      <th>3</th>\n",
              "      <td>2005</td>\n",
              "      <td>California</td>\n",
              "      <td>NaN</td>\n",
              "      <td>560</td>\n",
              "      <td>130</td>\n",
              "      <td>172</td>\n",
              "      <td>22360</td>\n",
              "    </tr>\n",
              "    <tr>\n",
              "      <th>4</th>\n",
              "      <td>2005</td>\n",
              "      <td>Colorado</td>\n",
              "      <td>NaN</td>\n",
              "      <td>1100</td>\n",
              "      <td>950</td>\n",
              "      <td>148</td>\n",
              "      <td>140600</td>\n",
              "    </tr>\n",
              "  </tbody>\n",
              "</table>\n",
              "</div>"
            ],
            "text/plain": [
              "   Year       State  Unnamed: 2  ...  Area harvested for grain Yield Production\n",
              "0  2005     Alabama         NaN  ...                       200   119      23800\n",
              "1  2005     Arizona         NaN  ...                        22   195       4290\n",
              "2  2005   Arkansas          NaN  ...                       230   131      30130\n",
              "3  2005  California         NaN  ...                       130   172      22360\n",
              "4  2005   Colorado          NaN  ...                       950   148     140600\n",
              "\n",
              "[5 rows x 7 columns]"
            ]
          },
          "metadata": {
            "tags": []
          },
          "execution_count": 1316
        }
      ]
    },
    {
      "cell_type": "code",
      "metadata": {
        "id": "_Lkqd1J8g2Rl"
      },
      "source": [
        "corn=corn.drop(columns='Unnamed: 2')"
      ],
      "execution_count": 1317,
      "outputs": []
    },
    {
      "cell_type": "code",
      "metadata": {
        "colab": {
          "base_uri": "https://localhost:8080/"
        },
        "id": "N9HqLCaMhchw",
        "outputId": "a64a9344-9296-4bde-f52e-7e72c4a250db"
      },
      "source": [
        "corn.dtypes"
      ],
      "execution_count": 1318,
      "outputs": [
        {
          "output_type": "execute_result",
          "data": {
            "text/plain": [
              "Year                         int64\n",
              "State                       object\n",
              "Area planted                 int64\n",
              "Area harvested for grain    object\n",
              "Yield                       object\n",
              "Production                  object\n",
              "dtype: object"
            ]
          },
          "metadata": {
            "tags": []
          },
          "execution_count": 1318
        }
      ]
    },
    {
      "cell_type": "code",
      "metadata": {
        "id": "X8B2z5UkiEd3"
      },
      "source": [
        "corn[\"Area harvested for grain\"].replace({\"(NA)\": \"0\"}, inplace=True) \n",
        "corn[\"Area harvested for grain\"].replace({\"\": \"0\"}, inplace=True) \n",
        "corn[\"Yield\"].replace({\"(NA)\": \"0\"}, inplace=True) \n",
        "corn[\"Yield\"].replace({\"(NA)\": \"0\"}, inplace=True) \n",
        "corn[\"Production\"].replace({\"(NA)\": \"0\"}, inplace=True) \n",
        "corn[\"Production\"].replace({\"\": \"0\"}, inplace=True)\n"
      ],
      "execution_count": 1319,
      "outputs": []
    },
    {
      "cell_type": "code",
      "metadata": {
        "id": "x-NTQBWvqNTl"
      },
      "source": [
        "corn[\"Area harvested for grain\"].replace({\"NA\": \"0\"}, inplace=True) "
      ],
      "execution_count": 1320,
      "outputs": []
    },
    {
      "cell_type": "code",
      "metadata": {
        "id": "dtkJY7OaqW4H"
      },
      "source": [
        "corn[\"Area harvested for grain\"].replace({\"inf\": \"0\"}, inplace=True) "
      ],
      "execution_count": 1321,
      "outputs": []
    },
    {
      "cell_type": "code",
      "metadata": {
        "id": "hulCE3-grIoN"
      },
      "source": [
        "corn = corn.fillna(0)"
      ],
      "execution_count": 1322,
      "outputs": []
    },
    {
      "cell_type": "code",
      "metadata": {
        "colab": {
          "base_uri": "https://localhost:8080/"
        },
        "id": "Jt8_t3GRr9bg",
        "outputId": "d57e48b2-1c58-4083-bd3f-0dbf2130d70b"
      },
      "source": [
        "corn[\"Area harvested for grain\"].astype(float).astype(int)"
      ],
      "execution_count": 1323,
      "outputs": [
        {
          "output_type": "execute_result",
          "data": {
            "text/plain": [
              "0        200\n",
              "1         22\n",
              "2        230\n",
              "3        130\n",
              "4        950\n",
              "       ...  \n",
              "730       90\n",
              "731       38\n",
              "732     2680\n",
              "733       67\n",
              "734    81482\n",
              "Name: Area harvested for grain, Length: 735, dtype: int64"
            ]
          },
          "metadata": {
            "tags": []
          },
          "execution_count": 1323
        }
      ]
    },
    {
      "cell_type": "code",
      "metadata": {
        "id": "I7lPg7fFr_S9"
      },
      "source": [
        "corn[\"Yield\"] = corn[\"Yield\"].astype(float).astype(int)\n",
        "corn[\"Production\"] = corn[\"Production\"].astype(float).astype(int)"
      ],
      "execution_count": 1324,
      "outputs": []
    },
    {
      "cell_type": "code",
      "metadata": {
        "colab": {
          "base_uri": "https://localhost:8080/"
        },
        "id": "mSC0k-ThWEh_",
        "outputId": "872f45a1-04ab-478f-c634-c799c470bcd2"
      },
      "source": [
        "gm_crops['Attribute'].unique()"
      ],
      "execution_count": 1325,
      "outputs": [
        {
          "output_type": "execute_result",
          "data": {
            "text/plain": [
              "array(['Illinois', 'Indiana', 'Iowa', 'Kansas', 'Michigan', 'Minnesota',\n",
              "       'Missouri', 'Nebraska', 'North Dakota', 'Ohio', 'South Dakota',\n",
              "       'Texas', 'Wisconsin', 'Other States', 'U.S.', 'Alabama',\n",
              "       'Arkansas', 'California', 'Georgia', 'Louisiana', 'Mississippi',\n",
              "       'North Carolina', 'Tennessee'], dtype=object)"
            ]
          },
          "metadata": {
            "tags": []
          },
          "execution_count": 1325
        }
      ]
    },
    {
      "cell_type": "code",
      "metadata": {
        "colab": {
          "base_uri": "https://localhost:8080/"
        },
        "id": "4HT1ZMP6iYkq",
        "outputId": "6b20f3d8-ed75-4aca-a8a6-c16bb022fa32"
      },
      "source": [
        "corn['State'].unique()"
      ],
      "execution_count": 1326,
      "outputs": [
        {
          "output_type": "execute_result",
          "data": {
            "text/plain": [
              "array(['Alabama', 'Arizona', 'Arkansas ', 'California', 'Colorado ',\n",
              "       'Connecticut ', 'Delaware', 'Florida ', 'Georgia ', 'Idaho ',\n",
              "       'Illinois ', 'Indiana', 'Iowa ', 'Kansas ', 'Kentucky ',\n",
              "       'Louisiana', 'Maine ', 'Maryland ', 'Massachusetts ', 'Michigan',\n",
              "       'Minnesota', 'Mississippi', 'Missouri ', 'Montana ', 'Nebraska',\n",
              "       'Nevada ', 'New Hampshire ', 'New Jersey ', 'New Mexico ',\n",
              "       'New York ', 'North Carolina', 'North Dakota ', 'Ohio ',\n",
              "       'Oklahoma', 'Oregon ', 'Pennsylvania ', 'Rhode Island ',\n",
              "       'South Carolina', 'South Dakota ', 'Tennessee ', 'Texas ', 'Utah ',\n",
              "       'Vermont ', 'Virginia ', 'Washington', 'West Virginia ',\n",
              "       'Wisconsin ', 'Wyoming ', 'United States'], dtype=object)"
            ]
          },
          "metadata": {
            "tags": []
          },
          "execution_count": 1326
        }
      ]
    },
    {
      "cell_type": "code",
      "metadata": {
        "id": "LU9Z6mFykpcX"
      },
      "source": [
        "corn['State'].replace({'Arkansas ': 'Arkansas'}, inplace=True)"
      ],
      "execution_count": 1327,
      "outputs": []
    },
    {
      "cell_type": "code",
      "metadata": {
        "id": "X5OY719CXYv0"
      },
      "source": [
        "corn['State'].replace({'Colorado ': 'Colorado', 'Connecticut ':'Conneticut', 'Florida ':'Florida','Georgia ':'Georgia', 'Idaho ':'Idaho', 'Illinois ':'Illinois', 'Iowa ':'Iowa','Kansas ':'Kansas','Kentucky ':'Kentucky', 'Maine ':'Maine', 'Massachusetts ':'Massachusetts','Missouri ':'Missouri','North Dakota ':'North Dakota','Ohio ':'Ohio','South Dakota ':'South Dakota','Texas ':'Texas', 'Wisconsin ':'Wisconsin'}, inplace=True)"
      ],
      "execution_count": 1328,
      "outputs": []
    },
    {
      "cell_type": "code",
      "metadata": {
        "colab": {
          "base_uri": "https://localhost:8080/"
        },
        "id": "djFDRURnRkuU",
        "outputId": "aa665043-e91a-4af8-a9ea-f057eda5f303"
      },
      "source": [
        "corn['State'].unique()"
      ],
      "execution_count": 1329,
      "outputs": [
        {
          "output_type": "execute_result",
          "data": {
            "text/plain": [
              "array(['Alabama', 'Arizona', 'Arkansas', 'California', 'Colorado',\n",
              "       'Conneticut', 'Delaware', 'Florida', 'Georgia', 'Idaho',\n",
              "       'Illinois', 'Indiana', 'Iowa', 'Kansas', 'Kentucky', 'Louisiana',\n",
              "       'Maine', 'Maryland ', 'Massachusetts', 'Michigan', 'Minnesota',\n",
              "       'Mississippi', 'Missouri', 'Montana ', 'Nebraska', 'Nevada ',\n",
              "       'New Hampshire ', 'New Jersey ', 'New Mexico ', 'New York ',\n",
              "       'North Carolina', 'North Dakota', 'Ohio', 'Oklahoma', 'Oregon ',\n",
              "       'Pennsylvania ', 'Rhode Island ', 'South Carolina', 'South Dakota',\n",
              "       'Tennessee ', 'Texas', 'Utah ', 'Vermont ', 'Virginia ',\n",
              "       'Washington', 'West Virginia ', 'Wisconsin', 'Wyoming ',\n",
              "       'United States'], dtype=object)"
            ]
          },
          "metadata": {
            "tags": []
          },
          "execution_count": 1329
        }
      ]
    },
    {
      "cell_type": "code",
      "metadata": {
        "id": "WGdj_xsGRn9M"
      },
      "source": [
        "corn['State'].replace({'Maryland ': 'Maryland', 'Nevada ':'Nevada','New Hampshire ':'New Hampshire', 'New Jersey ':'New Jersey','New Mexico ':'New Mexico', 'New York ':'New York', 'Oregon ':'Oregon','Pennsylvania ':'Pennsylvania','Rhode Island ':'Rhode Island', 'Tennessee ':'Tennessee','Utah ':'Utah','Vermont ':'Vermont','Virginia ':'Virginia','West Virginia ':'West Virginia','Wyoming ':'Wyoming'}, inplace=True)"
      ],
      "execution_count": 1330,
      "outputs": []
    },
    {
      "cell_type": "code",
      "metadata": {
        "colab": {
          "base_uri": "https://localhost:8080/"
        },
        "id": "1AfSEfkvsHmk",
        "outputId": "b71d9815-b6ec-4680-83da-1b1a16bb51a4"
      },
      "source": [
        "gm_crops['Attribute'].unique()"
      ],
      "execution_count": 1331,
      "outputs": [
        {
          "output_type": "execute_result",
          "data": {
            "text/plain": [
              "array(['Illinois', 'Indiana', 'Iowa', 'Kansas', 'Michigan', 'Minnesota',\n",
              "       'Missouri', 'Nebraska', 'North Dakota', 'Ohio', 'South Dakota',\n",
              "       'Texas', 'Wisconsin', 'Other States', 'U.S.', 'Alabama',\n",
              "       'Arkansas', 'California', 'Georgia', 'Louisiana', 'Mississippi',\n",
              "       'North Carolina', 'Tennessee'], dtype=object)"
            ]
          },
          "metadata": {
            "tags": []
          },
          "execution_count": 1331
        }
      ]
    },
    {
      "cell_type": "code",
      "metadata": {
        "colab": {
          "base_uri": "https://localhost:8080/",
          "height": 1000
        },
        "id": "CZ3ERHJsGkcr",
        "outputId": "5146419e-d4b5-4c93-b085-d6ce2a416bc5"
      },
      "source": [
        "gm_crops.tail(50)"
      ],
      "execution_count": 1333,
      "outputs": [
        {
          "output_type": "execute_result",
          "data": {
            "text/html": [
              "<div>\n",
              "<style scoped>\n",
              "    .dataframe tbody tr th:only-of-type {\n",
              "        vertical-align: middle;\n",
              "    }\n",
              "\n",
              "    .dataframe tbody tr th {\n",
              "        vertical-align: top;\n",
              "    }\n",
              "\n",
              "    .dataframe thead th {\n",
              "        text-align: right;\n",
              "    }\n",
              "</style>\n",
              "<table border=\"1\" class=\"dataframe\">\n",
              "  <thead>\n",
              "    <tr style=\"text-align: right;\">\n",
              "      <th></th>\n",
              "      <th>Table</th>\n",
              "      <th>Unit</th>\n",
              "      <th>Variety</th>\n",
              "      <th>Year</th>\n",
              "      <th>Attribute</th>\n",
              "      <th>Value</th>\n",
              "    </tr>\n",
              "  </thead>\n",
              "  <tbody>\n",
              "    <tr>\n",
              "      <th>2890</th>\n",
              "      <td>Genetically engineered (GE) soybean varieties</td>\n",
              "      <td>Percent of all soybeans planted</td>\n",
              "      <td>All GE varieties</td>\n",
              "      <td>2017</td>\n",
              "      <td>Other States</td>\n",
              "      <td>94</td>\n",
              "    </tr>\n",
              "    <tr>\n",
              "      <th>2891</th>\n",
              "      <td>Genetically engineered (GE) soybean varieties</td>\n",
              "      <td>Percent of all soybeans planted</td>\n",
              "      <td>All GE varieties</td>\n",
              "      <td>2017</td>\n",
              "      <td>U.S.</td>\n",
              "      <td>94</td>\n",
              "    </tr>\n",
              "    <tr>\n",
              "      <th>2892</th>\n",
              "      <td>Genetically engineered (GE) soybean varieties</td>\n",
              "      <td>Percent of all soybeans planted</td>\n",
              "      <td>All GE varieties</td>\n",
              "      <td>2018</td>\n",
              "      <td>Arkansas</td>\n",
              "      <td>97</td>\n",
              "    </tr>\n",
              "    <tr>\n",
              "      <th>2893</th>\n",
              "      <td>Genetically engineered (GE) soybean varieties</td>\n",
              "      <td>Percent of all soybeans planted</td>\n",
              "      <td>All GE varieties</td>\n",
              "      <td>2018</td>\n",
              "      <td>Illinois</td>\n",
              "      <td>93</td>\n",
              "    </tr>\n",
              "    <tr>\n",
              "      <th>2894</th>\n",
              "      <td>Genetically engineered (GE) soybean varieties</td>\n",
              "      <td>Percent of all soybeans planted</td>\n",
              "      <td>All GE varieties</td>\n",
              "      <td>2018</td>\n",
              "      <td>Indiana</td>\n",
              "      <td>91</td>\n",
              "    </tr>\n",
              "    <tr>\n",
              "      <th>2895</th>\n",
              "      <td>Genetically engineered (GE) soybean varieties</td>\n",
              "      <td>Percent of all soybeans planted</td>\n",
              "      <td>All GE varieties</td>\n",
              "      <td>2018</td>\n",
              "      <td>Iowa</td>\n",
              "      <td>95</td>\n",
              "    </tr>\n",
              "    <tr>\n",
              "      <th>2896</th>\n",
              "      <td>Genetically engineered (GE) soybean varieties</td>\n",
              "      <td>Percent of all soybeans planted</td>\n",
              "      <td>All GE varieties</td>\n",
              "      <td>2018</td>\n",
              "      <td>Kansas</td>\n",
              "      <td>95</td>\n",
              "    </tr>\n",
              "    <tr>\n",
              "      <th>2897</th>\n",
              "      <td>Genetically engineered (GE) soybean varieties</td>\n",
              "      <td>Percent of all soybeans planted</td>\n",
              "      <td>All GE varieties</td>\n",
              "      <td>2018</td>\n",
              "      <td>Michigan</td>\n",
              "      <td>93</td>\n",
              "    </tr>\n",
              "    <tr>\n",
              "      <th>2898</th>\n",
              "      <td>Genetically engineered (GE) soybean varieties</td>\n",
              "      <td>Percent of all soybeans planted</td>\n",
              "      <td>All GE varieties</td>\n",
              "      <td>2018</td>\n",
              "      <td>Minnesota</td>\n",
              "      <td>95</td>\n",
              "    </tr>\n",
              "    <tr>\n",
              "      <th>2899</th>\n",
              "      <td>Genetically engineered (GE) soybean varieties</td>\n",
              "      <td>Percent of all soybeans planted</td>\n",
              "      <td>All GE varieties</td>\n",
              "      <td>2018</td>\n",
              "      <td>Mississippi</td>\n",
              "      <td>99</td>\n",
              "    </tr>\n",
              "    <tr>\n",
              "      <th>2900</th>\n",
              "      <td>Genetically engineered (GE) soybean varieties</td>\n",
              "      <td>Percent of all soybeans planted</td>\n",
              "      <td>All GE varieties</td>\n",
              "      <td>2018</td>\n",
              "      <td>Missouri</td>\n",
              "      <td>91</td>\n",
              "    </tr>\n",
              "    <tr>\n",
              "      <th>2901</th>\n",
              "      <td>Genetically engineered (GE) soybean varieties</td>\n",
              "      <td>Percent of all soybeans planted</td>\n",
              "      <td>All GE varieties</td>\n",
              "      <td>2018</td>\n",
              "      <td>Nebraska</td>\n",
              "      <td>96</td>\n",
              "    </tr>\n",
              "    <tr>\n",
              "      <th>2902</th>\n",
              "      <td>Genetically engineered (GE) soybean varieties</td>\n",
              "      <td>Percent of all soybeans planted</td>\n",
              "      <td>All GE varieties</td>\n",
              "      <td>2018</td>\n",
              "      <td>North Dakota</td>\n",
              "      <td>95</td>\n",
              "    </tr>\n",
              "    <tr>\n",
              "      <th>2903</th>\n",
              "      <td>Genetically engineered (GE) soybean varieties</td>\n",
              "      <td>Percent of all soybeans planted</td>\n",
              "      <td>All GE varieties</td>\n",
              "      <td>2018</td>\n",
              "      <td>Ohio</td>\n",
              "      <td>91</td>\n",
              "    </tr>\n",
              "    <tr>\n",
              "      <th>2904</th>\n",
              "      <td>Genetically engineered (GE) soybean varieties</td>\n",
              "      <td>Percent of all soybeans planted</td>\n",
              "      <td>All GE varieties</td>\n",
              "      <td>2018</td>\n",
              "      <td>South Dakota</td>\n",
              "      <td>97</td>\n",
              "    </tr>\n",
              "    <tr>\n",
              "      <th>2905</th>\n",
              "      <td>Genetically engineered (GE) soybean varieties</td>\n",
              "      <td>Percent of all soybeans planted</td>\n",
              "      <td>All GE varieties</td>\n",
              "      <td>2018</td>\n",
              "      <td>Wisconsin</td>\n",
              "      <td>92</td>\n",
              "    </tr>\n",
              "    <tr>\n",
              "      <th>2906</th>\n",
              "      <td>Genetically engineered (GE) soybean varieties</td>\n",
              "      <td>Percent of all soybeans planted</td>\n",
              "      <td>All GE varieties</td>\n",
              "      <td>2018</td>\n",
              "      <td>Other States</td>\n",
              "      <td>94</td>\n",
              "    </tr>\n",
              "    <tr>\n",
              "      <th>2907</th>\n",
              "      <td>Genetically engineered (GE) soybean varieties</td>\n",
              "      <td>Percent of all soybeans planted</td>\n",
              "      <td>All GE varieties</td>\n",
              "      <td>2018</td>\n",
              "      <td>U.S.</td>\n",
              "      <td>94</td>\n",
              "    </tr>\n",
              "    <tr>\n",
              "      <th>2908</th>\n",
              "      <td>Genetically engineered (GE) soybean varieties</td>\n",
              "      <td>Percent of all soybeans planted</td>\n",
              "      <td>All GE varieties</td>\n",
              "      <td>2019</td>\n",
              "      <td>Arkansas</td>\n",
              "      <td>96</td>\n",
              "    </tr>\n",
              "    <tr>\n",
              "      <th>2909</th>\n",
              "      <td>Genetically engineered (GE) soybean varieties</td>\n",
              "      <td>Percent of all soybeans planted</td>\n",
              "      <td>All GE varieties</td>\n",
              "      <td>2019</td>\n",
              "      <td>Illinois</td>\n",
              "      <td>94</td>\n",
              "    </tr>\n",
              "    <tr>\n",
              "      <th>2910</th>\n",
              "      <td>Genetically engineered (GE) soybean varieties</td>\n",
              "      <td>Percent of all soybeans planted</td>\n",
              "      <td>All GE varieties</td>\n",
              "      <td>2019</td>\n",
              "      <td>Indiana</td>\n",
              "      <td>93</td>\n",
              "    </tr>\n",
              "    <tr>\n",
              "      <th>2911</th>\n",
              "      <td>Genetically engineered (GE) soybean varieties</td>\n",
              "      <td>Percent of all soybeans planted</td>\n",
              "      <td>All GE varieties</td>\n",
              "      <td>2019</td>\n",
              "      <td>Iowa</td>\n",
              "      <td>94</td>\n",
              "    </tr>\n",
              "    <tr>\n",
              "      <th>2912</th>\n",
              "      <td>Genetically engineered (GE) soybean varieties</td>\n",
              "      <td>Percent of all soybeans planted</td>\n",
              "      <td>All GE varieties</td>\n",
              "      <td>2019</td>\n",
              "      <td>Kansas</td>\n",
              "      <td>95</td>\n",
              "    </tr>\n",
              "    <tr>\n",
              "      <th>2913</th>\n",
              "      <td>Genetically engineered (GE) soybean varieties</td>\n",
              "      <td>Percent of all soybeans planted</td>\n",
              "      <td>All GE varieties</td>\n",
              "      <td>2019</td>\n",
              "      <td>Michigan</td>\n",
              "      <td>92</td>\n",
              "    </tr>\n",
              "    <tr>\n",
              "      <th>2914</th>\n",
              "      <td>Genetically engineered (GE) soybean varieties</td>\n",
              "      <td>Percent of all soybeans planted</td>\n",
              "      <td>All GE varieties</td>\n",
              "      <td>2019</td>\n",
              "      <td>Minnesota</td>\n",
              "      <td>95</td>\n",
              "    </tr>\n",
              "    <tr>\n",
              "      <th>2915</th>\n",
              "      <td>Genetically engineered (GE) soybean varieties</td>\n",
              "      <td>Percent of all soybeans planted</td>\n",
              "      <td>All GE varieties</td>\n",
              "      <td>2019</td>\n",
              "      <td>Mississippi</td>\n",
              "      <td>99</td>\n",
              "    </tr>\n",
              "    <tr>\n",
              "      <th>2916</th>\n",
              "      <td>Genetically engineered (GE) soybean varieties</td>\n",
              "      <td>Percent of all soybeans planted</td>\n",
              "      <td>All GE varieties</td>\n",
              "      <td>2019</td>\n",
              "      <td>Missouri</td>\n",
              "      <td>94</td>\n",
              "    </tr>\n",
              "    <tr>\n",
              "      <th>2917</th>\n",
              "      <td>Genetically engineered (GE) soybean varieties</td>\n",
              "      <td>Percent of all soybeans planted</td>\n",
              "      <td>All GE varieties</td>\n",
              "      <td>2019</td>\n",
              "      <td>Nebraska</td>\n",
              "      <td>95</td>\n",
              "    </tr>\n",
              "    <tr>\n",
              "      <th>2918</th>\n",
              "      <td>Genetically engineered (GE) soybean varieties</td>\n",
              "      <td>Percent of all soybeans planted</td>\n",
              "      <td>All GE varieties</td>\n",
              "      <td>2019</td>\n",
              "      <td>North Dakota</td>\n",
              "      <td>95</td>\n",
              "    </tr>\n",
              "    <tr>\n",
              "      <th>2919</th>\n",
              "      <td>Genetically engineered (GE) soybean varieties</td>\n",
              "      <td>Percent of all soybeans planted</td>\n",
              "      <td>All GE varieties</td>\n",
              "      <td>2019</td>\n",
              "      <td>Ohio</td>\n",
              "      <td>95</td>\n",
              "    </tr>\n",
              "    <tr>\n",
              "      <th>2920</th>\n",
              "      <td>Genetically engineered (GE) soybean varieties</td>\n",
              "      <td>Percent of all soybeans planted</td>\n",
              "      <td>All GE varieties</td>\n",
              "      <td>2019</td>\n",
              "      <td>South Dakota</td>\n",
              "      <td>93</td>\n",
              "    </tr>\n",
              "    <tr>\n",
              "      <th>2921</th>\n",
              "      <td>Genetically engineered (GE) soybean varieties</td>\n",
              "      <td>Percent of all soybeans planted</td>\n",
              "      <td>All GE varieties</td>\n",
              "      <td>2019</td>\n",
              "      <td>Wisconsin</td>\n",
              "      <td>91</td>\n",
              "    </tr>\n",
              "    <tr>\n",
              "      <th>2922</th>\n",
              "      <td>Genetically engineered (GE) soybean varieties</td>\n",
              "      <td>Percent of all soybeans planted</td>\n",
              "      <td>All GE varieties</td>\n",
              "      <td>2019</td>\n",
              "      <td>Other States</td>\n",
              "      <td>94</td>\n",
              "    </tr>\n",
              "    <tr>\n",
              "      <th>2923</th>\n",
              "      <td>Genetically engineered (GE) soybean varieties</td>\n",
              "      <td>Percent of all soybeans planted</td>\n",
              "      <td>All GE varieties</td>\n",
              "      <td>2019</td>\n",
              "      <td>U.S.</td>\n",
              "      <td>94</td>\n",
              "    </tr>\n",
              "    <tr>\n",
              "      <th>2924</th>\n",
              "      <td>Genetically engineered (GE) soybean varieties</td>\n",
              "      <td>Percent of all soybeans planted</td>\n",
              "      <td>All GE varieties</td>\n",
              "      <td>2020</td>\n",
              "      <td>Arkansas</td>\n",
              "      <td>96</td>\n",
              "    </tr>\n",
              "    <tr>\n",
              "      <th>2925</th>\n",
              "      <td>Genetically engineered (GE) soybean varieties</td>\n",
              "      <td>Percent of all soybeans planted</td>\n",
              "      <td>All GE varieties</td>\n",
              "      <td>2020</td>\n",
              "      <td>Illinois</td>\n",
              "      <td>94</td>\n",
              "    </tr>\n",
              "    <tr>\n",
              "      <th>2926</th>\n",
              "      <td>Genetically engineered (GE) soybean varieties</td>\n",
              "      <td>Percent of all soybeans planted</td>\n",
              "      <td>All GE varieties</td>\n",
              "      <td>2020</td>\n",
              "      <td>Indiana</td>\n",
              "      <td>93</td>\n",
              "    </tr>\n",
              "    <tr>\n",
              "      <th>2927</th>\n",
              "      <td>Genetically engineered (GE) soybean varieties</td>\n",
              "      <td>Percent of all soybeans planted</td>\n",
              "      <td>All GE varieties</td>\n",
              "      <td>2020</td>\n",
              "      <td>Iowa</td>\n",
              "      <td>93</td>\n",
              "    </tr>\n",
              "    <tr>\n",
              "      <th>2928</th>\n",
              "      <td>Genetically engineered (GE) soybean varieties</td>\n",
              "      <td>Percent of all soybeans planted</td>\n",
              "      <td>All GE varieties</td>\n",
              "      <td>2020</td>\n",
              "      <td>Kansas</td>\n",
              "      <td>97</td>\n",
              "    </tr>\n",
              "    <tr>\n",
              "      <th>2929</th>\n",
              "      <td>Genetically engineered (GE) soybean varieties</td>\n",
              "      <td>Percent of all soybeans planted</td>\n",
              "      <td>All GE varieties</td>\n",
              "      <td>2020</td>\n",
              "      <td>Michigan</td>\n",
              "      <td>91</td>\n",
              "    </tr>\n",
              "    <tr>\n",
              "      <th>2930</th>\n",
              "      <td>Genetically engineered (GE) soybean varieties</td>\n",
              "      <td>Percent of all soybeans planted</td>\n",
              "      <td>All GE varieties</td>\n",
              "      <td>2020</td>\n",
              "      <td>Minnesota</td>\n",
              "      <td>93</td>\n",
              "    </tr>\n",
              "    <tr>\n",
              "      <th>2931</th>\n",
              "      <td>Genetically engineered (GE) soybean varieties</td>\n",
              "      <td>Percent of all soybeans planted</td>\n",
              "      <td>All GE varieties</td>\n",
              "      <td>2020</td>\n",
              "      <td>Mississippi</td>\n",
              "      <td>99</td>\n",
              "    </tr>\n",
              "    <tr>\n",
              "      <th>2932</th>\n",
              "      <td>Genetically engineered (GE) soybean varieties</td>\n",
              "      <td>Percent of all soybeans planted</td>\n",
              "      <td>All GE varieties</td>\n",
              "      <td>2020</td>\n",
              "      <td>Missouri</td>\n",
              "      <td>95</td>\n",
              "    </tr>\n",
              "    <tr>\n",
              "      <th>2933</th>\n",
              "      <td>Genetically engineered (GE) soybean varieties</td>\n",
              "      <td>Percent of all soybeans planted</td>\n",
              "      <td>All GE varieties</td>\n",
              "      <td>2020</td>\n",
              "      <td>Nebraska</td>\n",
              "      <td>96</td>\n",
              "    </tr>\n",
              "    <tr>\n",
              "      <th>2934</th>\n",
              "      <td>Genetically engineered (GE) soybean varieties</td>\n",
              "      <td>Percent of all soybeans planted</td>\n",
              "      <td>All GE varieties</td>\n",
              "      <td>2020</td>\n",
              "      <td>North Dakota</td>\n",
              "      <td>94</td>\n",
              "    </tr>\n",
              "    <tr>\n",
              "      <th>2935</th>\n",
              "      <td>Genetically engineered (GE) soybean varieties</td>\n",
              "      <td>Percent of all soybeans planted</td>\n",
              "      <td>All GE varieties</td>\n",
              "      <td>2020</td>\n",
              "      <td>Ohio</td>\n",
              "      <td>88</td>\n",
              "    </tr>\n",
              "    <tr>\n",
              "      <th>2936</th>\n",
              "      <td>Genetically engineered (GE) soybean varieties</td>\n",
              "      <td>Percent of all soybeans planted</td>\n",
              "      <td>All GE varieties</td>\n",
              "      <td>2020</td>\n",
              "      <td>South Dakota</td>\n",
              "      <td>95</td>\n",
              "    </tr>\n",
              "    <tr>\n",
              "      <th>2937</th>\n",
              "      <td>Genetically engineered (GE) soybean varieties</td>\n",
              "      <td>Percent of all soybeans planted</td>\n",
              "      <td>All GE varieties</td>\n",
              "      <td>2020</td>\n",
              "      <td>Wisconsin</td>\n",
              "      <td>89</td>\n",
              "    </tr>\n",
              "    <tr>\n",
              "      <th>2938</th>\n",
              "      <td>Genetically engineered (GE) soybean varieties</td>\n",
              "      <td>Percent of all soybeans planted</td>\n",
              "      <td>All GE varieties</td>\n",
              "      <td>2020</td>\n",
              "      <td>Other States</td>\n",
              "      <td>94</td>\n",
              "    </tr>\n",
              "    <tr>\n",
              "      <th>2939</th>\n",
              "      <td>Genetically engineered (GE) soybean varieties</td>\n",
              "      <td>Percent of all soybeans planted</td>\n",
              "      <td>All GE varieties</td>\n",
              "      <td>2020</td>\n",
              "      <td>U.S.</td>\n",
              "      <td>94</td>\n",
              "    </tr>\n",
              "  </tbody>\n",
              "</table>\n",
              "</div>"
            ],
            "text/plain": [
              "                                              Table  ... Value\n",
              "2890  Genetically engineered (GE) soybean varieties  ...    94\n",
              "2891  Genetically engineered (GE) soybean varieties  ...    94\n",
              "2892  Genetically engineered (GE) soybean varieties  ...    97\n",
              "2893  Genetically engineered (GE) soybean varieties  ...    93\n",
              "2894  Genetically engineered (GE) soybean varieties  ...    91\n",
              "2895  Genetically engineered (GE) soybean varieties  ...    95\n",
              "2896  Genetically engineered (GE) soybean varieties  ...    95\n",
              "2897  Genetically engineered (GE) soybean varieties  ...    93\n",
              "2898  Genetically engineered (GE) soybean varieties  ...    95\n",
              "2899  Genetically engineered (GE) soybean varieties  ...    99\n",
              "2900  Genetically engineered (GE) soybean varieties  ...    91\n",
              "2901  Genetically engineered (GE) soybean varieties  ...    96\n",
              "2902  Genetically engineered (GE) soybean varieties  ...    95\n",
              "2903  Genetically engineered (GE) soybean varieties  ...    91\n",
              "2904  Genetically engineered (GE) soybean varieties  ...    97\n",
              "2905  Genetically engineered (GE) soybean varieties  ...    92\n",
              "2906  Genetically engineered (GE) soybean varieties  ...    94\n",
              "2907  Genetically engineered (GE) soybean varieties  ...    94\n",
              "2908  Genetically engineered (GE) soybean varieties  ...    96\n",
              "2909  Genetically engineered (GE) soybean varieties  ...    94\n",
              "2910  Genetically engineered (GE) soybean varieties  ...    93\n",
              "2911  Genetically engineered (GE) soybean varieties  ...    94\n",
              "2912  Genetically engineered (GE) soybean varieties  ...    95\n",
              "2913  Genetically engineered (GE) soybean varieties  ...    92\n",
              "2914  Genetically engineered (GE) soybean varieties  ...    95\n",
              "2915  Genetically engineered (GE) soybean varieties  ...    99\n",
              "2916  Genetically engineered (GE) soybean varieties  ...    94\n",
              "2917  Genetically engineered (GE) soybean varieties  ...    95\n",
              "2918  Genetically engineered (GE) soybean varieties  ...    95\n",
              "2919  Genetically engineered (GE) soybean varieties  ...    95\n",
              "2920  Genetically engineered (GE) soybean varieties  ...    93\n",
              "2921  Genetically engineered (GE) soybean varieties  ...    91\n",
              "2922  Genetically engineered (GE) soybean varieties  ...    94\n",
              "2923  Genetically engineered (GE) soybean varieties  ...    94\n",
              "2924  Genetically engineered (GE) soybean varieties  ...    96\n",
              "2925  Genetically engineered (GE) soybean varieties  ...    94\n",
              "2926  Genetically engineered (GE) soybean varieties  ...    93\n",
              "2927  Genetically engineered (GE) soybean varieties  ...    93\n",
              "2928  Genetically engineered (GE) soybean varieties  ...    97\n",
              "2929  Genetically engineered (GE) soybean varieties  ...    91\n",
              "2930  Genetically engineered (GE) soybean varieties  ...    93\n",
              "2931  Genetically engineered (GE) soybean varieties  ...    99\n",
              "2932  Genetically engineered (GE) soybean varieties  ...    95\n",
              "2933  Genetically engineered (GE) soybean varieties  ...    96\n",
              "2934  Genetically engineered (GE) soybean varieties  ...    94\n",
              "2935  Genetically engineered (GE) soybean varieties  ...    88\n",
              "2936  Genetically engineered (GE) soybean varieties  ...    95\n",
              "2937  Genetically engineered (GE) soybean varieties  ...    89\n",
              "2938  Genetically engineered (GE) soybean varieties  ...    94\n",
              "2939  Genetically engineered (GE) soybean varieties  ...    94\n",
              "\n",
              "[50 rows x 6 columns]"
            ]
          },
          "metadata": {
            "tags": []
          },
          "execution_count": 1333
        }
      ]
    },
    {
      "cell_type": "code",
      "metadata": {
        "id": "f4J8RPlyF1sS"
      },
      "source": [
        "gm_crops = gm_crops[gm_crops['Variety']=='All GE varieties']"
      ],
      "execution_count": 1334,
      "outputs": []
    },
    {
      "cell_type": "code",
      "metadata": {
        "id": "aPn8IcNfJcWO",
        "outputId": "8542e58a-ce1f-4213-bfc8-014cbf5ae668",
        "colab": {
          "base_uri": "https://localhost:8080/",
          "height": 1000
        }
      },
      "source": [
        "gm_crops[gm_crops['Year']== 2005]"
      ],
      "execution_count": 1335,
      "outputs": [
        {
          "output_type": "execute_result",
          "data": {
            "text/html": [
              "<div>\n",
              "<style scoped>\n",
              "    .dataframe tbody tr th:only-of-type {\n",
              "        vertical-align: middle;\n",
              "    }\n",
              "\n",
              "    .dataframe tbody tr th {\n",
              "        vertical-align: top;\n",
              "    }\n",
              "\n",
              "    .dataframe thead th {\n",
              "        text-align: right;\n",
              "    }\n",
              "</style>\n",
              "<table border=\"1\" class=\"dataframe\">\n",
              "  <thead>\n",
              "    <tr style=\"text-align: right;\">\n",
              "      <th></th>\n",
              "      <th>Table</th>\n",
              "      <th>Unit</th>\n",
              "      <th>Variety</th>\n",
              "      <th>Year</th>\n",
              "      <th>Attribute</th>\n",
              "      <th>Value</th>\n",
              "    </tr>\n",
              "  </thead>\n",
              "  <tbody>\n",
              "    <tr>\n",
              "      <th>1020</th>\n",
              "      <td>Genetically engineered (GE) corn varieties</td>\n",
              "      <td>Percent of corn planted</td>\n",
              "      <td>All GE varieties</td>\n",
              "      <td>2005</td>\n",
              "      <td>Illinois</td>\n",
              "      <td>36</td>\n",
              "    </tr>\n",
              "    <tr>\n",
              "      <th>1021</th>\n",
              "      <td>Genetically engineered (GE) corn varieties</td>\n",
              "      <td>Percent of corn planted</td>\n",
              "      <td>All GE varieties</td>\n",
              "      <td>2005</td>\n",
              "      <td>Indiana</td>\n",
              "      <td>26</td>\n",
              "    </tr>\n",
              "    <tr>\n",
              "      <th>1022</th>\n",
              "      <td>Genetically engineered (GE) corn varieties</td>\n",
              "      <td>Percent of corn planted</td>\n",
              "      <td>All GE varieties</td>\n",
              "      <td>2005</td>\n",
              "      <td>Iowa</td>\n",
              "      <td>60</td>\n",
              "    </tr>\n",
              "    <tr>\n",
              "      <th>1023</th>\n",
              "      <td>Genetically engineered (GE) corn varieties</td>\n",
              "      <td>Percent of corn planted</td>\n",
              "      <td>All GE varieties</td>\n",
              "      <td>2005</td>\n",
              "      <td>Kansas</td>\n",
              "      <td>63</td>\n",
              "    </tr>\n",
              "    <tr>\n",
              "      <th>1024</th>\n",
              "      <td>Genetically engineered (GE) corn varieties</td>\n",
              "      <td>Percent of corn planted</td>\n",
              "      <td>All GE varieties</td>\n",
              "      <td>2005</td>\n",
              "      <td>Michigan</td>\n",
              "      <td>40</td>\n",
              "    </tr>\n",
              "    <tr>\n",
              "      <th>1025</th>\n",
              "      <td>Genetically engineered (GE) corn varieties</td>\n",
              "      <td>Percent of corn planted</td>\n",
              "      <td>All GE varieties</td>\n",
              "      <td>2005</td>\n",
              "      <td>Minnesota</td>\n",
              "      <td>66</td>\n",
              "    </tr>\n",
              "    <tr>\n",
              "      <th>1026</th>\n",
              "      <td>Genetically engineered (GE) corn varieties</td>\n",
              "      <td>Percent of corn planted</td>\n",
              "      <td>All GE varieties</td>\n",
              "      <td>2005</td>\n",
              "      <td>Missouri</td>\n",
              "      <td>55</td>\n",
              "    </tr>\n",
              "    <tr>\n",
              "      <th>1027</th>\n",
              "      <td>Genetically engineered (GE) corn varieties</td>\n",
              "      <td>Percent of corn planted</td>\n",
              "      <td>All GE varieties</td>\n",
              "      <td>2005</td>\n",
              "      <td>Nebraska</td>\n",
              "      <td>69</td>\n",
              "    </tr>\n",
              "    <tr>\n",
              "      <th>1028</th>\n",
              "      <td>Genetically engineered (GE) corn varieties</td>\n",
              "      <td>Percent of corn planted</td>\n",
              "      <td>All GE varieties</td>\n",
              "      <td>2005</td>\n",
              "      <td>North Dakota</td>\n",
              "      <td>75</td>\n",
              "    </tr>\n",
              "    <tr>\n",
              "      <th>1029</th>\n",
              "      <td>Genetically engineered (GE) corn varieties</td>\n",
              "      <td>Percent of corn planted</td>\n",
              "      <td>All GE varieties</td>\n",
              "      <td>2005</td>\n",
              "      <td>Ohio</td>\n",
              "      <td>18</td>\n",
              "    </tr>\n",
              "    <tr>\n",
              "      <th>1030</th>\n",
              "      <td>Genetically engineered (GE) corn varieties</td>\n",
              "      <td>Percent of corn planted</td>\n",
              "      <td>All GE varieties</td>\n",
              "      <td>2005</td>\n",
              "      <td>South Dakota</td>\n",
              "      <td>83</td>\n",
              "    </tr>\n",
              "    <tr>\n",
              "      <th>1031</th>\n",
              "      <td>Genetically engineered (GE) corn varieties</td>\n",
              "      <td>Percent of corn planted</td>\n",
              "      <td>All GE varieties</td>\n",
              "      <td>2005</td>\n",
              "      <td>Texas</td>\n",
              "      <td>72</td>\n",
              "    </tr>\n",
              "    <tr>\n",
              "      <th>1032</th>\n",
              "      <td>Genetically engineered (GE) corn varieties</td>\n",
              "      <td>Percent of corn planted</td>\n",
              "      <td>All GE varieties</td>\n",
              "      <td>2005</td>\n",
              "      <td>Wisconsin</td>\n",
              "      <td>46</td>\n",
              "    </tr>\n",
              "    <tr>\n",
              "      <th>1033</th>\n",
              "      <td>Genetically engineered (GE) corn varieties</td>\n",
              "      <td>Percent of corn planted</td>\n",
              "      <td>All GE varieties</td>\n",
              "      <td>2005</td>\n",
              "      <td>Other States</td>\n",
              "      <td>44</td>\n",
              "    </tr>\n",
              "    <tr>\n",
              "      <th>1034</th>\n",
              "      <td>Genetically engineered (GE) corn varieties</td>\n",
              "      <td>Percent of corn planted</td>\n",
              "      <td>All GE varieties</td>\n",
              "      <td>2005</td>\n",
              "      <td>U.S.</td>\n",
              "      <td>52</td>\n",
              "    </tr>\n",
              "    <tr>\n",
              "      <th>2076</th>\n",
              "      <td>Genetically engineered (GE) upland cotton vari...</td>\n",
              "      <td>Percent of upland cotton planted</td>\n",
              "      <td>All GE varieties</td>\n",
              "      <td>2005</td>\n",
              "      <td>Alabama</td>\n",
              "      <td>92</td>\n",
              "    </tr>\n",
              "    <tr>\n",
              "      <th>2077</th>\n",
              "      <td>Genetically engineered (GE) upland cotton vari...</td>\n",
              "      <td>Percent of upland cotton planted</td>\n",
              "      <td>All GE varieties</td>\n",
              "      <td>2005</td>\n",
              "      <td>Arkansas</td>\n",
              "      <td>96</td>\n",
              "    </tr>\n",
              "    <tr>\n",
              "      <th>2078</th>\n",
              "      <td>Genetically engineered (GE) upland cotton vari...</td>\n",
              "      <td>Percent of upland cotton planted</td>\n",
              "      <td>All GE varieties</td>\n",
              "      <td>2005</td>\n",
              "      <td>California</td>\n",
              "      <td>53</td>\n",
              "    </tr>\n",
              "    <tr>\n",
              "      <th>2079</th>\n",
              "      <td>Genetically engineered (GE) upland cotton vari...</td>\n",
              "      <td>Percent of upland cotton planted</td>\n",
              "      <td>All GE varieties</td>\n",
              "      <td>2005</td>\n",
              "      <td>Georgia</td>\n",
              "      <td>95</td>\n",
              "    </tr>\n",
              "    <tr>\n",
              "      <th>2080</th>\n",
              "      <td>Genetically engineered (GE) upland cotton vari...</td>\n",
              "      <td>Percent of upland cotton planted</td>\n",
              "      <td>All GE varieties</td>\n",
              "      <td>2005</td>\n",
              "      <td>Louisiana</td>\n",
              "      <td>95</td>\n",
              "    </tr>\n",
              "    <tr>\n",
              "      <th>2081</th>\n",
              "      <td>Genetically engineered (GE) upland cotton vari...</td>\n",
              "      <td>Percent of upland cotton planted</td>\n",
              "      <td>All GE varieties</td>\n",
              "      <td>2005</td>\n",
              "      <td>Mississippi</td>\n",
              "      <td>96</td>\n",
              "    </tr>\n",
              "    <tr>\n",
              "      <th>2082</th>\n",
              "      <td>Genetically engineered (GE) upland cotton vari...</td>\n",
              "      <td>Percent of upland cotton planted</td>\n",
              "      <td>All GE varieties</td>\n",
              "      <td>2005</td>\n",
              "      <td>Missouri</td>\n",
              "      <td>95</td>\n",
              "    </tr>\n",
              "    <tr>\n",
              "      <th>2083</th>\n",
              "      <td>Genetically engineered (GE) upland cotton vari...</td>\n",
              "      <td>Percent of upland cotton planted</td>\n",
              "      <td>All GE varieties</td>\n",
              "      <td>2005</td>\n",
              "      <td>North Carolina</td>\n",
              "      <td>95</td>\n",
              "    </tr>\n",
              "    <tr>\n",
              "      <th>2084</th>\n",
              "      <td>Genetically engineered (GE) upland cotton vari...</td>\n",
              "      <td>Percent of upland cotton planted</td>\n",
              "      <td>All GE varieties</td>\n",
              "      <td>2005</td>\n",
              "      <td>Tennessee</td>\n",
              "      <td>96</td>\n",
              "    </tr>\n",
              "    <tr>\n",
              "      <th>2085</th>\n",
              "      <td>Genetically engineered (GE) upland cotton vari...</td>\n",
              "      <td>Percent of upland cotton planted</td>\n",
              "      <td>All GE varieties</td>\n",
              "      <td>2005</td>\n",
              "      <td>Texas</td>\n",
              "      <td>63</td>\n",
              "    </tr>\n",
              "    <tr>\n",
              "      <th>2086</th>\n",
              "      <td>Genetically engineered (GE) upland cotton vari...</td>\n",
              "      <td>Percent of upland cotton planted</td>\n",
              "      <td>All GE varieties</td>\n",
              "      <td>2005</td>\n",
              "      <td>Other States</td>\n",
              "      <td>88</td>\n",
              "    </tr>\n",
              "    <tr>\n",
              "      <th>2087</th>\n",
              "      <td>Genetically engineered (GE) upland cotton vari...</td>\n",
              "      <td>Percent of upland cotton planted</td>\n",
              "      <td>All GE varieties</td>\n",
              "      <td>2005</td>\n",
              "      <td>U.S.</td>\n",
              "      <td>79</td>\n",
              "    </tr>\n",
              "  </tbody>\n",
              "</table>\n",
              "</div>"
            ],
            "text/plain": [
              "                                                  Table  ... Value\n",
              "1020         Genetically engineered (GE) corn varieties  ...    36\n",
              "1021         Genetically engineered (GE) corn varieties  ...    26\n",
              "1022         Genetically engineered (GE) corn varieties  ...    60\n",
              "1023         Genetically engineered (GE) corn varieties  ...    63\n",
              "1024         Genetically engineered (GE) corn varieties  ...    40\n",
              "1025         Genetically engineered (GE) corn varieties  ...    66\n",
              "1026         Genetically engineered (GE) corn varieties  ...    55\n",
              "1027         Genetically engineered (GE) corn varieties  ...    69\n",
              "1028         Genetically engineered (GE) corn varieties  ...    75\n",
              "1029         Genetically engineered (GE) corn varieties  ...    18\n",
              "1030         Genetically engineered (GE) corn varieties  ...    83\n",
              "1031         Genetically engineered (GE) corn varieties  ...    72\n",
              "1032         Genetically engineered (GE) corn varieties  ...    46\n",
              "1033         Genetically engineered (GE) corn varieties  ...    44\n",
              "1034         Genetically engineered (GE) corn varieties  ...    52\n",
              "2076  Genetically engineered (GE) upland cotton vari...  ...    92\n",
              "2077  Genetically engineered (GE) upland cotton vari...  ...    96\n",
              "2078  Genetically engineered (GE) upland cotton vari...  ...    53\n",
              "2079  Genetically engineered (GE) upland cotton vari...  ...    95\n",
              "2080  Genetically engineered (GE) upland cotton vari...  ...    95\n",
              "2081  Genetically engineered (GE) upland cotton vari...  ...    96\n",
              "2082  Genetically engineered (GE) upland cotton vari...  ...    95\n",
              "2083  Genetically engineered (GE) upland cotton vari...  ...    95\n",
              "2084  Genetically engineered (GE) upland cotton vari...  ...    96\n",
              "2085  Genetically engineered (GE) upland cotton vari...  ...    63\n",
              "2086  Genetically engineered (GE) upland cotton vari...  ...    88\n",
              "2087  Genetically engineered (GE) upland cotton vari...  ...    79\n",
              "\n",
              "[27 rows x 6 columns]"
            ]
          },
          "metadata": {
            "tags": []
          },
          "execution_count": 1335
        }
      ]
    },
    {
      "cell_type": "code",
      "metadata": {
        "id": "7vji4CS6FPfq"
      },
      "source": [
        "gm_2005 = gm_crops[gm_crops['Year']== 2005]"
      ],
      "execution_count": 1336,
      "outputs": []
    },
    {
      "cell_type": "code",
      "metadata": {
        "colab": {
          "base_uri": "https://localhost:8080/",
          "height": 427
        },
        "id": "YO-rLXfsFnOC",
        "outputId": "30ef2206-15f6-434e-f6da-6dcea72882a3"
      },
      "source": [
        "sns.set_theme(style=\"whitegrid\")\n",
        "g = sns.catplot(\n",
        "    data=gm_2005, kind=\"bar\",\n",
        "    x=\"Attribute\", y=\"Value\", hue=\"Unit\",\n",
        "    ci=\"sd\", palette=\"dark\", alpha=.6, height=6)\n",
        "g.despine(left=True)\n",
        "g.set_axis_labels(\"\", \"Body mass (g)\")\n",
        "g.legend.set_title(\"\")"
      ],
      "execution_count": 1337,
      "outputs": [
        {
          "output_type": "display_data",
          "data": {
            "image/png": "[encoded data removed]",
            "text/plain": [
              "<Figure size 653.475x432 with 1 Axes>"
            ]
          },
          "metadata": {
            "tags": []
          }
        }
      ]
    },
    {
      "cell_type": "code",
      "metadata": {
        "id": "K8gdzcFQJCDM",
        "outputId": "e7288169-084e-43ad-9943-18ee4db452f4",
        "colab": {
          "base_uri": "https://localhost:8080/",
          "height": 287
        }
      },
      "source": [
        "ax = sns.barplot(x=\"Attribute\", y=\"Value\", hue=\"Unit\", data=gm_2005)"
      ],
      "execution_count": 1338,
      "outputs": [
        {
          "output_type": "display_data",
          "data": {
            "image/png": "[encoded data removed]",
            "text/plain": [
              "<Figure size 432x288 with 1 Axes>"
            ]
          },
          "metadata": {
            "tags": []
          }
        }
      ]
    },
    {
      "cell_type": "code",
      "metadata": {
        "id": "XwwT50E0sPa3"
      },
      "source": [
        "gm_corn = gm_crops[(gm_crops['Unit']=='Percent of corn planted')&(gm_crops['Variety']=='All GE varieties')]"
      ],
      "execution_count": null,
      "outputs": []
    },
    {
      "cell_type": "code",
      "metadata": {
        "id": "qUsOdQgdszUj"
      },
      "source": [
        "gm_corn[\"Attribute\"].replace({\"U.S.\": \"United States\"}, inplace=True) "
      ],
      "execution_count": null,
      "outputs": []
    },
    {
      "cell_type": "code",
      "metadata": {
        "id": "MJ9iABYmtKJ_"
      },
      "source": [
        "gm_corn[\"Attribute\"].unique()"
      ],
      "execution_count": null,
      "outputs": []
    },
    {
      "cell_type": "code",
      "metadata": {
        "id": "lftdKFwumaHL"
      },
      "source": [
        "corn['State'].unique()"
      ],
      "execution_count": null,
      "outputs": []
    },
    {
      "cell_type": "markdown",
      "metadata": {
        "id": "jdLOkS2Lzvdd"
      },
      "source": [
        "---"
      ]
    },
    {
      "cell_type": "markdown",
      "metadata": {
        "id": "ImmQiBKQhZkT"
      },
      "source": [
        "# Merging data for corn table"
      ]
    },
    {
      "cell_type": "markdown",
      "metadata": {
        "id": "QxiPBUs6zeQX"
      },
      "source": [
        "Next step is to merge all the dataframes and calculate the actual level of GM crop area by multiplying the percentage and the total corn area planted"
      ]
    },
    {
      "cell_type": "code",
      "metadata": {
        "id": "JmMzSLxGtRVI"
      },
      "source": [
        "corn_table = corn.merge(gm_corn, how='inner', left_on=['Year', 'State'], right_on=['Year', 'Attribute'])"
      ],
      "execution_count": null,
      "outputs": []
    },
    {
      "cell_type": "code",
      "metadata": {
        "id": "RuhhNdMyUQxz"
      },
      "source": [
        "corn_table_final = corn.merge(gm_corn, how='outer', left_on=['Year', 'State'], right_on=['Year', 'Attribute'])"
      ],
      "execution_count": null,
      "outputs": []
    },
    {
      "cell_type": "code",
      "metadata": {
        "id": "lX4GN40yU4Az"
      },
      "source": [
        "corn_table_final.tail(50)"
      ],
      "execution_count": null,
      "outputs": []
    },
    {
      "cell_type": "code",
      "metadata": {
        "id": "GdZ5B8HuLaSt"
      },
      "source": [
        "corn_table_clean = corn_table_final[(corn_table_final['Year']>=2005) & (corn_table_final['Year']!=2020)]"
      ],
      "execution_count": null,
      "outputs": []
    },
    {
      "cell_type": "code",
      "metadata": {
        "id": "uNmHnr6aL_Ac"
      },
      "source": [
        "corn_table_clean.drop(columns=['Table','Unit', 'Variety'], inplace=True)"
      ],
      "execution_count": null,
      "outputs": []
    },
    {
      "cell_type": "code",
      "metadata": {
        "id": "FcJ0EdIjkrA4"
      },
      "source": [
        "corn_table_clean.loc[corn_table_clean.Attribute == 'Other States']\n",
        "                     "
      ],
      "execution_count": null,
      "outputs": []
    },
    {
      "cell_type": "code",
      "metadata": {
        "id": "GhIEPvLbCEnT"
      },
      "source": [
        "i = corn_table_clean.loc[810, 'Value']"
      ],
      "execution_count": null,
      "outputs": []
    },
    {
      "cell_type": "code",
      "metadata": {
        "id": "PuoaorlRCSxH"
      },
      "source": [
        "corn_table_clean.loc[corn_table_clean.Year == 2005, 'Value'] = corn_table_clean.loc[corn_table_clean.Year == 2005, 'Value'].fillna(i)"
      ],
      "execution_count": null,
      "outputs": []
    },
    {
      "cell_type": "code",
      "metadata": {
        "id": "v0geI_4jC7YV"
      },
      "source": [
        "i1 = corn_table_clean.loc[811, 'Value']\n",
        "i2 = corn_table_clean.loc[812, 'Value']\n",
        "i3 = corn_table_clean.loc[813, 'Value']\n",
        "i4 = corn_table_clean.loc[814, 'Value']\n",
        "i5 = corn_table_clean.loc[815, 'Value']\n",
        "i6 = corn_table_clean.loc[816, 'Value']\n",
        "i7 = corn_table_clean.loc[817, 'Value']\n",
        "i8 = corn_table_clean.loc[818, 'Value']\n",
        "i9 = corn_table_clean.loc[819, 'Value']\n",
        "i10 = corn_table_clean.loc[820, 'Value']\n",
        "i11 = corn_table_clean.loc[821, 'Value']\n",
        "i12 = corn_table_clean.loc[822, 'Value']\n",
        "i13 = corn_table_clean.loc[823, 'Value']\n",
        "i14 = corn_table_clean.loc[824, 'Value']\n",
        "\n",
        "corn_table_clean.loc[corn_table_clean.Year == 2006, 'Value'] = corn_table_clean.loc[corn_table_clean.Year == 2006, 'Value'].fillna(i1)\n",
        "corn_table_clean.loc[corn_table_clean.Year == 2007, 'Value'] = corn_table_clean.loc[corn_table_clean.Year == 2007, 'Value'].fillna(i2)\n",
        "corn_table_clean.loc[corn_table_clean.Year == 2008, 'Value'] = corn_table_clean.loc[corn_table_clean.Year == 2008, 'Value'].fillna(i3)\n",
        "corn_table_clean.loc[corn_table_clean.Year == 2009, 'Value'] = corn_table_clean.loc[corn_table_clean.Year == 2009, 'Value'].fillna(i4)\n",
        "corn_table_clean.loc[corn_table_clean.Year == 2010, 'Value'] = corn_table_clean.loc[corn_table_clean.Year == 2010, 'Value'].fillna(i5)\n",
        "corn_table_clean.loc[corn_table_clean.Year == 2011, 'Value'] = corn_table_clean.loc[corn_table_clean.Year == 2011, 'Value'].fillna(i6)\n",
        "corn_table_clean.loc[corn_table_clean.Year == 2012, 'Value'] = corn_table_clean.loc[corn_table_clean.Year == 2012, 'Value'].fillna(i7)\n",
        "corn_table_clean.loc[corn_table_clean.Year == 2013, 'Value'] = corn_table_clean.loc[corn_table_clean.Year == 2013, 'Value'].fillna(i8)\n",
        "corn_table_clean.loc[corn_table_clean.Year == 2014, 'Value'] = corn_table_clean.loc[corn_table_clean.Year == 2014, 'Value'].fillna(i9)\n",
        "corn_table_clean.loc[corn_table_clean.Year == 2015, 'Value'] = corn_table_clean.loc[corn_table_clean.Year == 2015, 'Value'].fillna(i10)\n",
        "corn_table_clean.loc[corn_table_clean.Year == 2016, 'Value'] = corn_table_clean.loc[corn_table_clean.Year == 2016, 'Value'].fillna(i11)\n",
        "corn_table_clean.loc[corn_table_clean.Year == 2017, 'Value'] = corn_table_clean.loc[corn_table_clean.Year == 2017, 'Value'].fillna(i12)\n",
        "corn_table_clean.loc[corn_table_clean.Year == 2018, 'Value'] = corn_table_clean.loc[corn_table_clean.Year == 2018, 'Value'].fillna(i13)\n",
        "corn_table_clean.loc[corn_table_clean.Year == 2019, 'Value'] = corn_table_clean.loc[corn_table_clean.Year == 2019, 'Value'].fillna(i14)"
      ],
      "execution_count": null,
      "outputs": []
    },
    {
      "cell_type": "code",
      "metadata": {
        "id": "fNd9nAk5W2Ks"
      },
      "source": [
        "corn_table_clean.drop(index=[810,811,812,813,814,815,816,817,818, 819,820, 821, 822, 823, 824], axis =0, inplace=True)"
      ],
      "execution_count": null,
      "outputs": []
    },
    {
      "cell_type": "code",
      "metadata": {
        "id": "JHPV3LCNTOLC"
      },
      "source": [
        "corn_table_clean.drop(columns='Attribute', inplace=True)"
      ],
      "execution_count": null,
      "outputs": []
    },
    {
      "cell_type": "code",
      "metadata": {
        "id": "LpSvUBN-sM71"
      },
      "source": [
        "corn_table_clean[\"Area planted\"] = corn_table_clean[\"Area planted\"].astype(float).astype(int)\n",
        "corn_table_clean[\"Area harvested for grain\"] = corn_table_clean[\"Area harvested for grain\"].astype(float).astype(int)\n",
        "corn_table_clean[\"Yield\"] = corn_table_clean[\"Yield\"].astype(float).astype(int)\n",
        "corn_table_clean[\"Production\"] = corn_table_clean[\"Production\"].astype(float).astype(int)\n",
        "corn_table_clean[\"Value\"] = corn_table_clean[\"Value\"].astype(float).astype(int)\n"
      ],
      "execution_count": null,
      "outputs": []
    },
    {
      "cell_type": "markdown",
      "metadata": {
        "id": "nMQNPkYStE8o"
      },
      "source": [
        "In order to multiply the percentage by the total area to get the GM corn area, I divided the percenatage to get a decimal and added another column"
      ]
    },
    {
      "cell_type": "code",
      "metadata": {
        "id": "yU60m4NptAdY"
      },
      "source": [
        "corn_table_clean['Value'] = corn_table_clean['Value'].div(100).round(2)"
      ],
      "execution_count": null,
      "outputs": []
    },
    {
      "cell_type": "code",
      "metadata": {
        "id": "bz9D17PDt2cO"
      },
      "source": [
        "corn_table['Value'] = corn_table['Value'].div(100).round(2)"
      ],
      "execution_count": null,
      "outputs": []
    },
    {
      "cell_type": "code",
      "metadata": {
        "id": "TpIVyc3xtZxQ"
      },
      "source": [
        "corn_table_clean[\"GM corn area\"] = corn_table_clean[\"Area planted\"] * corn_table_clean[\"Value\"]"
      ],
      "execution_count": null,
      "outputs": []
    },
    {
      "cell_type": "code",
      "metadata": {
        "id": "hWpEaRWxuZrV"
      },
      "source": [
        "corn_table[\"GM corn area\"] = corn_table[\"Area planted\"] * corn_table[\"Value\"]"
      ],
      "execution_count": null,
      "outputs": []
    },
    {
      "cell_type": "markdown",
      "metadata": {
        "id": "v5zNnqgZu8ea"
      },
      "source": [
        "To have the variables in their initial values (in the orginal dataset they were divided by 1000)"
      ]
    },
    {
      "cell_type": "code",
      "metadata": {
        "id": "-0H5egeEm6jK"
      },
      "source": [
        "corn_table_clean['GM corn area'] = corn_table_clean['GM corn area']*1000\n",
        "corn_table_clean['Production'] = corn_table_clean['Production']*1000\n",
        "corn_table_clean['Area planted'] = corn_table_clean['Area planted']*1000\n",
        "corn_table_clean['Area harvested for grain'] = corn_table_clean['Area harvested for grain']*1000"
      ],
      "execution_count": null,
      "outputs": []
    },
    {
      "cell_type": "markdown",
      "metadata": {
        "id": "Vzx5vyd70UvG"
      },
      "source": [
        "---"
      ]
    },
    {
      "cell_type": "code",
      "metadata": {
        "id": "ET_sMlcs0VCO"
      },
      "source": [
        "gdp_agri.head()"
      ],
      "execution_count": null,
      "outputs": []
    },
    {
      "cell_type": "code",
      "metadata": {
        "id": "RCjcRpU60YpZ"
      },
      "source": [
        "gdp_agri.dtypes"
      ],
      "execution_count": null,
      "outputs": []
    },
    {
      "cell_type": "code",
      "metadata": {
        "id": "mWLAleiM0cSw"
      },
      "source": [
        "gdp_agri[\"Agri GDP\"] = gdp_agri[\"Agri GDP\"].astype(int)"
      ],
      "execution_count": null,
      "outputs": []
    },
    {
      "cell_type": "code",
      "metadata": {
        "id": "06pUNSUA0weB"
      },
      "source": [
        "corn_table = corn_table.merge(gdp_agri, how='inner', left_on=['Year', 'State'], right_on=['Year', 'State'])"
      ],
      "execution_count": null,
      "outputs": []
    },
    {
      "cell_type": "code",
      "metadata": {
        "id": "okY6Lnm6vK_G"
      },
      "source": [
        "data_all_states = corn_table_clean.merge(gdp_agri, how='inner', left_on=['Year', 'State'], right_on=['Year', 'State'])"
      ],
      "execution_count": null,
      "outputs": []
    },
    {
      "cell_type": "code",
      "metadata": {
        "id": "vfh4LRW90_Fn"
      },
      "source": [
        "data_all_states.drop(columns='Value', inplace=True)"
      ],
      "execution_count": null,
      "outputs": []
    },
    {
      "cell_type": "code",
      "metadata": {
        "id": "fS63PXOcvqMI"
      },
      "source": [
        "data_all_states['Agri GDP'] = data_all_states['Agri GDP']*1000000"
      ],
      "execution_count": null,
      "outputs": []
    },
    {
      "cell_type": "code",
      "metadata": {
        "id": "rFA5rTso1PFg"
      },
      "source": [
        "corn_general = corn_table[(corn_table['State']=='United States')]"
      ],
      "execution_count": null,
      "outputs": []
    },
    {
      "cell_type": "markdown",
      "metadata": {
        "id": "K8zTJgh15KB5"
      },
      "source": [
        "data_all_states[\"Value\"] = data_all_states[\"Value\"].astype(float).astype(int)"
      ]
    },
    {
      "cell_type": "code",
      "metadata": {
        "id": "YQTeQemYs7Yq"
      },
      "source": [
        "\n",
        "data_all_states[\"GM corn area\"] = data_all_states[\"GM corn area\"].astype(float).astype(int)"
      ],
      "execution_count": null,
      "outputs": []
    },
    {
      "cell_type": "markdown",
      "metadata": {
        "id": "SqFHb1U4xeW5"
      },
      "source": [
        "Export the second dataframe (data_all_states), which has estimated values to use in other google colabs"
      ]
    },
    {
      "cell_type": "code",
      "metadata": {
        "id": "v0R6RxC9xyXy"
      },
      "source": [
        "data_all_states.to_csv('/content/sample_data/data_all_states.csv')"
      ],
      "execution_count": null,
      "outputs": []
    },
    {
      "cell_type": "markdown",
      "metadata": {
        "id": "uw7A903XhrsG"
      },
      "source": [
        "# Exploratory analysis with scatterplots"
      ]
    },
    {
      "cell_type": "code",
      "metadata": {
        "id": "a0nSCxKWtNHu"
      },
      "source": [
        "corn_table1 = corn_table[corn_table['State']!='United States']"
      ],
      "execution_count": null,
      "outputs": []
    },
    {
      "cell_type": "code",
      "metadata": {
        "id": "83xeoxIGjTBp"
      },
      "source": [
        "corn_table1 = corn_table1[corn_table1['State']!='Texas']"
      ],
      "execution_count": null,
      "outputs": []
    },
    {
      "cell_type": "code",
      "metadata": {
        "id": "UAq04jnw2IY9"
      },
      "source": [
        "corn_general.plot(x= 'Year', y = 'Agri GDP')"
      ],
      "execution_count": null,
      "outputs": []
    },
    {
      "cell_type": "code",
      "metadata": {
        "id": "b_N5JJ8c2UsV"
      },
      "source": [
        "corn_general.plot(x= 'Year', y = 'GM corn area')"
      ],
      "execution_count": null,
      "outputs": []
    },
    {
      "cell_type": "code",
      "metadata": {
        "id": "HnmqXtLj2ZCl"
      },
      "source": [
        "corn_general.plot(x= 'Year', y = 'Production')"
      ],
      "execution_count": null,
      "outputs": []
    },
    {
      "cell_type": "code",
      "metadata": {
        "id": "f0sksI8A2h8A"
      },
      "source": [
        "corn_general.plot(x= 'Year', y = 'Yield')"
      ],
      "execution_count": null,
      "outputs": []
    },
    {
      "cell_type": "code",
      "metadata": {
        "id": "Y8xAo3jk2jqb"
      },
      "source": [
        "corn_general.plot(x= 'Year', y = 'Area planted')"
      ],
      "execution_count": null,
      "outputs": []
    },
    {
      "cell_type": "code",
      "metadata": {
        "id": "puDEONQW2uLh"
      },
      "source": [
        "corn_general.plot.scatter(x= 'GM corn area', y = 'Agri GDP')"
      ],
      "execution_count": null,
      "outputs": []
    },
    {
      "cell_type": "code",
      "metadata": {
        "id": "gbcV9R783Cnr"
      },
      "source": [
        "corn_table[corn_table['State']!='United States'].plot.scatter(x='GM corn area', y ='Agri GDP')"
      ],
      "execution_count": null,
      "outputs": []
    },
    {
      "cell_type": "code",
      "metadata": {
        "id": "972jOqcljCdG"
      },
      "source": [
        "corn_table1.plot.scatter(x='GM corn area', y ='Agri GDP')"
      ],
      "execution_count": null,
      "outputs": []
    },
    {
      "cell_type": "code",
      "metadata": {
        "id": "ik7uvWZv3Uck"
      },
      "source": [
        "corn_table[corn_table['State']!='United States'].plot.scatter(x='Production', y ='Agri GDP')"
      ],
      "execution_count": null,
      "outputs": []
    },
    {
      "cell_type": "code",
      "metadata": {
        "id": "6c0otpvT6w13"
      },
      "source": [
        "corn_table[corn_table['State']!='United States'].plot.scatter(x='Yield', y ='Agri GDP')"
      ],
      "execution_count": null,
      "outputs": []
    },
    {
      "cell_type": "code",
      "metadata": {
        "id": "8BSFrJme7Mm5"
      },
      "source": [
        "corn_table[corn_table['State']!='United States'].plot.scatter(x='Area planted', y ='Agri GDP')"
      ],
      "execution_count": null,
      "outputs": []
    },
    {
      "cell_type": "code",
      "metadata": {
        "id": "siadJQgf7kso"
      },
      "source": [
        "corn_table.dtypes"
      ],
      "execution_count": null,
      "outputs": []
    },
    {
      "cell_type": "code",
      "metadata": {
        "id": "JhKGpYSm703M"
      },
      "source": [
        "corn_table[\"Area harvested for grain\"] = corn_table[\"Area harvested for grain\"].astype(float).astype(int)"
      ],
      "execution_count": null,
      "outputs": []
    },
    {
      "cell_type": "code",
      "metadata": {
        "id": "lsqAeqF-8Ip6"
      },
      "source": [
        "corn_table[\"Value\"] = corn_table[\"Value\"].astype(float).astype(int)\n",
        "corn_table[\"GM corn area\"] = corn_table[\"GM corn area\"].astype(float).astype(int)"
      ],
      "execution_count": null,
      "outputs": []
    },
    {
      "cell_type": "code",
      "metadata": {
        "id": "jDF5G-FU8ZQN"
      },
      "source": [
        "corn_table[corn_table['State']!='United States'].plot.scatter(x='Area harvested for grain', y ='Agri GDP')"
      ],
      "execution_count": null,
      "outputs": []
    },
    {
      "cell_type": "code",
      "metadata": {
        "id": "jCAIi9Ai8je6"
      },
      "source": [
        "corn_table[corn_table['State']!='United States'].plot.scatter(x='GM corn area', y ='Yield')"
      ],
      "execution_count": null,
      "outputs": []
    },
    {
      "cell_type": "code",
      "metadata": {
        "id": "0x94qrCB8_Ib"
      },
      "source": [
        "corn_table[corn_table['State']!='United States'].plot.scatter(x='GM corn area', y ='Production')"
      ],
      "execution_count": null,
      "outputs": []
    },
    {
      "cell_type": "markdown",
      "metadata": {
        "id": "qhup89w1KdtC"
      },
      "source": [
        "---"
      ]
    },
    {
      "cell_type": "markdown",
      "metadata": {
        "id": "WhvHRIhIh4_B"
      },
      "source": [
        "# Corn descriptive statistics"
      ]
    },
    {
      "cell_type": "code",
      "metadata": {
        "id": "0AhdV_5OIqRY"
      },
      "source": [
        "corn_table1[corn_table1['Year']==2019].plot.bar('State','Agri GDP')"
      ],
      "execution_count": null,
      "outputs": []
    },
    {
      "cell_type": "code",
      "metadata": {
        "id": "397bbzhlJiER"
      },
      "source": [
        "corn_table1[corn_table1['Year']==2019].plot.bar('State','GM corn area')"
      ],
      "execution_count": null,
      "outputs": []
    },
    {
      "cell_type": "code",
      "metadata": {
        "id": "W8vnEFsAJt5A"
      },
      "source": [
        "corn[corn['Year']==2019][corn['State']!='United States'].plot.bar('State','Area planted')"
      ],
      "execution_count": null,
      "outputs": []
    },
    {
      "cell_type": "code",
      "metadata": {
        "id": "VUKNnvPjLRr9"
      },
      "source": [
        "gdp_agri.dtypes"
      ],
      "execution_count": null,
      "outputs": []
    },
    {
      "cell_type": "code",
      "metadata": {
        "id": "ZFMtJL5JbmRs"
      },
      "source": [
        "gdp_agri['Year'].max()"
      ],
      "execution_count": null,
      "outputs": []
    },
    {
      "cell_type": "code",
      "metadata": {
        "id": "Sf5K1GCYKm0C"
      },
      "source": [
        "gdp_agri[(gdp_agri['Year']==2019)&(gdp_agri['State']!='United States')].plot.bar('State','Agri GDP')"
      ],
      "execution_count": null,
      "outputs": []
    },
    {
      "cell_type": "code",
      "metadata": {
        "id": "9NXLaOdGb-ib"
      },
      "source": [
        "gdp_agri.groupby(['Year', 'State']).count().sort_values(ascending=False, by ='Agri GDP')"
      ],
      "execution_count": null,
      "outputs": []
    },
    {
      "cell_type": "code",
      "metadata": {
        "id": "TMIzYElxctx6"
      },
      "source": [
        "gdp_agri[(gdp_agri['Year']==2019)&(gdp_agri['State']=='Far West')]"
      ],
      "execution_count": null,
      "outputs": []
    },
    {
      "cell_type": "markdown",
      "metadata": {
        "id": "GgzdzmMAKYho"
      },
      "source": [
        "---"
      ]
    },
    {
      "cell_type": "markdown",
      "metadata": {
        "id": "o4XB-fmyMnWK"
      },
      "source": [
        "Checking correlation just for 1 year"
      ]
    },
    {
      "cell_type": "code",
      "metadata": {
        "id": "XZx4c4RACX59"
      },
      "source": [
        "corn_table1[corn_table1['Year']==2016].plot.scatter(x= 'GM corn area', y = 'Agri GDP')"
      ],
      "execution_count": null,
      "outputs": []
    },
    {
      "cell_type": "code",
      "metadata": {
        "id": "QX2DTg9AMrJY"
      },
      "source": [
        "corn_table1[corn_table1['Year']==2005].plot.scatter(x= 'GM corn area', y = 'Agri GDP')"
      ],
      "execution_count": null,
      "outputs": []
    },
    {
      "cell_type": "markdown",
      "metadata": {
        "id": "rOf0yXf6lbXe"
      },
      "source": [
        "---"
      ]
    },
    {
      "cell_type": "markdown",
      "metadata": {
        "id": "a2FzGbrWlfel"
      },
      "source": [
        "Checking for correlations"
      ]
    },
    {
      "cell_type": "markdown",
      "metadata": {
        "id": "Z_kXhQRxiHT9"
      },
      "source": [
        "# Checking for correlations for initial variables"
      ]
    },
    {
      "cell_type": "code",
      "metadata": {
        "id": "VLTVkQf2F1wh"
      },
      "source": [
        "corn_table[corn_table['State']!='United States'].corr()"
      ],
      "execution_count": null,
      "outputs": []
    },
    {
      "cell_type": "code",
      "metadata": {
        "id": "5cMDK5JkJXbM"
      },
      "source": [
        "import seaborn as sns"
      ],
      "execution_count": null,
      "outputs": []
    },
    {
      "cell_type": "code",
      "metadata": {
        "id": "a9m6_BQDM5pK"
      },
      "source": [
        "corn_for_cor=corn_table1.drop(columns='Year')"
      ],
      "execution_count": null,
      "outputs": []
    },
    {
      "cell_type": "code",
      "metadata": {
        "id": "MSv-yNoYPRWQ"
      },
      "source": [
        "corn_for_cor=corn_table1.drop(columns='Value')"
      ],
      "execution_count": null,
      "outputs": []
    },
    {
      "cell_type": "code",
      "metadata": {
        "id": "1Ws-0MdKQTPi"
      },
      "source": [
        "corn_for_cor=corn_for_cor.drop(columns='Year')"
      ],
      "execution_count": null,
      "outputs": []
    },
    {
      "cell_type": "code",
      "metadata": {
        "id": "5O3kj5cmPmcN"
      },
      "source": [
        "corn_for_cor.corr()"
      ],
      "execution_count": null,
      "outputs": []
    },
    {
      "cell_type": "code",
      "metadata": {
        "id": "SL9DoeEPP28Z"
      },
      "source": [
        "sns.heatmap(corn_for_cor[corn_for_cor['State']!='United States'].corr(), cmap=\"YlOrBr\")"
      ],
      "execution_count": null,
      "outputs": []
    },
    {
      "cell_type": "markdown",
      "metadata": {
        "id": "P_8WxFtalVAa"
      },
      "source": [
        "---"
      ]
    },
    {
      "cell_type": "markdown",
      "metadata": {
        "id": "RFNRAlnViXPR"
      },
      "source": [
        "# More Descriptive stats"
      ]
    },
    {
      "cell_type": "code",
      "metadata": {
        "id": "rHE4NTjlReud"
      },
      "source": [
        "corn_table1.hist(column='Agri GDP')"
      ],
      "execution_count": null,
      "outputs": []
    },
    {
      "cell_type": "code",
      "metadata": {
        "id": "AsFDFYbAlBga"
      },
      "source": [
        "corn_table[corn_table['State']!='United States'].hist(column='Agri GDP')"
      ],
      "execution_count": null,
      "outputs": []
    },
    {
      "cell_type": "code",
      "metadata": {
        "id": "2Qe01CyjR0gc"
      },
      "source": [
        "corn_table[corn_table['State']!='United States'].hist(column='GM corn area')"
      ],
      "execution_count": null,
      "outputs": []
    },
    {
      "cell_type": "code",
      "metadata": {
        "id": "EmRGY7JKTmFm"
      },
      "source": [
        "g = sns.FacetGrid(corn_table, col=\"State\", sharex=False)\n",
        "g.map(sns.boxplot, 'Agri GDP')"
      ],
      "execution_count": null,
      "outputs": []
    },
    {
      "cell_type": "markdown",
      "metadata": {
        "id": "Eu1BE_L-6LBM"
      },
      "source": [
        "---"
      ]
    },
    {
      "cell_type": "markdown",
      "metadata": {
        "id": "WQNe9anUiQg9"
      },
      "source": [
        "# Scatter plots for each state"
      ]
    },
    {
      "cell_type": "markdown",
      "metadata": {
        "id": "Qjvd2AVi6MOq"
      },
      "source": [
        "Doing correlations within each state"
      ]
    },
    {
      "cell_type": "code",
      "metadata": {
        "id": "Ycecdo9A3ssK"
      },
      "source": [
        "corn_table[corn_table['State']=='United States'].plot.scatter('GM corn area','Agri GDP')"
      ],
      "execution_count": null,
      "outputs": []
    },
    {
      "cell_type": "code",
      "metadata": {
        "id": "L36CdgWjiaBq"
      },
      "source": [
        "from scipy.stats import pearsonr\n",
        "# calculate Pearson's correlation\n",
        "corr, _ = pearsonr(corn_table1[corn_table1['State']=='Illinois']['GM corn area'], corn_table1[corn_table1['State']=='Illinois']['Agri GDP'])\n",
        "print('Pearsons correlation: %.3f' % corr)"
      ],
      "execution_count": null,
      "outputs": []
    },
    {
      "cell_type": "code",
      "metadata": {
        "id": "1V3EtldA3z9C"
      },
      "source": [
        "from scipy.stats import pearsonr\n",
        "# calculate Pearson's correlation\n",
        "corr, _ = pearsonr(corn_table1[corn_table1['State']=='Indiana']['GM corn area'], corn_table1[corn_table1['State']=='Illinois']['Agri GDP'])\n",
        "print('Pearsons correlation: %.3f' % corr)"
      ],
      "execution_count": null,
      "outputs": []
    },
    {
      "cell_type": "code",
      "metadata": {
        "id": "Tsd97jLP33mU"
      },
      "source": [
        "from scipy.stats import pearsonr\n",
        "# calculate Pearson's correlation\n",
        "corr, _ = pearsonr(corn_table1[corn_table1['State']=='Iowa']['GM corn area'], corn_table1[corn_table1['State']=='Illinois']['Agri GDP'])\n",
        "print('Pearsons correlation: %.3f' % corr)"
      ],
      "execution_count": null,
      "outputs": []
    },
    {
      "cell_type": "code",
      "metadata": {
        "id": "7XYi4_8E37D3"
      },
      "source": [
        "from scipy.stats import pearsonr\n",
        "# calculate Pearson's correlation\n",
        "corr, _ = pearsonr(corn_table1[corn_table1['State']=='Kansas']['GM corn area'], corn_table1[corn_table1['State']=='Illinois']['Agri GDP'])\n",
        "print('Pearsons correlation: %.3f' % corr)"
      ],
      "execution_count": null,
      "outputs": []
    },
    {
      "cell_type": "code",
      "metadata": {
        "id": "fGTiLQLc393_"
      },
      "source": [
        "from scipy.stats import pearsonr\n",
        "# calculate Pearson's correlation\n",
        "corr, _ = pearsonr(corn_table1[corn_table1['State']=='Michigan']['GM corn area'], corn_table1[corn_table1['State']=='Illinois']['Agri GDP'])\n",
        "print('Pearsons correlation: %.3f' % corr)"
      ],
      "execution_count": null,
      "outputs": []
    },
    {
      "cell_type": "code",
      "metadata": {
        "id": "FfLE79C74CgC"
      },
      "source": [
        "from scipy.stats import pearsonr\n",
        "# calculate Pearson's correlation\n",
        "corr, _ = pearsonr(corn_table1[corn_table1['State']=='Minnesota']['GM corn area'], corn_table1[corn_table1['State']=='Illinois']['Agri GDP'])\n",
        "print('Pearsons correlation: %.3f' % corr)"
      ],
      "execution_count": null,
      "outputs": []
    },
    {
      "cell_type": "code",
      "metadata": {
        "id": "ip3cNhGI4FBd"
      },
      "source": [
        "from scipy.stats import pearsonr\n",
        "# calculate Pearson's correlation\n",
        "corr, _ = pearsonr(corn_table1[corn_table1['State']=='Missouri']['GM corn area'], corn_table1[corn_table1['State']=='Illinois']['Agri GDP'])\n",
        "print('Pearsons correlation: %.3f' % corr)"
      ],
      "execution_count": null,
      "outputs": []
    },
    {
      "cell_type": "code",
      "metadata": {
        "id": "5ehsMB6B4NB9"
      },
      "source": [
        "from scipy.stats import pearsonr\n",
        "# calculate Pearson's correlation\n",
        "corr, _ = pearsonr(corn_table1[corn_table1['State']=='Nebraska']['GM corn area'], corn_table1[corn_table1['State']=='Illinois']['Agri GDP'])\n",
        "print('Pearsons correlation: %.3f' % corr)"
      ],
      "execution_count": null,
      "outputs": []
    },
    {
      "cell_type": "code",
      "metadata": {
        "id": "pEsAb6zT4QjS"
      },
      "source": [
        "from scipy.stats import pearsonr\n",
        "# calculate Pearson's correlation\n",
        "corr, _ = pearsonr(corn_table1[corn_table1['State']=='North Dakota']['GM corn area'], corn_table1[corn_table1['State']=='Illinois']['Agri GDP'])\n",
        "print('Pearsons correlation: %.3f' % corr)"
      ],
      "execution_count": null,
      "outputs": []
    },
    {
      "cell_type": "code",
      "metadata": {
        "id": "IWKM6_bU4Tzy"
      },
      "source": [
        "from scipy.stats import pearsonr\n",
        "# calculate Pearson's correlation\n",
        "corr, _ = pearsonr(corn_table1[corn_table1['State']=='Ohio']['GM corn area'], corn_table1[corn_table1['State']=='Illinois']['Agri GDP'])\n",
        "print('Pearsons correlation: %.3f' % corr)"
      ],
      "execution_count": null,
      "outputs": []
    },
    {
      "cell_type": "code",
      "metadata": {
        "id": "384OriKK4Wie"
      },
      "source": [
        "from scipy.stats import pearsonr\n",
        "# calculate Pearson's correlation\n",
        "corr, _ = pearsonr(corn_table1[corn_table1['State']=='South Dakota']['GM corn area'], corn_table1[corn_table1['State']=='Illinois']['Agri GDP'])\n",
        "print('Pearsons correlation: %.3f' % corr)"
      ],
      "execution_count": null,
      "outputs": []
    },
    {
      "cell_type": "code",
      "metadata": {
        "id": "GdTTpJn24aUE"
      },
      "source": [
        "from scipy.stats import pearsonr\n",
        "# calculate Pearson's correlation\n",
        "corr, _ = pearsonr(corn_table[corn_table['State']=='Texas']['GM corn area'], corn_table1[corn_table1['State']=='Illinois']['Agri GDP'])\n",
        "print('Pearsons correlation: %.3f' % corr)"
      ],
      "execution_count": null,
      "outputs": []
    },
    {
      "cell_type": "code",
      "metadata": {
        "id": "btLkcAVI4fVl"
      },
      "source": [
        "from scipy.stats import pearsonr\n",
        "# calculate Pearson's correlation\n",
        "corr, _ = pearsonr(corn_table1[corn_table1['State']=='Wisconsin']['GM corn area'], corn_table1[corn_table1['State']=='Illinois']['Agri GDP'])\n",
        "print('Pearsons correlation: %.3f' % corr)"
      ],
      "execution_count": null,
      "outputs": []
    },
    {
      "cell_type": "code",
      "metadata": {
        "id": "d8SvQFpaXNc9"
      },
      "source": [
        "fig, axes = plt.subplots(5, 3, sharex=True, sharey=True, figsize=(10,10))\n",
        "corn_table[corn_table['State']=='Illinois'].plot.scatter('GM corn area','Agri GDP', ax=axes[0,0])\n",
        "axes[0,0].set_title('Illinois corr:0.624')\n",
        "corn_table[corn_table['State']=='Indiana'].plot.scatter('GM corn area','Agri GDP', ax=axes[0,1])\n",
        "axes[0,1].set_title('Indiana corr:0.614')\n",
        "corn_table[corn_table['State']=='Iowa'].plot.scatter('GM corn area','Agri GDP', ax=axes[0,2])\n",
        "axes[0,2].set_title('Iowa corr:0.598')\n",
        "corn_table[corn_table['State']=='Kansas'].plot.scatter('GM corn area','Agri GDP', ax=axes[1,0])\n",
        "axes[1,0].set_title('Kansas corr:0.527')\n",
        "corn_table[corn_table['State']=='Michigan'].plot.scatter('GM corn area','Agri GDP', ax=axes[1,1])\n",
        "axes[1,1].set_title('Michigan corr:0.610')\n",
        "corn_table[corn_table['State']=='Minnesota'].plot.scatter('GM corn area','Agri GDP', ax=axes[1,2])\n",
        "axes[1,2].set_title('Minnesota corr:0.634')\n",
        "corn_table[corn_table['State']=='Missouri'].plot.scatter('GM corn area','Agri GDP', ax=axes[2,0])\n",
        "axes[2,0].set_title('Missouri corr:0.604')\n",
        "corn_table1[corn_table1['State']=='Nebraska'].plot.scatter('GM corn area','Agri GDP', ax=axes[2,1])\n",
        "axes[2,1].set_title('Nebraska corr:0.641')\n",
        "corn_table1[corn_table1['State']=='North Dakota'].plot.scatter('GM corn area','Agri GDP', ax=axes[2,2])\n",
        "axes[2,2].set_title('North Dakota corr:0.603')\n",
        "corn_table1[corn_table1['State']=='Ohio'].plot.scatter('GM corn area','Agri GDP', ax=axes[3,0])\n",
        "axes[3,0].set_title('Ohio corr:0.691')\n",
        "corn_table1[corn_table1['State']=='South Dakota'].plot.scatter('GM corn area','Agri GDP', ax=axes[3,1])\n",
        "axes[3,1].set_title('South Dakota corr:0.590')\n",
        "corn_table[corn_table['State']=='Texas'].plot.scatter('GM corn area','Agri GDP', ax=axes[3,2])\n",
        "axes[3,2].set_title('Texas corr:0.614')\n",
        "corn_table1[corn_table1['State']=='Wisconsin'].plot.scatter('GM corn area','Agri GDP', ax=axes[4,0])\n",
        "axes[4,0].set_title('Wisconsin corr:0.565')\n",
        "\n",
        "plt.tight_layout()\n",
        "fig.show()"
      ],
      "execution_count": null,
      "outputs": []
    },
    {
      "cell_type": "markdown",
      "metadata": {
        "id": "wbCBPl5XZzml"
      },
      "source": [
        "---"
      ]
    },
    {
      "cell_type": "markdown",
      "metadata": {
        "id": "mCwX64B5ieqJ"
      },
      "source": [
        "# Panel regression or timeseries regression?"
      ]
    },
    {
      "cell_type": "code",
      "metadata": {
        "id": "UsM86MdLgtHO"
      },
      "source": [
        "regression = corn_table.set_index([\"State\"])"
      ],
      "execution_count": null,
      "outputs": []
    },
    {
      "cell_type": "code",
      "metadata": {
        "id": "LvLZc1h_g9tl"
      },
      "source": [
        "regression=pd.to_datetime(regression.Year, format='%Y')"
      ],
      "execution_count": null,
      "outputs": []
    },
    {
      "cell_type": "code",
      "metadata": {
        "id": "5nAp3_lUh3Xq"
      },
      "source": [
        "regression1 = corn_table.set_index([\"State\", \"Year\"])"
      ],
      "execution_count": null,
      "outputs": []
    },
    {
      "cell_type": "code",
      "metadata": {
        "id": "G72OgbsrZ0Jl"
      },
      "source": [
        "!pip install linearmodels\n",
        "from linearmodels import PanelOLS\n",
        "PanelOLS(regression1['Agri GDP'],regression1['GM corn area'], entity_effects=True, time_effects=True)"
      ],
      "execution_count": null,
      "outputs": []
    },
    {
      "cell_type": "code",
      "metadata": {
        "id": "Q2iJeacUc1Hz"
      },
      "source": [
        "mod = PanelOLS(regression1['Agri GDP'],regression1['GM corn area'], entity_effects=True, time_effects=True)\n"
      ],
      "execution_count": null,
      "outputs": []
    },
    {
      "cell_type": "code",
      "metadata": {
        "id": "Xb3v0UVpiYq-"
      },
      "source": [
        "print(mod)"
      ],
      "execution_count": null,
      "outputs": []
    },
    {
      "cell_type": "code",
      "metadata": {
        "id": "tyj6EYK5mTBJ"
      },
      "source": [
        ""
      ],
      "execution_count": null,
      "outputs": []
    },
    {
      "cell_type": "markdown",
      "metadata": {
        "id": "5c6vGlfhw7Pt"
      },
      "source": [
        "---"
      ]
    },
    {
      "cell_type": "markdown",
      "metadata": {
        "id": "6PliDucqikzR"
      },
      "source": [
        "# Normalising Agriculture GDP and repeating the analysis"
      ]
    },
    {
      "cell_type": "markdown",
      "metadata": {
        "id": "dXL5q5O0w8Si"
      },
      "source": [
        "Normalising the GDP, first add and clean the acreage operated per state to the Agriculture GDP dataframe and then divide the Agri GDP by that acreage to have the normalised_gdp_agri"
      ]
    },
    {
      "cell_type": "code",
      "metadata": {
        "id": "XW1hloyRxdyu"
      },
      "source": [
        "acres_operated.head()"
      ],
      "execution_count": null,
      "outputs": []
    },
    {
      "cell_type": "code",
      "metadata": {
        "id": "ZYg1d8boxhT1"
      },
      "source": [
        "acres_operated =acres_operated.drop(columns=\"Unnamed: 5\")"
      ],
      "execution_count": null,
      "outputs": []
    },
    {
      "cell_type": "code",
      "metadata": {
        "id": "Xjt4rkc3xtCu"
      },
      "source": [
        "acres_operated =acres_operated.drop(columns=\"Unnamed: 6\")"
      ],
      "execution_count": null,
      "outputs": []
    },
    {
      "cell_type": "code",
      "metadata": {
        "id": "ULl9oNtHxwz8"
      },
      "source": [
        "acres_operated.dtypes"
      ],
      "execution_count": null,
      "outputs": []
    },
    {
      "cell_type": "code",
      "metadata": {
        "id": "PFaxIPOAx6ep"
      },
      "source": [
        "gdp_agri.head()"
      ],
      "execution_count": null,
      "outputs": []
    },
    {
      "cell_type": "code",
      "metadata": {
        "id": "Hk_F-EuUx90c"
      },
      "source": [
        "acres_operated = acres_operated.drop(columns=\"Period\")\n",
        "acres_operated = acres_operated.drop(columns=\"Data Item\")\n"
      ],
      "execution_count": null,
      "outputs": []
    },
    {
      "cell_type": "code",
      "metadata": {
        "id": "kh0dhRZVyu4F"
      },
      "source": [
        "nor_gdp_agri = gdp_agri.merge(acres_operated, how='inner', left_on=['Year', 'State'], right_on=['Year', 'State'])"
      ],
      "execution_count": null,
      "outputs": []
    },
    {
      "cell_type": "code",
      "metadata": {
        "id": "dLMbrTR9zvY1"
      },
      "source": [
        "norm_data_all_states = data_all_states.merge(acres_operated, how='inner', left_on=['Year', 'State'], right_on=['Year', 'State'])"
      ],
      "execution_count": null,
      "outputs": []
    },
    {
      "cell_type": "code",
      "metadata": {
        "id": "0eRpXSus0akK"
      },
      "source": [
        "norm_data_all_states.head()"
      ],
      "execution_count": null,
      "outputs": []
    },
    {
      "cell_type": "code",
      "metadata": {
        "id": "N4Yypggwz-e5"
      },
      "source": [
        "norm_data_all_states[\"Normalised Agri GDP\"] = norm_data_all_states[\"Agri GDP\"] / norm_data_all_states[\"Value\"]\n",
        "norm_data_all_states[\"N_Area_planted\"] = norm_data_all_states[\"Area planted\"] / norm_data_all_states[\"Value\"]\n",
        "norm_data_all_states[\"N_Area_harvested\"] = norm_data_all_states[\"Area harvested for grain\"] / norm_data_all_states[\"Value\"]\n",
        "norm_data_all_states[\"N_Production\"] = norm_data_all_states[\"Production\"] / norm_data_all_states[\"Value\"]\n",
        "norm_data_all_states[\"N_GM_corn_area\"] = norm_data_all_states[\"GM corn area\"] / norm_data_all_states[\"Value\"]"
      ],
      "execution_count": null,
      "outputs": []
    },
    {
      "cell_type": "markdown",
      "metadata": {
        "id": "1zwlEXpO0elt"
      },
      "source": [
        "Add new column with the normalised GDP"
      ]
    },
    {
      "cell_type": "code",
      "metadata": {
        "id": "lVrVoz8A0K_x"
      },
      "source": [
        "nor_gdp_agri[\"Normalised Agri GDP\"] = nor_gdp_agri[\"Agri GDP\"] / nor_gdp_agri[\"Value\"]"
      ],
      "execution_count": null,
      "outputs": []
    },
    {
      "cell_type": "code",
      "metadata": {
        "id": "-XssHx8F1Kmr"
      },
      "source": [
        "nor_gdp_agri"
      ],
      "execution_count": null,
      "outputs": []
    },
    {
      "cell_type": "code",
      "metadata": {
        "id": "WxcZ6Tjb1MuO"
      },
      "source": [
        "nor_gdp_agri=nor_gdp_agri.drop(columns='Agri GDP')\n",
        "nor_gdp_agri=nor_gdp_agri.drop(columns='Value')"
      ],
      "execution_count": null,
      "outputs": []
    },
    {
      "cell_type": "code",
      "metadata": {
        "id": "HIv91NAh1y4m"
      },
      "source": [
        "corn_table.head()"
      ],
      "execution_count": null,
      "outputs": []
    },
    {
      "cell_type": "code",
      "metadata": {
        "id": "roORj2pi2BIg"
      },
      "source": [
        "nor_corn_table = corn_table.merge(nor_gdp_agri, how='inner', left_on=['Year', 'State'], right_on=['Year', 'State'])"
      ],
      "execution_count": null,
      "outputs": []
    },
    {
      "cell_type": "code",
      "metadata": {
        "id": "MxWP3tCF2cqg"
      },
      "source": [
        "nor_corn_table=nor_corn_table.drop(['Table','Variety','Unit','Value'], axis=1)"
      ],
      "execution_count": null,
      "outputs": []
    },
    {
      "cell_type": "code",
      "metadata": {
        "id": "M0uh0Boc7J_y"
      },
      "source": [
        "nor_corn_table[nor_corn_table['Normalised Agri GDP']>0.0003]"
      ],
      "execution_count": null,
      "outputs": []
    },
    {
      "cell_type": "code",
      "metadata": {
        "id": "rCKqWGyhCekz"
      },
      "source": [
        "nor_corn_table.plot.hexbin(y='Normalised Agri GDP', x='GM corn area', gridsize=15)"
      ],
      "execution_count": null,
      "outputs": []
    },
    {
      "cell_type": "code",
      "metadata": {
        "id": "kczu28cB3Rid"
      },
      "source": [
        "nor_corn_table.plot.scatter(y='Normalised Agri GDP', x='GM corn area' )\n"
      ],
      "execution_count": null,
      "outputs": []
    },
    {
      "cell_type": "code",
      "metadata": {
        "id": "epA8AfrdFzhL"
      },
      "source": [
        "nor_corn_table['State'].unique()"
      ],
      "execution_count": null,
      "outputs": []
    },
    {
      "cell_type": "code",
      "metadata": {
        "id": "lXGS-absK023"
      },
      "source": [
        "# library & dataset\n",
        "import seaborn as sns\n",
        "\n",
        "# Use the 'hue' argument to provide a factor variable\n",
        "sns.lmplot( x=\"GM corn area\", y=\"Normalised Agri GDP\", data=nor_corn_table, fit_reg=False, hue='State', legend=False, palette=sns.color_palette(\"Set3\", 13))\n",
        " \n",
        "# Move the legend to an empty part of the plot\n",
        "plt.legend(bbox_to_anchor=(1.05, 1), loc='upper left')\n",
        " \n",
        "#sns.plt.show()\n"
      ],
      "execution_count": null,
      "outputs": []
    },
    {
      "cell_type": "markdown",
      "metadata": {
        "id": "rDHInRpKi-yz"
      },
      "source": [
        "# Adding other variables to perform the regression"
      ]
    },
    {
      "cell_type": "markdown",
      "metadata": {
        "id": "euOI1hTc3qKa"
      },
      "source": [
        "Then, I will add some other variables that may affect the Agricultural GDP other than GM crop production, and use them as control variables"
      ]
    },
    {
      "cell_type": "markdown",
      "metadata": {
        "id": "OZiuIttyO_yH"
      },
      "source": [
        "Checking the correlation between Field crop totals and the agricultural GDP, to see whether the crops levels overall create the same linear relationship"
      ]
    },
    {
      "cell_type": "code",
      "metadata": {
        "id": "pAgOxMxY30hO"
      },
      "source": [
        "crops_planted_acreage.rename({'Value':'All crops planted acreage'}, inplace=True)"
      ],
      "execution_count": null,
      "outputs": []
    },
    {
      "cell_type": "code",
      "metadata": {
        "id": "rBi466Ng44M6"
      },
      "source": [
        "crops_planted_acreage.head()"
      ],
      "execution_count": null,
      "outputs": []
    },
    {
      "cell_type": "code",
      "metadata": {
        "id": "Aev8Jv0_JV0B"
      },
      "source": [
        "nor_corn_table.head()"
      ],
      "execution_count": null,
      "outputs": []
    },
    {
      "cell_type": "code",
      "metadata": {
        "id": "Eo_JYO3TjeDt"
      },
      "source": [
        "jobs_and_wage.head()"
      ],
      "execution_count": null,
      "outputs": []
    },
    {
      "cell_type": "code",
      "metadata": {
        "id": "HRPL3dktjl5_"
      },
      "source": [
        "jobs_and_wage.dtypes"
      ],
      "execution_count": null,
      "outputs": []
    },
    {
      "cell_type": "code",
      "metadata": {
        "id": "6BF2zFCpjwme"
      },
      "source": [
        "jobs_and_wage.replace({\"**\": \"0\"}, inplace=True)"
      ],
      "execution_count": null,
      "outputs": []
    },
    {
      "cell_type": "code",
      "metadata": {
        "id": "cLbpi_hYj7Ze"
      },
      "source": [
        "jobs_and_wage.replace({\"NaN\": \"0\"}, inplace=True)"
      ],
      "execution_count": null,
      "outputs": []
    },
    {
      "cell_type": "code",
      "metadata": {
        "id": "9utsfzdakZQE"
      },
      "source": [
        "jobs_and_wage.replace({\"*\": \"0\"}, inplace=True)"
      ],
      "execution_count": null,
      "outputs": []
    },
    {
      "cell_type": "code",
      "metadata": {
        "id": "A7TQxfS_kF42"
      },
      "source": [
        "jobs_and_wage[\"TOT_EMP\"] = jobs_and_wage[\"TOT_EMP\"].astype(float).astype(int)\n",
        "jobs_and_wage[\"H_MEAN\"] = jobs_and_wage[\"H_MEAN\"].astype(float).astype(int)\n",
        "jobs_and_wage[\"A_MEAN\"] = jobs_and_wage[\"A_MEAN\"].astype(float).astype(int)\n",
        "jobs_and_wage[\"H_MEDIAN\"] = jobs_and_wage[\"H_MEDIAN\"].astype(float).astype(int)\n",
        "jobs_and_wage[\"A_MEDIAN\"] = jobs_and_wage[\"A_MEDIAN\"].astype(float).astype(int)"
      ],
      "execution_count": null,
      "outputs": []
    },
    {
      "cell_type": "code",
      "metadata": {
        "id": "gKqhpKYgk2S1"
      },
      "source": [
        "jobs_and_wage.dtypes"
      ],
      "execution_count": null,
      "outputs": []
    },
    {
      "cell_type": "code",
      "metadata": {
        "id": "D3vaRirGk5-g"
      },
      "source": [
        "jobs_and_wage=jobs_and_wage.merge(population, how='inner', left_on=['Year', 'STATE'], right_on=['Year', 'State'])"
      ],
      "execution_count": null,
      "outputs": []
    },
    {
      "cell_type": "code",
      "metadata": {
        "id": "15ywPyLzlTBH"
      },
      "source": [
        "jobs_and_wage.head()"
      ],
      "execution_count": null,
      "outputs": []
    },
    {
      "cell_type": "code",
      "metadata": {
        "id": "DT21PBTcnWG2"
      },
      "source": [
        "exports.columns"
      ],
      "execution_count": null,
      "outputs": []
    },
    {
      "cell_type": "code",
      "metadata": {
        "id": "oP2ptD4-m0rL"
      },
      "source": [
        "exports.dtypes"
      ],
      "execution_count": null,
      "outputs": []
    },
    {
      "cell_type": "code",
      "metadata": {
        "id": "asLDRqAEm--M"
      },
      "source": [
        "exports[\"Agri exports \"] = exports[\"Agri exports \"].astype(float).astype(int)\n",
        "exports[\"Corn exports\"] = exports[\"Corn exports\"].astype(float).astype(int)"
      ],
      "execution_count": null,
      "outputs": []
    },
    {
      "cell_type": "markdown",
      "metadata": {
        "id": "oCSaSKqtlxkT"
      },
      "source": [
        "TABLE WITH AGRI GDP; EXPORTS; JOBS; WAGES; TOTAL CROP ACREAGE"
      ]
    },
    {
      "cell_type": "code",
      "metadata": {
        "id": "Tpfn_Tgal4aD"
      },
      "source": [
        "gdp_agri.head()"
      ],
      "execution_count": null,
      "outputs": []
    },
    {
      "cell_type": "code",
      "metadata": {
        "id": "JO4_T-xbqdIf"
      },
      "source": [
        "all_states = gdp_agri.merge(exports, how='inner', left_on=['Year', 'State'], right_on=['Year', 'States'])"
      ],
      "execution_count": null,
      "outputs": []
    },
    {
      "cell_type": "code",
      "metadata": {
        "id": "CzHYd6enqXQc"
      },
      "source": [
        "all_states = all_states.merge(jobs_and_wage, how='inner', left_on=['Year', 'State'], right_on=['Year', 'STATE'])"
      ],
      "execution_count": null,
      "outputs": []
    },
    {
      "cell_type": "code",
      "metadata": {
        "id": "u-1Bqy3sq9Ig"
      },
      "source": [
        "all_states = all_states.merge(crops_planted_acreage, how='inner', left_on=['Year', 'STATE'], right_on=['Year', 'State'])"
      ],
      "execution_count": null,
      "outputs": []
    },
    {
      "cell_type": "code",
      "metadata": {
        "id": "Zfu_WruRsAXh"
      },
      "source": [
        "all_states = all_states.merge(acres_operated, how='inner', left_on=['Year', 'STATE'], right_on=['Year', 'State'])"
      ],
      "execution_count": null,
      "outputs": []
    },
    {
      "cell_type": "code",
      "metadata": {
        "id": "wnZK7nXsrjr2"
      },
      "source": [
        "all_states.head()"
      ],
      "execution_count": null,
      "outputs": []
    },
    {
      "cell_type": "markdown",
      "metadata": {
        "id": "lUnfnxiEl5Jk"
      },
      "source": [
        "TABLE WITH CORN; GM CORN; AGRI GDP; EXPORTS; JOBS; WAGES; TOTAL CROP ACREAGE"
      ]
    },
    {
      "cell_type": "code",
      "metadata": {
        "id": "jEfwiea-mD6A"
      },
      "source": [
        "nor_corn_table = nor_corn_table.merge(crops_planted_acreage, how='inner', left_on=['Year', 'State'], right_on=['Year', 'State'])"
      ],
      "execution_count": null,
      "outputs": []
    },
    {
      "cell_type": "code",
      "metadata": {
        "id": "w7iW3noFnnUe"
      },
      "source": [
        "nor_corn_table = nor_corn_table.merge(exports, how='inner', left_on=['Year', 'State'], right_on=['Year', 'States'])"
      ],
      "execution_count": null,
      "outputs": []
    },
    {
      "cell_type": "code",
      "metadata": {
        "id": "yimFdizUog-6"
      },
      "source": [
        "nor_corn_table = nor_corn_table.merge(jobs_and_wage, how='inner', left_on=['Year', 'State'], right_on=['Year', 'STATE'])"
      ],
      "execution_count": null,
      "outputs": []
    },
    {
      "cell_type": "code",
      "metadata": {
        "id": "wPAGJ3Xs1jsh"
      },
      "source": [
        "norm_data_all_states = norm_data_all_states.merge(exports, how='inner', left_on=['Year', 'State'], right_on=['Year', 'States'])\n",
        "norm_data_all_states = norm_data_all_states.merge(jobs_and_wage, how='inner', left_on=['Year', 'State'], right_on=['Year', 'STATE'])"
      ],
      "execution_count": null,
      "outputs": []
    },
    {
      "cell_type": "code",
      "metadata": {
        "id": "OsvSkabeo2uO"
      },
      "source": [
        "norm_data_all_states.head()"
      ],
      "execution_count": null,
      "outputs": []
    },
    {
      "cell_type": "code",
      "metadata": {
        "id": "X-qfxDYXo6Q7"
      },
      "source": [
        "nor_corn_table.drop(columns=['Attribute', 'States', 'Period', 'Data Item', 'STATE', 'State_y'], inplace=True)"
      ],
      "execution_count": null,
      "outputs": []
    },
    {
      "cell_type": "code",
      "metadata": {
        "id": "o2sGRYS-2nRd"
      },
      "source": [
        "norm_data_all_states.drop(columns=[ 'States', 'JOBS_1000', 'STATE', 'State_y'], inplace=True)"
      ],
      "execution_count": null,
      "outputs": []
    },
    {
      "cell_type": "code",
      "metadata": {
        "id": "CxV5GTrk3Ar_"
      },
      "source": [
        "norm_data_all_states.rename({'Value':'All crops planted acreage'}, inplace=True, axis=1)"
      ],
      "execution_count": null,
      "outputs": []
    },
    {
      "cell_type": "code",
      "metadata": {
        "id": "1Zl8pWOFpmG-"
      },
      "source": [
        "nor_corn_table.rename({'Value':'All crops planted acreage'}, inplace=True, axis=1)"
      ],
      "execution_count": null,
      "outputs": []
    },
    {
      "cell_type": "code",
      "metadata": {
        "id": "nnFJ21j63P1R"
      },
      "source": [
        "norm_data_all_states['OCC_TITLE'].replace({\"Farmers, Ranchers, and Other Agricultural Managers\": \"Farm, ranch, and other agricultural managers\"}, inplace=True)"
      ],
      "execution_count": null,
      "outputs": []
    },
    {
      "cell_type": "code",
      "metadata": {
        "id": "rkhGgseI3Yfh"
      },
      "source": [
        "norm_data_all_states['Agri exports '] = norm_data_all_states['Agri exports ']*1000000\n",
        "norm_data_all_states['Corn exports'] = norm_data_all_states['Corn exports']*1000000"
      ],
      "execution_count": null,
      "outputs": []
    },
    {
      "cell_type": "code",
      "metadata": {
        "id": "8D1ObeTzlrU4"
      },
      "source": [
        "nor_corn_table['OCC_TITLE'].replace({\"Farmers, Ranchers, and Other Agricultural Managers\": \"Farm, ranch, and other agricultural managers\"}, inplace=True)"
      ],
      "execution_count": null,
      "outputs": []
    },
    {
      "cell_type": "code",
      "metadata": {
        "id": "TMEJkz9v5qZf"
      },
      "source": [
        "norm_data_all_states['OCC_TITLE'].replace({'Agricultural Workers, All Other':'Agricultural workers, all other'}, inplace=True)"
      ],
      "execution_count": null,
      "outputs": []
    },
    {
      "cell_type": "code",
      "metadata": {
        "id": "FTH7g1s26zIy"
      },
      "source": [
        "nor_corn_table['Agri GDP'] = nor_corn_table['Agri GDP']*1000000\n",
        "nor_corn_table['Normalised Agri GDP'] = nor_corn_table['Normalised Agri GDP']*1000000\n",
        "nor_corn_table['Area planted'] = nor_corn_table['Area planted']*1000\n",
        "nor_corn_table['Area harvested for grain'] = nor_corn_table['Area harvested for grain']*1000"
      ],
      "execution_count": null,
      "outputs": []
    },
    {
      "cell_type": "code",
      "metadata": {
        "id": "JlKEXK-I_FOO"
      },
      "source": [
        "nor_corn_table['GM corn area'] = nor_corn_table['GM corn area']*1000"
      ],
      "execution_count": null,
      "outputs": []
    },
    {
      "cell_type": "code",
      "metadata": {
        "id": "ldQclFOlABRh"
      },
      "source": [
        "nor_corn_table['Agri exports '] = nor_corn_table['Agri exports ']*1000000\n",
        "nor_corn_table['Corn exports'] = nor_corn_table['Corn exports']*1000000"
      ],
      "execution_count": null,
      "outputs": []
    },
    {
      "cell_type": "code",
      "metadata": {
        "id": "uAS6WLBM-HwY"
      },
      "source": [
        "nor_corn_table['Production'] = nor_corn_table['Production']*1000"
      ],
      "execution_count": null,
      "outputs": []
    },
    {
      "cell_type": "code",
      "metadata": {
        "id": "9LYz298N-vkw"
      },
      "source": [
        "nor_corn_table['Normalised Agri GDP'].round(2)"
      ],
      "execution_count": null,
      "outputs": []
    },
    {
      "cell_type": "code",
      "metadata": {
        "id": "Ms334lfH64BP"
      },
      "source": [
        "norm_data_all_states"
      ],
      "execution_count": null,
      "outputs": []
    },
    {
      "cell_type": "code",
      "metadata": {
        "id": "UVxsAqtyrA0B"
      },
      "source": [
        "len(nor_corn_table[(nor_corn_table['TOT_EMP']==0) & (nor_corn_table['OCC_TITLE']=='Agricultural workers, all other')])"
      ],
      "execution_count": null,
      "outputs": []
    },
    {
      "cell_type": "code",
      "metadata": {
        "id": "aQSGEs03mu5a"
      },
      "source": [
        "nor_corn_table = nor_corn_table[nor_corn_table['OCC_TITLE']=='Farm, ranch, and other agricultural managers']"
      ],
      "execution_count": null,
      "outputs": []
    },
    {
      "cell_type": "code",
      "metadata": {
        "id": "9dRmOdii4J9G"
      },
      "source": [
        "norm_data_all_states = norm_data_all_states[norm_data_all_states['OCC_TITLE']=='Agricultural workers, all other']"
      ],
      "execution_count": null,
      "outputs": []
    },
    {
      "cell_type": "code",
      "metadata": {
        "id": "zByg9GbB4jY_"
      },
      "source": [
        "norm_data_all_states.head()"
      ],
      "execution_count": null,
      "outputs": []
    },
    {
      "cell_type": "markdown",
      "metadata": {
        "id": "cQaB-GzmHvFL"
      },
      "source": [
        "Changing missing values (0) in employment and wage to the mean so we can do the regression"
      ]
    },
    {
      "cell_type": "code",
      "metadata": {
        "id": "mn9_lvURBZd3"
      },
      "source": [
        "mean_tot_emp = nor_corn_table[nor_corn_table['TOT_EMP']>0]['TOT_EMP'].median()\n",
        "\n",
        "nor_corn_table['TOT_EMP'][nor_corn_table['TOT_EMP']==0] = mean_tot_emp"
      ],
      "execution_count": null,
      "outputs": []
    },
    {
      "cell_type": "code",
      "metadata": {
        "id": "B6Tw6_7X632l"
      },
      "source": [
        "mean_tot_emp1 = norm_data_all_states[norm_data_all_states['TOT_EMP']>0]['TOT_EMP'].median()\n",
        "\n",
        "norm_data_all_states['TOT_EMP'][norm_data_all_states['TOT_EMP']==0] = mean_tot_emp1"
      ],
      "execution_count": null,
      "outputs": []
    },
    {
      "cell_type": "code",
      "metadata": {
        "id": "ANXQAaJL4G9a"
      },
      "source": [
        "mean_tot_emp = nor_corn_table[nor_corn_table['TOT_EMP']>0]['TOT_EMP'].median()\n",
        "\n",
        "nor_corn_table['TOT_EMP'][nor_corn_table['TOT_EMP']==0] = mean_tot_emp"
      ],
      "execution_count": null,
      "outputs": []
    },
    {
      "cell_type": "code",
      "metadata": {
        "id": "tzNkPAFsdFjU"
      },
      "source": [
        "mean_hour_wage = nor_corn_table[nor_corn_table['H_MEAN']>0]['H_MEAN'].mean()\n",
        "\n",
        "nor_corn_table['H_MEAN'][nor_corn_table['H_MEAN']==0] = mean_hour_wage"
      ],
      "execution_count": null,
      "outputs": []
    },
    {
      "cell_type": "code",
      "metadata": {
        "id": "BF-9DpYXdxwp"
      },
      "source": [
        "mean_ann_wage = nor_corn_table[nor_corn_table['A_MEAN']>0]['A_MEAN'].mean()\n",
        "\n",
        "nor_corn_table['A_MEAN'][nor_corn_table['A_MEAN']==0] = mean_ann_wage"
      ],
      "execution_count": null,
      "outputs": []
    },
    {
      "cell_type": "code",
      "metadata": {
        "id": "v0p-a39heD5d"
      },
      "source": [
        "mean_med_h_wage = nor_corn_table[nor_corn_table['H_MEDIAN']>0]['H_MEDIAN'].mean()\n",
        "\n",
        "nor_corn_table['H_MEDIAN'][nor_corn_table['H_MEDIAN']==0] = mean_med_h_wage"
      ],
      "execution_count": null,
      "outputs": []
    },
    {
      "cell_type": "code",
      "metadata": {
        "id": "3BgDxW0leSGr"
      },
      "source": [
        "mean_med_a_wage = nor_corn_table[nor_corn_table['A_MEDIAN']>0]['A_MEDIAN'].mean()\n",
        "\n",
        "nor_corn_table['A_MEDIAN'][nor_corn_table['A_MEDIAN']==0] = mean_med_a_wage"
      ],
      "execution_count": null,
      "outputs": []
    },
    {
      "cell_type": "code",
      "metadata": {
        "id": "8ESzt2xbeeNn"
      },
      "source": [
        "nor_corn_table = nor_corn_table.round(5)"
      ],
      "execution_count": null,
      "outputs": []
    },
    {
      "cell_type": "markdown",
      "metadata": {
        "id": "XDqNQSSufFei"
      },
      "source": [
        "Making sure all categorical values are the same"
      ]
    },
    {
      "cell_type": "code",
      "metadata": {
        "id": "Bm-QFYutB5SE"
      },
      "source": [
        "norm_data_all_states"
      ],
      "execution_count": null,
      "outputs": []
    },
    {
      "cell_type": "code",
      "metadata": {
        "id": "4yAfw7Qz7vO_"
      },
      "source": [
        "norm_data_all_states.rename({'All crops planted acreage':'Acres operated in agriculture'}, inplace=True, axis=1)"
      ],
      "execution_count": null,
      "outputs": []
    },
    {
      "cell_type": "code",
      "metadata": {
        "id": "PiGZVvcx7Y5J"
      },
      "source": [
        "norm_data_all_states['N_TOT_EMP_1000'] = norm_data_all_states['TOT_EMP'] / norm_data_all_states['Population']"
      ],
      "execution_count": null,
      "outputs": []
    },
    {
      "cell_type": "code",
      "metadata": {
        "id": "LereOqa47h-2"
      },
      "source": [
        "norm_data_all_states['N_TOT_EMP_1000'] = norm_data_all_states['N_TOT_EMP_1000'] * 1000"
      ],
      "execution_count": null,
      "outputs": []
    },
    {
      "cell_type": "code",
      "metadata": {
        "id": "I60Q13ltg2Nt"
      },
      "source": [
        "nor_corn_table['N_TOT_EMP_1000'] = nor_corn_table['TOT_EMP'] / nor_corn_table['Population']"
      ],
      "execution_count": null,
      "outputs": []
    },
    {
      "cell_type": "code",
      "metadata": {
        "id": "HQMrFA_Ehaq1"
      },
      "source": [
        "nor_corn_table['N_TOT_EMP_1000'] = nor_corn_table['N_TOT_EMP_1000'] * 1000"
      ],
      "execution_count": null,
      "outputs": []
    },
    {
      "cell_type": "code",
      "metadata": {
        "id": "F0PJEGC6lqum"
      },
      "source": [
        "nor_corn_table=nor_corn_table.merge(acres_operated, left_on=['Year', 'State_x'], right_on=['Year', 'State'])"
      ],
      "execution_count": null,
      "outputs": []
    },
    {
      "cell_type": "code",
      "metadata": {
        "id": "HT13W8QAMPEF"
      },
      "source": [
        "nor_corn_table.rename({'Value':'Acres operated in agriculture'}, inplace=True, axis=1)"
      ],
      "execution_count": null,
      "outputs": []
    },
    {
      "cell_type": "code",
      "metadata": {
        "id": "0kBJsGHskT2D"
      },
      "source": [
        "nor_corn_table.drop(columns='State', inplace=True)"
      ],
      "execution_count": null,
      "outputs": []
    },
    {
      "cell_type": "code",
      "metadata": {
        "id": "I4FN8Ri2ek7r"
      },
      "source": [
        "nor_corn_table['log_TOT_EMP'] = np.log10(nor_corn_table['TOT_EMP'])"
      ],
      "execution_count": null,
      "outputs": []
    },
    {
      "cell_type": "code",
      "metadata": {
        "id": "yfYes54g8B4N"
      },
      "source": [
        "norm_data_all_states['log_TOT_EMP'] = np.log10(norm_data_all_states['TOT_EMP'])"
      ],
      "execution_count": null,
      "outputs": []
    },
    {
      "cell_type": "code",
      "metadata": {
        "id": "c_jqGMus8v6e"
      },
      "source": [
        "norm_data_all_states['N_agri_exports'] = norm_data_all_states['Agri exports '] / norm_data_all_states['Acres operated in agriculture']\n",
        "\n",
        "norm_data_all_states['N_corn_exports'] = norm_data_all_states['Corn exports'] / norm_data_all_states['Acres operated in agriculture']"
      ],
      "execution_count": null,
      "outputs": []
    },
    {
      "cell_type": "code",
      "metadata": {
        "id": "8LhKjIKzh4iH"
      },
      "source": [
        "nor_corn_table['N_GM_corn_area '] = nor_corn_table['GM corn area'] / nor_corn_table['Acres operated in agriculture']\n",
        "\n",
        "nor_corn_table['N_agri_exports'] = nor_corn_table['Agri exports '] / nor_corn_table['Acres operated in agriculture']\n",
        "\n",
        "nor_corn_table['N_corn_exports'] = nor_corn_table['Corn exports'] / nor_corn_table['Acres operated in agriculture']\n",
        "\n",
        "nor_corn_table = nor_corn_table.round(5)"
      ],
      "execution_count": null,
      "outputs": []
    },
    {
      "cell_type": "code",
      "metadata": {
        "id": "9D3Pv7hfNvEz"
      },
      "source": [
        "nor_corn_table.to_csv('final_data_table.csv')"
      ],
      "execution_count": null,
      "outputs": []
    },
    {
      "cell_type": "code",
      "metadata": {
        "id": "IsWf0QKZ9CWB"
      },
      "source": [
        "norm_data_all_states.to_csv('final_data_all_states.csv')"
      ],
      "execution_count": null,
      "outputs": []
    },
    {
      "cell_type": "code",
      "metadata": {
        "id": "GgOdjqo5Qowv"
      },
      "source": [
        "nor_corn_table.set_index('Year', inplace=True)"
      ],
      "execution_count": null,
      "outputs": []
    },
    {
      "cell_type": "code",
      "metadata": {
        "id": "MrK1HKlG8Xu4"
      },
      "source": [
        "import pandas as pd\n",
        "from sklearn import preprocessing\n",
        "cols_to_norm = ['Normalised Agri GDP','N_GM_corn_area', 'N_agri_exports', 'N_TOT_EMP_1000', 'Yield', 'log_TOT_EMP']\n",
        "min_max_scaler = preprocessing.MinMaxScaler()\n",
        "norm_data_all_states[cols_to_norm] = min_max_scaler.fit_transform(norm_data_all_states[cols_to_norm])"
      ],
      "execution_count": null,
      "outputs": []
    },
    {
      "cell_type": "code",
      "metadata": {
        "id": "01gFYj3dQQRz"
      },
      "source": [
        "import pandas as pd\n",
        "from sklearn import preprocessing\n",
        "cols_to_norm = ['Normalised Agri GDP','N_GM_corn_area ', 'N_agri_exports', 'N_TOT_EMP_1000', 'H_MEAN', 'A_MEAN', 'Yield', 'log_TOT_EMP']\n",
        "min_max_scaler = preprocessing.MinMaxScaler()\n",
        "nor_corn_table[cols_to_norm] = min_max_scaler.fit_transform(nor_corn_table[cols_to_norm])\n"
      ],
      "execution_count": null,
      "outputs": []
    },
    {
      "cell_type": "code",
      "metadata": {
        "id": "ISY0NQipivBw"
      },
      "source": [
        "norm_data_all_states.round(4)"
      ],
      "execution_count": null,
      "outputs": []
    },
    {
      "cell_type": "markdown",
      "metadata": {
        "id": "HekhzSkWg0ry"
      },
      "source": [
        "---"
      ]
    },
    {
      "cell_type": "markdown",
      "metadata": {
        "id": "4eVUwp7IukhT"
      },
      "source": [
        "# Regression and final visualisations"
      ]
    },
    {
      "cell_type": "code",
      "metadata": {
        "id": "WKCdOEoGwdfq"
      },
      "source": [
        "nor_corn_table.columns"
      ],
      "execution_count": null,
      "outputs": []
    },
    {
      "cell_type": "code",
      "metadata": {
        "id": "9275F-VIu3ux"
      },
      "source": [
        "nor_corn_table.rename(columns={'Normalised Agri GDP':'N_Agri_GDP'}, inplace=True)"
      ],
      "execution_count": null,
      "outputs": []
    },
    {
      "cell_type": "code",
      "metadata": {
        "id": "lwg_96m--AdK"
      },
      "source": [
        "norm_data_all_states.rename(columns={'Normalised Agri GDP':'N_Agri_GDP'}, inplace=True)"
      ],
      "execution_count": null,
      "outputs": []
    },
    {
      "cell_type": "code",
      "metadata": {
        "id": "yWU7oG2rwm0U"
      },
      "source": [
        "nor_corn_table.rename(columns={'N_GM_corn_area ':'N_GM_corn_area'}, inplace=True)"
      ],
      "execution_count": null,
      "outputs": []
    },
    {
      "cell_type": "markdown",
      "metadata": {
        "id": "qJzEveg5yEOc"
      },
      "source": [
        "Source:  https://www.statology.org/durbin-watson-test-python/"
      ]
    },
    {
      "cell_type": "markdown",
      "metadata": {
        "id": "hvOGud9Uxe2Q"
      },
      "source": [
        "Before doing the linear regression, since the data is a time series it is important to check whether the data is autocorrelated, that would make it unsuitable for the linear regression. If the Durbin-Watson test lies between 1.5 and 2.5, then it is considered normal."
      ]
    },
    {
      "cell_type": "code",
      "metadata": {
        "id": "lElV6bj1xPKZ"
      },
      "source": [
        "from statsmodels.formula.api import ols\n",
        "\n",
        "#fit multiple linear regression model\n",
        "model1 = ols('N_Agri_GDP ~ N_GM_corn_area ', data=nor_corn_table).fit()\n",
        "\n",
        "#view model summary\n",
        "print(model1.summary())"
      ],
      "execution_count": null,
      "outputs": []
    },
    {
      "cell_type": "code",
      "metadata": {
        "id": "twEO3gyFutSv"
      },
      "source": [
        "from statsmodels.formula.api import ols\n",
        "\n",
        "#fit multiple linear regression model\n",
        "model = ols('N_Agri_GDP ~ log_TOT_EMP + Yield + N_GM_corn_area ', data=nor_corn_table).fit()\n",
        "\n",
        "#view model summary\n",
        "print(model.summary())"
      ],
      "execution_count": null,
      "outputs": []
    },
    {
      "cell_type": "code",
      "metadata": {
        "id": "Lj6wxTAwxEqM"
      },
      "source": [
        "from statsmodels.stats.stattools import durbin_watson\n",
        "\n",
        "#perform Durbin-Watson test\n",
        "durbin_watson(model.resid)\n"
      ],
      "execution_count": null,
      "outputs": []
    },
    {
      "cell_type": "code",
      "metadata": {
        "id": "DkpdnhtyqPEs"
      },
      "source": [
        "from sklearn.linear_model import LinearRegression "
      ],
      "execution_count": null,
      "outputs": []
    },
    {
      "cell_type": "code",
      "metadata": {
        "id": "Vb5bjJI12cGm"
      },
      "source": [
        "nor_corn_table.columns"
      ],
      "execution_count": null,
      "outputs": []
    },
    {
      "cell_type": "code",
      "metadata": {
        "id": "olW8RV5j2HI-"
      },
      "source": [
        "Features = ['N_GM_corn_area', 'log_TOT_EMP', 'Yield']\n",
        "X = nor_corn_table[Features]\n",
        "y = nor_corn_table['N_Agri_GDP']"
      ],
      "execution_count": null,
      "outputs": []
    },
    {
      "cell_type": "markdown",
      "metadata": {
        "id": "lCiLkiLNnHUC"
      },
      "source": [
        "Removed 'N_agri_exports'"
      ]
    },
    {
      "cell_type": "code",
      "metadata": {
        "id": "BSMhSktI34ac"
      },
      "source": [
        "reg = LinearRegression().fit(X,y)"
      ],
      "execution_count": null,
      "outputs": []
    },
    {
      "cell_type": "code",
      "metadata": {
        "id": "FHnK-1s74D97"
      },
      "source": [
        "np.round(reg.coef_, 6)"
      ],
      "execution_count": null,
      "outputs": []
    },
    {
      "cell_type": "code",
      "metadata": {
        "id": "CtsSFbSd4Oev"
      },
      "source": [
        "reg.score(X,y)"
      ],
      "execution_count": null,
      "outputs": []
    },
    {
      "cell_type": "code",
      "metadata": {
        "id": "16AApMfn5Hl4"
      },
      "source": [
        "y_pred = reg.predict(X)"
      ],
      "execution_count": null,
      "outputs": []
    },
    {
      "cell_type": "code",
      "metadata": {
        "id": "OABJCXvP5819"
      },
      "source": [
        "from sklearn.metrics import mean_squared_error, r2_score\n",
        "# The mean squared error\n",
        "print('Mean squared error: %.2f'      \n",
        "      % mean_squared_error(y, y_pred))\n",
        "# The coefficient of determination: 1 is perfect prediction\n",
        "print('Coefficient of determination: %.2f'     \n",
        "      % r2_score(y, y_pred)) "
      ],
      "execution_count": null,
      "outputs": []
    },
    {
      "cell_type": "code",
      "metadata": {
        "id": "X2SzdTAQ6yRk"
      },
      "source": [
        "import matplotlib.lines as mlines\n",
        "import matplotlib.transforms as mtransforms\n",
        "\n",
        "fig, ax = plt.subplots()\n",
        "ax.scatter(y, y_pred)\n",
        "line = mlines.Line2D([0, 1], [0, 1], color='red')\n",
        "transform = ax.transAxes\n",
        "line.set_transform(transform)\n",
        "ax.add_line(line)\n",
        "plt.show() "
      ],
      "execution_count": null,
      "outputs": []
    },
    {
      "cell_type": "code",
      "metadata": {
        "id": "yQaybddr8l0z"
      },
      "source": [
        "sns.pairplot(nor_corn_table[Features+['N_Agri_GDP']])"
      ],
      "execution_count": null,
      "outputs": []
    },
    {
      "cell_type": "code",
      "metadata": {
        "id": "SI3ra1iEmJla"
      },
      "source": [
        "sns.heatmap(nor_corn_table[Features+['N_Agri_GDP']].corr())"
      ],
      "execution_count": null,
      "outputs": []
    },
    {
      "cell_type": "code",
      "metadata": {
        "id": "G--N1i-V_gJj"
      },
      "source": [
        "nor_corn_table[Features+['N_Agri_GDP']]"
      ],
      "execution_count": null,
      "outputs": []
    },
    {
      "cell_type": "code",
      "metadata": {
        "id": "OOQlow93PqDI"
      },
      "source": [
        "Features = ['N_GM_corn_area', 'log_TOT_EMP', 'Yield','N_agri_exports']"
      ],
      "execution_count": null,
      "outputs": []
    },
    {
      "cell_type": "code",
      "metadata": {
        "id": "L5EzyxpR__AE"
      },
      "source": [
        "sns.set_style('whitegrid') \n",
        "for f in Features:\n",
        "  print(f)\n",
        "  sns.lmplot(x=f, y='N_Agri_GDP', data=nor_corn_table)"
      ],
      "execution_count": null,
      "outputs": []
    },
    {
      "cell_type": "code",
      "metadata": {
        "id": "kV38xdyGBbf2"
      },
      "source": [
        "norm_data_all_states_05 = norm_data_all_states[norm_data_all_states['Year'] == 2005]"
      ],
      "execution_count": null,
      "outputs": []
    },
    {
      "cell_type": "code",
      "metadata": {
        "id": "dV59_BoGPOax"
      },
      "source": [
        "\n",
        "norm_data_all_states_09 = norm_data_all_states[norm_data_all_states['Year'] == 2009]\n",
        "norm_data_all_states_13 = norm_data_all_states[norm_data_all_states['Year'] == 2013]\n",
        "norm_data_all_states_17 = norm_data_all_states[norm_data_all_states['Year'] == 2017]\n",
        "norm_data_all_states_19 = norm_data_all_states[norm_data_all_states['Year'] == 2019]"
      ],
      "execution_count": null,
      "outputs": []
    },
    {
      "cell_type": "code",
      "metadata": {
        "id": "BG4QgxlCCW9z"
      },
      "source": [
        "\n",
        "norm_data_all_states_09.plot(x='N_GM_corn_area', y='N_GM_corn_area')"
      ],
      "execution_count": null,
      "outputs": []
    }
  ]
}