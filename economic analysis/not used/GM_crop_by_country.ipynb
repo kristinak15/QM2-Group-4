{
  "nbformat": 4,
  "nbformat_minor": 0,
  "metadata": {
    "colab": {
      "name": "GM crop by country",
      "provenance": [],
      "history_visible": true,
      "authorship_tag": "ABX9TyMGxk/ZbgRbu9dvq31nLz4l",
      "include_colab_link": true
    },
    "kernelspec": {
      "name": "python3",
      "display_name": "Python 3"
    }
  },
  "cells": [
    {
      "cell_type": "markdown",
      "metadata": {
        "id": "view-in-github",
        "colab_type": "text"
      },
      "source": [
        "<a href=\"https://colab.research.google.com/github/kristinak15/QM2-Group-4/blob/main/GM_crop_by_country.ipynb\" target=\"_parent\"><img src=\"https://colab.research.google.com/assets/colab-badge.svg\" alt=\"Open In Colab\"/></a>"
      ]
    },
    {
      "cell_type": "markdown",
      "metadata": {
        "id": "YjTYm9Os4hG9"
      },
      "source": [
        "Plotting Total Acreage by country witth data from ISAAA"
      ]
    },
    {
      "cell_type": "code",
      "metadata": {
        "id": "Mkbpll2E4m7G"
      },
      "source": [
        "import pandas as pd\n",
        "\n",
        "import matplotlib\n",
        "%matplotlib inline"
      ],
      "execution_count": 16,
      "outputs": []
    },
    {
      "cell_type": "code",
      "metadata": {
        "id": "5VMuB5sP5R-r",
        "outputId": "a4851ac1-4914-4be0-fcba-bb73cb587286",
        "colab": {
          "base_uri": "https://localhost:8080/",
          "height": 204
        }
      },
      "source": [
        "data = pandas.read_csv('/content/sample_data/biotech_crops_area.csv')\n",
        "data.head()"
      ],
      "execution_count": 3,
      "outputs": [
        {
          "output_type": "execute_result",
          "data": {
            "text/html": [
              "<div>\n",
              "<style scoped>\n",
              "    .dataframe tbody tr th:only-of-type {\n",
              "        vertical-align: middle;\n",
              "    }\n",
              "\n",
              "    .dataframe tbody tr th {\n",
              "        vertical-align: top;\n",
              "    }\n",
              "\n",
              "    .dataframe thead th {\n",
              "        text-align: right;\n",
              "    }\n",
              "</style>\n",
              "<table border=\"1\" class=\"dataframe\">\n",
              "  <thead>\n",
              "    <tr style=\"text-align: right;\">\n",
              "      <th></th>\n",
              "      <th>Year</th>\n",
              "      <th>USA</th>\n",
              "      <th>Brazil</th>\n",
              "      <th>Argentina</th>\n",
              "      <th>India</th>\n",
              "      <th>Canada</th>\n",
              "    </tr>\n",
              "  </thead>\n",
              "  <tbody>\n",
              "    <tr>\n",
              "      <th>0</th>\n",
              "      <td>2008</td>\n",
              "      <td>62.5</td>\n",
              "      <td>15.8</td>\n",
              "      <td>21.0</td>\n",
              "      <td>7.6</td>\n",
              "      <td>7.6</td>\n",
              "    </tr>\n",
              "    <tr>\n",
              "      <th>1</th>\n",
              "      <td>2009</td>\n",
              "      <td>64.0</td>\n",
              "      <td>21.4</td>\n",
              "      <td>21.3</td>\n",
              "      <td>8.4</td>\n",
              "      <td>8.2</td>\n",
              "    </tr>\n",
              "    <tr>\n",
              "      <th>2</th>\n",
              "      <td>2010</td>\n",
              "      <td>66.8</td>\n",
              "      <td>25.4</td>\n",
              "      <td>22.9</td>\n",
              "      <td>9.4</td>\n",
              "      <td>8.8</td>\n",
              "    </tr>\n",
              "    <tr>\n",
              "      <th>3</th>\n",
              "      <td>2011</td>\n",
              "      <td>69.0</td>\n",
              "      <td>30.3</td>\n",
              "      <td>23.7</td>\n",
              "      <td>10.6</td>\n",
              "      <td>10.4</td>\n",
              "    </tr>\n",
              "    <tr>\n",
              "      <th>4</th>\n",
              "      <td>2012</td>\n",
              "      <td>69.5</td>\n",
              "      <td>36.6</td>\n",
              "      <td>23.9</td>\n",
              "      <td>10.8</td>\n",
              "      <td>11.6</td>\n",
              "    </tr>\n",
              "  </tbody>\n",
              "</table>\n",
              "</div>"
            ],
            "text/plain": [
              "   Year  USA   Brazil  Argentina   India   Canada\n",
              "0  2008  62.5    15.8        21.0     7.6     7.6\n",
              "1  2009  64.0    21.4        21.3     8.4     8.2\n",
              "2  2010  66.8    25.4        22.9     9.4     8.8\n",
              "3  2011  69.0    30.3        23.7    10.6    10.4\n",
              "4  2012  69.5    36.6        23.9    10.8    11.6"
            ]
          },
          "metadata": {
            "tags": []
          },
          "execution_count": 3
        }
      ]
    },
    {
      "cell_type": "code",
      "metadata": {
        "id": "iUCBDl5f8KO2"
      },
      "source": [
        "data.set_index('Year', inplace=True)"
      ],
      "execution_count": 4,
      "outputs": []
    },
    {
      "cell_type": "code",
      "metadata": {
        "id": "JJkUEneM8yCV",
        "outputId": "ad810ca1-5c13-4e85-c315-1b66563b946b",
        "colab": {
          "base_uri": "https://localhost:8080/",
          "height": 235
        }
      },
      "source": [
        "data.head()"
      ],
      "execution_count": 5,
      "outputs": [
        {
          "output_type": "execute_result",
          "data": {
            "text/html": [
              "<div>\n",
              "<style scoped>\n",
              "    .dataframe tbody tr th:only-of-type {\n",
              "        vertical-align: middle;\n",
              "    }\n",
              "\n",
              "    .dataframe tbody tr th {\n",
              "        vertical-align: top;\n",
              "    }\n",
              "\n",
              "    .dataframe thead th {\n",
              "        text-align: right;\n",
              "    }\n",
              "</style>\n",
              "<table border=\"1\" class=\"dataframe\">\n",
              "  <thead>\n",
              "    <tr style=\"text-align: right;\">\n",
              "      <th></th>\n",
              "      <th>USA</th>\n",
              "      <th>Brazil</th>\n",
              "      <th>Argentina</th>\n",
              "      <th>India</th>\n",
              "      <th>Canada</th>\n",
              "    </tr>\n",
              "    <tr>\n",
              "      <th>Year</th>\n",
              "      <th></th>\n",
              "      <th></th>\n",
              "      <th></th>\n",
              "      <th></th>\n",
              "      <th></th>\n",
              "    </tr>\n",
              "  </thead>\n",
              "  <tbody>\n",
              "    <tr>\n",
              "      <th>2008</th>\n",
              "      <td>62.5</td>\n",
              "      <td>15.8</td>\n",
              "      <td>21.0</td>\n",
              "      <td>7.6</td>\n",
              "      <td>7.6</td>\n",
              "    </tr>\n",
              "    <tr>\n",
              "      <th>2009</th>\n",
              "      <td>64.0</td>\n",
              "      <td>21.4</td>\n",
              "      <td>21.3</td>\n",
              "      <td>8.4</td>\n",
              "      <td>8.2</td>\n",
              "    </tr>\n",
              "    <tr>\n",
              "      <th>2010</th>\n",
              "      <td>66.8</td>\n",
              "      <td>25.4</td>\n",
              "      <td>22.9</td>\n",
              "      <td>9.4</td>\n",
              "      <td>8.8</td>\n",
              "    </tr>\n",
              "    <tr>\n",
              "      <th>2011</th>\n",
              "      <td>69.0</td>\n",
              "      <td>30.3</td>\n",
              "      <td>23.7</td>\n",
              "      <td>10.6</td>\n",
              "      <td>10.4</td>\n",
              "    </tr>\n",
              "    <tr>\n",
              "      <th>2012</th>\n",
              "      <td>69.5</td>\n",
              "      <td>36.6</td>\n",
              "      <td>23.9</td>\n",
              "      <td>10.8</td>\n",
              "      <td>11.6</td>\n",
              "    </tr>\n",
              "  </tbody>\n",
              "</table>\n",
              "</div>"
            ],
            "text/plain": [
              "      USA   Brazil  Argentina   India   Canada\n",
              "Year                                          \n",
              "2008  62.5    15.8        21.0     7.6     7.6\n",
              "2009  64.0    21.4        21.3     8.4     8.2\n",
              "2010  66.8    25.4        22.9     9.4     8.8\n",
              "2011  69.0    30.3        23.7    10.6    10.4\n",
              "2012  69.5    36.6        23.9    10.8    11.6"
            ]
          },
          "metadata": {
            "tags": []
          },
          "execution_count": 5
        }
      ]
    },
    {
      "cell_type": "code",
      "metadata": {
        "id": "4QVfMIhK8zzT"
      },
      "source": [
        "import matplotlib.pyplot as plt\n",
        "import numpy as np"
      ],
      "execution_count": 6,
      "outputs": []
    },
    {
      "cell_type": "code",
      "metadata": {
        "id": "lAR52YMu9Bxk",
        "outputId": "ab4910f2-c0e7-4d1b-9489-bc969bf22b3c",
        "colab": {
          "base_uri": "https://localhost:8080/",
          "height": 312
        }
      },
      "source": [
        "data.plot()\n",
        "plt.title('Commercialized biotech crop acreage by country 2008-2018')\n",
        "plt.xlabel('Year')\n",
        "plt.ylabel('Acreage (million hectacres)')"
      ],
      "execution_count": 12,
      "outputs": [
        {
          "output_type": "execute_result",
          "data": {
            "text/plain": [
              "Text(0, 0.5, 'Acreage (million hectacres)')"
            ]
          },
          "metadata": {
            "tags": []
          },
          "execution_count": 12
        },
        {
          "output_type": "display_data",
          "data": {
            "image/png": "[encoded data removed]",
            "text/plain": [
              "<Figure size 432x288 with 1 Axes>"
            ]
          },
          "metadata": {
            "tags": [],
            "needs_background": "light"
          }
        }
      ]
    },
    {
      "cell_type": "code",
      "metadata": {
        "id": "uT6vL2kV9hR2",
        "outputId": "95dde9b0-d856-4eb1-b07e-3673fbffd817",
        "colab": {
          "base_uri": "https://localhost:8080/",
          "height": 282
        }
      },
      "source": [
        "data.boxplot()"
      ],
      "execution_count": 14,
      "outputs": [
        {
          "output_type": "execute_result",
          "data": {
            "text/plain": [
              "<matplotlib.axes._subplots.AxesSubplot at 0x7f2810a1a438>"
            ]
          },
          "metadata": {
            "tags": []
          },
          "execution_count": 14
        },
        {
          "output_type": "display_data",
          "data": {
            "image/png": "[encoded data removed]",
            "text/plain": [
              "<Figure size 432x288 with 1 Axes>"
            ]
          },
          "metadata": {
            "tags": [],
            "needs_background": "light"
          }
        }
      ]
    },
    {
      "cell_type": "code",
      "metadata": {
        "id": "PYFGd_sa_Mq5"
      },
      "source": [
        "data1 = data.transpose()"
      ],
      "execution_count": 18,
      "outputs": []
    },
    {
      "cell_type": "code",
      "metadata": {
        "id": "FImMqD-qBMjk",
        "outputId": "f5aec366-f25a-48c4-87ac-4e2358f52f48",
        "colab": {
          "base_uri": "https://localhost:8080/",
          "height": 204
        }
      },
      "source": [
        "data1.head()"
      ],
      "execution_count": 19,
      "outputs": [
        {
          "output_type": "execute_result",
          "data": {
            "text/html": [
              "<div>\n",
              "<style scoped>\n",
              "    .dataframe tbody tr th:only-of-type {\n",
              "        vertical-align: middle;\n",
              "    }\n",
              "\n",
              "    .dataframe tbody tr th {\n",
              "        vertical-align: top;\n",
              "    }\n",
              "\n",
              "    .dataframe thead th {\n",
              "        text-align: right;\n",
              "    }\n",
              "</style>\n",
              "<table border=\"1\" class=\"dataframe\">\n",
              "  <thead>\n",
              "    <tr style=\"text-align: right;\">\n",
              "      <th>Year</th>\n",
              "      <th>2008</th>\n",
              "      <th>2009</th>\n",
              "      <th>2010</th>\n",
              "      <th>2011</th>\n",
              "      <th>2012</th>\n",
              "      <th>2013</th>\n",
              "      <th>2014</th>\n",
              "      <th>2015</th>\n",
              "      <th>2016</th>\n",
              "      <th>2017</th>\n",
              "      <th>2018</th>\n",
              "    </tr>\n",
              "  </thead>\n",
              "  <tbody>\n",
              "    <tr>\n",
              "      <th>USA</th>\n",
              "      <td>62.5</td>\n",
              "      <td>64.0</td>\n",
              "      <td>66.8</td>\n",
              "      <td>69.0</td>\n",
              "      <td>69.5</td>\n",
              "      <td>70.1</td>\n",
              "      <td>73.1</td>\n",
              "      <td>70.9</td>\n",
              "      <td>72.9</td>\n",
              "      <td>75.0</td>\n",
              "      <td>75.0</td>\n",
              "    </tr>\n",
              "    <tr>\n",
              "      <th>Brazil</th>\n",
              "      <td>15.8</td>\n",
              "      <td>21.4</td>\n",
              "      <td>25.4</td>\n",
              "      <td>30.3</td>\n",
              "      <td>36.6</td>\n",
              "      <td>40.3</td>\n",
              "      <td>42.2</td>\n",
              "      <td>44.2</td>\n",
              "      <td>49.1</td>\n",
              "      <td>50.2</td>\n",
              "      <td>51.3</td>\n",
              "    </tr>\n",
              "    <tr>\n",
              "      <th>Argentina</th>\n",
              "      <td>21.0</td>\n",
              "      <td>21.3</td>\n",
              "      <td>22.9</td>\n",
              "      <td>23.7</td>\n",
              "      <td>23.9</td>\n",
              "      <td>24.4</td>\n",
              "      <td>24.3</td>\n",
              "      <td>24.5</td>\n",
              "      <td>23.8</td>\n",
              "      <td>23.6</td>\n",
              "      <td>23.9</td>\n",
              "    </tr>\n",
              "    <tr>\n",
              "      <th>India</th>\n",
              "      <td>7.6</td>\n",
              "      <td>8.4</td>\n",
              "      <td>9.4</td>\n",
              "      <td>10.6</td>\n",
              "      <td>10.8</td>\n",
              "      <td>11.0</td>\n",
              "      <td>11.6</td>\n",
              "      <td>11.6</td>\n",
              "      <td>10.8</td>\n",
              "      <td>11.4</td>\n",
              "      <td>11.6</td>\n",
              "    </tr>\n",
              "    <tr>\n",
              "      <th>Canada</th>\n",
              "      <td>7.6</td>\n",
              "      <td>8.2</td>\n",
              "      <td>8.8</td>\n",
              "      <td>10.4</td>\n",
              "      <td>11.6</td>\n",
              "      <td>10.8</td>\n",
              "      <td>11.6</td>\n",
              "      <td>11.0</td>\n",
              "      <td>11.1</td>\n",
              "      <td>13.1</td>\n",
              "      <td>12.7</td>\n",
              "    </tr>\n",
              "  </tbody>\n",
              "</table>\n",
              "</div>"
            ],
            "text/plain": [
              "Year        2008  2009  2010  2011  2012  2013  2014  2015  2016  2017  2018\n",
              "USA         62.5  64.0  66.8  69.0  69.5  70.1  73.1  70.9  72.9  75.0  75.0\n",
              "Brazil      15.8  21.4  25.4  30.3  36.6  40.3  42.2  44.2  49.1  50.2  51.3\n",
              "Argentina   21.0  21.3  22.9  23.7  23.9  24.4  24.3  24.5  23.8  23.6  23.9\n",
              "India        7.6   8.4   9.4  10.6  10.8  11.0  11.6  11.6  10.8  11.4  11.6\n",
              "Canada       7.6   8.2   8.8  10.4  11.6  10.8  11.6  11.0  11.1  13.1  12.7"
            ]
          },
          "metadata": {
            "tags": []
          },
          "execution_count": 19
        }
      ]
    },
    {
      "cell_type": "code",
      "metadata": {
        "id": "mfB8jesQBA5y",
        "outputId": "6b0b7b07-c755-4e59-e844-082c3c504207",
        "colab": {
          "base_uri": "https://localhost:8080/",
          "height": 312
        }
      },
      "source": [
        "data1.boxplot()\n",
        "plt.title('Commercialized biotech crop acreage spread in top 5 producers')\n",
        "plt.xlabel('Year')\n",
        "plt.ylabel('Acreage (million hectacres)')"
      ],
      "execution_count": 21,
      "outputs": [
        {
          "output_type": "execute_result",
          "data": {
            "text/plain": [
              "Text(0, 0.5, 'Acreage (million hectacres)')"
            ]
          },
          "metadata": {
            "tags": []
          },
          "execution_count": 21
        },
        {
          "output_type": "display_data",
          "data": {
            "image/png": "[encoded data removed]",
            "text/plain": [
              "<Figure size 432x288 with 1 Axes>"
            ]
          },
          "metadata": {
            "tags": [],
            "needs_background": "light"
          }
        }
      ]
    },
    {
      "cell_type": "code",
      "metadata": {
        "id": "VZhI-LvIIJpY"
      },
      "source": [
        ""
      ],
      "execution_count": null,
      "outputs": []
    }
  ]
}
