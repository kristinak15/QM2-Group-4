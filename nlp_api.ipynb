{
  "nbformat": 4,
  "nbformat_minor": 0,
  "metadata": {
    "colab": {
      "name": "nlp api.ipynb",
      "provenance": [],
      "collapsed_sections": [],
      "authorship_tag": "ABX9TyOfM4KxEj0RznB0J5hpi9Kk",
      "include_colab_link": true
    },
    "kernelspec": {
      "name": "python3",
      "display_name": "Python 3"
    }
  },
  "cells": [
    {
      "cell_type": "markdown",
      "metadata": {
        "id": "view-in-github",
        "colab_type": "text"
      },
      "source": [
        "<a href=\"https://colab.research.google.com/github/kristinak15/QM2-Group-4/blob/main/nlp_api.ipynb\" target=\"_parent\"><img src=\"https://colab.research.google.com/assets/colab-badge.svg\" alt=\"Open In Colab\"/></a>"
      ]
    },
    {
      "cell_type": "code",
      "metadata": {
        "colab": {
          "base_uri": "https://localhost:8080/"
        },
        "id": "f6ZLgbSZv5UF",
        "outputId": "4f862746-4f12-4659-8c39-d32b97380dcd"
      },
      "source": [
        "import pandas as pd \n",
        "import pylab\n",
        "%matplotlib inline\n",
        "pylab.rcParams['figure.figsize'] = (10., 8.)\n",
        "import nltk\n",
        "nltk.download('book')\n",
        "from nltk.book import *"
      ],
      "execution_count": 1,
      "outputs": [
        {
          "output_type": "stream",
          "text": [
            "[nltk_data] Downloading collection 'book'\n",
            "[nltk_data]    | \n",
            "[nltk_data]    | Downloading package abc to /root/nltk_data...\n",
            "[nltk_data]    |   Unzipping corpora/abc.zip.\n",
            "[nltk_data]    | Downloading package brown to /root/nltk_data...\n",
            "[nltk_data]    |   Unzipping corpora/brown.zip.\n",
            "[nltk_data]    | Downloading package chat80 to /root/nltk_data...\n",
            "[nltk_data]    |   Unzipping corpora/chat80.zip.\n",
            "[nltk_data]    | Downloading package cmudict to /root/nltk_data...\n",
            "[nltk_data]    |   Unzipping corpora/cmudict.zip.\n",
            "[nltk_data]    | Downloading package conll2000 to /root/nltk_data...\n",
            "[nltk_data]    |   Unzipping corpora/conll2000.zip.\n",
            "[nltk_data]    | Downloading package conll2002 to /root/nltk_data...\n",
            "[nltk_data]    |   Unzipping corpora/conll2002.zip.\n",
            "[nltk_data]    | Downloading package dependency_treebank to\n",
            "[nltk_data]    |     /root/nltk_data...\n",
            "[nltk_data]    |   Unzipping corpora/dependency_treebank.zip.\n",
            "[nltk_data]    | Downloading package genesis to /root/nltk_data...\n",
            "[nltk_data]    |   Unzipping corpora/genesis.zip.\n",
            "[nltk_data]    | Downloading package gutenberg to /root/nltk_data...\n",
            "[nltk_data]    |   Unzipping corpora/gutenberg.zip.\n",
            "[nltk_data]    | Downloading package ieer to /root/nltk_data...\n",
            "[nltk_data]    |   Unzipping corpora/ieer.zip.\n",
            "[nltk_data]    | Downloading package inaugural to /root/nltk_data...\n",
            "[nltk_data]    |   Unzipping corpora/inaugural.zip.\n",
            "[nltk_data]    | Downloading package movie_reviews to\n",
            "[nltk_data]    |     /root/nltk_data...\n",
            "[nltk_data]    |   Unzipping corpora/movie_reviews.zip.\n",
            "[nltk_data]    | Downloading package nps_chat to /root/nltk_data...\n",
            "[nltk_data]    |   Unzipping corpora/nps_chat.zip.\n",
            "[nltk_data]    | Downloading package names to /root/nltk_data...\n",
            "[nltk_data]    |   Unzipping corpora/names.zip.\n",
            "[nltk_data]    | Downloading package ppattach to /root/nltk_data...\n",
            "[nltk_data]    |   Unzipping corpora/ppattach.zip.\n",
            "[nltk_data]    | Downloading package reuters to /root/nltk_data...\n",
            "[nltk_data]    | Downloading package senseval to /root/nltk_data...\n",
            "[nltk_data]    |   Unzipping corpora/senseval.zip.\n",
            "[nltk_data]    | Downloading package state_union to /root/nltk_data...\n",
            "[nltk_data]    |   Unzipping corpora/state_union.zip.\n",
            "[nltk_data]    | Downloading package stopwords to /root/nltk_data...\n",
            "[nltk_data]    |   Unzipping corpora/stopwords.zip.\n",
            "[nltk_data]    | Downloading package swadesh to /root/nltk_data...\n",
            "[nltk_data]    |   Unzipping corpora/swadesh.zip.\n",
            "[nltk_data]    | Downloading package timit to /root/nltk_data...\n",
            "[nltk_data]    |   Unzipping corpora/timit.zip.\n",
            "[nltk_data]    | Downloading package treebank to /root/nltk_data...\n",
            "[nltk_data]    |   Unzipping corpora/treebank.zip.\n",
            "[nltk_data]    | Downloading package toolbox to /root/nltk_data...\n",
            "[nltk_data]    |   Unzipping corpora/toolbox.zip.\n",
            "[nltk_data]    | Downloading package udhr to /root/nltk_data...\n",
            "[nltk_data]    |   Unzipping corpora/udhr.zip.\n",
            "[nltk_data]    | Downloading package udhr2 to /root/nltk_data...\n",
            "[nltk_data]    |   Unzipping corpora/udhr2.zip.\n",
            "[nltk_data]    | Downloading package unicode_samples to\n",
            "[nltk_data]    |     /root/nltk_data...\n",
            "[nltk_data]    |   Unzipping corpora/unicode_samples.zip.\n",
            "[nltk_data]    | Downloading package webtext to /root/nltk_data...\n",
            "[nltk_data]    |   Unzipping corpora/webtext.zip.\n",
            "[nltk_data]    | Downloading package wordnet to /root/nltk_data...\n",
            "[nltk_data]    |   Unzipping corpora/wordnet.zip.\n",
            "[nltk_data]    | Downloading package wordnet_ic to /root/nltk_data...\n",
            "[nltk_data]    |   Unzipping corpora/wordnet_ic.zip.\n",
            "[nltk_data]    | Downloading package words to /root/nltk_data...\n",
            "[nltk_data]    |   Unzipping corpora/words.zip.\n",
            "[nltk_data]    | Downloading package maxent_treebank_pos_tagger to\n",
            "[nltk_data]    |     /root/nltk_data...\n",
            "[nltk_data]    |   Unzipping taggers/maxent_treebank_pos_tagger.zip.\n",
            "[nltk_data]    | Downloading package maxent_ne_chunker to\n",
            "[nltk_data]    |     /root/nltk_data...\n",
            "[nltk_data]    |   Unzipping chunkers/maxent_ne_chunker.zip.\n",
            "[nltk_data]    | Downloading package universal_tagset to\n",
            "[nltk_data]    |     /root/nltk_data...\n",
            "[nltk_data]    |   Unzipping taggers/universal_tagset.zip.\n",
            "[nltk_data]    | Downloading package punkt to /root/nltk_data...\n",
            "[nltk_data]    |   Unzipping tokenizers/punkt.zip.\n",
            "[nltk_data]    | Downloading package book_grammars to\n",
            "[nltk_data]    |     /root/nltk_data...\n",
            "[nltk_data]    |   Unzipping grammars/book_grammars.zip.\n",
            "[nltk_data]    | Downloading package city_database to\n",
            "[nltk_data]    |     /root/nltk_data...\n",
            "[nltk_data]    |   Unzipping corpora/city_database.zip.\n",
            "[nltk_data]    | Downloading package tagsets to /root/nltk_data...\n",
            "[nltk_data]    |   Unzipping help/tagsets.zip.\n",
            "[nltk_data]    | Downloading package panlex_swadesh to\n",
            "[nltk_data]    |     /root/nltk_data...\n",
            "[nltk_data]    | Downloading package averaged_perceptron_tagger to\n",
            "[nltk_data]    |     /root/nltk_data...\n",
            "[nltk_data]    |   Unzipping taggers/averaged_perceptron_tagger.zip.\n",
            "[nltk_data]    | \n",
            "[nltk_data]  Done downloading collection book\n",
            "*** Introductory Examples for the NLTK Book ***\n",
            "Loading text1, ..., text9 and sent1, ..., sent9\n",
            "Type the name of the text or sentence to view it.\n",
            "Type: 'texts()' or 'sents()' to list the materials.\n",
            "text1: Moby Dick by Herman Melville 1851\n",
            "text2: Sense and Sensibility by Jane Austen 1811\n",
            "text3: The Book of Genesis\n",
            "text4: Inaugural Address Corpus\n",
            "text5: Chat Corpus\n",
            "text6: Monty Python and the Holy Grail\n",
            "text7: Wall Street Journal\n",
            "text8: Personals Corpus\n",
            "text9: The Man Who Was Thursday by G . K . Chesterton 1908\n"
          ],
          "name": "stdout"
        }
      ]
    },
    {
      "cell_type": "code",
      "metadata": {
        "id": "kg6lvNMwxUVU"
      },
      "source": [
        "data = pd.read_csv('/content/api.csv')"
      ],
      "execution_count": 2,
      "outputs": []
    },
    {
      "cell_type": "code",
      "metadata": {
        "colab": {
          "base_uri": "https://localhost:8080/",
          "height": 198
        },
        "id": "QJzeCejWydxO",
        "outputId": "a2460f63-10fe-4a66-85b5-2821ab4bb571"
      },
      "source": [
        "data.head()"
      ],
      "execution_count": 3,
      "outputs": [
        {
          "output_type": "execute_result",
          "data": {
            "text/html": [
              "<div>\n",
              "<style scoped>\n",
              "    .dataframe tbody tr th:only-of-type {\n",
              "        vertical-align: middle;\n",
              "    }\n",
              "\n",
              "    .dataframe tbody tr th {\n",
              "        vertical-align: top;\n",
              "    }\n",
              "\n",
              "    .dataframe thead th {\n",
              "        text-align: right;\n",
              "    }\n",
              "</style>\n",
              "<table border=\"1\" class=\"dataframe\">\n",
              "  <thead>\n",
              "    <tr style=\"text-align: right;\">\n",
              "      <th></th>\n",
              "      <th>tweet</th>\n",
              "      <th>link</th>\n",
              "      <th>Unnamed: 2</th>\n",
              "      <th>Unnamed: 3</th>\n",
              "    </tr>\n",
              "  </thead>\n",
              "  <tbody>\n",
              "    <tr>\n",
              "      <th>0</th>\n",
              "      <td>A German brand of food supplement organic and ...</td>\n",
              "      <td>https://t.co/bJyf5laljQ</td>\n",
              "      <td>NaN</td>\n",
              "      <td>NaN</td>\n",
              "    </tr>\n",
              "    <tr>\n",
              "      <th>1</th>\n",
              "      <td>RT @DrLeoRebello: The 5 Big Lies they do not w...</td>\n",
              "      <td>NaN</td>\n",
              "      <td>NaN</td>\n",
              "      <td>NaN</td>\n",
              "    </tr>\n",
              "    <tr>\n",
              "      <th>2</th>\n",
              "      <td>RT @ladydiaphanous: @___Prodigy___ @DrMadej @b...</td>\n",
              "      <td>NaN</td>\n",
              "      <td>NaN</td>\n",
              "      <td>NaN</td>\n",
              "    </tr>\n",
              "    <tr>\n",
              "      <th>3</th>\n",
              "      <td>@Chena_Punim Funny it’s a sign of zinc deficie...</td>\n",
              "      <td>https://t.co/Tmj7ffzAqH</td>\n",
              "      <td>NaN</td>\n",
              "      <td>NaN</td>\n",
              "    </tr>\n",
              "    <tr>\n",
              "      <th>4</th>\n",
              "      <td>RT @ChickenGate: @kirstiealley Check this out ...</td>\n",
              "      <td>NaN</td>\n",
              "      <td>NaN</td>\n",
              "      <td>NaN</td>\n",
              "    </tr>\n",
              "  </tbody>\n",
              "</table>\n",
              "</div>"
            ],
            "text/plain": [
              "                                               tweet  ... Unnamed: 3\n",
              "0  A German brand of food supplement organic and ...  ...        NaN\n",
              "1  RT @DrLeoRebello: The 5 Big Lies they do not w...  ...        NaN\n",
              "2  RT @ladydiaphanous: @___Prodigy___ @DrMadej @b...  ...        NaN\n",
              "3  @Chena_Punim Funny it’s a sign of zinc deficie...  ...        NaN\n",
              "4  RT @ChickenGate: @kirstiealley Check this out ...  ...        NaN\n",
              "\n",
              "[5 rows x 4 columns]"
            ]
          },
          "metadata": {
            "tags": []
          },
          "execution_count": 3
        }
      ]
    },
    {
      "cell_type": "code",
      "metadata": {
        "id": "EH7HS8oSyhUf"
      },
      "source": [
        "data.drop(['Unnamed: 2','Unnamed: 3'], axis=1,inplace=True)"
      ],
      "execution_count": 4,
      "outputs": []
    },
    {
      "cell_type": "code",
      "metadata": {
        "colab": {
          "base_uri": "https://localhost:8080/",
          "height": 198
        },
        "id": "AkGnAH6EzIg0",
        "outputId": "c31f8626-8bb2-48c8-f16c-9fcbbf2a079b"
      },
      "source": [
        "data.head()"
      ],
      "execution_count": 5,
      "outputs": [
        {
          "output_type": "execute_result",
          "data": {
            "text/html": [
              "<div>\n",
              "<style scoped>\n",
              "    .dataframe tbody tr th:only-of-type {\n",
              "        vertical-align: middle;\n",
              "    }\n",
              "\n",
              "    .dataframe tbody tr th {\n",
              "        vertical-align: top;\n",
              "    }\n",
              "\n",
              "    .dataframe thead th {\n",
              "        text-align: right;\n",
              "    }\n",
              "</style>\n",
              "<table border=\"1\" class=\"dataframe\">\n",
              "  <thead>\n",
              "    <tr style=\"text-align: right;\">\n",
              "      <th></th>\n",
              "      <th>tweet</th>\n",
              "      <th>link</th>\n",
              "    </tr>\n",
              "  </thead>\n",
              "  <tbody>\n",
              "    <tr>\n",
              "      <th>0</th>\n",
              "      <td>A German brand of food supplement organic and ...</td>\n",
              "      <td>https://t.co/bJyf5laljQ</td>\n",
              "    </tr>\n",
              "    <tr>\n",
              "      <th>1</th>\n",
              "      <td>RT @DrLeoRebello: The 5 Big Lies they do not w...</td>\n",
              "      <td>NaN</td>\n",
              "    </tr>\n",
              "    <tr>\n",
              "      <th>2</th>\n",
              "      <td>RT @ladydiaphanous: @___Prodigy___ @DrMadej @b...</td>\n",
              "      <td>NaN</td>\n",
              "    </tr>\n",
              "    <tr>\n",
              "      <th>3</th>\n",
              "      <td>@Chena_Punim Funny it’s a sign of zinc deficie...</td>\n",
              "      <td>https://t.co/Tmj7ffzAqH</td>\n",
              "    </tr>\n",
              "    <tr>\n",
              "      <th>4</th>\n",
              "      <td>RT @ChickenGate: @kirstiealley Check this out ...</td>\n",
              "      <td>NaN</td>\n",
              "    </tr>\n",
              "  </tbody>\n",
              "</table>\n",
              "</div>"
            ],
            "text/plain": [
              "                                               tweet                     link\n",
              "0  A German brand of food supplement organic and ...  https://t.co/bJyf5laljQ\n",
              "1  RT @DrLeoRebello: The 5 Big Lies they do not w...                      NaN\n",
              "2  RT @ladydiaphanous: @___Prodigy___ @DrMadej @b...                      NaN\n",
              "3  @Chena_Punim Funny it’s a sign of zinc deficie...  https://t.co/Tmj7ffzAqH\n",
              "4  RT @ChickenGate: @kirstiealley Check this out ...                      NaN"
            ]
          },
          "metadata": {
            "tags": []
          },
          "execution_count": 5
        }
      ]
    },
    {
      "cell_type": "code",
      "metadata": {
        "id": "Xxk7zWhgbslh"
      },
      "source": [
        "tweets = data.drop('link',axis=1)"
      ],
      "execution_count": 6,
      "outputs": []
    },
    {
      "cell_type": "code",
      "metadata": {
        "id": "6KUvp1Y3f6dR"
      },
      "source": [
        "value = 1 \n",
        "tweets['value'] = value"
      ],
      "execution_count": 7,
      "outputs": []
    },
    {
      "cell_type": "code",
      "metadata": {
        "colab": {
          "base_uri": "https://localhost:8080/",
          "height": 198
        },
        "id": "udQ4AKFegMD3",
        "outputId": "b12b6019-2017-4ca0-ab34-858ffb06c8b1"
      },
      "source": [
        "tweets.head()"
      ],
      "execution_count": 8,
      "outputs": [
        {
          "output_type": "execute_result",
          "data": {
            "text/html": [
              "<div>\n",
              "<style scoped>\n",
              "    .dataframe tbody tr th:only-of-type {\n",
              "        vertical-align: middle;\n",
              "    }\n",
              "\n",
              "    .dataframe tbody tr th {\n",
              "        vertical-align: top;\n",
              "    }\n",
              "\n",
              "    .dataframe thead th {\n",
              "        text-align: right;\n",
              "    }\n",
              "</style>\n",
              "<table border=\"1\" class=\"dataframe\">\n",
              "  <thead>\n",
              "    <tr style=\"text-align: right;\">\n",
              "      <th></th>\n",
              "      <th>tweet</th>\n",
              "      <th>value</th>\n",
              "    </tr>\n",
              "  </thead>\n",
              "  <tbody>\n",
              "    <tr>\n",
              "      <th>0</th>\n",
              "      <td>A German brand of food supplement organic and ...</td>\n",
              "      <td>1</td>\n",
              "    </tr>\n",
              "    <tr>\n",
              "      <th>1</th>\n",
              "      <td>RT @DrLeoRebello: The 5 Big Lies they do not w...</td>\n",
              "      <td>1</td>\n",
              "    </tr>\n",
              "    <tr>\n",
              "      <th>2</th>\n",
              "      <td>RT @ladydiaphanous: @___Prodigy___ @DrMadej @b...</td>\n",
              "      <td>1</td>\n",
              "    </tr>\n",
              "    <tr>\n",
              "      <th>3</th>\n",
              "      <td>@Chena_Punim Funny it’s a sign of zinc deficie...</td>\n",
              "      <td>1</td>\n",
              "    </tr>\n",
              "    <tr>\n",
              "      <th>4</th>\n",
              "      <td>RT @ChickenGate: @kirstiealley Check this out ...</td>\n",
              "      <td>1</td>\n",
              "    </tr>\n",
              "  </tbody>\n",
              "</table>\n",
              "</div>"
            ],
            "text/plain": [
              "                                               tweet  value\n",
              "0  A German brand of food supplement organic and ...      1\n",
              "1  RT @DrLeoRebello: The 5 Big Lies they do not w...      1\n",
              "2  RT @ladydiaphanous: @___Prodigy___ @DrMadej @b...      1\n",
              "3  @Chena_Punim Funny it’s a sign of zinc deficie...      1\n",
              "4  RT @ChickenGate: @kirstiealley Check this out ...      1"
            ]
          },
          "metadata": {
            "tags": []
          },
          "execution_count": 8
        }
      ]
    },
    {
      "cell_type": "code",
      "metadata": {
        "id": "vdI3Y-Idb3N2"
      },
      "source": [
        "tweets['tweet'] = tweets['tweet'].astype(str)"
      ],
      "execution_count": 9,
      "outputs": []
    },
    {
      "cell_type": "code",
      "metadata": {
        "id": "ZW5Alz2dgPe4"
      },
      "source": [
        "text = tweets.groupby('value')['tweet'].apply(' '.join).reset_index()"
      ],
      "execution_count": 10,
      "outputs": []
    },
    {
      "cell_type": "code",
      "metadata": {
        "colab": {
          "base_uri": "https://localhost:8080/",
          "height": 78
        },
        "id": "Nk3Ko3yVggia",
        "outputId": "17df6ce9-9cbb-44a0-dade-39c2d0d1a2a6"
      },
      "source": [
        "text"
      ],
      "execution_count": 11,
      "outputs": [
        {
          "output_type": "execute_result",
          "data": {
            "text/html": [
              "<div>\n",
              "<style scoped>\n",
              "    .dataframe tbody tr th:only-of-type {\n",
              "        vertical-align: middle;\n",
              "    }\n",
              "\n",
              "    .dataframe tbody tr th {\n",
              "        vertical-align: top;\n",
              "    }\n",
              "\n",
              "    .dataframe thead th {\n",
              "        text-align: right;\n",
              "    }\n",
              "</style>\n",
              "<table border=\"1\" class=\"dataframe\">\n",
              "  <thead>\n",
              "    <tr style=\"text-align: right;\">\n",
              "      <th></th>\n",
              "      <th>value</th>\n",
              "      <th>tweet</th>\n",
              "    </tr>\n",
              "  </thead>\n",
              "  <tbody>\n",
              "    <tr>\n",
              "      <th>0</th>\n",
              "      <td>1</td>\n",
              "      <td>A German brand of food supplement organic and ...</td>\n",
              "    </tr>\n",
              "  </tbody>\n",
              "</table>\n",
              "</div>"
            ],
            "text/plain": [
              "   value                                              tweet\n",
              "0      1  A German brand of food supplement organic and ..."
            ]
          },
          "metadata": {
            "tags": []
          },
          "execution_count": 11
        }
      ]
    },
    {
      "cell_type": "code",
      "metadata": {
        "id": "-95a3jOFgxLL"
      },
      "source": [
        "text = text.drop('value', axis=1)\n",
        "text.reset_index(drop=True, inplace=True)"
      ],
      "execution_count": 12,
      "outputs": []
    },
    {
      "cell_type": "code",
      "metadata": {
        "id": "5_UxcZiKhLEB"
      },
      "source": [
        "text['tweet'] = text['tweet'].astype(str)"
      ],
      "execution_count": 13,
      "outputs": []
    },
    {
      "cell_type": "code",
      "metadata": {
        "id": "r6pLwHLdiGhr"
      },
      "source": [
        "text = text.iloc[0]['tweet']"
      ],
      "execution_count": 16,
      "outputs": []
    },
    {
      "cell_type": "code",
      "metadata": {
        "colab": {
          "base_uri": "https://localhost:8080/",
          "height": 191
        },
        "id": "Vne-0Feqt3G8",
        "outputId": "62e5f9b0-36aa-45d6-df8e-c8d25cfd4b06"
      },
      "source": [
        "text"
      ],
      "execution_count": 19,
      "outputs": [
        {
          "output_type": "execute_result",
          "data": {
            "application/vnd.google.colaboratory.intrinsic+json": {
              "type": "string"
            },
            "text/plain": [
              "'A German brand of food supplement organic and no gmo includin vitamin d supplement.  RT @DrLeoRebello: The 5 Big Lies they do not want you to find out.  RT @ladydiaphanous: @___Prodigy___ @DrMadej @bitchute The gates don\\'t vaccinate.. they also grow their own food in bubble greenhouses and h… @Chena_Punim Funny it’s a sign of zinc deficiency, and zinc is good for immunity, and gmo crops have wrecked the so…  RT @ChickenGate: @kirstiealley Check this out Bill Gates caught on video admitting that his ‘experimental’ vaccine will CHANGE our DNA FORE… RT @GMOFreeUSA: #GMOs are invasive species and persistent pollution, and need to be treated as such. We need to work on changing our laws s… It is worth remembering what you’re advertising when you are doing advertising for Spotify.” RT @_ReddDotMedia: The only females left in the world are all GMO’d \\U0001f92e @WrightBethani @NYGovCuomo Begging for the Vaccine? #WakeUp #GMO GMO GENETICALLY MODIFIED ORGANISM DNA test.  Non-GMO “Low-Allergen” Varieties of Common Allergens  @TheRealTriscuit ...then contributing to the further demonization of GMO\\'s, such as via the Non-GMO Project BS, wil…  @Poundcake921 @mchicon @NYGovCuomo #PoundSand Beg for the Vaccine be a GMO GENETICALLY MODIFIED ORGANISM. RT @GMOFreeUSA: #GMOs are invasive species and persistent pollution, and need to be treated as such. We need to work on changing our laws s… Did you hear about the GMO that almost destroyed all life?  @mcnees Not that I’m defending Hercules, but it didn’t strike me that he was refuting science. He seemed to be taki…  RT @_ReddDotMedia: The only females left in the world are all GMO’d \\U0001f92e The only females left in the world are all GMO’d \\U0001f92e RT @GMOFreeUSA: #GMOs are invasive species and persistent pollution, and need to be treated as such. We need to work on changing our laws s… @JennCunningham2 @NYGovCuomo And everything else including what your stuffing yo face with. Billions will starve ar…  RT @GMOFreeUSA: #GMOs are invasive species and persistent pollution, and need to be treated as such. We need to work on changing our laws s… Did you hear about the GMO that almost destroyed all life?  Check the labels GMO- Genetically Modified Engineering or Bio-Genetically Modified. Also the \"kraft mac &amp; cheese, I…   RT @GMOFreeUSA: #GMOs are invasive species and persistent pollution, and need to be treated as such. We need to work on changing our laws s… @vermonterbro @NYGovCuomo Begging you to research.GMO GENETICALLY MODIFIED ORGANISM DNA RNA WARPSPEED VACCINES PLE…  Nature s Edge Premium Quality Red Yeast Rice 600mg. Non-GMO and CITRININ-Free. Vegetarian. 60 Vegetarian Capsules B…  RT @natoshisakamato: @zerohedge GMO vaccination by Bill Gates  @zerohedge GMO vaccination by Bill Gates  When the chemistry is organic no gmo 😭  RT @GMOAnswers: Many are surprised to learn that there are very few GMO crops grown around the world. Today, we take a look at a few popula… RT @rapandroses: I don’t understand how people trust a system built off of legally poisoning its people in many ways (air, gmo food, fluori… What Caused Polio? Dr. Thomas Cowan-Toxic Pesticides-At Same Time Hawaiian Sugar Plantations-1st Place to Use Arsen…  RT @ChickenGate: @kirstiealley Check this out Bill Gates caught on video admitting that his ‘experimental’ vaccine will CHANGE our DNA FORE… @gmo_kelley I’ve started doing it in similar situations &amp; so far so good! If you keep on top of the reviews and sit…  Economy vs science: GMO food tech causes clashes among Indian food sector  RT @GMWatch: @IMidwest Glazik’s soybeans have been repeatedly damaged. His neighbors who spray #dicamba are frustrated with him. There’s an… @heyitskaylyn @NYGovCuomo Probably begging for a Vaccine too. O please turn me into a GMO GENETICALLY MODIFIED ORGA…  Germs, Viruses and diseases don’t exist. Just people eating like shit and filling them selves up with gmo and parasites @straybec That is a good suggestion. Im always a little paranoid ordering from 3rd party people online but at least…  RT @SeedsHereNow: Buy (1) Full pack from the CaliSunset line and get a pack of Chellofornia* for FREE! AND/OR Buy (1) Full pack from the Bl… Autoimmunity RAMPANT-Changing Nature of Illness TRAUMA TREATMENT-Dr Tom Cowan’s Version of the Gaps Diet-NO GMO or…  Anatomy of Meatball Sub-1000 Calories-Live as if YOU NEVER HAVE TO SAY \"I AM SORRY\"-Longevity a Bridge Too Far\\' in…  @gmo_kelley Can you find it from somewhere that likely already bought it &amp; won’t directly giving nintendo more mone…  @Jesusis53688620 @Patriotic_Storm gmo the food is fake or its made from a 3d printer RT @SeedsHereNow: Buy (1) Full pack from the CaliSunset line and get a pack of Chellofornia* for FREE! AND/OR Buy (1) Full pack from the Bl… RT @lilbenghazi: RETWEET TO SHOW A FRIEND 100% tobacco free 100% gmo free 100% chlorine free 100% natural  RT @biotechaction: Genetically modified food: \"To eat or not to eat - that is the question\" for #TWOSEscitap panel, but there\\'s no choice w…   @newwestgenetics Ban GMO or RoundUp ready weed If the ash is black it isn’t worthy!51 RT @PhishStats: new #phishing at hXXp://bar-banks[.]com/ | 157[.]7[.]107[.]185 | Japan | INTERQ GMO Internet | ASN 7506 #infosec #cybersecu… Marijuana producers Against Monsanto (bayer) ((bastardized cannabis)) Say no to GMO! Enjoy your breakfast! #GMO  #Monsanto #fakefood #goodmorning #poison #AmericanDream  #freedommatters #NWO…  @gmo_kelley like nintendo is shit but dont bring it to the point of possibly not getting someones christmas gift, i…  @gmo_kelley try looking for Mario Kart Live on a shopping app like OfferUp, try looking for a new box and try to lo…  I\\'m not demonizing cannabis  because it aids in the function of endocannabinoid system but you really do more harm…  RT @GMOFreeUSA: #GMOs are invasive species and persistent pollution, and need to be treated as such. We need to work on changing our laws s… new #phishing at hXXp://bar-banks[.]com/ | 157[.]7[.]107[.]185 | Japan | INTERQ GMO Internet | ASN 7506 #infosec…  @miamooo @MattHarperUK @airstripone84 @Cornubian2 What if the 299, due to the entirely new Novel experimental GMO v…  On the Radio Show: Diet soda no better than regular for heart health; Solutions for nightti…   Deep down they know its a death sentence for \"you\" taking the shot or refusing. So do your \"friends\" calling for it…  Buy (1) Full pack from the CaliSunset line and get a pack of Chellofornia* for FREE! AND/OR Buy (1) Full pack from…  RT @ChickenGate: @kirstiealley Check this out Bill Gates caught on video admitting that his ‘experimental’ vaccine will CHANGE our DNA FORE… RT @DrLeoRebello: The 5 Big Lies they do not want you to find out. [1] Chemtrails. [2] Drugs and Vaccines. [3] GMO. [4]Radiation and [5]… Autoimmunity RAMPANT-Changing Nature of Illness TRAUMA TREATMENT – Dr Tom Cowan’s Version of the Gaps Diet-NO GMO-F…  @kkarissay I should’ve recorded it LOL RT @GMOFreeUSA: #GMOs are invasive species and persistent pollution, and need to be treated as such. We need to work on changing our laws s… Anatomy of Meatball Sub-1000 Calories-Live as if YOU NEVER HAVE TO SAY \"I AM SORRY\"- Longevity a Bridge Too Far\\' in…  If you want genuine organic food on your table support your farmers. Corporations are only GMO\\'s.…  RT @ChickenGate: @kirstiealley Check this out Bill Gates caught on video admitting that his ‘experimental’ vaccine will CHANGE our DNA FORE… @greta Im not anti-vaccine by any means but it does strike me as odd that after a lifetime of being told I need to…  At Jeff\\'s Best we say NO to BPA plastics! We also don’t use ingredients that have been exposed to herbicides, pesti…  CASH PRICE UPDATED – CIF/FOB TEXAS &amp; FOB UPRIVER Sorghum basis and outright #OATT But my GF really wants mario kart live. My back up christmas gift was to detail her car but she already did that la…  RT @LotusOak2: If you look at @OrganicValley &amp; @Horizon_Organic, both utilize #vaccines in their veterinary care practices, some of which e… Context for some people: Nintendo has done some really shitty PR stuff lately. Specifically to the melee comp commu…  On one hand my gf really wants mario kart live for Christmas On the other hand fuck nintendo Many are surprised to learn that there are very few GMO crops grown around the world. Today, we take a look at a fe…  If Humans Were Rats… Monsanto’s Own# GMO \"Safety\" Test by Hammond Assures that HALF WILL BE DEAD:…  All the GMO crops took the testosterone out of the food.  The new vaccinations will take the Soul out of  man.  Passion 4 Life Mega Liquid Multivitamins, Trace Minerals, Amino Acids, Turmeric for Adults, Men, Women, Teens, Kids…  That\\'s good. Air quality at the TJ Mahal cleanup. But what about the farmers with their GMO crops comitting suicide…  RT @GMOFreeUSA: #GMOs are invasive species and persistent pollution, and need to be treated as such. We need to work on changing our laws s… @joannepenn @DawgAlfie Guess you know about farmers protest in India? No farmers, no \\'natural\\' food. Monsanto wants…  Classic Collusion-Big Business-Big Gov-Medicare and Covid-How Our Nation STARVES-at Same Time with GMO and Over-Mil…  Western Medicine-Basing Medical System on Flawed Premises? Insanity Doing the Same (Flawed) Thing and Expecting Dif…  I know what a GMO is because I understand what that actually is. The reason certain marking doesn’t fool me because…  A fantastic lesson in Science where we debated the pros and cons to genetically modified crops. Well done…  @MatthewNewell67 @Effiedeans I\\'m fine with that. Good science, very clever. Like genetically modified crops. Or nuc…  Genetically modified crops represent the most rapidly adopted technology in the history of agriculture.The benefi…  @CodeMonkeyZ More likely some Chinese genetically modified seeds that will destroy our crops.  Wuhan Seeds Of Death. @CodeMonkeyZ @IronSkillet85 Genetically modified seeds to destroy the crops and food supply. @livemint @manujosephsan Abruptly ends with a plug for genetically modified crops. It\\'s almost as if the writer was…  @manujosephsan If farming and farmers fall in a morally grey area so does genetically modified crops and the scient…  For me surely the next reform by Modi govt should be to liberalise usage of Genetically Modified Crops!…  Continued *(Note this --- Here in India Activists oppositing GM are philosophical Thugs from both left wing and…  \"Bayer bought Monsanto as part of its reinvention as a life-science firm with a focus on health and agriculture. Ba…  @99freemind Polly, I love you like a sister but please educate yourself re GMOs. Seedless grapes &amp; insulin are gene…  @rich1mages @rodcampsbay Look around you evolution would never have produced: Modern dairy cows n chickens Genetica…  @ishkarnBHANDARI Hi, A bit off topic but there\\'s a problem since there are 16K farmer suicides in India &amp; similar i…  RT @gr33nbot: DNA From Genetically Modified Crops Can Be Transferred Into Humans Who Eat Them:  @Effiedeans If we trust scientists , why has the Scottish government got a blanket ban on Genetically Modified crops? RT @gr33nbot: DNA From Genetically Modified Crops Can Be Transferred Into Humans Who Eat Them:  RT @gr33nbot: DNA From Genetically Modified Crops Can Be Transferred Into Humans Who Eat Them:  DNA From Genetically Modified Crops Can Be Transferred Into Humans Who Eat Them:  @timesofindia No need to look west when it comes to agriculture-WTO is an acronym for World Trauma Ogre,eager to pu…  @spacedoutlily Maybe the genetically modified plants are a red herring because a particularly invasive fungus is ki…  pharmacology she calycine organism both as much dna sequences genetically modified crops when scientist but flax where epigraphy RT @JeanMichelAne: Impact of Genetically Modified Crops on the Biodiversity of Arbuscular Mycorrhizal Fungi  @microdot3313 @LGBT_Activist Besides genetically modified sh*t, toxic Roundup, suing farmers whose crops were pollu…  RT @JeanMichelAne: Impact of Genetically Modified Crops on the Biodiversity of Arbuscular Mycorrhizal Fungi  Impact of Genetically Modified Crops on the Biodiversity of Arbuscular Mycorrhizal Fungi  RT @gr33nbot: Global incidents of genetic contamination from genetically modified crops are on the rise, while companies responsible ignore… RT @gr33nbot: Global incidents of genetic contamination from genetically modified crops are on the rise, while companies responsible ignore… Global incidents of genetic contamination from genetically modified crops are on the rise, while companies responsible ignore consequences. RT @gr33nbot: When it comes to genetically modified crops and foods, we really have no idea of what the long term effects will be on the pu… RT @gr33nbot: When it comes to genetically modified crops and foods, we really have no idea of what the long term effects will be on the pu… RT @gr33nbot: When it comes to genetically modified crops and foods, we really have no idea of what the long term effects will be on the pu… When it comes to genetically modified crops and foods, we really have no idea of what the long term effects will be on the public. The number of #Countries growing genetically-modified (GM) cotton in #Africa has doubled since 2018, says a Interna…  @avi58757609 @dennchdind @captjasdeep It will even go crapier when companies will ask farmers to grow genetically m…  @BrownSpiderCLE The bag says \"non-gmo,\" but the ingredients list no crops that are genetically modified. So, that\\'s just a marketing ploy. RT @GMOFreeUSA: Groundbreaking 2013 study shows pigs were harmed by the consumption of feed containing GMO crops. This was the first long-t… there actually arent that many genetically modified crops. there are only like eleven. and most of the gm food is for cattle. RT @AgBioWorld: How crops are genetically modified...over time. Unstable, undesirable effects rarely occur in the final product of any crop… RT @GMOFreeUSA: Groundbreaking 2013 study shows pigs were harmed by the consumption of feed containing GMO crops. This was the first long-t… RT @GMOFreeUSA: Groundbreaking 2013 study shows pigs were harmed by the consumption of feed containing GMO crops. This was the first long-t… RT @GMOFreeUSA: Groundbreaking 2013 study shows pigs were harmed by the consumption of feed containing GMO crops. This was the first long-t… RT @GMOFreeUSA: Groundbreaking 2013 study shows pigs were harmed by the consumption of feed containing GMO crops. This was the first long-t… @wrak_shaii bas Pakistan is an agricultural country and how genetically modified crops can help agricultural growth…  RT @GMOFreeUSA: Groundbreaking 2013 study shows pigs were harmed by the consumption of feed containing GMO crops. This was the first long-t… When looking at food labels, be careful of marketing schemes! Currently, there is no such thing as a GMO (Genetical…  RT @GMOFreeUSA: Groundbreaking 2013 study shows pigs were harmed by the consumption of feed containing GMO crops. This was the first long-t… RT @GMOFreeUSA: Groundbreaking 2013 study shows pigs were harmed by the consumption of feed containing GMO crops. This was the first long-t… RT @GMOFreeUSA: Groundbreaking 2013 study shows pigs were harmed by the consumption of feed containing GMO crops. This was the first long-t… RT @GMOFreeUSA: Groundbreaking 2013 study shows pigs were harmed by the consumption of feed containing GMO crops. This was the first long-t… RT @GMOFreeUSA: Groundbreaking 2013 study shows pigs were harmed by the consumption of feed containing GMO crops. This was the first long-t… Groundbreaking 2013 study shows pigs were harmed by the consumption of feed containing GMO crops. This was the firs…  @AledGwynWiliams @lowri_journo @WelshDalaiLama @ITVWales Considering the first thing we learn in science is \"we don…  @CropLifeIndia Canadian farmers can help alleviate some food loss by using a number of plant science innovations, s…  RT @AgBioWorld: How crops are genetically modified...over time. Unstable, undesirable effects rarely occur in the final product of any crop… @ShekharGupta When you take on the double standard of Indians on genetically modified crops I think our govt should listen to this @mattwridley While at the same time banning imports of genetically modified crops that would, in many cases, not re…  RT @MASIPAGFarmers: LOOK: How the herbicide glyphosate is partitioned in different environmental media when sprayed. It can contaminate our… RT @TrumpFragile: @mrmarksteel Just had an anti-vaxxer tell me the vaccine is a poison. Coming from someone who undoubtedly eats genetical… @MrHarryCole @SunPolitics Okay I am Good with Frozen Meat on Steroids from US, Chlorinated yummy Chicken, Genetical…  RT @AgBioWorld: How crops are genetically modified...over time. Unstable, undesirable effects rarely occur in the final product of any crop… Are these vaccines genetically modified? If so, what do those who oppose GM crops think about accepting it? I hope…  RT @AgBioWorld: How crops are genetically modified...over time. Unstable, undesirable effects rarely occur in the final product of any crop… @LeafLee6 Not to mention allowing Monsanto pesticides in our food, genetically modified crops, and allowing a famil…  RT @TrumpFragile: @mrmarksteel Just had an anti-vaxxer tell me the vaccine is a poison. Coming from someone who undoubtedly eats genetical… Some conservative n left leaning ppl who used to oppose the cultivation f GM food crops, must go through the scienc…  \"Some of the most popular agricultural biotech products are running into problems. These plants have been genetical…  @Mirzaraja14 Monsanto. Patent new genetically modified crops, build a monopoly through patents &amp; make a billion dollars. RT @AgBioWorld: How crops are genetically modified...over time. Unstable, undesirable effects rarely occur in the final product of any crop… @AaronBastani @AyoCaesar Serious question: is it consistent to promote this while opposing genetically modified crops? @MonicaHone Hmm. Lab grown meat is ok. Genetically modified crops aren’t.I plan to continue to source my meat from farm grown animals. Mandate the Labelling of #GMO Products in Canada - Sign the Petition!  RT @AgBioWorld: How crops are genetically modified...over time. Unstable, undesirable effects rarely occur in the final product of any crop… RT @AgBioWorld: How crops are genetically modified...over time. Unstable, undesirable effects rarely occur in the final product of any crop… RT @AgBioWorld: How crops are genetically modified...over time. Unstable, undesirable effects rarely occur in the final product of any crop… RT @AgBioWorld: How crops are genetically modified...over time. Unstable, undesirable effects rarely occur in the final product of any crop… RT @AgBioWorld: How crops are genetically modified...over time. Unstable, undesirable effects rarely occur in the final product of any crop… RT @AgBioWorld: How crops are genetically modified...over time. Unstable, undesirable effects rarely occur in the final product of any crop… RT @AgBioWorld: How crops are genetically modified...over time. Unstable, undesirable effects rarely occur in the final product of any crop… @Leethewalker89 @robbeckettcomic It has been tested 👍 You do realise you eat genetically modified crops which are…  RT @AgBioWorld: How crops are genetically modified...over time. Unstable, undesirable effects rarely occur in the final product of any crop… RT @AgBioWorld: How crops are genetically modified...over time. Unstable, undesirable effects rarely occur in the final product of any crop… RT @AgBioWorld: How crops are genetically modified...over time. Unstable, undesirable effects rarely occur in the final product of any crop… RT @AgBioWorld: How crops are genetically modified...over time. Unstable, undesirable effects rarely occur in the final product of any crop… RT @AgBioWorld: How crops are genetically modified...over time. Unstable, undesirable effects rarely occur in the final product of any crop… RT @AgBioWorld: How crops are genetically modified...over time. Unstable, undesirable effects rarely occur in the final product of any crop… RT @AgBioWorld: How crops are genetically modified...over time. Unstable, undesirable effects rarely occur in the final product of any crop… @TomChivers @richardtgarland Lab Grown Meat otherwise called \"Clean Meat\" might also rightly be called \"Genetically…  RT @AgBioWorld: How crops are genetically modified...over time. Unstable, undesirable effects rarely occur in the final product of any crop… 🌏The global genetically modified crops market was valued at US$ 18.15 Bn in 2018, and is expected to exhibit a CAGR…  @mrmarksteel Just had an anti-vaxxer tell me the vaccine is a poison. Coming from someone who undoubtedly eats gen…  @MarcherLord1 its interesting how people who dont want genetically modified crops are fine with lab grown meat. @Marcus_Arscott You\\'ll be too young to remember (you lucky thing), but some time around the turn of the century, ge…  RT @MASIPAGFarmers: LOOK: How the herbicide glyphosate is partitioned in different environmental media when sprayed. It can contaminate our… LOOK: How the herbicide glyphosate is partitioned in different environmental media when sprayed. It can contaminate…  @xdianneeee @pxstellixmira Golden rice is a genetically modified, biofortified crop. Biofortification increases the…  nan'"
            ]
          },
          "metadata": {
            "tags": []
          },
          "execution_count": 19
        }
      ]
    },
    {
      "cell_type": "code",
      "metadata": {
        "id": "-KC9xNIjhupW"
      },
      "source": [
        "sentence = nltk.sent_tokenize(text)\n",
        "tokens = nltk.word_tokenize(text)\n",
        "simple_text = nltk.Text(tokens)\n",
        "tagged = nltk.pos_tag(tokens)"
      ],
      "execution_count": 20,
      "outputs": []
    },
    {
      "cell_type": "code",
      "metadata": {
        "colab": {
          "base_uri": "https://localhost:8080/",
          "height": 324
        },
        "id": "46_UMhZ1t8z3",
        "outputId": "6b33324a-ac84-47cb-feca-538108767d83"
      },
      "source": [
        "fd = nltk.FreqDist(word.lower() for word in tokens)\n",
        "fd.plot(20)"
      ],
      "execution_count": 21,
      "outputs": [
        {
          "output_type": "display_data",
          "data": {
            "image/png": "[encoded data removed]",
            "text/plain": [
              "<Figure size 432x288 with 1 Axes>"
            ]
          },
          "metadata": {
            "tags": [],
            "needs_background": "light"
          }
        }
      ]
    },
    {
      "cell_type": "code",
      "metadata": {
        "id": "-ZVijUPhumTg"
      },
      "source": [
        "permitted_tags = set([\n",
        "    'NN',\n",
        "    'NNS',\n",
        "    'NNP',\n",
        "    'NNPS',\n",
        "])\n",
        "\n",
        "permitted_tags1 = set([\n",
        "     'JJS',\n",
        "    'JJ',\n",
        "    'JJR',                   \n",
        "])\n",
        "\n",
        "permitted_tags2 = set([\n",
        "    'VB',\n",
        "    'VBD',\n",
        "    'VBG',\n",
        "    'VBN',\n",
        "    'VBP',\n",
        "    'VPZ'\n",
        "])"
      ],
      "execution_count": 38,
      "outputs": []
    },
    {
      "cell_type": "code",
      "metadata": {
        "colab": {
          "base_uri": "https://localhost:8080/",
          "height": 351
        },
        "id": "XO6RNqeTuf4U",
        "outputId": "5880f20b-ad0e-4ee8-9369-b247ed1eac03"
      },
      "source": [
        "fd = nltk.FreqDist()\n",
        "\n",
        "for bit in tagged:\n",
        "    if bit[1] in permitted_tags and len(bit[0])>2:\n",
        "        fd[bit[0]] = fd[bit[0]] + 1\n",
        "        \n",
        "fd.plot(20)"
      ],
      "execution_count": 35,
      "outputs": [
        {
          "output_type": "display_data",
          "data": {
            "image/png": "[encoded data removed]",
            "text/plain": [
              "<Figure size 432x288 with 1 Axes>"
            ]
          },
          "metadata": {
            "tags": [],
            "needs_background": "light"
          }
        }
      ]
    },
    {
      "cell_type": "code",
      "metadata": {
        "colab": {
          "base_uri": "https://localhost:8080/",
          "height": 336
        },
        "id": "tkAg2FcA2VYz",
        "outputId": "839a4b08-fb93-4010-81ec-ca48525dc218"
      },
      "source": [
        "fd = nltk.FreqDist()\n",
        "\n",
        "for bit in tagged:\n",
        "    if bit[1] in permitted_tags1 and len(bit[0])>2:\n",
        "        fd[bit[0]] = fd[bit[0]] + 1\n",
        "        \n",
        "fd.plot(20)"
      ],
      "execution_count": 39,
      "outputs": [
        {
          "output_type": "display_data",
          "data": {
            "image/png": "[encoded data removed]",
            "text/plain": [
              "<Figure size 432x288 with 1 Axes>"
            ]
          },
          "metadata": {
            "tags": [],
            "needs_background": "light"
          }
        }
      ]
    },
    {
      "cell_type": "code",
      "metadata": {
        "colab": {
          "base_uri": "https://localhost:8080/",
          "height": 350
        },
        "id": "AdkCh3aQ2l85",
        "outputId": "41deda78-5ef1-48c7-f7b7-657259f7daa5"
      },
      "source": [
        "fd = nltk.FreqDist()\n",
        "\n",
        "for bit in tagged:\n",
        "    if bit[1] in permitted_tags2 and len(bit[0])>2:\n",
        "        fd[bit[0]] = fd[bit[0]] + 1\n",
        "        \n",
        "fd.plot(20)"
      ],
      "execution_count": 40,
      "outputs": [
        {
          "output_type": "display_data",
          "data": {
            "image/png": "[encoded data removed]",
            "text/plain": [
              "<Figure size 432x288 with 1 Axes>"
            ]
          },
          "metadata": {
            "tags": [],
            "needs_background": "light"
          }
        }
      ]
    },
    {
      "cell_type": "code",
      "metadata": {
        "colab": {
          "base_uri": "https://localhost:8080/"
        },
        "id": "de279YbMvB4P",
        "outputId": "fd6f522a-a2f5-468e-e89d-89ec1e0f4a76"
      },
      "source": [
        "simple_text.collocations()"
      ],
      "execution_count": 30,
      "outputs": [
        {
          "output_type": "stream",
          "text": [
            "genetically modified; final product; rarely occur; effects rarely;\n",
            "undesirable effects; modified ...; 2013 study; Groundbreaking 2013;\n",
            "feed containing; shows pigs; study shows; first long-t…; modified\n",
            "crops; Genetically Modified; persistent pollution; containing GMO;\n",
            "invasive species; Modified Crops; Bill Gates; GMO crops\n"
          ],
          "name": "stdout"
        }
      ]
    }
  ]
}