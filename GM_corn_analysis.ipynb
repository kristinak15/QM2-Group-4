{
  "nbformat": 4,
  "nbformat_minor": 0,
  "metadata": {
    "colab": {
      "name": "GM corn analysis.ipynb",
      "provenance": [],
      "include_colab_link": true
    },
    "kernelspec": {
      "name": "python3",
      "display_name": "Python 3"
    }
  },
  "cells": [
    {
      "cell_type": "markdown",
      "metadata": {
        "id": "view-in-github",
        "colab_type": "text"
      },
      "source": [
        "<a href=\"https://colab.research.google.com/github/kristinak15/QM2-Group-4/blob/main/GM_corn_analysis.ipynb\" target=\"_parent\"><img src=\"https://colab.research.google.com/assets/colab-badge.svg\" alt=\"Open In Colab\"/></a>"
      ]
    },
    {
      "cell_type": "code",
      "metadata": {
        "id": "jye0zVSUWVWs"
      },
      "source": [
        "import pandas as pd\n",
        "\n",
        "import matplotlib\n",
        "%matplotlib inline\n",
        "\n",
        "import matplotlib.pyplot as plt\n",
        "import numpy as np"
      ],
      "execution_count": null,
      "outputs": []
    },
    {
      "cell_type": "code",
      "metadata": {
        "id": "X5jJxnj6fQfY"
      },
      "source": [
        "gm_crops = pd.read_csv('/content/GM crops %.csv')"
      ],
      "execution_count": null,
      "outputs": []
    },
    {
      "cell_type": "code",
      "metadata": {
        "id": "h48UBEB2faV8"
      },
      "source": [
        "corn = pd.read_csv('/content/final corn data csv.csv')"
      ],
      "execution_count": null,
      "outputs": []
    },
    {
      "cell_type": "code",
      "metadata": {
        "id": "PLdeBFkZfy86"
      },
      "source": [
        "gdp_agri = pd.read_csv('/content/real gdp by state agriculture csv.csv')"
      ],
      "execution_count": null,
      "outputs": []
    },
    {
      "cell_type": "code",
      "metadata": {
        "colab": {
          "base_uri": "https://localhost:8080/",
          "height": 289
        },
        "id": "4amv55kAf6zQ",
        "outputId": "bf4d41df-23ba-4a8a-abb8-f7987af2c84e"
      },
      "source": [
        "gm_crops.head()"
      ],
      "execution_count": null,
      "outputs": [
        {
          "output_type": "execute_result",
          "data": {
            "text/html": [
              "<div>\n",
              "<style scoped>\n",
              "    .dataframe tbody tr th:only-of-type {\n",
              "        vertical-align: middle;\n",
              "    }\n",
              "\n",
              "    .dataframe tbody tr th {\n",
              "        vertical-align: top;\n",
              "    }\n",
              "\n",
              "    .dataframe thead th {\n",
              "        text-align: right;\n",
              "    }\n",
              "</style>\n",
              "<table border=\"1\" class=\"dataframe\">\n",
              "  <thead>\n",
              "    <tr style=\"text-align: right;\">\n",
              "      <th></th>\n",
              "      <th>Table</th>\n",
              "      <th>Unit</th>\n",
              "      <th>Variety</th>\n",
              "      <th>Year</th>\n",
              "      <th>Attribute</th>\n",
              "      <th>Value</th>\n",
              "    </tr>\n",
              "  </thead>\n",
              "  <tbody>\n",
              "    <tr>\n",
              "      <th>0</th>\n",
              "      <td>Genetically engineered (GE) corn varieties</td>\n",
              "      <td>Percent of corn planted</td>\n",
              "      <td>Insect-resistant (Bt) only                    ...</td>\n",
              "      <td>2000</td>\n",
              "      <td>Illinois</td>\n",
              "      <td>13.00</td>\n",
              "    </tr>\n",
              "    <tr>\n",
              "      <th>1</th>\n",
              "      <td>Genetically engineered (GE) corn varieties</td>\n",
              "      <td>Percent of corn planted</td>\n",
              "      <td>Insect-resistant (Bt) only                    ...</td>\n",
              "      <td>2000</td>\n",
              "      <td>Indiana</td>\n",
              "      <td>7.00</td>\n",
              "    </tr>\n",
              "    <tr>\n",
              "      <th>2</th>\n",
              "      <td>Genetically engineered (GE) corn varieties</td>\n",
              "      <td>Percent of corn planted</td>\n",
              "      <td>Insect-resistant (Bt) only                    ...</td>\n",
              "      <td>2000</td>\n",
              "      <td>Iowa</td>\n",
              "      <td>23.00</td>\n",
              "    </tr>\n",
              "    <tr>\n",
              "      <th>3</th>\n",
              "      <td>Genetically engineered (GE) corn varieties</td>\n",
              "      <td>Percent of corn planted</td>\n",
              "      <td>Insect-resistant (Bt) only                    ...</td>\n",
              "      <td>2000</td>\n",
              "      <td>Kansas</td>\n",
              "      <td>25.00</td>\n",
              "    </tr>\n",
              "    <tr>\n",
              "      <th>4</th>\n",
              "      <td>Genetically engineered (GE) corn varieties</td>\n",
              "      <td>Percent of corn planted</td>\n",
              "      <td>Insect-resistant (Bt) only                    ...</td>\n",
              "      <td>2000</td>\n",
              "      <td>Michigan</td>\n",
              "      <td>8.00</td>\n",
              "    </tr>\n",
              "  </tbody>\n",
              "</table>\n",
              "</div>"
            ],
            "text/plain": [
              "                                        Table  ...  Value\n",
              "0  Genetically engineered (GE) corn varieties  ...  13.00\n",
              "1  Genetically engineered (GE) corn varieties  ...   7.00\n",
              "2  Genetically engineered (GE) corn varieties  ...  23.00\n",
              "3  Genetically engineered (GE) corn varieties  ...  25.00\n",
              "4  Genetically engineered (GE) corn varieties  ...   8.00\n",
              "\n",
              "[5 rows x 6 columns]"
            ]
          },
          "metadata": {
            "tags": []
          },
          "execution_count": 33
        }
      ]
    },
    {
      "cell_type": "code",
      "metadata": {
        "id": "jv1HVkwqgZzs"
      },
      "source": [
        "#gm_crops=gm_crops.drop(columns='Table')"
      ],
      "execution_count": null,
      "outputs": []
    },
    {
      "cell_type": "code",
      "metadata": {
        "id": "ltkc2shogG89"
      },
      "source": [
        "gm_crops[\"Value\"].replace({\".\": \"0\"}, inplace=True)\n",
        "gm_crops[\"Value\"].replace({\"*\": \"0\"}, inplace=True)"
      ],
      "execution_count": null,
      "outputs": []
    },
    {
      "cell_type": "code",
      "metadata": {
        "colab": {
          "base_uri": "https://localhost:8080/"
        },
        "id": "EaUIZ0IGgRB1",
        "outputId": "4949737b-230e-4581-eb49-0332c8c3d377"
      },
      "source": [
        "gm_crops.dtypes"
      ],
      "execution_count": null,
      "outputs": [
        {
          "output_type": "execute_result",
          "data": {
            "text/plain": [
              "Table        object\n",
              "Unit         object\n",
              "Variety      object\n",
              "Year          int64\n",
              "Attribute    object\n",
              "Value        object\n",
              "dtype: object"
            ]
          },
          "metadata": {
            "tags": []
          },
          "execution_count": 36
        }
      ]
    },
    {
      "cell_type": "code",
      "metadata": {
        "id": "Kbcw6Em-gmcS"
      },
      "source": [
        "gm_crops[\"Value\"] = gm_crops[\"Value\"].astype(float).astype(int)"
      ],
      "execution_count": null,
      "outputs": []
    },
    {
      "cell_type": "code",
      "metadata": {
        "colab": {
          "base_uri": "https://localhost:8080/"
        },
        "id": "lmyxeapjgtmw",
        "outputId": "b2ce5514-76ac-4830-d2e2-b3beca309a91"
      },
      "source": [
        "gm_crops.dtypes"
      ],
      "execution_count": null,
      "outputs": [
        {
          "output_type": "execute_result",
          "data": {
            "text/plain": [
              "Table        object\n",
              "Unit         object\n",
              "Variety      object\n",
              "Year          int64\n",
              "Attribute    object\n",
              "Value         int64\n",
              "dtype: object"
            ]
          },
          "metadata": {
            "tags": []
          },
          "execution_count": 38
        }
      ]
    },
    {
      "cell_type": "code",
      "metadata": {
        "colab": {
          "base_uri": "https://localhost:8080/",
          "height": 221
        },
        "id": "5ekP3lxbgzLu",
        "outputId": "ca9e6233-5691-41cc-b388-0d90c751189b"
      },
      "source": [
        "corn.head()"
      ],
      "execution_count": null,
      "outputs": [
        {
          "output_type": "execute_result",
          "data": {
            "text/html": [
              "<div>\n",
              "<style scoped>\n",
              "    .dataframe tbody tr th:only-of-type {\n",
              "        vertical-align: middle;\n",
              "    }\n",
              "\n",
              "    .dataframe tbody tr th {\n",
              "        vertical-align: top;\n",
              "    }\n",
              "\n",
              "    .dataframe thead th {\n",
              "        text-align: right;\n",
              "    }\n",
              "</style>\n",
              "<table border=\"1\" class=\"dataframe\">\n",
              "  <thead>\n",
              "    <tr style=\"text-align: right;\">\n",
              "      <th></th>\n",
              "      <th>Year</th>\n",
              "      <th>State</th>\n",
              "      <th>Unnamed: 2</th>\n",
              "      <th>Area planted</th>\n",
              "      <th>Area harvested for grain</th>\n",
              "      <th>Yield</th>\n",
              "      <th>Production</th>\n",
              "    </tr>\n",
              "  </thead>\n",
              "  <tbody>\n",
              "    <tr>\n",
              "      <th>0</th>\n",
              "      <td>2005</td>\n",
              "      <td>Alabama</td>\n",
              "      <td>NaN</td>\n",
              "      <td>220</td>\n",
              "      <td>200</td>\n",
              "      <td>119</td>\n",
              "      <td>23800</td>\n",
              "    </tr>\n",
              "    <tr>\n",
              "      <th>1</th>\n",
              "      <td>2005</td>\n",
              "      <td>Arizona</td>\n",
              "      <td>NaN</td>\n",
              "      <td>50</td>\n",
              "      <td>22</td>\n",
              "      <td>195</td>\n",
              "      <td>4290</td>\n",
              "    </tr>\n",
              "    <tr>\n",
              "      <th>2</th>\n",
              "      <td>2005</td>\n",
              "      <td>Arkansas</td>\n",
              "      <td>NaN</td>\n",
              "      <td>240</td>\n",
              "      <td>230</td>\n",
              "      <td>131</td>\n",
              "      <td>30130</td>\n",
              "    </tr>\n",
              "    <tr>\n",
              "      <th>3</th>\n",
              "      <td>2005</td>\n",
              "      <td>California</td>\n",
              "      <td>NaN</td>\n",
              "      <td>560</td>\n",
              "      <td>130</td>\n",
              "      <td>172</td>\n",
              "      <td>22360</td>\n",
              "    </tr>\n",
              "    <tr>\n",
              "      <th>4</th>\n",
              "      <td>2005</td>\n",
              "      <td>Colorado</td>\n",
              "      <td>NaN</td>\n",
              "      <td>1100</td>\n",
              "      <td>950</td>\n",
              "      <td>148</td>\n",
              "      <td>140600</td>\n",
              "    </tr>\n",
              "  </tbody>\n",
              "</table>\n",
              "</div>"
            ],
            "text/plain": [
              "   Year       State  Unnamed: 2  ...  Area harvested for grain Yield Production\n",
              "0  2005     Alabama         NaN  ...                       200   119      23800\n",
              "1  2005     Arizona         NaN  ...                        22   195       4290\n",
              "2  2005   Arkansas          NaN  ...                       230   131      30130\n",
              "3  2005  California         NaN  ...                       130   172      22360\n",
              "4  2005   Colorado          NaN  ...                       950   148     140600\n",
              "\n",
              "[5 rows x 7 columns]"
            ]
          },
          "metadata": {
            "tags": []
          },
          "execution_count": 39
        }
      ]
    },
    {
      "cell_type": "code",
      "metadata": {
        "id": "_Lkqd1J8g2Rl"
      },
      "source": [
        "corn=corn.drop(columns='Unnamed: 2')"
      ],
      "execution_count": null,
      "outputs": []
    },
    {
      "cell_type": "code",
      "metadata": {
        "colab": {
          "base_uri": "https://localhost:8080/"
        },
        "id": "N9HqLCaMhchw",
        "outputId": "607c39fe-dc3c-464a-bda8-5c2c699d2a6f"
      },
      "source": [
        "corn.dtypes"
      ],
      "execution_count": null,
      "outputs": [
        {
          "output_type": "execute_result",
          "data": {
            "text/plain": [
              "Year                         int64\n",
              "State                       object\n",
              "Area planted                 int64\n",
              "Area harvested for grain    object\n",
              "Yield                       object\n",
              "Production                  object\n",
              "dtype: object"
            ]
          },
          "metadata": {
            "tags": []
          },
          "execution_count": 41
        }
      ]
    },
    {
      "cell_type": "code",
      "metadata": {
        "id": "X8B2z5UkiEd3"
      },
      "source": [
        "corn[\"Area harvested for grain\"].replace({\"(NA)\": \"0\"}, inplace=True) \n",
        "corn[\"Area harvested for grain\"].replace({\"\": \"0\"}, inplace=True) \n",
        "corn[\"Yield\"].replace({\"(NA)\": \"0\"}, inplace=True) \n",
        "corn[\"Yield\"].replace({\"(NA)\": \"0\"}, inplace=True) \n",
        "corn[\"Production\"].replace({\"(NA)\": \"0\"}, inplace=True) \n",
        "corn[\"Production\"].replace({\"\": \"0\"}, inplace=True)\n"
      ],
      "execution_count": null,
      "outputs": []
    },
    {
      "cell_type": "markdown",
      "metadata": {
        "id": "bqJeFWOokGwl"
      },
      "source": [
        "corn[\"Area harvested for grain\"].replace({\"(NA)\": \"0\"}, inplace=True)\n",
        "corn[\"Area harvested for grain\"].replace({\"\": \"0\"}, inplace=True)\n",
        "corn[\"Yield\"].replace({\"(NA)\": \"0\"}, inplace=True)\n",
        "corn[\"Yield\"].replace({\"(NA)\": \"0\"}, inplace=True)\n",
        "corn[\"Production\"].replace({\"(NA)\": \"0\"}, inplace=True)\n",
        "corn[\"Production\"].replace({\"\": \"0\"}, inplace=True)"
      ]
    },
    {
      "cell_type": "markdown",
      "metadata": {
        "id": "uduhd-IKrX3R"
      },
      "source": [
        "corn[\"Area harvested for grain\"] = corn[\"Area harvested for grain\"].astype(float).astype(int)\n",
        "corn[\"Yield\"] = corn[\"Yield\"].astype(float).astype(int)\n",
        "corn[\"Production\"] = corn[\"Production\"].astype(float).astype(int)"
      ]
    },
    {
      "cell_type": "code",
      "metadata": {
        "id": "x-NTQBWvqNTl"
      },
      "source": [
        "corn[\"Area harvested for grain\"].replace({\"NA\": \"0\"}, inplace=True) "
      ],
      "execution_count": null,
      "outputs": []
    },
    {
      "cell_type": "code",
      "metadata": {
        "id": "dtkJY7OaqW4H"
      },
      "source": [
        "corn[\"Area harvested for grain\"].replace({\"inf\": \"0\"}, inplace=True) "
      ],
      "execution_count": null,
      "outputs": []
    },
    {
      "cell_type": "code",
      "metadata": {
        "id": "hulCE3-grIoN"
      },
      "source": [
        "corn = corn.fillna(0)"
      ],
      "execution_count": null,
      "outputs": []
    },
    {
      "cell_type": "code",
      "metadata": {
        "colab": {
          "base_uri": "https://localhost:8080/"
        },
        "id": "Jt8_t3GRr9bg",
        "outputId": "5694068f-af54-47f9-e42b-314de995448b"
      },
      "source": [
        "corn[\"Area harvested for grain\"].astype(float).astype(int)"
      ],
      "execution_count": null,
      "outputs": [
        {
          "output_type": "execute_result",
          "data": {
            "text/plain": [
              "0        200\n",
              "1         22\n",
              "2        230\n",
              "3        130\n",
              "4        950\n",
              "       ...  \n",
              "730       90\n",
              "731       38\n",
              "732     2680\n",
              "733       67\n",
              "734    81482\n",
              "Name: Area harvested for grain, Length: 735, dtype: int64"
            ]
          },
          "metadata": {
            "tags": []
          },
          "execution_count": 46
        }
      ]
    },
    {
      "cell_type": "code",
      "metadata": {
        "id": "I7lPg7fFr_S9"
      },
      "source": [
        "corn[\"Yield\"] = corn[\"Yield\"].astype(float).astype(int)\n",
        "corn[\"Production\"] = corn[\"Production\"].astype(float).astype(int)"
      ],
      "execution_count": null,
      "outputs": []
    },
    {
      "cell_type": "code",
      "metadata": {
        "colab": {
          "base_uri": "https://localhost:8080/",
          "height": 289
        },
        "id": "1AfSEfkvsHmk",
        "outputId": "72138e23-610e-41c5-bd4b-54fd7f57b95a"
      },
      "source": [
        "gm_crops.head()"
      ],
      "execution_count": null,
      "outputs": [
        {
          "output_type": "execute_result",
          "data": {
            "text/html": [
              "<div>\n",
              "<style scoped>\n",
              "    .dataframe tbody tr th:only-of-type {\n",
              "        vertical-align: middle;\n",
              "    }\n",
              "\n",
              "    .dataframe tbody tr th {\n",
              "        vertical-align: top;\n",
              "    }\n",
              "\n",
              "    .dataframe thead th {\n",
              "        text-align: right;\n",
              "    }\n",
              "</style>\n",
              "<table border=\"1\" class=\"dataframe\">\n",
              "  <thead>\n",
              "    <tr style=\"text-align: right;\">\n",
              "      <th></th>\n",
              "      <th>Table</th>\n",
              "      <th>Unit</th>\n",
              "      <th>Variety</th>\n",
              "      <th>Year</th>\n",
              "      <th>Attribute</th>\n",
              "      <th>Value</th>\n",
              "    </tr>\n",
              "  </thead>\n",
              "  <tbody>\n",
              "    <tr>\n",
              "      <th>0</th>\n",
              "      <td>Genetically engineered (GE) corn varieties</td>\n",
              "      <td>Percent of corn planted</td>\n",
              "      <td>Insect-resistant (Bt) only                    ...</td>\n",
              "      <td>2000</td>\n",
              "      <td>Illinois</td>\n",
              "      <td>13</td>\n",
              "    </tr>\n",
              "    <tr>\n",
              "      <th>1</th>\n",
              "      <td>Genetically engineered (GE) corn varieties</td>\n",
              "      <td>Percent of corn planted</td>\n",
              "      <td>Insect-resistant (Bt) only                    ...</td>\n",
              "      <td>2000</td>\n",
              "      <td>Indiana</td>\n",
              "      <td>7</td>\n",
              "    </tr>\n",
              "    <tr>\n",
              "      <th>2</th>\n",
              "      <td>Genetically engineered (GE) corn varieties</td>\n",
              "      <td>Percent of corn planted</td>\n",
              "      <td>Insect-resistant (Bt) only                    ...</td>\n",
              "      <td>2000</td>\n",
              "      <td>Iowa</td>\n",
              "      <td>23</td>\n",
              "    </tr>\n",
              "    <tr>\n",
              "      <th>3</th>\n",
              "      <td>Genetically engineered (GE) corn varieties</td>\n",
              "      <td>Percent of corn planted</td>\n",
              "      <td>Insect-resistant (Bt) only                    ...</td>\n",
              "      <td>2000</td>\n",
              "      <td>Kansas</td>\n",
              "      <td>25</td>\n",
              "    </tr>\n",
              "    <tr>\n",
              "      <th>4</th>\n",
              "      <td>Genetically engineered (GE) corn varieties</td>\n",
              "      <td>Percent of corn planted</td>\n",
              "      <td>Insect-resistant (Bt) only                    ...</td>\n",
              "      <td>2000</td>\n",
              "      <td>Michigan</td>\n",
              "      <td>8</td>\n",
              "    </tr>\n",
              "  </tbody>\n",
              "</table>\n",
              "</div>"
            ],
            "text/plain": [
              "                                        Table  ... Value\n",
              "0  Genetically engineered (GE) corn varieties  ...    13\n",
              "1  Genetically engineered (GE) corn varieties  ...     7\n",
              "2  Genetically engineered (GE) corn varieties  ...    23\n",
              "3  Genetically engineered (GE) corn varieties  ...    25\n",
              "4  Genetically engineered (GE) corn varieties  ...     8\n",
              "\n",
              "[5 rows x 6 columns]"
            ]
          },
          "metadata": {
            "tags": []
          },
          "execution_count": 48
        }
      ]
    },
    {
      "cell_type": "code",
      "metadata": {
        "id": "XwwT50E0sPa3"
      },
      "source": [
        "gm_corn = gm_crops[(gm_crops['Unit']=='Percent of corn planted')&(gm_crops['Variety']=='All GE varieties')]"
      ],
      "execution_count": null,
      "outputs": []
    },
    {
      "cell_type": "code",
      "metadata": {
        "colab": {
          "base_uri": "https://localhost:8080/",
          "height": 289
        },
        "id": "Ml76j9WcstcA",
        "outputId": "5d735121-1926-4af8-ce70-1172a9099d76"
      },
      "source": [
        "gm_corn.head()"
      ],
      "execution_count": null,
      "outputs": [
        {
          "output_type": "execute_result",
          "data": {
            "text/html": [
              "<div>\n",
              "<style scoped>\n",
              "    .dataframe tbody tr th:only-of-type {\n",
              "        vertical-align: middle;\n",
              "    }\n",
              "\n",
              "    .dataframe tbody tr th {\n",
              "        vertical-align: top;\n",
              "    }\n",
              "\n",
              "    .dataframe thead th {\n",
              "        text-align: right;\n",
              "    }\n",
              "</style>\n",
              "<table border=\"1\" class=\"dataframe\">\n",
              "  <thead>\n",
              "    <tr style=\"text-align: right;\">\n",
              "      <th></th>\n",
              "      <th>Table</th>\n",
              "      <th>Unit</th>\n",
              "      <th>Variety</th>\n",
              "      <th>Year</th>\n",
              "      <th>Attribute</th>\n",
              "      <th>Value</th>\n",
              "    </tr>\n",
              "  </thead>\n",
              "  <tbody>\n",
              "    <tr>\n",
              "      <th>945</th>\n",
              "      <td>Genetically engineered (GE) corn varieties</td>\n",
              "      <td>Percent of corn planted</td>\n",
              "      <td>All GE varieties</td>\n",
              "      <td>2000</td>\n",
              "      <td>Illinois</td>\n",
              "      <td>17</td>\n",
              "    </tr>\n",
              "    <tr>\n",
              "      <th>946</th>\n",
              "      <td>Genetically engineered (GE) corn varieties</td>\n",
              "      <td>Percent of corn planted</td>\n",
              "      <td>All GE varieties</td>\n",
              "      <td>2000</td>\n",
              "      <td>Indiana</td>\n",
              "      <td>11</td>\n",
              "    </tr>\n",
              "    <tr>\n",
              "      <th>947</th>\n",
              "      <td>Genetically engineered (GE) corn varieties</td>\n",
              "      <td>Percent of corn planted</td>\n",
              "      <td>All GE varieties</td>\n",
              "      <td>2000</td>\n",
              "      <td>Iowa</td>\n",
              "      <td>30</td>\n",
              "    </tr>\n",
              "    <tr>\n",
              "      <th>948</th>\n",
              "      <td>Genetically engineered (GE) corn varieties</td>\n",
              "      <td>Percent of corn planted</td>\n",
              "      <td>All GE varieties</td>\n",
              "      <td>2000</td>\n",
              "      <td>Kansas</td>\n",
              "      <td>33</td>\n",
              "    </tr>\n",
              "    <tr>\n",
              "      <th>949</th>\n",
              "      <td>Genetically engineered (GE) corn varieties</td>\n",
              "      <td>Percent of corn planted</td>\n",
              "      <td>All GE varieties</td>\n",
              "      <td>2000</td>\n",
              "      <td>Michigan</td>\n",
              "      <td>12</td>\n",
              "    </tr>\n",
              "  </tbody>\n",
              "</table>\n",
              "</div>"
            ],
            "text/plain": [
              "                                          Table  ... Value\n",
              "945  Genetically engineered (GE) corn varieties  ...    17\n",
              "946  Genetically engineered (GE) corn varieties  ...    11\n",
              "947  Genetically engineered (GE) corn varieties  ...    30\n",
              "948  Genetically engineered (GE) corn varieties  ...    33\n",
              "949  Genetically engineered (GE) corn varieties  ...    12\n",
              "\n",
              "[5 rows x 6 columns]"
            ]
          },
          "metadata": {
            "tags": []
          },
          "execution_count": 50
        }
      ]
    },
    {
      "cell_type": "code",
      "metadata": {
        "colab": {
          "base_uri": "https://localhost:8080/"
        },
        "id": "qUsOdQgdszUj",
        "outputId": "bf3edf99-b597-4137-d90f-34db05670fca"
      },
      "source": [
        "gm_corn[\"Attribute\"].replace({\"U.S.\": \"United States\"}, inplace=True) "
      ],
      "execution_count": null,
      "outputs": [
        {
          "output_type": "stream",
          "text": [
            "/usr/local/lib/python3.6/dist-packages/pandas/core/series.py:4581: SettingWithCopyWarning: \n",
            "A value is trying to be set on a copy of a slice from a DataFrame\n",
            "\n",
            "See the caveats in the documentation: https://pandas.pydata.org/pandas-docs/stable/user_guide/indexing.html#returning-a-view-versus-a-copy\n",
            "  method=method,\n"
          ],
          "name": "stderr"
        }
      ]
    },
    {
      "cell_type": "code",
      "metadata": {
        "colab": {
          "base_uri": "https://localhost:8080/"
        },
        "id": "MJ9iABYmtKJ_",
        "outputId": "58c7b546-f696-4db6-bae1-768398dbdac2"
      },
      "source": [
        "gm_corn[\"Attribute\"].unique()"
      ],
      "execution_count": null,
      "outputs": [
        {
          "output_type": "execute_result",
          "data": {
            "text/plain": [
              "array(['Illinois', 'Indiana', 'Iowa', 'Kansas', 'Michigan', 'Minnesota',\n",
              "       'Missouri', 'Nebraska', 'North Dakota', 'Ohio', 'South Dakota',\n",
              "       'Texas', 'Wisconsin', 'Other States', 'United States'],\n",
              "      dtype=object)"
            ]
          },
          "metadata": {
            "tags": []
          },
          "execution_count": 52
        }
      ]
    },
    {
      "cell_type": "code",
      "metadata": {
        "id": "JmMzSLxGtRVI"
      },
      "source": [
        "corn_table = corn.merge(gm_corn, how='inner', left_on=['Year', 'State'], right_on=['Year', 'Attribute'])"
      ],
      "execution_count": null,
      "outputs": []
    },
    {
      "cell_type": "code",
      "metadata": {
        "colab": {
          "base_uri": "https://localhost:8080/",
          "height": 513
        },
        "id": "L9yRtnHSt0K9",
        "outputId": "3971b91a-792e-46d0-c337-0da2b8b79705"
      },
      "source": [
        "corn_table.head()"
      ],
      "execution_count": null,
      "outputs": [
        {
          "output_type": "execute_result",
          "data": {
            "text/html": [
              "<div>\n",
              "<style scoped>\n",
              "    .dataframe tbody tr th:only-of-type {\n",
              "        vertical-align: middle;\n",
              "    }\n",
              "\n",
              "    .dataframe tbody tr th {\n",
              "        vertical-align: top;\n",
              "    }\n",
              "\n",
              "    .dataframe thead th {\n",
              "        text-align: right;\n",
              "    }\n",
              "</style>\n",
              "<table border=\"1\" class=\"dataframe\">\n",
              "  <thead>\n",
              "    <tr style=\"text-align: right;\">\n",
              "      <th></th>\n",
              "      <th>Year</th>\n",
              "      <th>State</th>\n",
              "      <th>Area planted</th>\n",
              "      <th>Area harvested for grain</th>\n",
              "      <th>Yield</th>\n",
              "      <th>Production</th>\n",
              "      <th>Table</th>\n",
              "      <th>Unit</th>\n",
              "      <th>Variety</th>\n",
              "      <th>Attribute</th>\n",
              "      <th>Value</th>\n",
              "    </tr>\n",
              "  </thead>\n",
              "  <tbody>\n",
              "    <tr>\n",
              "      <th>0</th>\n",
              "      <td>2005</td>\n",
              "      <td>Indiana</td>\n",
              "      <td>5900</td>\n",
              "      <td>5770</td>\n",
              "      <td>154</td>\n",
              "      <td>888580</td>\n",
              "      <td>Genetically engineered (GE) corn varieties</td>\n",
              "      <td>Percent of corn planted</td>\n",
              "      <td>All GE varieties</td>\n",
              "      <td>Indiana</td>\n",
              "      <td>26</td>\n",
              "    </tr>\n",
              "    <tr>\n",
              "      <th>1</th>\n",
              "      <td>2005</td>\n",
              "      <td>Michigan</td>\n",
              "      <td>2250</td>\n",
              "      <td>2010</td>\n",
              "      <td>143</td>\n",
              "      <td>287430</td>\n",
              "      <td>Genetically engineered (GE) corn varieties</td>\n",
              "      <td>Percent of corn planted</td>\n",
              "      <td>All GE varieties</td>\n",
              "      <td>Michigan</td>\n",
              "      <td>40</td>\n",
              "    </tr>\n",
              "    <tr>\n",
              "      <th>2</th>\n",
              "      <td>2005</td>\n",
              "      <td>Minnesota</td>\n",
              "      <td>7300</td>\n",
              "      <td>6850</td>\n",
              "      <td>174</td>\n",
              "      <td>1191900</td>\n",
              "      <td>Genetically engineered (GE) corn varieties</td>\n",
              "      <td>Percent of corn planted</td>\n",
              "      <td>All GE varieties</td>\n",
              "      <td>Minnesota</td>\n",
              "      <td>66</td>\n",
              "    </tr>\n",
              "    <tr>\n",
              "      <th>3</th>\n",
              "      <td>2005</td>\n",
              "      <td>Nebraska</td>\n",
              "      <td>8500</td>\n",
              "      <td>8250</td>\n",
              "      <td>154</td>\n",
              "      <td>1270500</td>\n",
              "      <td>Genetically engineered (GE) corn varieties</td>\n",
              "      <td>Percent of corn planted</td>\n",
              "      <td>All GE varieties</td>\n",
              "      <td>Nebraska</td>\n",
              "      <td>69</td>\n",
              "    </tr>\n",
              "    <tr>\n",
              "      <th>4</th>\n",
              "      <td>2005</td>\n",
              "      <td>United States</td>\n",
              "      <td>81779</td>\n",
              "      <td>75117</td>\n",
              "      <td>148</td>\n",
              "      <td>11114082</td>\n",
              "      <td>Genetically engineered (GE) corn varieties</td>\n",
              "      <td>Percent of corn planted</td>\n",
              "      <td>All GE varieties</td>\n",
              "      <td>United States</td>\n",
              "      <td>52</td>\n",
              "    </tr>\n",
              "  </tbody>\n",
              "</table>\n",
              "</div>"
            ],
            "text/plain": [
              "   Year          State  Area planted  ...           Variety      Attribute  Value\n",
              "0  2005        Indiana          5900  ...  All GE varieties        Indiana     26\n",
              "1  2005       Michigan          2250  ...  All GE varieties       Michigan     40\n",
              "2  2005      Minnesota          7300  ...  All GE varieties      Minnesota     66\n",
              "3  2005       Nebraska          8500  ...  All GE varieties       Nebraska     69\n",
              "4  2005  United States         81779  ...  All GE varieties  United States     52\n",
              "\n",
              "[5 rows x 11 columns]"
            ]
          },
          "metadata": {
            "tags": []
          },
          "execution_count": 54
        }
      ]
    },
    {
      "cell_type": "code",
      "metadata": {
        "id": "bz9D17PDt2cO"
      },
      "source": [
        "corn_table['Value'] = corn_table['Value'].div(100).round(2)"
      ],
      "execution_count": null,
      "outputs": []
    },
    {
      "cell_type": "code",
      "metadata": {
        "id": "b-MmpQ2WuUQT"
      },
      "source": [
        ""
      ],
      "execution_count": null,
      "outputs": []
    },
    {
      "cell_type": "code",
      "metadata": {
        "id": "hWpEaRWxuZrV"
      },
      "source": [
        "corn_table[\"GM corn area\"] = corn_table[\"Area planted\"] * corn_table[\"Value\"]"
      ],
      "execution_count": null,
      "outputs": []
    },
    {
      "cell_type": "code",
      "metadata": {
        "colab": {
          "base_uri": "https://localhost:8080/",
          "height": 513
        },
        "id": "-lMn6HYhvAx0",
        "outputId": "a7190d6b-5279-4d56-ba5a-bbfe590231c9"
      },
      "source": [
        "corn_table.head()"
      ],
      "execution_count": null,
      "outputs": [
        {
          "output_type": "execute_result",
          "data": {
            "text/html": [
              "<div>\n",
              "<style scoped>\n",
              "    .dataframe tbody tr th:only-of-type {\n",
              "        vertical-align: middle;\n",
              "    }\n",
              "\n",
              "    .dataframe tbody tr th {\n",
              "        vertical-align: top;\n",
              "    }\n",
              "\n",
              "    .dataframe thead th {\n",
              "        text-align: right;\n",
              "    }\n",
              "</style>\n",
              "<table border=\"1\" class=\"dataframe\">\n",
              "  <thead>\n",
              "    <tr style=\"text-align: right;\">\n",
              "      <th></th>\n",
              "      <th>Year</th>\n",
              "      <th>State</th>\n",
              "      <th>Area planted</th>\n",
              "      <th>Area harvested for grain</th>\n",
              "      <th>Yield</th>\n",
              "      <th>Production</th>\n",
              "      <th>Table</th>\n",
              "      <th>Unit</th>\n",
              "      <th>Variety</th>\n",
              "      <th>Attribute</th>\n",
              "      <th>Value</th>\n",
              "      <th>GM corn area</th>\n",
              "    </tr>\n",
              "  </thead>\n",
              "  <tbody>\n",
              "    <tr>\n",
              "      <th>0</th>\n",
              "      <td>2005</td>\n",
              "      <td>Indiana</td>\n",
              "      <td>5900</td>\n",
              "      <td>5770</td>\n",
              "      <td>154</td>\n",
              "      <td>888580</td>\n",
              "      <td>Genetically engineered (GE) corn varieties</td>\n",
              "      <td>Percent of corn planted</td>\n",
              "      <td>All GE varieties</td>\n",
              "      <td>Indiana</td>\n",
              "      <td>0.26</td>\n",
              "      <td>1534.00</td>\n",
              "    </tr>\n",
              "    <tr>\n",
              "      <th>1</th>\n",
              "      <td>2005</td>\n",
              "      <td>Michigan</td>\n",
              "      <td>2250</td>\n",
              "      <td>2010</td>\n",
              "      <td>143</td>\n",
              "      <td>287430</td>\n",
              "      <td>Genetically engineered (GE) corn varieties</td>\n",
              "      <td>Percent of corn planted</td>\n",
              "      <td>All GE varieties</td>\n",
              "      <td>Michigan</td>\n",
              "      <td>0.40</td>\n",
              "      <td>900.00</td>\n",
              "    </tr>\n",
              "    <tr>\n",
              "      <th>2</th>\n",
              "      <td>2005</td>\n",
              "      <td>Minnesota</td>\n",
              "      <td>7300</td>\n",
              "      <td>6850</td>\n",
              "      <td>174</td>\n",
              "      <td>1191900</td>\n",
              "      <td>Genetically engineered (GE) corn varieties</td>\n",
              "      <td>Percent of corn planted</td>\n",
              "      <td>All GE varieties</td>\n",
              "      <td>Minnesota</td>\n",
              "      <td>0.66</td>\n",
              "      <td>4818.00</td>\n",
              "    </tr>\n",
              "    <tr>\n",
              "      <th>3</th>\n",
              "      <td>2005</td>\n",
              "      <td>Nebraska</td>\n",
              "      <td>8500</td>\n",
              "      <td>8250</td>\n",
              "      <td>154</td>\n",
              "      <td>1270500</td>\n",
              "      <td>Genetically engineered (GE) corn varieties</td>\n",
              "      <td>Percent of corn planted</td>\n",
              "      <td>All GE varieties</td>\n",
              "      <td>Nebraska</td>\n",
              "      <td>0.69</td>\n",
              "      <td>5865.00</td>\n",
              "    </tr>\n",
              "    <tr>\n",
              "      <th>4</th>\n",
              "      <td>2005</td>\n",
              "      <td>United States</td>\n",
              "      <td>81779</td>\n",
              "      <td>75117</td>\n",
              "      <td>148</td>\n",
              "      <td>11114082</td>\n",
              "      <td>Genetically engineered (GE) corn varieties</td>\n",
              "      <td>Percent of corn planted</td>\n",
              "      <td>All GE varieties</td>\n",
              "      <td>United States</td>\n",
              "      <td>0.52</td>\n",
              "      <td>42525.08</td>\n",
              "    </tr>\n",
              "  </tbody>\n",
              "</table>\n",
              "</div>"
            ],
            "text/plain": [
              "   Year          State  Area planted  ...      Attribute  Value  GM corn area\n",
              "0  2005        Indiana          5900  ...        Indiana   0.26       1534.00\n",
              "1  2005       Michigan          2250  ...       Michigan   0.40        900.00\n",
              "2  2005      Minnesota          7300  ...      Minnesota   0.66       4818.00\n",
              "3  2005       Nebraska          8500  ...       Nebraska   0.69       5865.00\n",
              "4  2005  United States         81779  ...  United States   0.52      42525.08\n",
              "\n",
              "[5 rows x 12 columns]"
            ]
          },
          "metadata": {
            "tags": []
          },
          "execution_count": 57
        }
      ]
    },
    {
      "cell_type": "code",
      "metadata": {
        "colab": {
          "base_uri": "https://localhost:8080/",
          "height": 314
        },
        "id": "1ju2NV40vCg1",
        "outputId": "0d616547-2d0d-403f-d83a-6a9fee029a0d"
      },
      "source": [
        "corn_table.describe()"
      ],
      "execution_count": null,
      "outputs": [
        {
          "output_type": "execute_result",
          "data": {
            "text/html": [
              "<div>\n",
              "<style scoped>\n",
              "    .dataframe tbody tr th:only-of-type {\n",
              "        vertical-align: middle;\n",
              "    }\n",
              "\n",
              "    .dataframe tbody tr th {\n",
              "        vertical-align: top;\n",
              "    }\n",
              "\n",
              "    .dataframe thead th {\n",
              "        text-align: right;\n",
              "    }\n",
              "</style>\n",
              "<table border=\"1\" class=\"dataframe\">\n",
              "  <thead>\n",
              "    <tr style=\"text-align: right;\">\n",
              "      <th></th>\n",
              "      <th>Year</th>\n",
              "      <th>Area planted</th>\n",
              "      <th>Yield</th>\n",
              "      <th>Production</th>\n",
              "      <th>Value</th>\n",
              "      <th>GM corn area</th>\n",
              "    </tr>\n",
              "  </thead>\n",
              "  <tbody>\n",
              "    <tr>\n",
              "      <th>count</th>\n",
              "      <td>75.000000</td>\n",
              "      <td>75.000000</td>\n",
              "      <td>75.00000</td>\n",
              "      <td>7.500000e+01</td>\n",
              "      <td>75.000000</td>\n",
              "      <td>75.000000</td>\n",
              "    </tr>\n",
              "    <tr>\n",
              "      <th>mean</th>\n",
              "      <td>2012.000000</td>\n",
              "      <td>22967.680000</td>\n",
              "      <td>161.96000</td>\n",
              "      <td>3.413599e+06</td>\n",
              "      <td>0.831067</td>\n",
              "      <td>19381.951733</td>\n",
              "    </tr>\n",
              "    <tr>\n",
              "      <th>std</th>\n",
              "      <td>4.349588</td>\n",
              "      <td>33565.726809</td>\n",
              "      <td>17.15938</td>\n",
              "      <td>4.906297e+06</td>\n",
              "      <td>0.144265</td>\n",
              "      <td>28804.136161</td>\n",
              "    </tr>\n",
              "    <tr>\n",
              "      <th>min</th>\n",
              "      <td>2005.000000</td>\n",
              "      <td>2000.000000</td>\n",
              "      <td>99.00000</td>\n",
              "      <td>2.398900e+05</td>\n",
              "      <td>0.260000</td>\n",
              "      <td>900.000000</td>\n",
              "    </tr>\n",
              "    <tr>\n",
              "      <th>25%</th>\n",
              "      <td>2008.000000</td>\n",
              "      <td>5550.000000</td>\n",
              "      <td>152.50000</td>\n",
              "      <td>8.591300e+05</td>\n",
              "      <td>0.800000</td>\n",
              "      <td>4387.000000</td>\n",
              "    </tr>\n",
              "    <tr>\n",
              "      <th>50%</th>\n",
              "      <td>2012.000000</td>\n",
              "      <td>8050.000000</td>\n",
              "      <td>160.00000</td>\n",
              "      <td>1.201200e+06</td>\n",
              "      <td>0.880000</td>\n",
              "      <td>7084.000000</td>\n",
              "    </tr>\n",
              "    <tr>\n",
              "      <th>75%</th>\n",
              "      <td>2016.000000</td>\n",
              "      <td>9850.000000</td>\n",
              "      <td>174.50000</td>\n",
              "      <td>1.653400e+06</td>\n",
              "      <td>0.920000</td>\n",
              "      <td>9192.000000</td>\n",
              "    </tr>\n",
              "    <tr>\n",
              "      <th>max</th>\n",
              "      <td>2019.000000</td>\n",
              "      <td>97155.000000</td>\n",
              "      <td>194.00000</td>\n",
              "      <td>1.514804e+07</td>\n",
              "      <td>0.960000</td>\n",
              "      <td>86483.680000</td>\n",
              "    </tr>\n",
              "  </tbody>\n",
              "</table>\n",
              "</div>"
            ],
            "text/plain": [
              "              Year  Area planted  ...      Value  GM corn area\n",
              "count    75.000000     75.000000  ...  75.000000     75.000000\n",
              "mean   2012.000000  22967.680000  ...   0.831067  19381.951733\n",
              "std       4.349588  33565.726809  ...   0.144265  28804.136161\n",
              "min    2005.000000   2000.000000  ...   0.260000    900.000000\n",
              "25%    2008.000000   5550.000000  ...   0.800000   4387.000000\n",
              "50%    2012.000000   8050.000000  ...   0.880000   7084.000000\n",
              "75%    2016.000000   9850.000000  ...   0.920000   9192.000000\n",
              "max    2019.000000  97155.000000  ...   0.960000  86483.680000\n",
              "\n",
              "[8 rows x 6 columns]"
            ]
          },
          "metadata": {
            "tags": []
          },
          "execution_count": 58
        }
      ]
    },
    {
      "cell_type": "code",
      "metadata": {
        "id": "puwZSr5zv71k"
      },
      "source": [
        "corn_table.to_csv(r'C:\\Users\\KristinaKolesnikova\\Desktop\\export_dataframe.csv')"
      ],
      "execution_count": null,
      "outputs": []
    },
    {
      "cell_type": "markdown",
      "metadata": {
        "id": "GSCy6hFVxYV0"
      },
      "source": [
        "How to export csv??"
      ]
    },
    {
      "cell_type": "markdown",
      "metadata": {
        "id": "Vzx5vyd70UvG"
      },
      "source": [
        "---"
      ]
    },
    {
      "cell_type": "code",
      "metadata": {
        "colab": {
          "base_uri": "https://localhost:8080/",
          "height": 204
        },
        "id": "ET_sMlcs0VCO",
        "outputId": "4e9438da-bd49-4ae4-861d-640649053820"
      },
      "source": [
        "gdp_agri.head()"
      ],
      "execution_count": null,
      "outputs": [
        {
          "output_type": "execute_result",
          "data": {
            "text/html": [
              "<div>\n",
              "<style scoped>\n",
              "    .dataframe tbody tr th:only-of-type {\n",
              "        vertical-align: middle;\n",
              "    }\n",
              "\n",
              "    .dataframe tbody tr th {\n",
              "        vertical-align: top;\n",
              "    }\n",
              "\n",
              "    .dataframe thead th {\n",
              "        text-align: right;\n",
              "    }\n",
              "</style>\n",
              "<table border=\"1\" class=\"dataframe\">\n",
              "  <thead>\n",
              "    <tr style=\"text-align: right;\">\n",
              "      <th></th>\n",
              "      <th>Year</th>\n",
              "      <th>State</th>\n",
              "      <th>Agri GDP</th>\n",
              "    </tr>\n",
              "  </thead>\n",
              "  <tbody>\n",
              "    <tr>\n",
              "      <th>0</th>\n",
              "      <td>2005</td>\n",
              "      <td>United States</td>\n",
              "      <td>196126.0</td>\n",
              "    </tr>\n",
              "    <tr>\n",
              "      <th>1</th>\n",
              "      <td>2005</td>\n",
              "      <td>Alabama</td>\n",
              "      <td>3837.0</td>\n",
              "    </tr>\n",
              "    <tr>\n",
              "      <th>2</th>\n",
              "      <td>2005</td>\n",
              "      <td>Alaska</td>\n",
              "      <td>417.0</td>\n",
              "    </tr>\n",
              "    <tr>\n",
              "      <th>3</th>\n",
              "      <td>2005</td>\n",
              "      <td>Arizona</td>\n",
              "      <td>3019.6</td>\n",
              "    </tr>\n",
              "    <tr>\n",
              "      <th>4</th>\n",
              "      <td>2005</td>\n",
              "      <td>Arkansas</td>\n",
              "      <td>4282.6</td>\n",
              "    </tr>\n",
              "  </tbody>\n",
              "</table>\n",
              "</div>"
            ],
            "text/plain": [
              "   Year          State  Agri GDP\n",
              "0  2005  United States  196126.0\n",
              "1  2005        Alabama    3837.0\n",
              "2  2005         Alaska     417.0\n",
              "3  2005        Arizona    3019.6\n",
              "4  2005       Arkansas    4282.6"
            ]
          },
          "metadata": {
            "tags": []
          },
          "execution_count": 60
        }
      ]
    },
    {
      "cell_type": "code",
      "metadata": {
        "colab": {
          "base_uri": "https://localhost:8080/"
        },
        "id": "RCjcRpU60YpZ",
        "outputId": "fdcbc6b0-d001-468d-b25e-2c9d2703e6bc"
      },
      "source": [
        "gdp_agri.dtypes"
      ],
      "execution_count": null,
      "outputs": [
        {
          "output_type": "execute_result",
          "data": {
            "text/plain": [
              "Year          int64\n",
              "State        object\n",
              "Agri GDP    float64\n",
              "dtype: object"
            ]
          },
          "metadata": {
            "tags": []
          },
          "execution_count": 61
        }
      ]
    },
    {
      "cell_type": "code",
      "metadata": {
        "id": "mWLAleiM0cSw"
      },
      "source": [
        "gdp_agri[\"Agri GDP\"] = gdp_agri[\"Agri GDP\"].astype(int)"
      ],
      "execution_count": null,
      "outputs": []
    },
    {
      "cell_type": "code",
      "metadata": {
        "id": "06pUNSUA0weB"
      },
      "source": [
        "corn_table = corn_table.merge(gdp_agri, how='inner', left_on=['Year', 'State'], right_on=['Year', 'State'])"
      ],
      "execution_count": null,
      "outputs": []
    },
    {
      "cell_type": "code",
      "metadata": {
        "colab": {
          "base_uri": "https://localhost:8080/",
          "height": 513
        },
        "id": "vfh4LRW90_Fn",
        "outputId": "fdc8b8e0-6cae-41a1-d686-703956cf9003"
      },
      "source": [
        "corn_table.head()"
      ],
      "execution_count": null,
      "outputs": [
        {
          "output_type": "execute_result",
          "data": {
            "text/html": [
              "<div>\n",
              "<style scoped>\n",
              "    .dataframe tbody tr th:only-of-type {\n",
              "        vertical-align: middle;\n",
              "    }\n",
              "\n",
              "    .dataframe tbody tr th {\n",
              "        vertical-align: top;\n",
              "    }\n",
              "\n",
              "    .dataframe thead th {\n",
              "        text-align: right;\n",
              "    }\n",
              "</style>\n",
              "<table border=\"1\" class=\"dataframe\">\n",
              "  <thead>\n",
              "    <tr style=\"text-align: right;\">\n",
              "      <th></th>\n",
              "      <th>Year</th>\n",
              "      <th>State</th>\n",
              "      <th>Area planted</th>\n",
              "      <th>Area harvested for grain</th>\n",
              "      <th>Yield</th>\n",
              "      <th>Production</th>\n",
              "      <th>Table</th>\n",
              "      <th>Unit</th>\n",
              "      <th>Variety</th>\n",
              "      <th>Attribute</th>\n",
              "      <th>Value</th>\n",
              "      <th>GM corn area</th>\n",
              "      <th>Agri GDP</th>\n",
              "    </tr>\n",
              "  </thead>\n",
              "  <tbody>\n",
              "    <tr>\n",
              "      <th>0</th>\n",
              "      <td>2005</td>\n",
              "      <td>Indiana</td>\n",
              "      <td>5900</td>\n",
              "      <td>5770</td>\n",
              "      <td>154</td>\n",
              "      <td>888580</td>\n",
              "      <td>Genetically engineered (GE) corn varieties</td>\n",
              "      <td>Percent of corn planted</td>\n",
              "      <td>All GE varieties</td>\n",
              "      <td>Indiana</td>\n",
              "      <td>0.26</td>\n",
              "      <td>1534.00</td>\n",
              "      <td>3334</td>\n",
              "    </tr>\n",
              "    <tr>\n",
              "      <th>1</th>\n",
              "      <td>2005</td>\n",
              "      <td>Michigan</td>\n",
              "      <td>2250</td>\n",
              "      <td>2010</td>\n",
              "      <td>143</td>\n",
              "      <td>287430</td>\n",
              "      <td>Genetically engineered (GE) corn varieties</td>\n",
              "      <td>Percent of corn planted</td>\n",
              "      <td>All GE varieties</td>\n",
              "      <td>Michigan</td>\n",
              "      <td>0.40</td>\n",
              "      <td>900.00</td>\n",
              "      <td>3481</td>\n",
              "    </tr>\n",
              "    <tr>\n",
              "      <th>2</th>\n",
              "      <td>2005</td>\n",
              "      <td>Minnesota</td>\n",
              "      <td>7300</td>\n",
              "      <td>6850</td>\n",
              "      <td>174</td>\n",
              "      <td>1191900</td>\n",
              "      <td>Genetically engineered (GE) corn varieties</td>\n",
              "      <td>Percent of corn planted</td>\n",
              "      <td>All GE varieties</td>\n",
              "      <td>Minnesota</td>\n",
              "      <td>0.66</td>\n",
              "      <td>4818.00</td>\n",
              "      <td>6597</td>\n",
              "    </tr>\n",
              "    <tr>\n",
              "      <th>3</th>\n",
              "      <td>2005</td>\n",
              "      <td>Nebraska</td>\n",
              "      <td>8500</td>\n",
              "      <td>8250</td>\n",
              "      <td>154</td>\n",
              "      <td>1270500</td>\n",
              "      <td>Genetically engineered (GE) corn varieties</td>\n",
              "      <td>Percent of corn planted</td>\n",
              "      <td>All GE varieties</td>\n",
              "      <td>Nebraska</td>\n",
              "      <td>0.69</td>\n",
              "      <td>5865.00</td>\n",
              "      <td>6412</td>\n",
              "    </tr>\n",
              "    <tr>\n",
              "      <th>4</th>\n",
              "      <td>2005</td>\n",
              "      <td>United States</td>\n",
              "      <td>81779</td>\n",
              "      <td>75117</td>\n",
              "      <td>148</td>\n",
              "      <td>11114082</td>\n",
              "      <td>Genetically engineered (GE) corn varieties</td>\n",
              "      <td>Percent of corn planted</td>\n",
              "      <td>All GE varieties</td>\n",
              "      <td>United States</td>\n",
              "      <td>0.52</td>\n",
              "      <td>42525.08</td>\n",
              "      <td>196126</td>\n",
              "    </tr>\n",
              "  </tbody>\n",
              "</table>\n",
              "</div>"
            ],
            "text/plain": [
              "   Year          State  Area planted  ... Value  GM corn area  Agri GDP\n",
              "0  2005        Indiana          5900  ...  0.26       1534.00      3334\n",
              "1  2005       Michigan          2250  ...  0.40        900.00      3481\n",
              "2  2005      Minnesota          7300  ...  0.66       4818.00      6597\n",
              "3  2005       Nebraska          8500  ...  0.69       5865.00      6412\n",
              "4  2005  United States         81779  ...  0.52      42525.08    196126\n",
              "\n",
              "[5 rows x 13 columns]"
            ]
          },
          "metadata": {
            "tags": []
          },
          "execution_count": 64
        }
      ]
    },
    {
      "cell_type": "code",
      "metadata": {
        "colab": {
          "base_uri": "https://localhost:8080/",
          "height": 323
        },
        "id": "vZnE-kCxBrlf",
        "outputId": "4f40813f-0970-403f-c774-3d10607650f5"
      },
      "source": [
        "corn_table.tail()"
      ],
      "execution_count": 89,
      "outputs": [
        {
          "output_type": "execute_result",
          "data": {
            "text/html": [
              "<div>\n",
              "<style scoped>\n",
              "    .dataframe tbody tr th:only-of-type {\n",
              "        vertical-align: middle;\n",
              "    }\n",
              "\n",
              "    .dataframe tbody tr th {\n",
              "        vertical-align: top;\n",
              "    }\n",
              "\n",
              "    .dataframe thead th {\n",
              "        text-align: right;\n",
              "    }\n",
              "</style>\n",
              "<table border=\"1\" class=\"dataframe\">\n",
              "  <thead>\n",
              "    <tr style=\"text-align: right;\">\n",
              "      <th></th>\n",
              "      <th>Year</th>\n",
              "      <th>State</th>\n",
              "      <th>Area planted</th>\n",
              "      <th>Area harvested for grain</th>\n",
              "      <th>Yield</th>\n",
              "      <th>Production</th>\n",
              "      <th>Table</th>\n",
              "      <th>Unit</th>\n",
              "      <th>Variety</th>\n",
              "      <th>Attribute</th>\n",
              "      <th>Value</th>\n",
              "      <th>GM corn area</th>\n",
              "      <th>Agri GDP</th>\n",
              "    </tr>\n",
              "  </thead>\n",
              "  <tbody>\n",
              "    <tr>\n",
              "      <th>70</th>\n",
              "      <td>2019</td>\n",
              "      <td>Indiana</td>\n",
              "      <td>5000</td>\n",
              "      <td>4820</td>\n",
              "      <td>169</td>\n",
              "      <td>814580</td>\n",
              "      <td>Genetically engineered (GE) corn varieties</td>\n",
              "      <td>Percent of corn planted</td>\n",
              "      <td>All GE varieties</td>\n",
              "      <td>Indiana</td>\n",
              "      <td>0</td>\n",
              "      <td>4350</td>\n",
              "      <td>4909</td>\n",
              "    </tr>\n",
              "    <tr>\n",
              "      <th>71</th>\n",
              "      <td>2019</td>\n",
              "      <td>Michigan</td>\n",
              "      <td>2000</td>\n",
              "      <td>1610</td>\n",
              "      <td>149</td>\n",
              "      <td>239890</td>\n",
              "      <td>Genetically engineered (GE) corn varieties</td>\n",
              "      <td>Percent of corn planted</td>\n",
              "      <td>All GE varieties</td>\n",
              "      <td>Michigan</td>\n",
              "      <td>0</td>\n",
              "      <td>1780</td>\n",
              "      <td>4343</td>\n",
              "    </tr>\n",
              "    <tr>\n",
              "      <th>72</th>\n",
              "      <td>2019</td>\n",
              "      <td>Minnesota</td>\n",
              "      <td>7800</td>\n",
              "      <td>7260</td>\n",
              "      <td>174</td>\n",
              "      <td>1263240</td>\n",
              "      <td>Genetically engineered (GE) corn varieties</td>\n",
              "      <td>Percent of corn planted</td>\n",
              "      <td>All GE varieties</td>\n",
              "      <td>Minnesota</td>\n",
              "      <td>0</td>\n",
              "      <td>7020</td>\n",
              "      <td>7913</td>\n",
              "    </tr>\n",
              "    <tr>\n",
              "      <th>73</th>\n",
              "      <td>2019</td>\n",
              "      <td>Nebraska</td>\n",
              "      <td>10100</td>\n",
              "      <td>9810</td>\n",
              "      <td>182</td>\n",
              "      <td>1785420</td>\n",
              "      <td>Genetically engineered (GE) corn varieties</td>\n",
              "      <td>Percent of corn planted</td>\n",
              "      <td>All GE varieties</td>\n",
              "      <td>Nebraska</td>\n",
              "      <td>0</td>\n",
              "      <td>9696</td>\n",
              "      <td>9526</td>\n",
              "    </tr>\n",
              "    <tr>\n",
              "      <th>74</th>\n",
              "      <td>2019</td>\n",
              "      <td>United States</td>\n",
              "      <td>89700</td>\n",
              "      <td>81482</td>\n",
              "      <td>168</td>\n",
              "      <td>13691561</td>\n",
              "      <td>Genetically engineered (GE) corn varieties</td>\n",
              "      <td>Percent of corn planted</td>\n",
              "      <td>All GE varieties</td>\n",
              "      <td>United States</td>\n",
              "      <td>0</td>\n",
              "      <td>82524</td>\n",
              "      <td>243607</td>\n",
              "    </tr>\n",
              "  </tbody>\n",
              "</table>\n",
              "</div>"
            ],
            "text/plain": [
              "    Year          State  Area planted  ...  Value  GM corn area  Agri GDP\n",
              "70  2019        Indiana          5000  ...      0          4350      4909\n",
              "71  2019       Michigan          2000  ...      0          1780      4343\n",
              "72  2019      Minnesota          7800  ...      0          7020      7913\n",
              "73  2019       Nebraska         10100  ...      0          9696      9526\n",
              "74  2019  United States         89700  ...      0         82524    243607\n",
              "\n",
              "[5 rows x 13 columns]"
            ]
          },
          "metadata": {
            "tags": []
          },
          "execution_count": 89
        }
      ]
    },
    {
      "cell_type": "code",
      "metadata": {
        "colab": {
          "base_uri": "https://localhost:8080/",
          "height": 334
        },
        "id": "c_wfbkrU1BbS",
        "outputId": "a20b1f40-f828-41b5-d4f3-cf6384708656"
      },
      "source": [
        "corn_table.describe()"
      ],
      "execution_count": null,
      "outputs": [
        {
          "output_type": "execute_result",
          "data": {
            "text/html": [
              "<div>\n",
              "<style scoped>\n",
              "    .dataframe tbody tr th:only-of-type {\n",
              "        vertical-align: middle;\n",
              "    }\n",
              "\n",
              "    .dataframe tbody tr th {\n",
              "        vertical-align: top;\n",
              "    }\n",
              "\n",
              "    .dataframe thead th {\n",
              "        text-align: right;\n",
              "    }\n",
              "</style>\n",
              "<table border=\"1\" class=\"dataframe\">\n",
              "  <thead>\n",
              "    <tr style=\"text-align: right;\">\n",
              "      <th></th>\n",
              "      <th>Year</th>\n",
              "      <th>Area planted</th>\n",
              "      <th>Yield</th>\n",
              "      <th>Production</th>\n",
              "      <th>Value</th>\n",
              "      <th>GM corn area</th>\n",
              "      <th>Agri GDP</th>\n",
              "    </tr>\n",
              "  </thead>\n",
              "  <tbody>\n",
              "    <tr>\n",
              "      <th>count</th>\n",
              "      <td>75.000000</td>\n",
              "      <td>75.000000</td>\n",
              "      <td>75.00000</td>\n",
              "      <td>7.500000e+01</td>\n",
              "      <td>75.000000</td>\n",
              "      <td>75.000000</td>\n",
              "      <td>75.000000</td>\n",
              "    </tr>\n",
              "    <tr>\n",
              "      <th>mean</th>\n",
              "      <td>2012.000000</td>\n",
              "      <td>22967.680000</td>\n",
              "      <td>161.96000</td>\n",
              "      <td>3.413599e+06</td>\n",
              "      <td>0.831067</td>\n",
              "      <td>19381.951733</td>\n",
              "      <td>46544.186667</td>\n",
              "    </tr>\n",
              "    <tr>\n",
              "      <th>std</th>\n",
              "      <td>4.349588</td>\n",
              "      <td>33565.726809</td>\n",
              "      <td>17.15938</td>\n",
              "      <td>4.906297e+06</td>\n",
              "      <td>0.144265</td>\n",
              "      <td>28804.136161</td>\n",
              "      <td>81958.314190</td>\n",
              "    </tr>\n",
              "    <tr>\n",
              "      <th>min</th>\n",
              "      <td>2005.000000</td>\n",
              "      <td>2000.000000</td>\n",
              "      <td>99.00000</td>\n",
              "      <td>2.398900e+05</td>\n",
              "      <td>0.260000</td>\n",
              "      <td>900.000000</td>\n",
              "      <td>3286.000000</td>\n",
              "    </tr>\n",
              "    <tr>\n",
              "      <th>25%</th>\n",
              "      <td>2008.000000</td>\n",
              "      <td>5550.000000</td>\n",
              "      <td>152.50000</td>\n",
              "      <td>8.591300e+05</td>\n",
              "      <td>0.800000</td>\n",
              "      <td>4387.000000</td>\n",
              "      <td>4417.500000</td>\n",
              "    </tr>\n",
              "    <tr>\n",
              "      <th>50%</th>\n",
              "      <td>2012.000000</td>\n",
              "      <td>8050.000000</td>\n",
              "      <td>160.00000</td>\n",
              "      <td>1.201200e+06</td>\n",
              "      <td>0.880000</td>\n",
              "      <td>7084.000000</td>\n",
              "      <td>7279.000000</td>\n",
              "    </tr>\n",
              "    <tr>\n",
              "      <th>75%</th>\n",
              "      <td>2016.000000</td>\n",
              "      <td>9850.000000</td>\n",
              "      <td>174.50000</td>\n",
              "      <td>1.653400e+06</td>\n",
              "      <td>0.920000</td>\n",
              "      <td>9192.000000</td>\n",
              "      <td>9683.000000</td>\n",
              "    </tr>\n",
              "    <tr>\n",
              "      <th>max</th>\n",
              "      <td>2019.000000</td>\n",
              "      <td>97155.000000</td>\n",
              "      <td>194.00000</td>\n",
              "      <td>1.514804e+07</td>\n",
              "      <td>0.960000</td>\n",
              "      <td>86483.680000</td>\n",
              "      <td>243607.000000</td>\n",
              "    </tr>\n",
              "  </tbody>\n",
              "</table>\n",
              "</div>"
            ],
            "text/plain": [
              "              Year  Area planted  ...  GM corn area       Agri GDP\n",
              "count    75.000000     75.000000  ...     75.000000      75.000000\n",
              "mean   2012.000000  22967.680000  ...  19381.951733   46544.186667\n",
              "std       4.349588  33565.726809  ...  28804.136161   81958.314190\n",
              "min    2005.000000   2000.000000  ...    900.000000    3286.000000\n",
              "25%    2008.000000   5550.000000  ...   4387.000000    4417.500000\n",
              "50%    2012.000000   8050.000000  ...   7084.000000    7279.000000\n",
              "75%    2016.000000   9850.000000  ...   9192.000000    9683.000000\n",
              "max    2019.000000  97155.000000  ...  86483.680000  243607.000000\n",
              "\n",
              "[8 rows x 7 columns]"
            ]
          },
          "metadata": {
            "tags": []
          },
          "execution_count": 65
        }
      ]
    },
    {
      "cell_type": "code",
      "metadata": {
        "id": "6mWmbPyA5d3v"
      },
      "source": [
        "corn_table.to_csv('corn_dataframe.csv')"
      ],
      "execution_count": null,
      "outputs": []
    },
    {
      "cell_type": "code",
      "metadata": {
        "id": "rFA5rTso1PFg"
      },
      "source": [
        "corn_general = corn_table[(corn_table['State']=='United States')]"
      ],
      "execution_count": null,
      "outputs": []
    },
    {
      "cell_type": "code",
      "metadata": {
        "colab": {
          "base_uri": "https://localhost:8080/",
          "height": 296
        },
        "id": "UAq04jnw2IY9",
        "outputId": "81055443-b4ac-40e5-c84d-124cbabf9f37"
      },
      "source": [
        "corn_general.plot(x= 'Year', y = 'Agri GDP')"
      ],
      "execution_count": null,
      "outputs": [
        {
          "output_type": "execute_result",
          "data": {
            "text/plain": [
              "<matplotlib.axes._subplots.AxesSubplot at 0x7f686d3361d0>"
            ]
          },
          "metadata": {
            "tags": []
          },
          "execution_count": 68
        },
        {
          "output_type": "display_data",
          "data": {
            "image/png": "[encoded data removed]",
            "text/plain": [
              "<Figure size 432x288 with 1 Axes>"
            ]
          },
          "metadata": {
            "tags": [],
            "needs_background": "light"
          }
        }
      ]
    },
    {
      "cell_type": "code",
      "metadata": {
        "colab": {
          "base_uri": "https://localhost:8080/",
          "height": 296
        },
        "id": "b_N5JJ8c2UsV",
        "outputId": "ff93087b-a3ab-42d5-d6e4-2e06e56db8bd"
      },
      "source": [
        "corn_general.plot(x= 'Year', y = 'GM corn area')"
      ],
      "execution_count": null,
      "outputs": [
        {
          "output_type": "execute_result",
          "data": {
            "text/plain": [
              "<matplotlib.axes._subplots.AxesSubplot at 0x7f686d20a978>"
            ]
          },
          "metadata": {
            "tags": []
          },
          "execution_count": 69
        },
        {
          "output_type": "display_data",
          "data": {
            "image/png": "[encoded data removed]",
            "text/plain": [
              "<Figure size 432x288 with 1 Axes>"
            ]
          },
          "metadata": {
            "tags": [],
            "needs_background": "light"
          }
        }
      ]
    },
    {
      "cell_type": "code",
      "metadata": {
        "colab": {
          "base_uri": "https://localhost:8080/",
          "height": 307
        },
        "id": "HnmqXtLj2ZCl",
        "outputId": "227b9868-5dc7-4192-d374-fdaeda151d76"
      },
      "source": [
        "corn_general.plot(x= 'Year', y = 'Production')"
      ],
      "execution_count": null,
      "outputs": [
        {
          "output_type": "execute_result",
          "data": {
            "text/plain": [
              "<matplotlib.axes._subplots.AxesSubplot at 0x7f686cd8bef0>"
            ]
          },
          "metadata": {
            "tags": []
          },
          "execution_count": 70
        },
        {
          "output_type": "display_data",
          "data": {
            "image/png": "[encoded data removed]",
            "text/plain": [
              "<Figure size 432x288 with 1 Axes>"
            ]
          },
          "metadata": {
            "tags": [],
            "needs_background": "light"
          }
        }
      ]
    },
    {
      "cell_type": "code",
      "metadata": {
        "colab": {
          "base_uri": "https://localhost:8080/",
          "height": 296
        },
        "id": "f0sksI8A2h8A",
        "outputId": "2f53a38a-386e-4e23-cb44-b5d54e5f7982"
      },
      "source": [
        "corn_general.plot(x= 'Year', y = 'Yield')"
      ],
      "execution_count": null,
      "outputs": [
        {
          "output_type": "execute_result",
          "data": {
            "text/plain": [
              "<matplotlib.axes._subplots.AxesSubplot at 0x7f686cd07eb8>"
            ]
          },
          "metadata": {
            "tags": []
          },
          "execution_count": 71
        },
        {
          "output_type": "display_data",
          "data": {
            "image/png": "[encoded data removed]",
            "text/plain": [
              "<Figure size 432x288 with 1 Axes>"
            ]
          },
          "metadata": {
            "tags": [],
            "needs_background": "light"
          }
        }
      ]
    },
    {
      "cell_type": "code",
      "metadata": {
        "colab": {
          "base_uri": "https://localhost:8080/",
          "height": 296
        },
        "id": "Y8xAo3jk2jqb",
        "outputId": "aabf5514-a87d-4875-98e2-c3e9e7c19e25"
      },
      "source": [
        "corn_general.plot(x= 'Year', y = 'Area planted')"
      ],
      "execution_count": null,
      "outputs": [
        {
          "output_type": "execute_result",
          "data": {
            "text/plain": [
              "<matplotlib.axes._subplots.AxesSubplot at 0x7f686ccd89b0>"
            ]
          },
          "metadata": {
            "tags": []
          },
          "execution_count": 72
        },
        {
          "output_type": "display_data",
          "data": {
            "image/png": "[encoded data removed]",
            "text/plain": [
              "<Figure size 432x288 with 1 Axes>"
            ]
          },
          "metadata": {
            "tags": [],
            "needs_background": "light"
          }
        }
      ]
    },
    {
      "cell_type": "code",
      "metadata": {
        "colab": {
          "base_uri": "https://localhost:8080/",
          "height": 296
        },
        "id": "puDEONQW2uLh",
        "outputId": "8f26d99e-30ee-437f-9211-acf0e8e872e6"
      },
      "source": [
        "corn_general.plot.scatter(x= 'GM corn area', y = 'Agri GDP')"
      ],
      "execution_count": null,
      "outputs": [
        {
          "output_type": "execute_result",
          "data": {
            "text/plain": [
              "<matplotlib.axes._subplots.AxesSubplot at 0x7f686cceca58>"
            ]
          },
          "metadata": {
            "tags": []
          },
          "execution_count": 73
        },
        {
          "output_type": "display_data",
          "data": {
            "image/png": "[encoded data removed]",
            "text/plain": [
              "<Figure size 432x288 with 1 Axes>"
            ]
          },
          "metadata": {
            "tags": [],
            "needs_background": "light"
          }
        }
      ]
    },
    {
      "cell_type": "code",
      "metadata": {
        "colab": {
          "base_uri": "https://localhost:8080/",
          "height": 299
        },
        "id": "gbcV9R783Cnr",
        "outputId": "347a16c7-f836-499f-d867-f57111ab9ec7"
      },
      "source": [
        "corn_table[corn_table['State']!='United States'].plot.scatter(x='GM corn area', y ='Agri GDP')"
      ],
      "execution_count": 95,
      "outputs": [
        {
          "output_type": "execute_result",
          "data": {
            "text/plain": [
              "<matplotlib.axes._subplots.AxesSubplot at 0x7f6864910550>"
            ]
          },
          "metadata": {
            "tags": []
          },
          "execution_count": 95
        },
        {
          "output_type": "display_data",
          "data": {
            "image/png": "[encoded data removed]",
            "text/plain": [
              "<Figure size 432x288 with 1 Axes>"
            ]
          },
          "metadata": {
            "tags": [],
            "needs_background": "light"
          }
        }
      ]
    },
    {
      "cell_type": "code",
      "metadata": {
        "colab": {
          "base_uri": "https://localhost:8080/",
          "height": 299
        },
        "id": "ik7uvWZv3Uck",
        "outputId": "b588f133-4cef-426f-bd31-102745f625dc"
      },
      "source": [
        "corn_table[corn_table['State']!='United States'].plot.scatter(x='Production', y ='Agri GDP')"
      ],
      "execution_count": 96,
      "outputs": [
        {
          "output_type": "execute_result",
          "data": {
            "text/plain": [
              "<matplotlib.axes._subplots.AxesSubplot at 0x7f68647d9c88>"
            ]
          },
          "metadata": {
            "tags": []
          },
          "execution_count": 96
        },
        {
          "output_type": "display_data",
          "data": {
            "image/png": "[encoded data removed]",
            "text/plain": [
              "<Figure size 432x288 with 1 Axes>"
            ]
          },
          "metadata": {
            "tags": [],
            "needs_background": "light"
          }
        }
      ]
    },
    {
      "cell_type": "code",
      "metadata": {
        "colab": {
          "base_uri": "https://localhost:8080/",
          "height": 299
        },
        "id": "6c0otpvT6w13",
        "outputId": "71e6a2ad-b1fa-48d3-add9-aaf27ba22c7a"
      },
      "source": [
        "corn_table[corn_table['State']!='United States'].plot.scatter(x='Yield', y ='Agri GDP')"
      ],
      "execution_count": 97,
      "outputs": [
        {
          "output_type": "execute_result",
          "data": {
            "text/plain": [
              "<matplotlib.axes._subplots.AxesSubplot at 0x7f68647c1d30>"
            ]
          },
          "metadata": {
            "tags": []
          },
          "execution_count": 97
        },
        {
          "output_type": "display_data",
          "data": {
            "image/png": "[encoded data removed]",
            "text/plain": [
              "<Figure size 432x288 with 1 Axes>"
            ]
          },
          "metadata": {
            "tags": [],
            "needs_background": "light"
          }
        }
      ]
    },
    {
      "cell_type": "code",
      "metadata": {
        "colab": {
          "base_uri": "https://localhost:8080/",
          "height": 296
        },
        "id": "8BSFrJme7Mm5",
        "outputId": "d66ec752-07e4-4e49-fd53-a6265a956dc9"
      },
      "source": [
        "corn_table.plot.scatter(x='Area planted', y ='Agri GDP')"
      ],
      "execution_count": null,
      "outputs": [
        {
          "output_type": "execute_result",
          "data": {
            "text/plain": [
              "<matplotlib.axes._subplots.AxesSubplot at 0x7f686caf2940>"
            ]
          },
          "metadata": {
            "tags": []
          },
          "execution_count": 77
        },
        {
          "output_type": "display_data",
          "data": {
            "image/png": "[encoded data removed]",
            "text/plain": [
              "<Figure size 432x288 with 1 Axes>"
            ]
          },
          "metadata": {
            "tags": [],
            "needs_background": "light"
          }
        }
      ]
    },
    {
      "cell_type": "code",
      "metadata": {
        "colab": {
          "base_uri": "https://localhost:8080/"
        },
        "id": "siadJQgf7kso",
        "outputId": "952ce816-ec2e-4858-a23d-e2fda48a46c5"
      },
      "source": [
        "corn_table.dtypes"
      ],
      "execution_count": null,
      "outputs": [
        {
          "output_type": "execute_result",
          "data": {
            "text/plain": [
              "Year                          int64\n",
              "State                        object\n",
              "Area planted                  int64\n",
              "Area harvested for grain     object\n",
              "Yield                         int64\n",
              "Production                    int64\n",
              "Table                        object\n",
              "Unit                         object\n",
              "Variety                      object\n",
              "Attribute                    object\n",
              "Value                       float64\n",
              "GM corn area                float64\n",
              "Agri GDP                      int64\n",
              "dtype: object"
            ]
          },
          "metadata": {
            "tags": []
          },
          "execution_count": 78
        }
      ]
    },
    {
      "cell_type": "code",
      "metadata": {
        "id": "JhKGpYSm703M"
      },
      "source": [
        "corn_table[\"Area harvested for grain\"] = corn_table[\"Area harvested for grain\"].astype(float).astype(int)"
      ],
      "execution_count": null,
      "outputs": []
    },
    {
      "cell_type": "code",
      "metadata": {
        "id": "lsqAeqF-8Ip6"
      },
      "source": [
        "corn_table[\"Value\"] = corn_table[\"Value\"].astype(float).astype(int)\n",
        "corn_table[\"GM corn area\"] = corn_table[\"GM corn area\"].astype(float).astype(int)"
      ],
      "execution_count": null,
      "outputs": []
    },
    {
      "cell_type": "code",
      "metadata": {
        "colab": {
          "base_uri": "https://localhost:8080/",
          "height": 296
        },
        "id": "jDF5G-FU8ZQN",
        "outputId": "d18a4e4e-42eb-4a42-e265-5b6f3d2d2018"
      },
      "source": [
        "corn_table.plot.scatter(x='Area harvested for grain', y ='Agri GDP')"
      ],
      "execution_count": null,
      "outputs": [
        {
          "output_type": "execute_result",
          "data": {
            "text/plain": [
              "<matplotlib.axes._subplots.AxesSubplot at 0x7f686cc6dbe0>"
            ]
          },
          "metadata": {
            "tags": []
          },
          "execution_count": 81
        },
        {
          "output_type": "display_data",
          "data": {
            "image/png": "[encoded data removed]",
            "text/plain": [
              "<Figure size 432x288 with 1 Axes>"
            ]
          },
          "metadata": {
            "tags": [],
            "needs_background": "light"
          }
        }
      ]
    },
    {
      "cell_type": "code",
      "metadata": {
        "colab": {
          "base_uri": "https://localhost:8080/",
          "height": 296
        },
        "id": "jCAIi9Ai8je6",
        "outputId": "68382155-ad80-448d-d4e3-c3c0823dc019"
      },
      "source": [
        "corn_table[corn_table['State']!='United States'].plot.scatter(x='GM corn area', y ='Yield')"
      ],
      "execution_count": 98,
      "outputs": [
        {
          "output_type": "execute_result",
          "data": {
            "text/plain": [
              "<matplotlib.axes._subplots.AxesSubplot at 0x7f68647906a0>"
            ]
          },
          "metadata": {
            "tags": []
          },
          "execution_count": 98
        },
        {
          "output_type": "display_data",
          "data": {
            "image/png": "[encoded data removed]",
            "text/plain": [
              "<Figure size 432x288 with 1 Axes>"
            ]
          },
          "metadata": {
            "tags": [],
            "needs_background": "light"
          }
        }
      ]
    },
    {
      "cell_type": "code",
      "metadata": {
        "colab": {
          "base_uri": "https://localhost:8080/",
          "height": 307
        },
        "id": "0x94qrCB8_Ib",
        "outputId": "5f0cf278-12f7-40b7-a1b4-64cf9b245dc3"
      },
      "source": [
        "corn_table.plot.scatter(x='GM corn area', y ='Production')"
      ],
      "execution_count": null,
      "outputs": [
        {
          "output_type": "execute_result",
          "data": {
            "text/plain": [
              "<matplotlib.axes._subplots.AxesSubplot at 0x7f686cd07898>"
            ]
          },
          "metadata": {
            "tags": []
          },
          "execution_count": 83
        },
        {
          "output_type": "display_data",
          "data": {
            "image/png": "[encoded data removed]",
            "text/plain": [
              "<Figure size 432x288 with 1 Axes>"
            ]
          },
          "metadata": {
            "tags": [],
            "needs_background": "light"
          }
        }
      ]
    },
    {
      "cell_type": "code",
      "metadata": {
        "colab": {
          "base_uri": "https://localhost:8080/",
          "height": 296
        },
        "id": "w95WQGIh9KNV",
        "outputId": "2d13d9db-2c55-4758-abe5-1eab0ca78dc0"
      },
      "source": [
        "corn_table[corn_table['State']=='Nebraska'].plot.scatter(x= 'GM corn area', y = 'Agri GDP')"
      ],
      "execution_count": 90,
      "outputs": [
        {
          "output_type": "execute_result",
          "data": {
            "text/plain": [
              "<matplotlib.axes._subplots.AxesSubplot at 0x7f6864a952e8>"
            ]
          },
          "metadata": {
            "tags": []
          },
          "execution_count": 90
        },
        {
          "output_type": "display_data",
          "data": {
            "image/png": "[encoded data removed]",
            "text/plain": [
              "<Figure size 432x288 with 1 Axes>"
            ]
          },
          "metadata": {
            "tags": [],
            "needs_background": "light"
          }
        }
      ]
    },
    {
      "cell_type": "code",
      "metadata": {
        "id": "SVdtbZa7_xzt",
        "colab": {
          "base_uri": "https://localhost:8080/",
          "height": 296
        },
        "outputId": "298022e1-1193-4b24-dce4-22623ab8789c"
      },
      "source": [
        "corn_table[corn_table['State']=='Minnesota'].plot.scatter(x= 'GM corn area', y = 'Agri GDP')"
      ],
      "execution_count": 91,
      "outputs": [
        {
          "output_type": "execute_result",
          "data": {
            "text/plain": [
              "<matplotlib.axes._subplots.AxesSubplot at 0x7f6864b46e10>"
            ]
          },
          "metadata": {
            "tags": []
          },
          "execution_count": 91
        },
        {
          "output_type": "display_data",
          "data": {
            "image/png": "[encoded data removed]",
            "text/plain": [
              "<Figure size 432x288 with 1 Axes>"
            ]
          },
          "metadata": {
            "tags": [],
            "needs_background": "light"
          }
        }
      ]
    },
    {
      "cell_type": "code",
      "metadata": {
        "colab": {
          "base_uri": "https://localhost:8080/",
          "height": 300
        },
        "id": "XZx4c4RACX59",
        "outputId": "14123658-7d84-4bd2-9a12-6d1fa6bc3777"
      },
      "source": [
        "corn_table[corn_table['Year']==2016].plot.scatter(x= 'GM corn area', y = 'Agri GDP')"
      ],
      "execution_count": 94,
      "outputs": [
        {
          "output_type": "execute_result",
          "data": {
            "text/plain": [
              "<matplotlib.axes._subplots.AxesSubplot at 0x7f68648d1470>"
            ]
          },
          "metadata": {
            "tags": []
          },
          "execution_count": 94
        },
        {
          "output_type": "display_data",
          "data": {
            "image/png": "[encoded data removed]",
            "text/plain": [
              "<Figure size 432x288 with 1 Axes>"
            ]
          },
          "metadata": {
            "tags": [],
            "needs_background": "light"
          }
        }
      ]
    },
    {
      "cell_type": "code",
      "metadata": {
        "id": "VLTVkQf2F1wh"
      },
      "source": [
        "corn_correlation = corn_table[corn_table['State']!='United States'].corr()"
      ],
      "execution_count": 103,
      "outputs": []
    },
    {
      "cell_type": "code",
      "metadata": {
        "id": "5cMDK5JkJXbM"
      },
      "source": [
        "import seaborn as sns"
      ],
      "execution_count": 102,
      "outputs": []
    },
    {
      "cell_type": "code",
      "metadata": {
        "id": "a9m6_BQDM5pK"
      },
      "source": [
        "corn_for_cor=corn_table.drop(columns='Year')"
      ],
      "execution_count": 106,
      "outputs": []
    },
    {
      "cell_type": "code",
      "metadata": {
        "id": "MSv-yNoYPRWQ"
      },
      "source": [
        "corn_for_cor=corn_table.drop(columns='Value')"
      ],
      "execution_count": 107,
      "outputs": []
    },
    {
      "cell_type": "code",
      "metadata": {
        "id": "1Ws-0MdKQTPi"
      },
      "source": [
        "corn_for_cor=corn_for_cor.drop(columns='Year')"
      ],
      "execution_count": 114,
      "outputs": []
    },
    {
      "cell_type": "code",
      "metadata": {
        "colab": {
          "base_uri": "https://localhost:8080/",
          "height": 269
        },
        "id": "5O3kj5cmPmcN",
        "outputId": "a269897a-d0ab-4d7c-c3a6-ca03650fccc7"
      },
      "source": [
        "corn_for_cor[corn_for_cor['State']!='United States'].corr()"
      ],
      "execution_count": 115,
      "outputs": [
        {
          "output_type": "execute_result",
          "data": {
            "text/html": [
              "<div>\n",
              "<style scoped>\n",
              "    .dataframe tbody tr th:only-of-type {\n",
              "        vertical-align: middle;\n",
              "    }\n",
              "\n",
              "    .dataframe tbody tr th {\n",
              "        vertical-align: top;\n",
              "    }\n",
              "\n",
              "    .dataframe thead th {\n",
              "        text-align: right;\n",
              "    }\n",
              "</style>\n",
              "<table border=\"1\" class=\"dataframe\">\n",
              "  <thead>\n",
              "    <tr style=\"text-align: right;\">\n",
              "      <th></th>\n",
              "      <th>Area planted</th>\n",
              "      <th>Area harvested for grain</th>\n",
              "      <th>Yield</th>\n",
              "      <th>Production</th>\n",
              "      <th>GM corn area</th>\n",
              "      <th>Agri GDP</th>\n",
              "    </tr>\n",
              "  </thead>\n",
              "  <tbody>\n",
              "    <tr>\n",
              "      <th>Area planted</th>\n",
              "      <td>1.000000</td>\n",
              "      <td>0.998625</td>\n",
              "      <td>0.461873</td>\n",
              "      <td>0.971874</td>\n",
              "      <td>0.957017</td>\n",
              "      <td>0.864472</td>\n",
              "    </tr>\n",
              "    <tr>\n",
              "      <th>Area harvested for grain</th>\n",
              "      <td>0.998625</td>\n",
              "      <td>1.000000</td>\n",
              "      <td>0.467875</td>\n",
              "      <td>0.975543</td>\n",
              "      <td>0.951330</td>\n",
              "      <td>0.856015</td>\n",
              "    </tr>\n",
              "    <tr>\n",
              "      <th>Yield</th>\n",
              "      <td>0.461873</td>\n",
              "      <td>0.467875</td>\n",
              "      <td>1.000000</td>\n",
              "      <td>0.621440</td>\n",
              "      <td>0.512575</td>\n",
              "      <td>0.613686</td>\n",
              "    </tr>\n",
              "    <tr>\n",
              "      <th>Production</th>\n",
              "      <td>0.971874</td>\n",
              "      <td>0.975543</td>\n",
              "      <td>0.621440</td>\n",
              "      <td>1.000000</td>\n",
              "      <td>0.946824</td>\n",
              "      <td>0.885313</td>\n",
              "    </tr>\n",
              "    <tr>\n",
              "      <th>GM corn area</th>\n",
              "      <td>0.957017</td>\n",
              "      <td>0.951330</td>\n",
              "      <td>0.512575</td>\n",
              "      <td>0.946824</td>\n",
              "      <td>1.000000</td>\n",
              "      <td>0.921533</td>\n",
              "    </tr>\n",
              "    <tr>\n",
              "      <th>Agri GDP</th>\n",
              "      <td>0.864472</td>\n",
              "      <td>0.856015</td>\n",
              "      <td>0.613686</td>\n",
              "      <td>0.885313</td>\n",
              "      <td>0.921533</td>\n",
              "      <td>1.000000</td>\n",
              "    </tr>\n",
              "  </tbody>\n",
              "</table>\n",
              "</div>"
            ],
            "text/plain": [
              "                          Area planted  ...  Agri GDP\n",
              "Area planted                  1.000000  ...  0.864472\n",
              "Area harvested for grain      0.998625  ...  0.856015\n",
              "Yield                         0.461873  ...  0.613686\n",
              "Production                    0.971874  ...  0.885313\n",
              "GM corn area                  0.957017  ...  0.921533\n",
              "Agri GDP                      0.864472  ...  1.000000\n",
              "\n",
              "[6 rows x 6 columns]"
            ]
          },
          "metadata": {
            "tags": []
          },
          "execution_count": 115
        }
      ]
    },
    {
      "cell_type": "code",
      "metadata": {
        "colab": {
          "base_uri": "https://localhost:8080/",
          "height": 399
        },
        "id": "SL9DoeEPP28Z",
        "outputId": "6e100679-1bdb-4260-bfb0-871c839bec8d"
      },
      "source": [
        "sns.heatmap(corn_for_cor[corn_for_cor['State']!='United States'].corr())"
      ],
      "execution_count": 116,
      "outputs": [
        {
          "output_type": "execute_result",
          "data": {
            "text/plain": [
              "<matplotlib.axes._subplots.AxesSubplot at 0x7f6857c9c240>"
            ]
          },
          "metadata": {
            "tags": []
          },
          "execution_count": 116
        },
        {
          "output_type": "display_data",
          "data": {
            "image/png": "[encoded data removed]",
            "text/plain": [
              "<Figure size 432x288 with 2 Axes>"
            ]
          },
          "metadata": {
            "tags": [],
            "needs_background": "light"
          }
        }
      ]
    },
    {
      "cell_type": "code",
      "metadata": {
        "id": "LIDJDzL2P7Kq"
      },
      "source": [
        ""
      ],
      "execution_count": null,
      "outputs": []
    }
  ]
}