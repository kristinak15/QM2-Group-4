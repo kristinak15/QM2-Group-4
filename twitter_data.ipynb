{
  "nbformat": 4,
  "nbformat_minor": 0,
  "metadata": {
    "colab": {
      "name": "twitter data.ipynb",
      "provenance": [],
      "authorship_tag": "ABX9TyPUErAlLJ1Yub0ugi1hN5eZ",
      "include_colab_link": true
    },
    "kernelspec": {
      "name": "python3",
      "display_name": "Python 3"
    }
  },
  "cells": [
    {
      "cell_type": "markdown",
      "metadata": {
        "id": "view-in-github",
        "colab_type": "text"
      },
      "source": [
        "<a href=\"https://colab.research.google.com/github/kristinak15/QM2-Group-4/blob/main/twitter_data.ipynb\" target=\"_parent\"><img src=\"https://colab.research.google.com/assets/colab-badge.svg\" alt=\"Open In Colab\"/></a>"
      ]
    },
    {
      "cell_type": "code",
      "metadata": {
        "id": "p7gWKDCleHE3"
      },
      "source": [
        "import pandas as pd\n",
        "\n",
        "import matplotlib\n",
        "%matplotlib inline\n",
        "\n",
        "import matplotlib.pyplot as plt\n",
        "import numpy as np\n"
      ],
      "execution_count": null,
      "outputs": []
    },
    {
      "cell_type": "code",
      "metadata": {
        "id": "HVNc8KvueIt4"
      },
      "source": [
        "gm_crops = pd.read_csv('/content/gm_crops.csv')\n",
        "public = pd.read_csv('/content/state of GMOs on social media USA.csv')\n",
        " "
      ],
      "execution_count": null,
      "outputs": []
    },
    {
      "cell_type": "code",
      "metadata": {
        "colab": {
          "base_uri": "https://localhost:8080/",
          "height": 302
        },
        "id": "7WXYYkNOkb_0",
        "outputId": "1870b29d-1c38-4c00-8f5e-a2f5395f8748"
      },
      "source": [
        "gm_crops.head()"
      ],
      "execution_count": null,
      "outputs": [
        {
          "output_type": "execute_result",
          "data": {
            "text/html": [
              "<div>\n",
              "<style scoped>\n",
              "    .dataframe tbody tr th:only-of-type {\n",
              "        vertical-align: middle;\n",
              "    }\n",
              "\n",
              "    .dataframe tbody tr th {\n",
              "        vertical-align: top;\n",
              "    }\n",
              "\n",
              "    .dataframe thead th {\n",
              "        text-align: right;\n",
              "    }\n",
              "</style>\n",
              "<table border=\"1\" class=\"dataframe\">\n",
              "  <thead>\n",
              "    <tr style=\"text-align: right;\">\n",
              "      <th></th>\n",
              "      <th>Unnamed: 0</th>\n",
              "      <th>Table</th>\n",
              "      <th>Unit</th>\n",
              "      <th>Variety</th>\n",
              "      <th>Year</th>\n",
              "      <th>Attribute</th>\n",
              "      <th>Value</th>\n",
              "    </tr>\n",
              "  </thead>\n",
              "  <tbody>\n",
              "    <tr>\n",
              "      <th>0</th>\n",
              "      <td>0</td>\n",
              "      <td>Genetically engineered (GE) corn varieties</td>\n",
              "      <td>Percent of corn planted</td>\n",
              "      <td>Insect-resistant (Bt) only                    ...</td>\n",
              "      <td>2000</td>\n",
              "      <td>Illinois</td>\n",
              "      <td>13</td>\n",
              "    </tr>\n",
              "    <tr>\n",
              "      <th>1</th>\n",
              "      <td>1</td>\n",
              "      <td>Genetically engineered (GE) corn varieties</td>\n",
              "      <td>Percent of corn planted</td>\n",
              "      <td>Insect-resistant (Bt) only                    ...</td>\n",
              "      <td>2000</td>\n",
              "      <td>Indiana</td>\n",
              "      <td>7</td>\n",
              "    </tr>\n",
              "    <tr>\n",
              "      <th>2</th>\n",
              "      <td>2</td>\n",
              "      <td>Genetically engineered (GE) corn varieties</td>\n",
              "      <td>Percent of corn planted</td>\n",
              "      <td>Insect-resistant (Bt) only                    ...</td>\n",
              "      <td>2000</td>\n",
              "      <td>Iowa</td>\n",
              "      <td>23</td>\n",
              "    </tr>\n",
              "    <tr>\n",
              "      <th>3</th>\n",
              "      <td>3</td>\n",
              "      <td>Genetically engineered (GE) corn varieties</td>\n",
              "      <td>Percent of corn planted</td>\n",
              "      <td>Insect-resistant (Bt) only                    ...</td>\n",
              "      <td>2000</td>\n",
              "      <td>Kansas</td>\n",
              "      <td>25</td>\n",
              "    </tr>\n",
              "    <tr>\n",
              "      <th>4</th>\n",
              "      <td>4</td>\n",
              "      <td>Genetically engineered (GE) corn varieties</td>\n",
              "      <td>Percent of corn planted</td>\n",
              "      <td>Insect-resistant (Bt) only                    ...</td>\n",
              "      <td>2000</td>\n",
              "      <td>Michigan</td>\n",
              "      <td>8</td>\n",
              "    </tr>\n",
              "  </tbody>\n",
              "</table>\n",
              "</div>"
            ],
            "text/plain": [
              "   Unnamed: 0                                       Table  ... Attribute Value\n",
              "0           0  Genetically engineered (GE) corn varieties  ...  Illinois    13\n",
              "1           1  Genetically engineered (GE) corn varieties  ...   Indiana     7\n",
              "2           2  Genetically engineered (GE) corn varieties  ...      Iowa    23\n",
              "3           3  Genetically engineered (GE) corn varieties  ...    Kansas    25\n",
              "4           4  Genetically engineered (GE) corn varieties  ...  Michigan     8\n",
              "\n",
              "[5 rows x 7 columns]"
            ]
          },
          "metadata": {
            "tags": []
          },
          "execution_count": 3
        }
      ]
    },
    {
      "cell_type": "code",
      "metadata": {
        "id": "RQiWGXBHk4MI"
      },
      "source": [
        "gm_crops.drop(columns='Unnamed: 0',inplace=True)"
      ],
      "execution_count": null,
      "outputs": []
    },
    {
      "cell_type": "code",
      "metadata": {
        "id": "7HnIRJ03lA8e"
      },
      "source": [
        "gm_crops = gm_crops.iloc[2860:,]"
      ],
      "execution_count": null,
      "outputs": []
    },
    {
      "cell_type": "code",
      "metadata": {
        "colab": {
          "base_uri": "https://localhost:8080/",
          "height": 198
        },
        "id": "yuk1pBzqmwrk",
        "outputId": "eb9c3fe3-30be-4e3f-8bb5-bbfd96ae4031"
      },
      "source": [
        "gm_crops.head()"
      ],
      "execution_count": null,
      "outputs": [
        {
          "output_type": "execute_result",
          "data": {
            "text/html": [
              "<div>\n",
              "<style scoped>\n",
              "    .dataframe tbody tr th:only-of-type {\n",
              "        vertical-align: middle;\n",
              "    }\n",
              "\n",
              "    .dataframe tbody tr th {\n",
              "        vertical-align: top;\n",
              "    }\n",
              "\n",
              "    .dataframe thead th {\n",
              "        text-align: right;\n",
              "    }\n",
              "</style>\n",
              "<table border=\"1\" class=\"dataframe\">\n",
              "  <thead>\n",
              "    <tr style=\"text-align: right;\">\n",
              "      <th></th>\n",
              "      <th>Table</th>\n",
              "      <th>Unit</th>\n",
              "      <th>Variety</th>\n",
              "      <th>Year</th>\n",
              "      <th>Attribute</th>\n",
              "      <th>Value</th>\n",
              "    </tr>\n",
              "  </thead>\n",
              "  <tbody>\n",
              "    <tr>\n",
              "      <th>2860</th>\n",
              "      <td>Genetically engineered (GE) soybean varieties</td>\n",
              "      <td>Percent of all soybeans planted</td>\n",
              "      <td>All GE varieties</td>\n",
              "      <td>2016</td>\n",
              "      <td>Arkansas</td>\n",
              "      <td>96</td>\n",
              "    </tr>\n",
              "    <tr>\n",
              "      <th>2861</th>\n",
              "      <td>Genetically engineered (GE) soybean varieties</td>\n",
              "      <td>Percent of all soybeans planted</td>\n",
              "      <td>All GE varieties</td>\n",
              "      <td>2016</td>\n",
              "      <td>Illinois</td>\n",
              "      <td>94</td>\n",
              "    </tr>\n",
              "    <tr>\n",
              "      <th>2862</th>\n",
              "      <td>Genetically engineered (GE) soybean varieties</td>\n",
              "      <td>Percent of all soybeans planted</td>\n",
              "      <td>All GE varieties</td>\n",
              "      <td>2016</td>\n",
              "      <td>Indiana</td>\n",
              "      <td>92</td>\n",
              "    </tr>\n",
              "    <tr>\n",
              "      <th>2863</th>\n",
              "      <td>Genetically engineered (GE) soybean varieties</td>\n",
              "      <td>Percent of all soybeans planted</td>\n",
              "      <td>All GE varieties</td>\n",
              "      <td>2016</td>\n",
              "      <td>Iowa</td>\n",
              "      <td>97</td>\n",
              "    </tr>\n",
              "    <tr>\n",
              "      <th>2864</th>\n",
              "      <td>Genetically engineered (GE) soybean varieties</td>\n",
              "      <td>Percent of all soybeans planted</td>\n",
              "      <td>All GE varieties</td>\n",
              "      <td>2016</td>\n",
              "      <td>Kansas</td>\n",
              "      <td>95</td>\n",
              "    </tr>\n",
              "  </tbody>\n",
              "</table>\n",
              "</div>"
            ],
            "text/plain": [
              "                                              Table  ... Value\n",
              "2860  Genetically engineered (GE) soybean varieties  ...    96\n",
              "2861  Genetically engineered (GE) soybean varieties  ...    94\n",
              "2862  Genetically engineered (GE) soybean varieties  ...    92\n",
              "2863  Genetically engineered (GE) soybean varieties  ...    97\n",
              "2864  Genetically engineered (GE) soybean varieties  ...    95\n",
              "\n",
              "[5 rows x 6 columns]"
            ]
          },
          "metadata": {
            "tags": []
          },
          "execution_count": 6
        }
      ]
    },
    {
      "cell_type": "code",
      "metadata": {
        "id": "nPjnK7nDm3QK"
      },
      "source": [
        "gm_crops= gm_crops.drop([2908,2909,2910,2911,2912,2913,2914,2915,2916,2917,2918,2919,2920,2921,2922,2923,2924,2925,2926,2927,2928,2929,2930,2931,2932,2933,2934,2935,2936,2937,2938,2939])"
      ],
      "execution_count": null,
      "outputs": []
    },
    {
      "cell_type": "code",
      "metadata": {
        "colab": {
          "base_uri": "https://localhost:8080/",
          "height": 198
        },
        "id": "dgaZd84unlvg",
        "outputId": "128bea19-e1f2-4be6-a3d5-434da9a6736a"
      },
      "source": [
        "gm_crops.tail()"
      ],
      "execution_count": null,
      "outputs": [
        {
          "output_type": "execute_result",
          "data": {
            "text/html": [
              "<div>\n",
              "<style scoped>\n",
              "    .dataframe tbody tr th:only-of-type {\n",
              "        vertical-align: middle;\n",
              "    }\n",
              "\n",
              "    .dataframe tbody tr th {\n",
              "        vertical-align: top;\n",
              "    }\n",
              "\n",
              "    .dataframe thead th {\n",
              "        text-align: right;\n",
              "    }\n",
              "</style>\n",
              "<table border=\"1\" class=\"dataframe\">\n",
              "  <thead>\n",
              "    <tr style=\"text-align: right;\">\n",
              "      <th></th>\n",
              "      <th>Table</th>\n",
              "      <th>Unit</th>\n",
              "      <th>Variety</th>\n",
              "      <th>Year</th>\n",
              "      <th>Attribute</th>\n",
              "      <th>Value</th>\n",
              "    </tr>\n",
              "  </thead>\n",
              "  <tbody>\n",
              "    <tr>\n",
              "      <th>2903</th>\n",
              "      <td>Genetically engineered (GE) soybean varieties</td>\n",
              "      <td>Percent of all soybeans planted</td>\n",
              "      <td>All GE varieties</td>\n",
              "      <td>2018</td>\n",
              "      <td>Ohio</td>\n",
              "      <td>91</td>\n",
              "    </tr>\n",
              "    <tr>\n",
              "      <th>2904</th>\n",
              "      <td>Genetically engineered (GE) soybean varieties</td>\n",
              "      <td>Percent of all soybeans planted</td>\n",
              "      <td>All GE varieties</td>\n",
              "      <td>2018</td>\n",
              "      <td>South Dakota</td>\n",
              "      <td>97</td>\n",
              "    </tr>\n",
              "    <tr>\n",
              "      <th>2905</th>\n",
              "      <td>Genetically engineered (GE) soybean varieties</td>\n",
              "      <td>Percent of all soybeans planted</td>\n",
              "      <td>All GE varieties</td>\n",
              "      <td>2018</td>\n",
              "      <td>Wisconsin</td>\n",
              "      <td>92</td>\n",
              "    </tr>\n",
              "    <tr>\n",
              "      <th>2906</th>\n",
              "      <td>Genetically engineered (GE) soybean varieties</td>\n",
              "      <td>Percent of all soybeans planted</td>\n",
              "      <td>All GE varieties</td>\n",
              "      <td>2018</td>\n",
              "      <td>Other States</td>\n",
              "      <td>94</td>\n",
              "    </tr>\n",
              "    <tr>\n",
              "      <th>2907</th>\n",
              "      <td>Genetically engineered (GE) soybean varieties</td>\n",
              "      <td>Percent of all soybeans planted</td>\n",
              "      <td>All GE varieties</td>\n",
              "      <td>2018</td>\n",
              "      <td>U.S.</td>\n",
              "      <td>94</td>\n",
              "    </tr>\n",
              "  </tbody>\n",
              "</table>\n",
              "</div>"
            ],
            "text/plain": [
              "                                              Table  ... Value\n",
              "2903  Genetically engineered (GE) soybean varieties  ...    91\n",
              "2904  Genetically engineered (GE) soybean varieties  ...    97\n",
              "2905  Genetically engineered (GE) soybean varieties  ...    92\n",
              "2906  Genetically engineered (GE) soybean varieties  ...    94\n",
              "2907  Genetically engineered (GE) soybean varieties  ...    94\n",
              "\n",
              "[5 rows x 6 columns]"
            ]
          },
          "metadata": {
            "tags": []
          },
          "execution_count": 8
        }
      ]
    },
    {
      "cell_type": "code",
      "metadata": {
        "id": "zvZQ3y-8Ru_u"
      },
      "source": [
        "gmillinois = gm_crops.loc[gm_crops['Attribute']== 'Illinois']\n",
        "gmindiana = gm_crops.loc[gm_crops['Attribute']== 'Indiana']\n",
        "gmiowa = gm_crops.loc[gm_crops['Attribute']== 'Iowa']\n",
        "gmkansas = gm_crops.loc[gm_crops['Attribute']=='Kansas']\n",
        "gmmichigan = gm_crops.loc[gm_crops['Attribute']== 'Michigan']\n",
        "gmminnesota = gm_crops.loc[gm_crops['Attribute']== 'Minnesota']\n",
        "gmissouri = gm_crops.loc[gm_crops['Attribute']== 'Missouri']\n",
        "gmnebraska = gm_crops.loc[gm_crops['Attribute']== 'Nebraska']\n",
        "gmnd = gm_crops.loc[gm_crops['Attribute']=='North Dakota']\n",
        "gmohio = gm_crops.loc[gm_crops['Attribute']=='Ohio']\n",
        "gmsd = gm_crops.loc[gm_crops['Attribute']== 'South Dakota']\n",
        "gmtexas = gm_crops.loc[gm_crops['Attribute']== 'Texas']\n",
        "gmwisconsin = gm_crops.loc[gm_crops['Attribute']== 'Wisconsin']"
      ],
      "execution_count": null,
      "outputs": []
    },
    {
      "cell_type": "code",
      "metadata": {
        "id": "jeHm1vHrZnHY"
      },
      "source": [
        "public1 = public.drop([0,2,3,5,7,8,9,10,12,13,14,15,18,19,22,23,24,25,26,28,30,32,33,34,35,36,37,38,39,40,41,42,43,44,46,47,49,50])"
      ],
      "execution_count": null,
      "outputs": []
    },
    {
      "cell_type": "code",
      "metadata": {
        "colab": {
          "base_uri": "https://localhost:8080/",
          "height": 473
        },
        "id": "YWVC1_acZ5y9",
        "outputId": "e5614a13-74c3-4782-8755-b075a93083bd"
      },
      "source": [
        "public1"
      ],
      "execution_count": null,
      "outputs": [
        {
          "output_type": "execute_result",
          "data": {
            "text/html": [
              "<div>\n",
              "<style scoped>\n",
              "    .dataframe tbody tr th:only-of-type {\n",
              "        vertical-align: middle;\n",
              "    }\n",
              "\n",
              "    .dataframe tbody tr th {\n",
              "        vertical-align: top;\n",
              "    }\n",
              "\n",
              "    .dataframe thead th {\n",
              "        text-align: right;\n",
              "    }\n",
              "</style>\n",
              "<table border=\"1\" class=\"dataframe\">\n",
              "  <thead>\n",
              "    <tr style=\"text-align: right;\">\n",
              "      <th></th>\n",
              "      <th>state</th>\n",
              "      <th>total posts</th>\n",
              "      <th>negative (%)</th>\n",
              "      <th>neutral</th>\n",
              "      <th>positive</th>\n",
              "      <th>health &amp; safety</th>\n",
              "      <th>enviro.</th>\n",
              "      <th>ag.</th>\n",
              "      <th>reg. &amp; labeling</th>\n",
              "    </tr>\n",
              "  </thead>\n",
              "  <tbody>\n",
              "    <tr>\n",
              "      <th>1</th>\n",
              "      <td>texas</td>\n",
              "      <td>220,415</td>\n",
              "      <td>51</td>\n",
              "      <td>27</td>\n",
              "      <td>21</td>\n",
              "      <td>12</td>\n",
              "      <td>11</td>\n",
              "      <td>14</td>\n",
              "      <td>24</td>\n",
              "    </tr>\n",
              "    <tr>\n",
              "      <th>4</th>\n",
              "      <td>illinois</td>\n",
              "      <td>53,508</td>\n",
              "      <td>40</td>\n",
              "      <td>31</td>\n",
              "      <td>28</td>\n",
              "      <td>12</td>\n",
              "      <td>12</td>\n",
              "      <td>15</td>\n",
              "      <td>25</td>\n",
              "    </tr>\n",
              "    <tr>\n",
              "      <th>6</th>\n",
              "      <td>ohio</td>\n",
              "      <td>39,963</td>\n",
              "      <td>46</td>\n",
              "      <td>29</td>\n",
              "      <td>25</td>\n",
              "      <td>15</td>\n",
              "      <td>13</td>\n",
              "      <td>12</td>\n",
              "      <td>19</td>\n",
              "    </tr>\n",
              "    <tr>\n",
              "      <th>11</th>\n",
              "      <td>michigan</td>\n",
              "      <td>32,005</td>\n",
              "      <td>38</td>\n",
              "      <td>30</td>\n",
              "      <td>30</td>\n",
              "      <td>12</td>\n",
              "      <td>13</td>\n",
              "      <td>15</td>\n",
              "      <td>21</td>\n",
              "    </tr>\n",
              "    <tr>\n",
              "      <th>16</th>\n",
              "      <td>missouri</td>\n",
              "      <td>26,594</td>\n",
              "      <td>41</td>\n",
              "      <td>27</td>\n",
              "      <td>29</td>\n",
              "      <td>14</td>\n",
              "      <td>14</td>\n",
              "      <td>15</td>\n",
              "      <td>18</td>\n",
              "    </tr>\n",
              "    <tr>\n",
              "      <th>17</th>\n",
              "      <td>minnesota</td>\n",
              "      <td>23,439</td>\n",
              "      <td>40</td>\n",
              "      <td>31</td>\n",
              "      <td>27</td>\n",
              "      <td>13</td>\n",
              "      <td>12</td>\n",
              "      <td>14</td>\n",
              "      <td>21</td>\n",
              "    </tr>\n",
              "    <tr>\n",
              "      <th>20</th>\n",
              "      <td>wisconsin</td>\n",
              "      <td>20,661</td>\n",
              "      <td>45</td>\n",
              "      <td>29</td>\n",
              "      <td>24</td>\n",
              "      <td>15</td>\n",
              "      <td>12</td>\n",
              "      <td>14</td>\n",
              "      <td>22</td>\n",
              "    </tr>\n",
              "    <tr>\n",
              "      <th>21</th>\n",
              "      <td>indiana</td>\n",
              "      <td>17,801</td>\n",
              "      <td>38</td>\n",
              "      <td>30</td>\n",
              "      <td>30</td>\n",
              "      <td>11</td>\n",
              "      <td>13</td>\n",
              "      <td>15</td>\n",
              "      <td>23</td>\n",
              "    </tr>\n",
              "    <tr>\n",
              "      <th>27</th>\n",
              "      <td>kansas</td>\n",
              "      <td>11,293</td>\n",
              "      <td>37</td>\n",
              "      <td>36</td>\n",
              "      <td>24</td>\n",
              "      <td>14</td>\n",
              "      <td>13</td>\n",
              "      <td>14</td>\n",
              "      <td>24</td>\n",
              "    </tr>\n",
              "    <tr>\n",
              "      <th>29</th>\n",
              "      <td>iowa</td>\n",
              "      <td>10,678</td>\n",
              "      <td>34</td>\n",
              "      <td>27</td>\n",
              "      <td>37</td>\n",
              "      <td>11</td>\n",
              "      <td>14</td>\n",
              "      <td>18</td>\n",
              "      <td>21</td>\n",
              "    </tr>\n",
              "    <tr>\n",
              "      <th>31</th>\n",
              "      <td>nebraska</td>\n",
              "      <td>10,309</td>\n",
              "      <td>48</td>\n",
              "      <td>24</td>\n",
              "      <td>25</td>\n",
              "      <td>17</td>\n",
              "      <td>11</td>\n",
              "      <td>12</td>\n",
              "      <td>17</td>\n",
              "    </tr>\n",
              "    <tr>\n",
              "      <th>45</th>\n",
              "      <td>south dakota</td>\n",
              "      <td>2,767</td>\n",
              "      <td>43</td>\n",
              "      <td>18</td>\n",
              "      <td>36</td>\n",
              "      <td>12</td>\n",
              "      <td>14</td>\n",
              "      <td>22</td>\n",
              "      <td>15</td>\n",
              "    </tr>\n",
              "    <tr>\n",
              "      <th>48</th>\n",
              "      <td>north dakota</td>\n",
              "      <td>1,738</td>\n",
              "      <td>28</td>\n",
              "      <td>37</td>\n",
              "      <td>31</td>\n",
              "      <td>9</td>\n",
              "      <td>18</td>\n",
              "      <td>19</td>\n",
              "      <td>20</td>\n",
              "    </tr>\n",
              "  </tbody>\n",
              "</table>\n",
              "</div>"
            ],
            "text/plain": [
              "           state total posts  negative (%)  ...  enviro.  ag.  reg. & labeling \n",
              "1          texas     220,415            51  ...       11   14                24\n",
              "4       illinois      53,508            40  ...       12   15                25\n",
              "6           ohio      39,963            46  ...       13   12                19\n",
              "11      michigan      32,005            38  ...       13   15                21\n",
              "16      missouri      26,594            41  ...       14   15                18\n",
              "17     minnesota      23,439            40  ...       12   14                21\n",
              "20     wisconsin      20,661            45  ...       12   14                22\n",
              "21       indiana      17,801            38  ...       13   15                23\n",
              "27        kansas      11,293            37  ...       13   14                24\n",
              "29          iowa      10,678            34  ...       14   18                21\n",
              "31      nebraska      10,309            48  ...       11   12                17\n",
              "45  south dakota       2,767            43  ...       14   22                15\n",
              "48  north dakota       1,738            28  ...       18   19                20\n",
              "\n",
              "[13 rows x 9 columns]"
            ]
          },
          "metadata": {
            "tags": []
          },
          "execution_count": 65
        }
      ]
    },
    {
      "cell_type": "code",
      "metadata": {
        "id": "XK01GMuKaqpV"
      },
      "source": [
        "publicn = public1.drop(columns=['neutral','positive','health & safety','enviro.','ag.','reg. & labeling '])\n",
        "publicp = public1.drop(columns=['neutral','negative (%)','health & safety','enviro.','ag.','reg. & labeling '])\n",
        "publicneu = public1.drop(columns=['positive','negative (%)','health & safety','enviro.','ag.','reg. & labeling '])"
      ],
      "execution_count": null,
      "outputs": []
    },
    {
      "cell_type": "code",
      "metadata": {
        "colab": {
          "base_uri": "https://localhost:8080/",
          "height": 198
        },
        "id": "_D6Qf9fQdPpz",
        "outputId": "a7795ab6-4e02-4877-8702-87d4ac231a4c"
      },
      "source": [
        "publicn.head()"
      ],
      "execution_count": null,
      "outputs": [
        {
          "output_type": "execute_result",
          "data": {
            "text/html": [
              "<div>\n",
              "<style scoped>\n",
              "    .dataframe tbody tr th:only-of-type {\n",
              "        vertical-align: middle;\n",
              "    }\n",
              "\n",
              "    .dataframe tbody tr th {\n",
              "        vertical-align: top;\n",
              "    }\n",
              "\n",
              "    .dataframe thead th {\n",
              "        text-align: right;\n",
              "    }\n",
              "</style>\n",
              "<table border=\"1\" class=\"dataframe\">\n",
              "  <thead>\n",
              "    <tr style=\"text-align: right;\">\n",
              "      <th></th>\n",
              "      <th>state</th>\n",
              "      <th>total posts</th>\n",
              "      <th>negative (%)</th>\n",
              "    </tr>\n",
              "  </thead>\n",
              "  <tbody>\n",
              "    <tr>\n",
              "      <th>1</th>\n",
              "      <td>texas</td>\n",
              "      <td>220,415</td>\n",
              "      <td>51</td>\n",
              "    </tr>\n",
              "    <tr>\n",
              "      <th>4</th>\n",
              "      <td>illinois</td>\n",
              "      <td>53,508</td>\n",
              "      <td>40</td>\n",
              "    </tr>\n",
              "    <tr>\n",
              "      <th>6</th>\n",
              "      <td>ohio</td>\n",
              "      <td>39,963</td>\n",
              "      <td>46</td>\n",
              "    </tr>\n",
              "    <tr>\n",
              "      <th>11</th>\n",
              "      <td>michigan</td>\n",
              "      <td>32,005</td>\n",
              "      <td>38</td>\n",
              "    </tr>\n",
              "    <tr>\n",
              "      <th>16</th>\n",
              "      <td>missouri</td>\n",
              "      <td>26,594</td>\n",
              "      <td>41</td>\n",
              "    </tr>\n",
              "  </tbody>\n",
              "</table>\n",
              "</div>"
            ],
            "text/plain": [
              "       state total posts  negative (%)\n",
              "1      texas     220,415            51\n",
              "4   illinois      53,508            40\n",
              "6       ohio      39,963            46\n",
              "11  michigan      32,005            38\n",
              "16  missouri      26,594            41"
            ]
          },
          "metadata": {
            "tags": []
          },
          "execution_count": 68
        }
      ]
    },
    {
      "cell_type": "code",
      "metadata": {
        "colab": {
          "base_uri": "https://localhost:8080/",
          "height": 985
        },
        "id": "k5wZlgzfhdaW",
        "outputId": "2e1a507b-46ad-4633-a91a-3db3623078c6"
      },
      "source": [
        "publicn.plot.bar('state','negative (%)')\n",
        "plt.xlabel('State')\n",
        "plt.ylabel('Percentage of negative tweets')\n",
        "\n",
        "publicp.plot.bar('state','positive')\n",
        "plt.xlabel('State')\n",
        "plt.ylabel('Percentage of positive tweets')\n",
        "\n",
        "publicneu.plot.bar('state','neutral')\n",
        "plt.xlabel('State')\n",
        "plt.ylabel('Percentage of neutral tweets')"
      ],
      "execution_count": 79,
      "outputs": [
        {
          "output_type": "execute_result",
          "data": {
            "text/plain": [
              "Text(0, 0.5, 'Percentage of neutral tweets')"
            ]
          },
          "metadata": {
            "tags": []
          },
          "execution_count": 79
        },
        {
          "output_type": "display_data",
          "data": {
            "image/png": "[encoded data removed]",
            "text/plain": [
              "<Figure size 432x288 with 1 Axes>"
            ]
          },
          "metadata": {
            "tags": [],
            "needs_background": "light"
          }
        },
        {
          "output_type": "display_data",
          "data": {
            "image/png": "[encoded data removed]",
            "text/plain": [
              "<Figure size 432x288 with 1 Axes>"
            ]
          },
          "metadata": {
            "tags": [],
            "needs_background": "light"
          }
        },
        {
          "output_type": "display_data",
          "data": {
            "image/png": "[encoded data removed]",
            "text/plain": [
              "<Figure size 432x288 with 1 Axes>"
            ]
          },
          "metadata": {
            "tags": [],
            "needs_background": "light"
          }
        }
      ]
    }
  ]
}