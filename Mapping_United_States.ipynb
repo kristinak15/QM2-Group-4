{
  "nbformat": 4,
  "nbformat_minor": 0,
  "metadata": {
    "colab": {
      "name": "Mapping United States.ipynb",
      "provenance": [],
      "authorship_tag": "ABX9TyMbk0nnNkRg8uz903rWF/Q7",
      "include_colab_link": true
    },
    "kernelspec": {
      "name": "python3",
      "display_name": "Python 3"
    }
  },
  "cells": [
    {
      "cell_type": "markdown",
      "metadata": {
        "id": "view-in-github",
        "colab_type": "text"
      },
      "source": [
        "<a href=\"https://colab.research.google.com/github/kristinak15/QM2-Group-4/blob/main/Mapping_United_States.ipynb\" target=\"_parent\"><img src=\"https://colab.research.google.com/assets/colab-badge.svg\" alt=\"Open In Colab\"/></a>"
      ]
    },
    {
      "cell_type": "code",
      "metadata": {
        "colab": {
          "base_uri": "https://localhost:8080/"
        },
        "id": "vewpJgp6XaSt",
        "outputId": "5b4c26f0-8b65-455d-9962-7d2a55ab7519"
      },
      "source": [
        "!pip install geopandas\n",
        "\n",
        "!pip install pysal "
      ],
      "execution_count": 6,
      "outputs": [
        {
          "output_type": "stream",
          "text": [
            "Requirement already satisfied: geopandas in /usr/local/lib/python3.6/dist-packages (0.8.1)\n",
            "Requirement already satisfied: fiona in /usr/local/lib/python3.6/dist-packages (from geopandas) (1.8.18)\n",
            "Requirement already satisfied: shapely in /usr/local/lib/python3.6/dist-packages (from geopandas) (1.7.1)\n",
            "Requirement already satisfied: pyproj>=2.2.0 in /usr/local/lib/python3.6/dist-packages (from geopandas) (3.0.0.post1)\n",
            "Requirement already satisfied: pandas>=0.23.0 in /usr/local/lib/python3.6/dist-packages (from geopandas) (1.1.5)\n",
            "Requirement already satisfied: munch in /usr/local/lib/python3.6/dist-packages (from fiona->geopandas) (2.5.0)\n",
            "Requirement already satisfied: click<8,>=4.0 in /usr/local/lib/python3.6/dist-packages (from fiona->geopandas) (7.1.2)\n",
            "Requirement already satisfied: click-plugins>=1.0 in /usr/local/lib/python3.6/dist-packages (from fiona->geopandas) (1.1.1)\n",
            "Requirement already satisfied: cligj>=0.5 in /usr/local/lib/python3.6/dist-packages (from fiona->geopandas) (0.7.1)\n",
            "Requirement already satisfied: six>=1.7 in /usr/local/lib/python3.6/dist-packages (from fiona->geopandas) (1.15.0)\n",
            "Requirement already satisfied: attrs>=17 in /usr/local/lib/python3.6/dist-packages (from fiona->geopandas) (20.3.0)\n",
            "Requirement already satisfied: certifi in /usr/local/lib/python3.6/dist-packages (from fiona->geopandas) (2020.12.5)\n",
            "Requirement already satisfied: numpy>=1.15.4 in /usr/local/lib/python3.6/dist-packages (from pandas>=0.23.0->geopandas) (1.18.5)\n",
            "Requirement already satisfied: pytz>=2017.2 in /usr/local/lib/python3.6/dist-packages (from pandas>=0.23.0->geopandas) (2018.9)\n",
            "Requirement already satisfied: python-dateutil>=2.7.3 in /usr/local/lib/python3.6/dist-packages (from pandas>=0.23.0->geopandas) (2.8.1)\n",
            "Collecting pysal\n",
            "  Using cached https://files.pythonhosted.org/packages/ae/81/15c6ee658197330923cbd892b82323c4b8ac276503f9d38620343acb3822/pysal-2.3.0.tar.gz\n",
            "Collecting libpysal>=4.3.0\n",
            "  Using cached https://files.pythonhosted.org/packages/98/b8/90e8d8a1cf8e5d38c89debf40d5bc89496395b5e2014a1de22228ead4b55/libpysal-4.3.0.tar.gz\n",
            "Collecting access>=1.1.1\n",
            "  Using cached https://files.pythonhosted.org/packages/b3/5d/7331b59591001d8a290d8a46a401f1192f7dda5a3ee074bf71ab4869b94a/access-1.1.2-py3-none-any.whl\n",
            "Collecting esda>=2.3.1\n",
            "  Using cached https://files.pythonhosted.org/packages/c1/ee/80d6c041e4b5b81a41058efcb4b92b03bc13d6005dd5263f8a7896ee8804/esda-2.3.1.tar.gz\n",
            "Collecting giddy>=2.3.3\n",
            "  Using cached https://files.pythonhosted.org/packages/5c/71/f7fc2b41e36b2a06bac30937435d2dedd125f74f3157213ec121ff52d961/giddy-2.3.3-py3-none-any.whl\n",
            "Collecting inequality>=1.0.0\n",
            "  Using cached https://files.pythonhosted.org/packages/74/0f/9ed2d097f29160d0c873f33ffc0b9806c1083e3611acb2143eb66adcf580/inequality-1.0.0.tar.gz\n",
            "Collecting pointpats>=2.2.0\n",
            "  Using cached https://files.pythonhosted.org/packages/5f/2b/a3e99c42b37c3e848eb8e55f2ee2b2d281ae0d49df261f13eaaeba7171a5/pointpats-2.2.0.tar.gz\n",
            "Collecting segregation>=1.3.0\n",
            "  Using cached https://files.pythonhosted.org/packages/68/7f/ec23f5cfdcfe6d92f29ce1a4f2e59e06f43ebfbbd02b98b90dab90d73922/segregation-1.4.0-py3-none-any.whl\n",
            "Collecting spaghetti>=1.5.0\n",
            "  Using cached https://files.pythonhosted.org/packages/94/97/b85cc632d31ce8fdbca370aac9c9d1da99b271dfb5e937ed2c8559428984/spaghetti-1.5.3-py3-none-any.whl\n",
            "Collecting mgwr>=2.1.1\n",
            "  Using cached https://files.pythonhosted.org/packages/8e/14/e18342b62655ec7f37624ff936d6f273f82b51913cd558110fd4d670794e/mgwr-2.1.2.tar.gz\n",
            "Collecting spglm>=1.0.7\n",
            "  Using cached https://files.pythonhosted.org/packages/07/8f/03f07807967595d2632dbe0f7c442511a5ff422103b49c76557f9eed40c5/spglm-1.0.8.tar.gz\n",
            "Collecting spint>=1.0.6\n",
            "  Using cached https://files.pythonhosted.org/packages/7e/c5/e4862ab3f745a1886135b07e498e77504c14e468d0a6b89f7270f5def979/spint-1.0.7.tar.gz\n",
            "Collecting spreg>=1.1.1\n",
            "  Using cached https://files.pythonhosted.org/packages/d6/37/6789fbf602e1ad27ebf5e1a6ec05b7553c5630e3bd0a34a521832da169a8/spreg-1.1.2.post1-py3-none-any.whl\n",
            "Collecting spvcm==0.3.0\n",
            "  Using cached https://files.pythonhosted.org/packages/b4/c9/43fb98bc60728b76fceee175119a1ff7e5033ed9012d07570e34a2a19a8f/spvcm-0.3.0.tar.gz\n",
            "Collecting tobler>=0.3.1\n",
            "  Using cached https://files.pythonhosted.org/packages/05/2a/d40c1c9dc8c83f5f87889a8ca4cb252124b11fb26ebf437ee2561e898f25/tobler-0.4.0-py3-none-any.whl\n",
            "Collecting mapclassify>=2.3.0\n",
            "  Using cached https://files.pythonhosted.org/packages/11/80/cd58dc848a93bfb01c4b84f26e3d5d6c64266163ca1e2453c3f6fb291ef7/mapclassify-2.3.0-py3-none-any.whl\n",
            "Collecting splot>=1.1.3\n",
            "  Using cached https://files.pythonhosted.org/packages/83/1c/afb3e3eeeda4eef065f0b3249ca74cbcc44af3bc59ddb5a21b5445753955/splot-1.1.3.tar.gz\n",
            "Requirement already satisfied: urllib3<1.25 in /usr/local/lib/python3.6/dist-packages (from pysal) (1.24.3)\n",
            "Collecting python-dateutil<=2.8.0\n",
            "  Using cached https://files.pythonhosted.org/packages/41/17/c62faccbfbd163c7f57f3844689e3a78bae1f403648a6afb1d0866d87fbb/python_dateutil-2.8.0-py2.py3-none-any.whl\n",
            "Requirement already satisfied: pytest in /usr/local/lib/python3.6/dist-packages (from pysal) (3.6.4)\n",
            "Collecting pytest-cov\n",
            "  Using cached https://files.pythonhosted.org/packages/e5/18/401594af67eda194a8b9167208621761927c937db7d60292608342bbac0a/pytest_cov-2.10.1-py2.py3-none-any.whl\n",
            "Requirement already satisfied: coverage in /usr/local/lib/python3.6/dist-packages (from pysal) (3.7.1)\n",
            "Requirement already satisfied: scipy>=0.11 in /usr/local/lib/python3.6/dist-packages (from libpysal>=4.3.0->pysal) (1.4.1)\n",
            "Requirement already satisfied: numpy>=1.3 in /usr/local/lib/python3.6/dist-packages (from libpysal>=4.3.0->pysal) (1.18.5)\n",
            "Requirement already satisfied: pandas in /usr/local/lib/python3.6/dist-packages (from libpysal>=4.3.0->pysal) (1.1.5)\n",
            "Requirement already satisfied: beautifulsoup4 in /usr/local/lib/python3.6/dist-packages (from libpysal>=4.3.0->pysal) (4.6.3)\n",
            "Requirement already satisfied: requests in /usr/local/lib/python3.6/dist-packages (from libpysal>=4.3.0->pysal) (2.23.0)\n",
            "Requirement already satisfied: jinja2 in /usr/local/lib/python3.6/dist-packages (from libpysal>=4.3.0->pysal) (2.11.2)\n",
            "Requirement already satisfied: scikit-learn in /usr/local/lib/python3.6/dist-packages (from esda>=2.3.1->pysal) (0.22.2.post1)\n",
            "Collecting quantecon>=0.4.7\n",
            "  Using cached https://files.pythonhosted.org/packages/5d/e3/4fd5f948de917036b5696347b28fa25da7bd7df995e4f9f42db1c3070eb8/quantecon-0.4.8-py3-none-any.whl\n",
            "Requirement already satisfied: matplotlib in /usr/local/lib/python3.6/dist-packages (from pointpats>=2.2.0->pysal) (3.2.2)\n",
            "Collecting opencv-contrib-python>=4.2.0\n",
            "  Using cached https://files.pythonhosted.org/packages/b4/ec/a66505cb25704066235369c8a1c1ed8d37b21f260f7b66d2cfa3264f0724/opencv_contrib_python-4.4.0.46-cp36-cp36m-manylinux2014_x86_64.whl\n",
            "Requirement already satisfied: tqdm in /usr/local/lib/python3.6/dist-packages (from segregation>=1.3.0->pysal) (4.41.1)\n",
            "Requirement already satisfied: geopandas in /usr/local/lib/python3.6/dist-packages (from segregation>=1.3.0->pysal) (0.8.1)\n",
            "Requirement already satisfied: seaborn in /usr/local/lib/python3.6/dist-packages (from segregation>=1.3.0->pysal) (0.11.0)\n",
            "Collecting rtree\n",
            "  Using cached https://files.pythonhosted.org/packages/56/6f/f1e91001d5ad9fa9bed65875152f5a1c7955c5763168cae309546e6e9fda/Rtree-0.9.4.tar.gz\n",
            "\u001b[31mERROR: Command errored out with exit status 1: python setup.py egg_info Check the logs for full command output.\u001b[0m\n"
          ],
          "name": "stdout"
        }
      ]
    },
    {
      "cell_type": "code",
      "metadata": {
        "colab": {
          "base_uri": "https://localhost:8080/"
        },
        "id": "riJQmiyFXpZj",
        "outputId": "ffa40854-e351-46e3-a6fc-967e77d1200e"
      },
      "source": [
        "!pip install descartes"
      ],
      "execution_count": 7,
      "outputs": [
        {
          "output_type": "stream",
          "text": [
            "Requirement already satisfied: descartes in /usr/local/lib/python3.6/dist-packages (1.1.0)\n",
            "Requirement already satisfied: matplotlib in /usr/local/lib/python3.6/dist-packages (from descartes) (3.2.2)\n",
            "Requirement already satisfied: python-dateutil>=2.1 in /usr/local/lib/python3.6/dist-packages (from matplotlib->descartes) (2.8.1)\n",
            "Requirement already satisfied: pyparsing!=2.0.4,!=2.1.2,!=2.1.6,>=2.0.1 in /usr/local/lib/python3.6/dist-packages (from matplotlib->descartes) (2.4.7)\n",
            "Requirement already satisfied: kiwisolver>=1.0.1 in /usr/local/lib/python3.6/dist-packages (from matplotlib->descartes) (1.3.1)\n",
            "Requirement already satisfied: numpy>=1.11 in /usr/local/lib/python3.6/dist-packages (from matplotlib->descartes) (1.18.5)\n",
            "Requirement already satisfied: cycler>=0.10 in /usr/local/lib/python3.6/dist-packages (from matplotlib->descartes) (0.10.0)\n",
            "Requirement already satisfied: six>=1.5 in /usr/local/lib/python3.6/dist-packages (from python-dateutil>=2.1->matplotlib->descartes) (1.15.0)\n"
          ],
          "name": "stdout"
        }
      ]
    },
    {
      "cell_type": "code",
      "metadata": {
        "id": "UTAcohCBXqDq"
      },
      "source": [
        "import geopandas as gp\n",
        "import pandas as pd\n",
        "import matplotlib.pyplot as plt\n",
        "import matplotlib\n",
        "import pylab\n",
        "import descartes\n",
        "\n",
        "%matplotlib inline\n",
        "\n",
        "plt.style.use('ggplot')\n",
        "pylab.rcParams['figure.figsize'] = (20., 16.)"
      ],
      "execution_count": 8,
      "outputs": []
    },
    {
      "cell_type": "code",
      "metadata": {
        "colab": {
          "base_uri": "https://localhost:8080/"
        },
        "id": "myCQECunapWb",
        "outputId": "ca35f8a8-6146-49f7-b7dc-6058e3c2236e"
      },
      "source": [
        "!mkdir data"
      ],
      "execution_count": 9,
      "outputs": [
        {
          "output_type": "stream",
          "text": [
            "mkdir: cannot create directory ‘data’: File exists\n"
          ],
          "name": "stdout"
        }
      ]
    },
    {
      "cell_type": "code",
      "metadata": {
        "colab": {
          "base_uri": "https://localhost:8080/",
          "height": 547
        },
        "id": "byV82MV8Xqj7",
        "outputId": "5b6d9589-5c90-40cb-f240-d32b07f042ce"
      },
      "source": [
        "us_states = gp.read_file('/content/data/tl_2019_us_state.shp')\n",
        "\n",
        "us_states.head()"
      ],
      "execution_count": 10,
      "outputs": [
        {
          "output_type": "execute_result",
          "data": {
            "text/html": [
              "<div>\n",
              "<style scoped>\n",
              "    .dataframe tbody tr th:only-of-type {\n",
              "        vertical-align: middle;\n",
              "    }\n",
              "\n",
              "    .dataframe tbody tr th {\n",
              "        vertical-align: top;\n",
              "    }\n",
              "\n",
              "    .dataframe thead th {\n",
              "        text-align: right;\n",
              "    }\n",
              "</style>\n",
              "<table border=\"1\" class=\"dataframe\">\n",
              "  <thead>\n",
              "    <tr style=\"text-align: right;\">\n",
              "      <th></th>\n",
              "      <th>REGION</th>\n",
              "      <th>DIVISION</th>\n",
              "      <th>STATEFP</th>\n",
              "      <th>STATENS</th>\n",
              "      <th>GEOID</th>\n",
              "      <th>STUSPS</th>\n",
              "      <th>NAME</th>\n",
              "      <th>LSAD</th>\n",
              "      <th>MTFCC</th>\n",
              "      <th>FUNCSTAT</th>\n",
              "      <th>ALAND</th>\n",
              "      <th>AWATER</th>\n",
              "      <th>INTPTLAT</th>\n",
              "      <th>INTPTLON</th>\n",
              "      <th>geometry</th>\n",
              "    </tr>\n",
              "  </thead>\n",
              "  <tbody>\n",
              "    <tr>\n",
              "      <th>0</th>\n",
              "      <td>3</td>\n",
              "      <td>5</td>\n",
              "      <td>54</td>\n",
              "      <td>01779805</td>\n",
              "      <td>54</td>\n",
              "      <td>WV</td>\n",
              "      <td>West Virginia</td>\n",
              "      <td>00</td>\n",
              "      <td>G4000</td>\n",
              "      <td>A</td>\n",
              "      <td>62266231560</td>\n",
              "      <td>489271086</td>\n",
              "      <td>+38.6472854</td>\n",
              "      <td>-080.6183274</td>\n",
              "      <td>POLYGON ((-81.74725 39.09538, -81.74635 39.096...</td>\n",
              "    </tr>\n",
              "    <tr>\n",
              "      <th>1</th>\n",
              "      <td>3</td>\n",
              "      <td>5</td>\n",
              "      <td>12</td>\n",
              "      <td>00294478</td>\n",
              "      <td>12</td>\n",
              "      <td>FL</td>\n",
              "      <td>Florida</td>\n",
              "      <td>00</td>\n",
              "      <td>G4000</td>\n",
              "      <td>A</td>\n",
              "      <td>138947364717</td>\n",
              "      <td>31362872853</td>\n",
              "      <td>+28.4574302</td>\n",
              "      <td>-082.4091477</td>\n",
              "      <td>MULTIPOLYGON (((-86.38865 30.99418, -86.38385 ...</td>\n",
              "    </tr>\n",
              "    <tr>\n",
              "      <th>2</th>\n",
              "      <td>2</td>\n",
              "      <td>3</td>\n",
              "      <td>17</td>\n",
              "      <td>01779784</td>\n",
              "      <td>17</td>\n",
              "      <td>IL</td>\n",
              "      <td>Illinois</td>\n",
              "      <td>00</td>\n",
              "      <td>G4000</td>\n",
              "      <td>A</td>\n",
              "      <td>143779863817</td>\n",
              "      <td>6215723896</td>\n",
              "      <td>+40.1028754</td>\n",
              "      <td>-089.1526108</td>\n",
              "      <td>POLYGON ((-91.18529 40.63780, -91.17510 40.643...</td>\n",
              "    </tr>\n",
              "    <tr>\n",
              "      <th>3</th>\n",
              "      <td>2</td>\n",
              "      <td>4</td>\n",
              "      <td>27</td>\n",
              "      <td>00662849</td>\n",
              "      <td>27</td>\n",
              "      <td>MN</td>\n",
              "      <td>Minnesota</td>\n",
              "      <td>00</td>\n",
              "      <td>G4000</td>\n",
              "      <td>A</td>\n",
              "      <td>206230065476</td>\n",
              "      <td>18942261495</td>\n",
              "      <td>+46.3159573</td>\n",
              "      <td>-094.1996043</td>\n",
              "      <td>POLYGON ((-96.78438 46.63050, -96.78434 46.630...</td>\n",
              "    </tr>\n",
              "    <tr>\n",
              "      <th>4</th>\n",
              "      <td>3</td>\n",
              "      <td>5</td>\n",
              "      <td>24</td>\n",
              "      <td>01714934</td>\n",
              "      <td>24</td>\n",
              "      <td>MD</td>\n",
              "      <td>Maryland</td>\n",
              "      <td>00</td>\n",
              "      <td>G4000</td>\n",
              "      <td>A</td>\n",
              "      <td>25151726296</td>\n",
              "      <td>6979340970</td>\n",
              "      <td>+38.9466584</td>\n",
              "      <td>-076.6744939</td>\n",
              "      <td>POLYGON ((-77.45881 39.22027, -77.45866 39.220...</td>\n",
              "    </tr>\n",
              "  </tbody>\n",
              "</table>\n",
              "</div>"
            ],
            "text/plain": [
              "  REGION  ...                                           geometry\n",
              "0      3  ...  POLYGON ((-81.74725 39.09538, -81.74635 39.096...\n",
              "1      3  ...  MULTIPOLYGON (((-86.38865 30.99418, -86.38385 ...\n",
              "2      2  ...  POLYGON ((-91.18529 40.63780, -91.17510 40.643...\n",
              "3      2  ...  POLYGON ((-96.78438 46.63050, -96.78434 46.630...\n",
              "4      3  ...  POLYGON ((-77.45881 39.22027, -77.45866 39.220...\n",
              "\n",
              "[5 rows x 15 columns]"
            ]
          },
          "metadata": {
            "tags": []
          },
          "execution_count": 10
        }
      ]
    },
    {
      "cell_type": "code",
      "metadata": {
        "colab": {
          "base_uri": "https://localhost:8080/"
        },
        "id": "k9FNe4vlYsOG",
        "outputId": "eb9e630c-6435-4661-b586-3d8d601a6924"
      },
      "source": [
        "us_states.crs"
      ],
      "execution_count": 11,
      "outputs": [
        {
          "output_type": "execute_result",
          "data": {
            "text/plain": [
              "<Geographic 2D CRS: EPSG:4269>\n",
              "Name: NAD83\n",
              "Axis Info [ellipsoidal]:\n",
              "- Lat[north]: Geodetic latitude (degree)\n",
              "- Lon[east]: Geodetic longitude (degree)\n",
              "Area of Use:\n",
              "- name: North America - onshore and offshore: Canada - Alberta; British Columbia; Manitoba; New Brunswick; Newfoundland and Labrador; Northwest Territories; Nova Scotia; Nunavut; Ontario; Prince Edward Island; Quebec; Saskatchewan; Yukon. Puerto Rico. United States (USA) - Alabama; Alaska; Arizona; Arkansas; California; Colorado; Connecticut; Delaware; Florida; Georgia; Hawaii; Idaho; Illinois; Indiana; Iowa; Kansas; Kentucky; Louisiana; Maine; Maryland; Massachusetts; Michigan; Minnesota; Mississippi; Missouri; Montana; Nebraska; Nevada; New Hampshire; New Jersey; New Mexico; New York; North Carolina; North Dakota; Ohio; Oklahoma; Oregon; Pennsylvania; Rhode Island; South Carolina; South Dakota; Tennessee; Texas; Utah; Vermont; Virginia; Washington; West Virginia; Wisconsin; Wyoming. US Virgin Islands.  British Virgin Islands.\n",
              "- bounds: (167.65, 14.92, -47.74, 86.46)\n",
              "Datum: North American Datum 1983\n",
              "- Ellipsoid: GRS 1980\n",
              "- Prime Meridian: Greenwich"
            ]
          },
          "metadata": {
            "tags": []
          },
          "execution_count": 11
        }
      ]
    },
    {
      "cell_type": "code",
      "metadata": {
        "colab": {
          "base_uri": "https://localhost:8080/"
        },
        "id": "8JeXYhY2bIG-",
        "outputId": "4870d344-e0c9-4106-facd-5e88b7a3c05b"
      },
      "source": [
        "us_states['geometry'].head()"
      ],
      "execution_count": 12,
      "outputs": [
        {
          "output_type": "execute_result",
          "data": {
            "text/plain": [
              "0    POLYGON ((-81.74725 39.09538, -81.74635 39.096...\n",
              "1    MULTIPOLYGON (((-86.38865 30.99418, -86.38385 ...\n",
              "2    POLYGON ((-91.18529 40.63780, -91.17510 40.643...\n",
              "3    POLYGON ((-96.78438 46.63050, -96.78434 46.630...\n",
              "4    POLYGON ((-77.45881 39.22027, -77.45866 39.220...\n",
              "Name: geometry, dtype: geometry"
            ]
          },
          "metadata": {
            "tags": []
          },
          "execution_count": 12
        }
      ]
    },
    {
      "cell_type": "markdown",
      "metadata": {
        "id": "hJSfJz8Abuw3"
      },
      "source": [
        ". original_crs is the latlon co-ordinates; target_crs is a mercator ('merc') projection; and the third line, to_crs projects the geometry so we can plot it"
      ]
    },
    {
      "cell_type": "code",
      "metadata": {
        "colab": {
          "base_uri": "https://localhost:8080/"
        },
        "id": "NsqhzIZQbvd-",
        "outputId": "2f32b2d3-40bf-4aa1-eb65-ebfa8b12857b"
      },
      "source": [
        "us_states.crs = {'init':'EPSG:4269'}\n",
        "target_crs = {'datum':'NAD83', 'no_defs':True, 'proj':'merc'}\n"
      ],
      "execution_count": 13,
      "outputs": [
        {
          "output_type": "stream",
          "text": [
            "/usr/local/lib/python3.6/dist-packages/pyproj/crs/crs.py:53: FutureWarning: '+init=<authority>:<code>' syntax is deprecated. '<authority>:<code>' is the preferred initialization method. When making the change, be mindful of axis order changes: https://pyproj4.github.io/pyproj/stable/gotchas.html#axis-order-changes-in-proj-6\n",
            "  return _prepare_from_string(\" \".join(pjargs))\n"
          ],
          "name": "stderr"
        }
      ]
    },
    {
      "cell_type": "markdown",
      "metadata": {
        "id": "HCr_1aAuIF7d"
      },
      "source": [
        "projected_londonWards = londonWards.to_crs(crs=target_crs) --> does not work"
      ]
    },
    {
      "cell_type": "code",
      "metadata": {
        "id": "u_VYvGhbUY70"
      },
      "source": [
        "projected_us_states = us_states.to_crs(crs=target_crs)"
      ],
      "execution_count": 14,
      "outputs": []
    },
    {
      "cell_type": "code",
      "metadata": {
        "colab": {
          "base_uri": "https://localhost:8080/"
        },
        "id": "mYIKN-AZg_DF",
        "outputId": "1fddc66b-6ec6-4b6e-a763-90a8d1999ba6"
      },
      "source": [
        "us_states['NAME'].unique()"
      ],
      "execution_count": 15,
      "outputs": [
        {
          "output_type": "execute_result",
          "data": {
            "text/plain": [
              "array(['West Virginia', 'Florida', 'Illinois', 'Minnesota', 'Maryland',\n",
              "       'Rhode Island', 'Idaho', 'New Hampshire', 'North Carolina',\n",
              "       'Vermont', 'Connecticut', 'Delaware', 'New Mexico', 'California',\n",
              "       'New Jersey', 'Wisconsin', 'Oregon', 'Nebraska', 'Pennsylvania',\n",
              "       'Washington', 'Louisiana', 'Georgia', 'Alabama', 'Utah', 'Ohio',\n",
              "       'Texas', 'Colorado', 'South Carolina', 'Oklahoma', 'Tennessee',\n",
              "       'Wyoming', 'Hawaii', 'North Dakota', 'Kentucky',\n",
              "       'United States Virgin Islands',\n",
              "       'Commonwealth of the Northern Mariana Islands', 'Guam', 'Maine',\n",
              "       'New York', 'Nevada', 'Alaska', 'American Samoa', 'Michigan',\n",
              "       'Arkansas', 'Mississippi', 'Missouri', 'Montana', 'Kansas',\n",
              "       'Indiana', 'Puerto Rico', 'South Dakota', 'Massachusetts',\n",
              "       'Virginia', 'District of Columbia', 'Iowa', 'Arizona'],\n",
              "      dtype=object)"
            ]
          },
          "metadata": {
            "tags": []
          },
          "execution_count": 15
        }
      ]
    },
    {
      "cell_type": "code",
      "metadata": {
        "id": "vi09BVPlJ7X4"
      },
      "source": [
        "us_states1= us_states[(us_states['NAME']!='Hawaii')&(us_states['NAME']!='Alaska')&(us_states['NAME']!='Commonwealth of the Northern Mariana Islands')&(us_states['NAME']!='United States Virgin Islands')&(us_states['NAME']!='Guam')&(us_states['NAME']!='American Samoa')&(us_states['NAME']!='Puerto Rico')]"
      ],
      "execution_count": 25,
      "outputs": []
    },
    {
      "cell_type": "code",
      "metadata": {
        "colab": {
          "base_uri": "https://localhost:8080/",
          "height": 409
        },
        "id": "hRyhJutWJWBC",
        "outputId": "b09751cb-6c17-42c0-d96a-4145c5cad815"
      },
      "source": [
        "us_states1.plot()"
      ],
      "execution_count": 26,
      "outputs": [
        {
          "output_type": "execute_result",
          "data": {
            "text/plain": [
              "<matplotlib.axes._subplots.AxesSubplot at 0x7fc702760470>"
            ]
          },
          "metadata": {
            "tags": []
          },
          "execution_count": 26
        },
        {
          "output_type": "display_data",
          "data": {
            "image/png": "[encoded data removed]",
            "text/plain": [
              "<Figure size 1440x1152 with 1 Axes>"
            ]
          },
          "metadata": {
            "tags": []
          }
        }
      ]
    },
    {
      "cell_type": "code",
      "metadata": {
        "id": "SHL_1n_BYZLN"
      },
      "source": [
        ""
      ],
      "execution_count": null,
      "outputs": []
    }
  ]
}