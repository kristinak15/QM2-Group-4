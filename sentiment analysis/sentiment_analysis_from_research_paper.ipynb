{
  "nbformat": 4,
  "nbformat_minor": 0,
  "metadata": {
    "colab": {
      "name": "sentiment analysis - from research paper.ipynb",
      "provenance": [],
      "collapsed_sections": [],
      "authorship_tag": "ABX9TyNyt4jWRvHJpEahub6A/iJn",
      "include_colab_link": true
    },
    "kernelspec": {
      "name": "python3",
      "display_name": "Python 3"
    }
  },
  "cells": [
    {
      "cell_type": "markdown",
      "metadata": {
        "id": "view-in-github",
        "colab_type": "text"
      },
      "source": [
        "<a href=\"https://colab.research.google.com/github/kristinak15/QM2-Group-4/blob/main/sentiment_analysis_from_research_paper.ipynb\" target=\"_parent\"><img src=\"https://colab.research.google.com/assets/colab-badge.svg\" alt=\"Open In Colab\"/></a>"
      ]
    },
    {
      "cell_type": "code",
      "metadata": {
        "id": "p7gWKDCleHE3"
      },
      "source": [
        "import pandas as pd\n",
        "\n",
        "import matplotlib\n",
        "%matplotlib inline\n",
        "\n",
        "import matplotlib.pyplot as plt\n",
        "import numpy as np\n"
      ],
      "execution_count": 1,
      "outputs": []
    },
    {
      "cell_type": "code",
      "metadata": {
        "id": "HVNc8KvueIt4"
      },
      "source": [
        "gm_crops = pd.read_csv('/content/gm_crops.csv')\n",
        "public = pd.read_csv('/content/state of GMOs on social media USA.csv')\n",
        " "
      ],
      "execution_count": 6,
      "outputs": []
    },
    {
      "cell_type": "code",
      "metadata": {
        "id": "RQiWGXBHk4MI"
      },
      "source": [
        "#cleaning the data so I select the time period from 2016-2018 including the variety \"All GE varieties\"\n",
        "gm_crops.drop(columns='Unnamed: 0',inplace=True)\n",
        "gm_crops = gm_crops.iloc[2860:,]"
      ],
      "execution_count": 7,
      "outputs": []
    },
    {
      "cell_type": "code",
      "metadata": {
        "colab": {
          "base_uri": "https://localhost:8080/",
          "height": 198
        },
        "id": "yuk1pBzqmwrk",
        "outputId": "8a402c99-d3d6-4322-f98e-097a48c1762e"
      },
      "source": [
        "gm_crops.head()"
      ],
      "execution_count": 8,
      "outputs": [
        {
          "output_type": "execute_result",
          "data": {
            "text/html": [
              "<div>\n",
              "<style scoped>\n",
              "    .dataframe tbody tr th:only-of-type {\n",
              "        vertical-align: middle;\n",
              "    }\n",
              "\n",
              "    .dataframe tbody tr th {\n",
              "        vertical-align: top;\n",
              "    }\n",
              "\n",
              "    .dataframe thead th {\n",
              "        text-align: right;\n",
              "    }\n",
              "</style>\n",
              "<table border=\"1\" class=\"dataframe\">\n",
              "  <thead>\n",
              "    <tr style=\"text-align: right;\">\n",
              "      <th></th>\n",
              "      <th>Table</th>\n",
              "      <th>Unit</th>\n",
              "      <th>Variety</th>\n",
              "      <th>Year</th>\n",
              "      <th>Attribute</th>\n",
              "      <th>Value</th>\n",
              "    </tr>\n",
              "  </thead>\n",
              "  <tbody>\n",
              "    <tr>\n",
              "      <th>2860</th>\n",
              "      <td>Genetically engineered (GE) soybean varieties</td>\n",
              "      <td>Percent of all soybeans planted</td>\n",
              "      <td>All GE varieties</td>\n",
              "      <td>2016</td>\n",
              "      <td>Arkansas</td>\n",
              "      <td>96</td>\n",
              "    </tr>\n",
              "    <tr>\n",
              "      <th>2861</th>\n",
              "      <td>Genetically engineered (GE) soybean varieties</td>\n",
              "      <td>Percent of all soybeans planted</td>\n",
              "      <td>All GE varieties</td>\n",
              "      <td>2016</td>\n",
              "      <td>Illinois</td>\n",
              "      <td>94</td>\n",
              "    </tr>\n",
              "    <tr>\n",
              "      <th>2862</th>\n",
              "      <td>Genetically engineered (GE) soybean varieties</td>\n",
              "      <td>Percent of all soybeans planted</td>\n",
              "      <td>All GE varieties</td>\n",
              "      <td>2016</td>\n",
              "      <td>Indiana</td>\n",
              "      <td>92</td>\n",
              "    </tr>\n",
              "    <tr>\n",
              "      <th>2863</th>\n",
              "      <td>Genetically engineered (GE) soybean varieties</td>\n",
              "      <td>Percent of all soybeans planted</td>\n",
              "      <td>All GE varieties</td>\n",
              "      <td>2016</td>\n",
              "      <td>Iowa</td>\n",
              "      <td>97</td>\n",
              "    </tr>\n",
              "    <tr>\n",
              "      <th>2864</th>\n",
              "      <td>Genetically engineered (GE) soybean varieties</td>\n",
              "      <td>Percent of all soybeans planted</td>\n",
              "      <td>All GE varieties</td>\n",
              "      <td>2016</td>\n",
              "      <td>Kansas</td>\n",
              "      <td>95</td>\n",
              "    </tr>\n",
              "  </tbody>\n",
              "</table>\n",
              "</div>"
            ],
            "text/plain": [
              "                                              Table  ... Value\n",
              "2860  Genetically engineered (GE) soybean varieties  ...    96\n",
              "2861  Genetically engineered (GE) soybean varieties  ...    94\n",
              "2862  Genetically engineered (GE) soybean varieties  ...    92\n",
              "2863  Genetically engineered (GE) soybean varieties  ...    97\n",
              "2864  Genetically engineered (GE) soybean varieties  ...    95\n",
              "\n",
              "[5 rows x 6 columns]"
            ]
          },
          "metadata": {
            "tags": []
          },
          "execution_count": 8
        }
      ]
    },
    {
      "cell_type": "code",
      "metadata": {
        "id": "nPjnK7nDm3QK"
      },
      "source": [
        "gm_crops= gm_crops.drop([2908,2909,2910,2911,2912,2913,2914,2915,2916,2917,2918,2919,2920,2921,2922,2923,2924,2925,2926,2927,2928,2929,2930,2931,2932,2933,2934,2935,2936,2937,2938,2939])"
      ],
      "execution_count": 9,
      "outputs": []
    },
    {
      "cell_type": "code",
      "metadata": {
        "colab": {
          "base_uri": "https://localhost:8080/",
          "height": 198
        },
        "id": "dgaZd84unlvg",
        "outputId": "4ea7fb23-b1be-476e-dd87-22d2bdeca33b"
      },
      "source": [
        "gm_crops.tail()"
      ],
      "execution_count": 10,
      "outputs": [
        {
          "output_type": "execute_result",
          "data": {
            "text/html": [
              "<div>\n",
              "<style scoped>\n",
              "    .dataframe tbody tr th:only-of-type {\n",
              "        vertical-align: middle;\n",
              "    }\n",
              "\n",
              "    .dataframe tbody tr th {\n",
              "        vertical-align: top;\n",
              "    }\n",
              "\n",
              "    .dataframe thead th {\n",
              "        text-align: right;\n",
              "    }\n",
              "</style>\n",
              "<table border=\"1\" class=\"dataframe\">\n",
              "  <thead>\n",
              "    <tr style=\"text-align: right;\">\n",
              "      <th></th>\n",
              "      <th>Table</th>\n",
              "      <th>Unit</th>\n",
              "      <th>Variety</th>\n",
              "      <th>Year</th>\n",
              "      <th>Attribute</th>\n",
              "      <th>Value</th>\n",
              "    </tr>\n",
              "  </thead>\n",
              "  <tbody>\n",
              "    <tr>\n",
              "      <th>2903</th>\n",
              "      <td>Genetically engineered (GE) soybean varieties</td>\n",
              "      <td>Percent of all soybeans planted</td>\n",
              "      <td>All GE varieties</td>\n",
              "      <td>2018</td>\n",
              "      <td>Ohio</td>\n",
              "      <td>91</td>\n",
              "    </tr>\n",
              "    <tr>\n",
              "      <th>2904</th>\n",
              "      <td>Genetically engineered (GE) soybean varieties</td>\n",
              "      <td>Percent of all soybeans planted</td>\n",
              "      <td>All GE varieties</td>\n",
              "      <td>2018</td>\n",
              "      <td>South Dakota</td>\n",
              "      <td>97</td>\n",
              "    </tr>\n",
              "    <tr>\n",
              "      <th>2905</th>\n",
              "      <td>Genetically engineered (GE) soybean varieties</td>\n",
              "      <td>Percent of all soybeans planted</td>\n",
              "      <td>All GE varieties</td>\n",
              "      <td>2018</td>\n",
              "      <td>Wisconsin</td>\n",
              "      <td>92</td>\n",
              "    </tr>\n",
              "    <tr>\n",
              "      <th>2906</th>\n",
              "      <td>Genetically engineered (GE) soybean varieties</td>\n",
              "      <td>Percent of all soybeans planted</td>\n",
              "      <td>All GE varieties</td>\n",
              "      <td>2018</td>\n",
              "      <td>Other States</td>\n",
              "      <td>94</td>\n",
              "    </tr>\n",
              "    <tr>\n",
              "      <th>2907</th>\n",
              "      <td>Genetically engineered (GE) soybean varieties</td>\n",
              "      <td>Percent of all soybeans planted</td>\n",
              "      <td>All GE varieties</td>\n",
              "      <td>2018</td>\n",
              "      <td>U.S.</td>\n",
              "      <td>94</td>\n",
              "    </tr>\n",
              "  </tbody>\n",
              "</table>\n",
              "</div>"
            ],
            "text/plain": [
              "                                              Table  ... Value\n",
              "2903  Genetically engineered (GE) soybean varieties  ...    91\n",
              "2904  Genetically engineered (GE) soybean varieties  ...    97\n",
              "2905  Genetically engineered (GE) soybean varieties  ...    92\n",
              "2906  Genetically engineered (GE) soybean varieties  ...    94\n",
              "2907  Genetically engineered (GE) soybean varieties  ...    94\n",
              "\n",
              "[5 rows x 6 columns]"
            ]
          },
          "metadata": {
            "tags": []
          },
          "execution_count": 10
        }
      ]
    },
    {
      "cell_type": "code",
      "metadata": {
        "id": "jeHm1vHrZnHY"
      },
      "source": [
        "#cleaning the data so I only keep \"neutral\",\"positive\",\"negative\" sentiments. Also keeping the 13 most GMO-producing states as described by the USDA\n",
        "public1 = public.drop(columns=['health & safety','enviro.','ag.','reg. & labeling '])\n",
        "public1 = public1.drop([0,2,3,5,7,8,9,10,12,13,14,15,18,19,22,23,24,25,26,28,30,32,33,34,35,36,37,38,39,40,41,42,43,44,46,47,49,50])\n",
        "#ordering the columns by the 'negative' value so the later graph looks cleaner and becomes easier to read  \n",
        "public1.sort_values(by=['negative (%)'],inplace=True)\n"
      ],
      "execution_count": 31,
      "outputs": []
    },
    {
      "cell_type": "code",
      "metadata": {
        "id": "P0Xc7NWWtFSv"
      },
      "source": [
        "#setting the states column to be the index and retyoing the states with upper case letters \n",
        "publics = public1.set_index('state')\n",
        "publics = publics.rename({\"north dakota\" :\"North Dakota\",'iowa':'Iowa','kansas':'Kansas','michigan':'Michigan', 'indiana':'Indiana','illinois':'Illinois','minnesota':'Minnesota','missouri':'Missouri','south dakota':'South Dakota','wisconsin':'Wisconsin','ohio':'Ohio','nebraska':'Nebraska','texas':'Texas'})"
      ],
      "execution_count": 46,
      "outputs": []
    },
    {
      "cell_type": "code",
      "metadata": {
        "colab": {
          "base_uri": "https://localhost:8080/",
          "height": 228
        },
        "id": "m7xsU0mztKkL",
        "outputId": "82017e36-3f12-4b24-9de4-1005c44e6a9d"
      },
      "source": [
        "#checking\n",
        "publics.head()"
      ],
      "execution_count": 47,
      "outputs": [
        {
          "output_type": "execute_result",
          "data": {
            "text/html": [
              "<div>\n",
              "<style scoped>\n",
              "    .dataframe tbody tr th:only-of-type {\n",
              "        vertical-align: middle;\n",
              "    }\n",
              "\n",
              "    .dataframe tbody tr th {\n",
              "        vertical-align: top;\n",
              "    }\n",
              "\n",
              "    .dataframe thead th {\n",
              "        text-align: right;\n",
              "    }\n",
              "</style>\n",
              "<table border=\"1\" class=\"dataframe\">\n",
              "  <thead>\n",
              "    <tr style=\"text-align: right;\">\n",
              "      <th></th>\n",
              "      <th>total posts</th>\n",
              "      <th>negative (%)</th>\n",
              "      <th>neutral</th>\n",
              "      <th>positive</th>\n",
              "    </tr>\n",
              "    <tr>\n",
              "      <th>state</th>\n",
              "      <th></th>\n",
              "      <th></th>\n",
              "      <th></th>\n",
              "      <th></th>\n",
              "    </tr>\n",
              "  </thead>\n",
              "  <tbody>\n",
              "    <tr>\n",
              "      <th>North Dakota</th>\n",
              "      <td>1,738</td>\n",
              "      <td>28</td>\n",
              "      <td>37</td>\n",
              "      <td>31</td>\n",
              "    </tr>\n",
              "    <tr>\n",
              "      <th>Iowa</th>\n",
              "      <td>10,678</td>\n",
              "      <td>34</td>\n",
              "      <td>27</td>\n",
              "      <td>37</td>\n",
              "    </tr>\n",
              "    <tr>\n",
              "      <th>Kansas</th>\n",
              "      <td>11,293</td>\n",
              "      <td>37</td>\n",
              "      <td>36</td>\n",
              "      <td>24</td>\n",
              "    </tr>\n",
              "    <tr>\n",
              "      <th>Michigan</th>\n",
              "      <td>32,005</td>\n",
              "      <td>38</td>\n",
              "      <td>30</td>\n",
              "      <td>30</td>\n",
              "    </tr>\n",
              "    <tr>\n",
              "      <th>Indiana</th>\n",
              "      <td>17,801</td>\n",
              "      <td>38</td>\n",
              "      <td>30</td>\n",
              "      <td>30</td>\n",
              "    </tr>\n",
              "  </tbody>\n",
              "</table>\n",
              "</div>"
            ],
            "text/plain": [
              "             total posts  negative (%)  neutral  positive\n",
              "state                                                    \n",
              "North Dakota       1,738            28       37        31\n",
              "Iowa              10,678            34       27        37\n",
              "Kansas            11,293            37       36        24\n",
              "Michigan          32,005            38       30        30\n",
              "Indiana           17,801            38       30        30"
            ]
          },
          "metadata": {
            "tags": []
          },
          "execution_count": 47
        }
      ]
    },
    {
      "cell_type": "code",
      "metadata": {
        "colab": {
          "base_uri": "https://localhost:8080/",
          "height": 391
        },
        "id": "k5wZlgzfhdaW",
        "outputId": "281336c4-deae-4753-d957-ac426c3847ea"
      },
      "source": [
        "#plotting the data, selecting common colours for the three sentiments for the more visual people and adpating the size of the figure \n",
        "\n",
        "plot = publics.plot.bar( stacked=True, color={\"negative (%)\": \"red\", \"positive\": \"green\",\"neutral\":\"gray\"}, figsize=(10,6))\n",
        "plt.xlabel('State')\n",
        "plt.ylabel('Sentiment of tweets (%)')\n",
        "plt.tight_layout()\n",
        "\n",
        "fig = plot.get_figure()\n",
        "\n",
        "fig.savefig('SentAnalysis1')"
      ],
      "execution_count": 64,
      "outputs": [
        {
          "output_type": "display_data",
          "data": {
            "image/png": "[encoded data removed]",
            "text/plain": [
              "<Figure size 720x432 with 1 Axes>"
            ]
          },
          "metadata": {
            "tags": [],
            "needs_background": "light"
          }
        }
      ]
    }
  ]
}
