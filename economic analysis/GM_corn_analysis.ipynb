{
  "nbformat": 4,
  "nbformat_minor": 0,
  "metadata": {
    "colab": {
      "name": "GM corn analysis.ipynb",
      "provenance": [],
      "collapsed_sections": [],
      "include_colab_link": true
    },
    "kernelspec": {
      "name": "python3",
      "display_name": "Python 3"
    }
  },
  "cells": [
    {
      "cell_type": "markdown",
      "metadata": {
        "id": "view-in-github",
        "colab_type": "text"
      },
      "source": [
        "<a href=\"https://colab.research.google.com/github/kristinak15/QM2-Group-4/blob/main/GM_corn_analysis.ipynb\" target=\"_parent\"><img src=\"https://colab.research.google.com/assets/colab-badge.svg\" alt=\"Open In Colab\"/></a>"
      ]
    },
    {
      "cell_type": "code",
      "metadata": {
        "id": "jye0zVSUWVWs"
      },
      "source": [
        "import pandas as pd\n",
        "\n",
        "import matplotlib\n",
        "%matplotlib inline\n",
        "\n",
        "import matplotlib.pyplot as plt\n",
        "import numpy as np"
      ],
      "execution_count": 1,
      "outputs": []
    },
    {
      "cell_type": "code",
      "metadata": {
        "id": "X5jJxnj6fQfY"
      },
      "source": [
        "gm_crops = pd.read_csv('/content/GM crops %.csv')"
      ],
      "execution_count": 2,
      "outputs": []
    },
    {
      "cell_type": "code",
      "metadata": {
        "id": "h48UBEB2faV8"
      },
      "source": [
        "corn = pd.read_csv('/content/final corn data csv.csv')"
      ],
      "execution_count": 3,
      "outputs": []
    },
    {
      "cell_type": "code",
      "metadata": {
        "id": "PLdeBFkZfy86"
      },
      "source": [
        "gdp_agri = pd.read_csv('/content/real gdp by state agriculture csv.csv')"
      ],
      "execution_count": 4,
      "outputs": []
    },
    {
      "cell_type": "code",
      "metadata": {
        "colab": {
          "base_uri": "https://localhost:8080/",
          "height": 289
        },
        "id": "4amv55kAf6zQ",
        "outputId": "dfc03708-f886-4c40-840c-222e472d7fae"
      },
      "source": [
        "gm_crops.head()"
      ],
      "execution_count": 5,
      "outputs": [
        {
          "output_type": "execute_result",
          "data": {
            "text/html": [
              "<div>\n",
              "<style scoped>\n",
              "    .dataframe tbody tr th:only-of-type {\n",
              "        vertical-align: middle;\n",
              "    }\n",
              "\n",
              "    .dataframe tbody tr th {\n",
              "        vertical-align: top;\n",
              "    }\n",
              "\n",
              "    .dataframe thead th {\n",
              "        text-align: right;\n",
              "    }\n",
              "</style>\n",
              "<table border=\"1\" class=\"dataframe\">\n",
              "  <thead>\n",
              "    <tr style=\"text-align: right;\">\n",
              "      <th></th>\n",
              "      <th>Table</th>\n",
              "      <th>Unit</th>\n",
              "      <th>Variety</th>\n",
              "      <th>Year</th>\n",
              "      <th>Attribute</th>\n",
              "      <th>Value</th>\n",
              "    </tr>\n",
              "  </thead>\n",
              "  <tbody>\n",
              "    <tr>\n",
              "      <th>0</th>\n",
              "      <td>Genetically engineered (GE) corn varieties</td>\n",
              "      <td>Percent of corn planted</td>\n",
              "      <td>Insect-resistant (Bt) only                    ...</td>\n",
              "      <td>2000</td>\n",
              "      <td>Illinois</td>\n",
              "      <td>13</td>\n",
              "    </tr>\n",
              "    <tr>\n",
              "      <th>1</th>\n",
              "      <td>Genetically engineered (GE) corn varieties</td>\n",
              "      <td>Percent of corn planted</td>\n",
              "      <td>Insect-resistant (Bt) only                    ...</td>\n",
              "      <td>2000</td>\n",
              "      <td>Indiana</td>\n",
              "      <td>7</td>\n",
              "    </tr>\n",
              "    <tr>\n",
              "      <th>2</th>\n",
              "      <td>Genetically engineered (GE) corn varieties</td>\n",
              "      <td>Percent of corn planted</td>\n",
              "      <td>Insect-resistant (Bt) only                    ...</td>\n",
              "      <td>2000</td>\n",
              "      <td>Iowa</td>\n",
              "      <td>23</td>\n",
              "    </tr>\n",
              "    <tr>\n",
              "      <th>3</th>\n",
              "      <td>Genetically engineered (GE) corn varieties</td>\n",
              "      <td>Percent of corn planted</td>\n",
              "      <td>Insect-resistant (Bt) only                    ...</td>\n",
              "      <td>2000</td>\n",
              "      <td>Kansas</td>\n",
              "      <td>25</td>\n",
              "    </tr>\n",
              "    <tr>\n",
              "      <th>4</th>\n",
              "      <td>Genetically engineered (GE) corn varieties</td>\n",
              "      <td>Percent of corn planted</td>\n",
              "      <td>Insect-resistant (Bt) only                    ...</td>\n",
              "      <td>2000</td>\n",
              "      <td>Michigan</td>\n",
              "      <td>8</td>\n",
              "    </tr>\n",
              "  </tbody>\n",
              "</table>\n",
              "</div>"
            ],
            "text/plain": [
              "                                        Table  ... Value\n",
              "0  Genetically engineered (GE) corn varieties  ...    13\n",
              "1  Genetically engineered (GE) corn varieties  ...     7\n",
              "2  Genetically engineered (GE) corn varieties  ...    23\n",
              "3  Genetically engineered (GE) corn varieties  ...    25\n",
              "4  Genetically engineered (GE) corn varieties  ...     8\n",
              "\n",
              "[5 rows x 6 columns]"
            ]
          },
          "metadata": {
            "tags": []
          },
          "execution_count": 5
        }
      ]
    },
    {
      "cell_type": "code",
      "metadata": {
        "id": "jv1HVkwqgZzs"
      },
      "source": [
        "#gm_crops=gm_crops.drop(columns='Table')"
      ],
      "execution_count": 6,
      "outputs": []
    },
    {
      "cell_type": "code",
      "metadata": {
        "id": "ltkc2shogG89"
      },
      "source": [
        "gm_crops[\"Value\"].replace({\".\": \"0\"}, inplace=True)\n",
        "gm_crops[\"Value\"].replace({\"*\": \"0\"}, inplace=True)"
      ],
      "execution_count": 7,
      "outputs": []
    },
    {
      "cell_type": "code",
      "metadata": {
        "colab": {
          "base_uri": "https://localhost:8080/"
        },
        "id": "EaUIZ0IGgRB1",
        "outputId": "d83fa5c6-0885-467a-92c6-ed19c53eb39a"
      },
      "source": [
        "gm_crops.dtypes"
      ],
      "execution_count": 8,
      "outputs": [
        {
          "output_type": "execute_result",
          "data": {
            "text/plain": [
              "Table        object\n",
              "Unit         object\n",
              "Variety      object\n",
              "Year          int64\n",
              "Attribute    object\n",
              "Value        object\n",
              "dtype: object"
            ]
          },
          "metadata": {
            "tags": []
          },
          "execution_count": 8
        }
      ]
    },
    {
      "cell_type": "code",
      "metadata": {
        "id": "Kbcw6Em-gmcS"
      },
      "source": [
        "gm_crops[\"Value\"] = gm_crops[\"Value\"].astype(float).astype(int)"
      ],
      "execution_count": 9,
      "outputs": []
    },
    {
      "cell_type": "code",
      "metadata": {
        "colab": {
          "base_uri": "https://localhost:8080/"
        },
        "id": "lmyxeapjgtmw",
        "outputId": "f5d6774b-2a8c-4f75-e346-8eaba6b962ae"
      },
      "source": [
        "gm_crops.dtypes"
      ],
      "execution_count": 10,
      "outputs": [
        {
          "output_type": "execute_result",
          "data": {
            "text/plain": [
              "Table        object\n",
              "Unit         object\n",
              "Variety      object\n",
              "Year          int64\n",
              "Attribute    object\n",
              "Value         int64\n",
              "dtype: object"
            ]
          },
          "metadata": {
            "tags": []
          },
          "execution_count": 10
        }
      ]
    },
    {
      "cell_type": "code",
      "metadata": {
        "colab": {
          "base_uri": "https://localhost:8080/",
          "height": 221
        },
        "id": "5ekP3lxbgzLu",
        "outputId": "8869a4d2-2f24-497c-d7ad-d0167fcaf6c8"
      },
      "source": [
        "corn.head()"
      ],
      "execution_count": 11,
      "outputs": [
        {
          "output_type": "execute_result",
          "data": {
            "text/html": [
              "<div>\n",
              "<style scoped>\n",
              "    .dataframe tbody tr th:only-of-type {\n",
              "        vertical-align: middle;\n",
              "    }\n",
              "\n",
              "    .dataframe tbody tr th {\n",
              "        vertical-align: top;\n",
              "    }\n",
              "\n",
              "    .dataframe thead th {\n",
              "        text-align: right;\n",
              "    }\n",
              "</style>\n",
              "<table border=\"1\" class=\"dataframe\">\n",
              "  <thead>\n",
              "    <tr style=\"text-align: right;\">\n",
              "      <th></th>\n",
              "      <th>Year</th>\n",
              "      <th>State</th>\n",
              "      <th>Unnamed: 2</th>\n",
              "      <th>Area planted</th>\n",
              "      <th>Area harvested for grain</th>\n",
              "      <th>Yield</th>\n",
              "      <th>Production</th>\n",
              "    </tr>\n",
              "  </thead>\n",
              "  <tbody>\n",
              "    <tr>\n",
              "      <th>0</th>\n",
              "      <td>2005</td>\n",
              "      <td>Alabama</td>\n",
              "      <td>NaN</td>\n",
              "      <td>220</td>\n",
              "      <td>200</td>\n",
              "      <td>119</td>\n",
              "      <td>23800</td>\n",
              "    </tr>\n",
              "    <tr>\n",
              "      <th>1</th>\n",
              "      <td>2005</td>\n",
              "      <td>Arizona</td>\n",
              "      <td>NaN</td>\n",
              "      <td>50</td>\n",
              "      <td>22</td>\n",
              "      <td>195</td>\n",
              "      <td>4290</td>\n",
              "    </tr>\n",
              "    <tr>\n",
              "      <th>2</th>\n",
              "      <td>2005</td>\n",
              "      <td>Arkansas</td>\n",
              "      <td>NaN</td>\n",
              "      <td>240</td>\n",
              "      <td>230</td>\n",
              "      <td>131</td>\n",
              "      <td>30130</td>\n",
              "    </tr>\n",
              "    <tr>\n",
              "      <th>3</th>\n",
              "      <td>2005</td>\n",
              "      <td>California</td>\n",
              "      <td>NaN</td>\n",
              "      <td>560</td>\n",
              "      <td>130</td>\n",
              "      <td>172</td>\n",
              "      <td>22360</td>\n",
              "    </tr>\n",
              "    <tr>\n",
              "      <th>4</th>\n",
              "      <td>2005</td>\n",
              "      <td>Colorado</td>\n",
              "      <td>NaN</td>\n",
              "      <td>1100</td>\n",
              "      <td>950</td>\n",
              "      <td>148</td>\n",
              "      <td>140600</td>\n",
              "    </tr>\n",
              "  </tbody>\n",
              "</table>\n",
              "</div>"
            ],
            "text/plain": [
              "   Year       State  Unnamed: 2  ...  Area harvested for grain Yield Production\n",
              "0  2005     Alabama         NaN  ...                       200   119      23800\n",
              "1  2005     Arizona         NaN  ...                        22   195       4290\n",
              "2  2005   Arkansas          NaN  ...                       230   131      30130\n",
              "3  2005  California         NaN  ...                       130   172      22360\n",
              "4  2005   Colorado          NaN  ...                       950   148     140600\n",
              "\n",
              "[5 rows x 7 columns]"
            ]
          },
          "metadata": {
            "tags": []
          },
          "execution_count": 11
        }
      ]
    },
    {
      "cell_type": "code",
      "metadata": {
        "id": "_Lkqd1J8g2Rl"
      },
      "source": [
        "corn=corn.drop(columns='Unnamed: 2')"
      ],
      "execution_count": 12,
      "outputs": []
    },
    {
      "cell_type": "code",
      "metadata": {
        "colab": {
          "base_uri": "https://localhost:8080/"
        },
        "id": "N9HqLCaMhchw",
        "outputId": "41a95b26-753e-4eec-b530-e78e8e590ecc"
      },
      "source": [
        "corn.dtypes"
      ],
      "execution_count": 13,
      "outputs": [
        {
          "output_type": "execute_result",
          "data": {
            "text/plain": [
              "Year                         int64\n",
              "State                       object\n",
              "Area planted                 int64\n",
              "Area harvested for grain    object\n",
              "Yield                       object\n",
              "Production                  object\n",
              "dtype: object"
            ]
          },
          "metadata": {
            "tags": []
          },
          "execution_count": 13
        }
      ]
    },
    {
      "cell_type": "code",
      "metadata": {
        "id": "X8B2z5UkiEd3"
      },
      "source": [
        "corn[\"Area harvested for grain\"].replace({\"(NA)\": \"0\"}, inplace=True) \n",
        "corn[\"Area harvested for grain\"].replace({\"\": \"0\"}, inplace=True) \n",
        "corn[\"Yield\"].replace({\"(NA)\": \"0\"}, inplace=True) \n",
        "corn[\"Yield\"].replace({\"(NA)\": \"0\"}, inplace=True) \n",
        "corn[\"Production\"].replace({\"(NA)\": \"0\"}, inplace=True) \n",
        "corn[\"Production\"].replace({\"\": \"0\"}, inplace=True)\n"
      ],
      "execution_count": 14,
      "outputs": []
    },
    {
      "cell_type": "markdown",
      "metadata": {
        "id": "bqJeFWOokGwl"
      },
      "source": [
        "corn[\"Area harvested for grain\"].replace({\"(NA)\": \"0\"}, inplace=True)\n",
        "corn[\"Area harvested for grain\"].replace({\"\": \"0\"}, inplace=True)\n",
        "corn[\"Yield\"].replace({\"(NA)\": \"0\"}, inplace=True)\n",
        "corn[\"Yield\"].replace({\"(NA)\": \"0\"}, inplace=True)\n",
        "corn[\"Production\"].replace({\"(NA)\": \"0\"}, inplace=True)\n",
        "corn[\"Production\"].replace({\"\": \"0\"}, inplace=True)"
      ]
    },
    {
      "cell_type": "markdown",
      "metadata": {
        "id": "uduhd-IKrX3R"
      },
      "source": [
        "corn[\"Area harvested for grain\"] = corn[\"Area harvested for grain\"].astype(float).astype(int)\n",
        "corn[\"Yield\"] = corn[\"Yield\"].astype(float).astype(int)\n",
        "corn[\"Production\"] = corn[\"Production\"].astype(float).astype(int)"
      ]
    },
    {
      "cell_type": "code",
      "metadata": {
        "id": "x-NTQBWvqNTl"
      },
      "source": [
        "corn[\"Area harvested for grain\"].replace({\"NA\": \"0\"}, inplace=True) "
      ],
      "execution_count": 15,
      "outputs": []
    },
    {
      "cell_type": "code",
      "metadata": {
        "id": "dtkJY7OaqW4H"
      },
      "source": [
        "corn[\"Area harvested for grain\"].replace({\"inf\": \"0\"}, inplace=True) "
      ],
      "execution_count": 16,
      "outputs": []
    },
    {
      "cell_type": "code",
      "metadata": {
        "id": "hulCE3-grIoN"
      },
      "source": [
        "corn = corn.fillna(0)"
      ],
      "execution_count": 17,
      "outputs": []
    },
    {
      "cell_type": "code",
      "metadata": {
        "colab": {
          "base_uri": "https://localhost:8080/"
        },
        "id": "Jt8_t3GRr9bg",
        "outputId": "4f9f6d11-0e52-4744-f26e-d1662e48b402"
      },
      "source": [
        "corn[\"Area harvested for grain\"].astype(float).astype(int)"
      ],
      "execution_count": 18,
      "outputs": [
        {
          "output_type": "execute_result",
          "data": {
            "text/plain": [
              "0        200\n",
              "1         22\n",
              "2        230\n",
              "3        130\n",
              "4        950\n",
              "       ...  \n",
              "730       90\n",
              "731       38\n",
              "732     2680\n",
              "733       67\n",
              "734    81482\n",
              "Name: Area harvested for grain, Length: 735, dtype: int64"
            ]
          },
          "metadata": {
            "tags": []
          },
          "execution_count": 18
        }
      ]
    },
    {
      "cell_type": "code",
      "metadata": {
        "id": "I7lPg7fFr_S9"
      },
      "source": [
        "corn[\"Yield\"] = corn[\"Yield\"].astype(float).astype(int)\n",
        "corn[\"Production\"] = corn[\"Production\"].astype(float).astype(int)"
      ],
      "execution_count": 19,
      "outputs": []
    },
    {
      "cell_type": "code",
      "metadata": {
        "colab": {
          "base_uri": "https://localhost:8080/"
        },
        "id": "mSC0k-ThWEh_",
        "outputId": "8a1dd15f-3d0d-498f-b5c8-ebd4300ce56e"
      },
      "source": [
        "gm_crops['Attribute'].unique()"
      ],
      "execution_count": 20,
      "outputs": [
        {
          "output_type": "execute_result",
          "data": {
            "text/plain": [
              "array(['Illinois', 'Indiana', 'Iowa', 'Kansas', 'Michigan', 'Minnesota',\n",
              "       'Missouri', 'Nebraska', 'North Dakota', 'Ohio', 'South Dakota',\n",
              "       'Texas', 'Wisconsin', 'Other States', 'U.S.', 'Alabama',\n",
              "       'Arkansas', 'California', 'Georgia', 'Louisiana', 'Mississippi',\n",
              "       'North Carolina', 'Tennessee'], dtype=object)"
            ]
          },
          "metadata": {
            "tags": []
          },
          "execution_count": 20
        }
      ]
    },
    {
      "cell_type": "code",
      "metadata": {
        "colab": {
          "base_uri": "https://localhost:8080/"
        },
        "id": "4HT1ZMP6iYkq",
        "outputId": "1965ab46-a761-484e-f6e9-3d2d76859a43"
      },
      "source": [
        "corn['State'].unique()"
      ],
      "execution_count": 21,
      "outputs": [
        {
          "output_type": "execute_result",
          "data": {
            "text/plain": [
              "array(['Alabama', 'Arizona', 'Arkansas ', 'California', 'Colorado ',\n",
              "       'Connecticut ', 'Delaware', 'Florida ', 'Georgia ', 'Idaho ',\n",
              "       'Illinois ', 'Indiana', 'Iowa ', 'Kansas ', 'Kentucky ',\n",
              "       'Louisiana', 'Maine ', 'Maryland ', 'Massachusetts ', 'Michigan',\n",
              "       'Minnesota', 'Mississippi', 'Missouri ', 'Montana ', 'Nebraska',\n",
              "       'Nevada ', 'New Hampshire ', 'New Jersey ', 'New Mexico ',\n",
              "       'New York ', 'North Carolina', 'North Dakota ', 'Ohio ',\n",
              "       'Oklahoma', 'Oregon ', 'Pennsylvania ', 'Rhode Island ',\n",
              "       'South Carolina', 'South Dakota ', 'Tennessee ', 'Texas ', 'Utah ',\n",
              "       'Vermont ', 'Virginia ', 'Washington', 'West Virginia ',\n",
              "       'Wisconsin ', 'Wyoming ', 'United States'], dtype=object)"
            ]
          },
          "metadata": {
            "tags": []
          },
          "execution_count": 21
        }
      ]
    },
    {
      "cell_type": "code",
      "metadata": {
        "id": "LU9Z6mFykpcX"
      },
      "source": [
        "corn['State'].replace({'Arkansas ': 'Arkansas'}, inplace=True)"
      ],
      "execution_count": 22,
      "outputs": []
    },
    {
      "cell_type": "code",
      "metadata": {
        "id": "X5OY719CXYv0"
      },
      "source": [
        "corn['State'].replace({'Colorado ': 'Colorado', 'Connecticut ':'Conneticut', 'Florida ':'Florida','Georgia ':'Georgia', 'Idaho ':'Idaho', 'Illinois ':'Illinois', 'Iowa ':'Iowa','Kansas ':'Kansas','Kentucky ':'Kentucky', 'Maine ':'Maine', 'Massachusetts ':'Massachusetts','Missouri ':'Missouri','North Dakota ':'North Dakota','Ohio ':'Ohio','South Dakota ':'South Dakota','Texas ':'Texas', 'Wisconsin ':'Wisconsin'}, inplace=True)"
      ],
      "execution_count": 23,
      "outputs": []
    },
    {
      "cell_type": "code",
      "metadata": {
        "colab": {
          "base_uri": "https://localhost:8080/",
          "height": 289
        },
        "id": "1AfSEfkvsHmk",
        "outputId": "8fa3409b-64cc-4eb7-fdd8-9366d6ce69f7"
      },
      "source": [
        "gm_crops.head()"
      ],
      "execution_count": 24,
      "outputs": [
        {
          "output_type": "execute_result",
          "data": {
            "text/html": [
              "<div>\n",
              "<style scoped>\n",
              "    .dataframe tbody tr th:only-of-type {\n",
              "        vertical-align: middle;\n",
              "    }\n",
              "\n",
              "    .dataframe tbody tr th {\n",
              "        vertical-align: top;\n",
              "    }\n",
              "\n",
              "    .dataframe thead th {\n",
              "        text-align: right;\n",
              "    }\n",
              "</style>\n",
              "<table border=\"1\" class=\"dataframe\">\n",
              "  <thead>\n",
              "    <tr style=\"text-align: right;\">\n",
              "      <th></th>\n",
              "      <th>Table</th>\n",
              "      <th>Unit</th>\n",
              "      <th>Variety</th>\n",
              "      <th>Year</th>\n",
              "      <th>Attribute</th>\n",
              "      <th>Value</th>\n",
              "    </tr>\n",
              "  </thead>\n",
              "  <tbody>\n",
              "    <tr>\n",
              "      <th>0</th>\n",
              "      <td>Genetically engineered (GE) corn varieties</td>\n",
              "      <td>Percent of corn planted</td>\n",
              "      <td>Insect-resistant (Bt) only                    ...</td>\n",
              "      <td>2000</td>\n",
              "      <td>Illinois</td>\n",
              "      <td>13</td>\n",
              "    </tr>\n",
              "    <tr>\n",
              "      <th>1</th>\n",
              "      <td>Genetically engineered (GE) corn varieties</td>\n",
              "      <td>Percent of corn planted</td>\n",
              "      <td>Insect-resistant (Bt) only                    ...</td>\n",
              "      <td>2000</td>\n",
              "      <td>Indiana</td>\n",
              "      <td>7</td>\n",
              "    </tr>\n",
              "    <tr>\n",
              "      <th>2</th>\n",
              "      <td>Genetically engineered (GE) corn varieties</td>\n",
              "      <td>Percent of corn planted</td>\n",
              "      <td>Insect-resistant (Bt) only                    ...</td>\n",
              "      <td>2000</td>\n",
              "      <td>Iowa</td>\n",
              "      <td>23</td>\n",
              "    </tr>\n",
              "    <tr>\n",
              "      <th>3</th>\n",
              "      <td>Genetically engineered (GE) corn varieties</td>\n",
              "      <td>Percent of corn planted</td>\n",
              "      <td>Insect-resistant (Bt) only                    ...</td>\n",
              "      <td>2000</td>\n",
              "      <td>Kansas</td>\n",
              "      <td>25</td>\n",
              "    </tr>\n",
              "    <tr>\n",
              "      <th>4</th>\n",
              "      <td>Genetically engineered (GE) corn varieties</td>\n",
              "      <td>Percent of corn planted</td>\n",
              "      <td>Insect-resistant (Bt) only                    ...</td>\n",
              "      <td>2000</td>\n",
              "      <td>Michigan</td>\n",
              "      <td>8</td>\n",
              "    </tr>\n",
              "  </tbody>\n",
              "</table>\n",
              "</div>"
            ],
            "text/plain": [
              "                                        Table  ... Value\n",
              "0  Genetically engineered (GE) corn varieties  ...    13\n",
              "1  Genetically engineered (GE) corn varieties  ...     7\n",
              "2  Genetically engineered (GE) corn varieties  ...    23\n",
              "3  Genetically engineered (GE) corn varieties  ...    25\n",
              "4  Genetically engineered (GE) corn varieties  ...     8\n",
              "\n",
              "[5 rows x 6 columns]"
            ]
          },
          "metadata": {
            "tags": []
          },
          "execution_count": 24
        }
      ]
    },
    {
      "cell_type": "code",
      "metadata": {
        "id": "XwwT50E0sPa3"
      },
      "source": [
        "gm_corn = gm_crops[(gm_crops['Unit']=='Percent of corn planted')&(gm_crops['Variety']=='All GE varieties')]"
      ],
      "execution_count": 25,
      "outputs": []
    },
    {
      "cell_type": "code",
      "metadata": {
        "colab": {
          "base_uri": "https://localhost:8080/",
          "height": 289
        },
        "id": "Ml76j9WcstcA",
        "outputId": "6ef5d1ce-47c8-4f84-f5d4-c8d649ad66ad"
      },
      "source": [
        "gm_corn.head()"
      ],
      "execution_count": 26,
      "outputs": [
        {
          "output_type": "execute_result",
          "data": {
            "text/html": [
              "<div>\n",
              "<style scoped>\n",
              "    .dataframe tbody tr th:only-of-type {\n",
              "        vertical-align: middle;\n",
              "    }\n",
              "\n",
              "    .dataframe tbody tr th {\n",
              "        vertical-align: top;\n",
              "    }\n",
              "\n",
              "    .dataframe thead th {\n",
              "        text-align: right;\n",
              "    }\n",
              "</style>\n",
              "<table border=\"1\" class=\"dataframe\">\n",
              "  <thead>\n",
              "    <tr style=\"text-align: right;\">\n",
              "      <th></th>\n",
              "      <th>Table</th>\n",
              "      <th>Unit</th>\n",
              "      <th>Variety</th>\n",
              "      <th>Year</th>\n",
              "      <th>Attribute</th>\n",
              "      <th>Value</th>\n",
              "    </tr>\n",
              "  </thead>\n",
              "  <tbody>\n",
              "    <tr>\n",
              "      <th>945</th>\n",
              "      <td>Genetically engineered (GE) corn varieties</td>\n",
              "      <td>Percent of corn planted</td>\n",
              "      <td>All GE varieties</td>\n",
              "      <td>2000</td>\n",
              "      <td>Illinois</td>\n",
              "      <td>17</td>\n",
              "    </tr>\n",
              "    <tr>\n",
              "      <th>946</th>\n",
              "      <td>Genetically engineered (GE) corn varieties</td>\n",
              "      <td>Percent of corn planted</td>\n",
              "      <td>All GE varieties</td>\n",
              "      <td>2000</td>\n",
              "      <td>Indiana</td>\n",
              "      <td>11</td>\n",
              "    </tr>\n",
              "    <tr>\n",
              "      <th>947</th>\n",
              "      <td>Genetically engineered (GE) corn varieties</td>\n",
              "      <td>Percent of corn planted</td>\n",
              "      <td>All GE varieties</td>\n",
              "      <td>2000</td>\n",
              "      <td>Iowa</td>\n",
              "      <td>30</td>\n",
              "    </tr>\n",
              "    <tr>\n",
              "      <th>948</th>\n",
              "      <td>Genetically engineered (GE) corn varieties</td>\n",
              "      <td>Percent of corn planted</td>\n",
              "      <td>All GE varieties</td>\n",
              "      <td>2000</td>\n",
              "      <td>Kansas</td>\n",
              "      <td>33</td>\n",
              "    </tr>\n",
              "    <tr>\n",
              "      <th>949</th>\n",
              "      <td>Genetically engineered (GE) corn varieties</td>\n",
              "      <td>Percent of corn planted</td>\n",
              "      <td>All GE varieties</td>\n",
              "      <td>2000</td>\n",
              "      <td>Michigan</td>\n",
              "      <td>12</td>\n",
              "    </tr>\n",
              "  </tbody>\n",
              "</table>\n",
              "</div>"
            ],
            "text/plain": [
              "                                          Table  ... Value\n",
              "945  Genetically engineered (GE) corn varieties  ...    17\n",
              "946  Genetically engineered (GE) corn varieties  ...    11\n",
              "947  Genetically engineered (GE) corn varieties  ...    30\n",
              "948  Genetically engineered (GE) corn varieties  ...    33\n",
              "949  Genetically engineered (GE) corn varieties  ...    12\n",
              "\n",
              "[5 rows x 6 columns]"
            ]
          },
          "metadata": {
            "tags": []
          },
          "execution_count": 26
        }
      ]
    },
    {
      "cell_type": "code",
      "metadata": {
        "colab": {
          "base_uri": "https://localhost:8080/"
        },
        "id": "qUsOdQgdszUj",
        "outputId": "bbbec8a5-7c0a-471f-f349-b358506c0653"
      },
      "source": [
        "gm_corn[\"Attribute\"].replace({\"U.S.\": \"United States\"}, inplace=True) "
      ],
      "execution_count": 27,
      "outputs": [
        {
          "output_type": "stream",
          "text": [
            "/usr/local/lib/python3.6/dist-packages/pandas/core/series.py:4581: SettingWithCopyWarning: \n",
            "A value is trying to be set on a copy of a slice from a DataFrame\n",
            "\n",
            "See the caveats in the documentation: https://pandas.pydata.org/pandas-docs/stable/user_guide/indexing.html#returning-a-view-versus-a-copy\n",
            "  method=method,\n"
          ],
          "name": "stderr"
        }
      ]
    },
    {
      "cell_type": "code",
      "metadata": {
        "colab": {
          "base_uri": "https://localhost:8080/"
        },
        "id": "MJ9iABYmtKJ_",
        "outputId": "6cc1b431-9a12-4679-bd90-ad7fe73690c7"
      },
      "source": [
        "gm_corn[\"Attribute\"].unique()"
      ],
      "execution_count": 28,
      "outputs": [
        {
          "output_type": "execute_result",
          "data": {
            "text/plain": [
              "array(['Illinois', 'Indiana', 'Iowa', 'Kansas', 'Michigan', 'Minnesota',\n",
              "       'Missouri', 'Nebraska', 'North Dakota', 'Ohio', 'South Dakota',\n",
              "       'Texas', 'Wisconsin', 'Other States', 'United States'],\n",
              "      dtype=object)"
            ]
          },
          "metadata": {
            "tags": []
          },
          "execution_count": 28
        }
      ]
    },
    {
      "cell_type": "code",
      "metadata": {
        "colab": {
          "base_uri": "https://localhost:8080/"
        },
        "id": "lftdKFwumaHL",
        "outputId": "49c566f8-3e9c-462d-82c2-1f07f0a5679a"
      },
      "source": [
        "corn['State'].unique()"
      ],
      "execution_count": 29,
      "outputs": [
        {
          "output_type": "execute_result",
          "data": {
            "text/plain": [
              "array(['Alabama', 'Arizona', 'Arkansas', 'California', 'Colorado',\n",
              "       'Conneticut', 'Delaware', 'Florida', 'Georgia', 'Idaho',\n",
              "       'Illinois', 'Indiana', 'Iowa', 'Kansas', 'Kentucky', 'Louisiana',\n",
              "       'Maine', 'Maryland ', 'Massachusetts', 'Michigan', 'Minnesota',\n",
              "       'Mississippi', 'Missouri', 'Montana ', 'Nebraska', 'Nevada ',\n",
              "       'New Hampshire ', 'New Jersey ', 'New Mexico ', 'New York ',\n",
              "       'North Carolina', 'North Dakota', 'Ohio', 'Oklahoma', 'Oregon ',\n",
              "       'Pennsylvania ', 'Rhode Island ', 'South Carolina', 'South Dakota',\n",
              "       'Tennessee ', 'Texas', 'Utah ', 'Vermont ', 'Virginia ',\n",
              "       'Washington', 'West Virginia ', 'Wisconsin', 'Wyoming ',\n",
              "       'United States'], dtype=object)"
            ]
          },
          "metadata": {
            "tags": []
          },
          "execution_count": 29
        }
      ]
    },
    {
      "cell_type": "code",
      "metadata": {
        "id": "JmMzSLxGtRVI"
      },
      "source": [
        "corn_table = corn.merge(gm_corn, how='inner', left_on=['Year', 'State'], right_on=['Year', 'Attribute'])"
      ],
      "execution_count": 30,
      "outputs": []
    },
    {
      "cell_type": "code",
      "metadata": {
        "colab": {
          "base_uri": "https://localhost:8080/",
          "height": 513
        },
        "id": "L9yRtnHSt0K9",
        "outputId": "618b8508-ff0a-44aa-b2a2-b998b767f060"
      },
      "source": [
        "corn_table.head()"
      ],
      "execution_count": 31,
      "outputs": [
        {
          "output_type": "execute_result",
          "data": {
            "text/html": [
              "<div>\n",
              "<style scoped>\n",
              "    .dataframe tbody tr th:only-of-type {\n",
              "        vertical-align: middle;\n",
              "    }\n",
              "\n",
              "    .dataframe tbody tr th {\n",
              "        vertical-align: top;\n",
              "    }\n",
              "\n",
              "    .dataframe thead th {\n",
              "        text-align: right;\n",
              "    }\n",
              "</style>\n",
              "<table border=\"1\" class=\"dataframe\">\n",
              "  <thead>\n",
              "    <tr style=\"text-align: right;\">\n",
              "      <th></th>\n",
              "      <th>Year</th>\n",
              "      <th>State</th>\n",
              "      <th>Area planted</th>\n",
              "      <th>Area harvested for grain</th>\n",
              "      <th>Yield</th>\n",
              "      <th>Production</th>\n",
              "      <th>Table</th>\n",
              "      <th>Unit</th>\n",
              "      <th>Variety</th>\n",
              "      <th>Attribute</th>\n",
              "      <th>Value</th>\n",
              "    </tr>\n",
              "  </thead>\n",
              "  <tbody>\n",
              "    <tr>\n",
              "      <th>0</th>\n",
              "      <td>2005</td>\n",
              "      <td>Illinois</td>\n",
              "      <td>12100</td>\n",
              "      <td>11950</td>\n",
              "      <td>143</td>\n",
              "      <td>1708850</td>\n",
              "      <td>Genetically engineered (GE) corn varieties</td>\n",
              "      <td>Percent of corn planted</td>\n",
              "      <td>All GE varieties</td>\n",
              "      <td>Illinois</td>\n",
              "      <td>36</td>\n",
              "    </tr>\n",
              "    <tr>\n",
              "      <th>1</th>\n",
              "      <td>2005</td>\n",
              "      <td>Indiana</td>\n",
              "      <td>5900</td>\n",
              "      <td>5770</td>\n",
              "      <td>154</td>\n",
              "      <td>888580</td>\n",
              "      <td>Genetically engineered (GE) corn varieties</td>\n",
              "      <td>Percent of corn planted</td>\n",
              "      <td>All GE varieties</td>\n",
              "      <td>Indiana</td>\n",
              "      <td>26</td>\n",
              "    </tr>\n",
              "    <tr>\n",
              "      <th>2</th>\n",
              "      <td>2005</td>\n",
              "      <td>Iowa</td>\n",
              "      <td>12800</td>\n",
              "      <td>12500</td>\n",
              "      <td>173</td>\n",
              "      <td>2162500</td>\n",
              "      <td>Genetically engineered (GE) corn varieties</td>\n",
              "      <td>Percent of corn planted</td>\n",
              "      <td>All GE varieties</td>\n",
              "      <td>Iowa</td>\n",
              "      <td>60</td>\n",
              "    </tr>\n",
              "    <tr>\n",
              "      <th>3</th>\n",
              "      <td>2005</td>\n",
              "      <td>Kansas</td>\n",
              "      <td>3650</td>\n",
              "      <td>3450</td>\n",
              "      <td>135</td>\n",
              "      <td>465750</td>\n",
              "      <td>Genetically engineered (GE) corn varieties</td>\n",
              "      <td>Percent of corn planted</td>\n",
              "      <td>All GE varieties</td>\n",
              "      <td>Kansas</td>\n",
              "      <td>63</td>\n",
              "    </tr>\n",
              "    <tr>\n",
              "      <th>4</th>\n",
              "      <td>2005</td>\n",
              "      <td>Michigan</td>\n",
              "      <td>2250</td>\n",
              "      <td>2010</td>\n",
              "      <td>143</td>\n",
              "      <td>287430</td>\n",
              "      <td>Genetically engineered (GE) corn varieties</td>\n",
              "      <td>Percent of corn planted</td>\n",
              "      <td>All GE varieties</td>\n",
              "      <td>Michigan</td>\n",
              "      <td>40</td>\n",
              "    </tr>\n",
              "  </tbody>\n",
              "</table>\n",
              "</div>"
            ],
            "text/plain": [
              "   Year     State  Area planted  ...           Variety  Attribute  Value\n",
              "0  2005  Illinois         12100  ...  All GE varieties   Illinois     36\n",
              "1  2005   Indiana          5900  ...  All GE varieties    Indiana     26\n",
              "2  2005      Iowa         12800  ...  All GE varieties       Iowa     60\n",
              "3  2005    Kansas          3650  ...  All GE varieties     Kansas     63\n",
              "4  2005  Michigan          2250  ...  All GE varieties   Michigan     40\n",
              "\n",
              "[5 rows x 11 columns]"
            ]
          },
          "metadata": {
            "tags": []
          },
          "execution_count": 31
        }
      ]
    },
    {
      "cell_type": "code",
      "metadata": {
        "id": "bz9D17PDt2cO"
      },
      "source": [
        "corn_table['Value'] = corn_table['Value'].div(100).round(2)"
      ],
      "execution_count": 32,
      "outputs": []
    },
    {
      "cell_type": "code",
      "metadata": {
        "id": "hWpEaRWxuZrV"
      },
      "source": [
        "corn_table[\"GM corn area\"] = corn_table[\"Area planted\"] * corn_table[\"Value\"]"
      ],
      "execution_count": 33,
      "outputs": []
    },
    {
      "cell_type": "code",
      "metadata": {
        "colab": {
          "base_uri": "https://localhost:8080/",
          "height": 513
        },
        "id": "-lMn6HYhvAx0",
        "outputId": "dc530d18-c777-4c9a-e8f0-c4e386a6dc4c"
      },
      "source": [
        "corn_table.head()"
      ],
      "execution_count": 34,
      "outputs": [
        {
          "output_type": "execute_result",
          "data": {
            "text/html": [
              "<div>\n",
              "<style scoped>\n",
              "    .dataframe tbody tr th:only-of-type {\n",
              "        vertical-align: middle;\n",
              "    }\n",
              "\n",
              "    .dataframe tbody tr th {\n",
              "        vertical-align: top;\n",
              "    }\n",
              "\n",
              "    .dataframe thead th {\n",
              "        text-align: right;\n",
              "    }\n",
              "</style>\n",
              "<table border=\"1\" class=\"dataframe\">\n",
              "  <thead>\n",
              "    <tr style=\"text-align: right;\">\n",
              "      <th></th>\n",
              "      <th>Year</th>\n",
              "      <th>State</th>\n",
              "      <th>Area planted</th>\n",
              "      <th>Area harvested for grain</th>\n",
              "      <th>Yield</th>\n",
              "      <th>Production</th>\n",
              "      <th>Table</th>\n",
              "      <th>Unit</th>\n",
              "      <th>Variety</th>\n",
              "      <th>Attribute</th>\n",
              "      <th>Value</th>\n",
              "      <th>GM corn area</th>\n",
              "    </tr>\n",
              "  </thead>\n",
              "  <tbody>\n",
              "    <tr>\n",
              "      <th>0</th>\n",
              "      <td>2005</td>\n",
              "      <td>Illinois</td>\n",
              "      <td>12100</td>\n",
              "      <td>11950</td>\n",
              "      <td>143</td>\n",
              "      <td>1708850</td>\n",
              "      <td>Genetically engineered (GE) corn varieties</td>\n",
              "      <td>Percent of corn planted</td>\n",
              "      <td>All GE varieties</td>\n",
              "      <td>Illinois</td>\n",
              "      <td>0.36</td>\n",
              "      <td>4356.0</td>\n",
              "    </tr>\n",
              "    <tr>\n",
              "      <th>1</th>\n",
              "      <td>2005</td>\n",
              "      <td>Indiana</td>\n",
              "      <td>5900</td>\n",
              "      <td>5770</td>\n",
              "      <td>154</td>\n",
              "      <td>888580</td>\n",
              "      <td>Genetically engineered (GE) corn varieties</td>\n",
              "      <td>Percent of corn planted</td>\n",
              "      <td>All GE varieties</td>\n",
              "      <td>Indiana</td>\n",
              "      <td>0.26</td>\n",
              "      <td>1534.0</td>\n",
              "    </tr>\n",
              "    <tr>\n",
              "      <th>2</th>\n",
              "      <td>2005</td>\n",
              "      <td>Iowa</td>\n",
              "      <td>12800</td>\n",
              "      <td>12500</td>\n",
              "      <td>173</td>\n",
              "      <td>2162500</td>\n",
              "      <td>Genetically engineered (GE) corn varieties</td>\n",
              "      <td>Percent of corn planted</td>\n",
              "      <td>All GE varieties</td>\n",
              "      <td>Iowa</td>\n",
              "      <td>0.60</td>\n",
              "      <td>7680.0</td>\n",
              "    </tr>\n",
              "    <tr>\n",
              "      <th>3</th>\n",
              "      <td>2005</td>\n",
              "      <td>Kansas</td>\n",
              "      <td>3650</td>\n",
              "      <td>3450</td>\n",
              "      <td>135</td>\n",
              "      <td>465750</td>\n",
              "      <td>Genetically engineered (GE) corn varieties</td>\n",
              "      <td>Percent of corn planted</td>\n",
              "      <td>All GE varieties</td>\n",
              "      <td>Kansas</td>\n",
              "      <td>0.63</td>\n",
              "      <td>2299.5</td>\n",
              "    </tr>\n",
              "    <tr>\n",
              "      <th>4</th>\n",
              "      <td>2005</td>\n",
              "      <td>Michigan</td>\n",
              "      <td>2250</td>\n",
              "      <td>2010</td>\n",
              "      <td>143</td>\n",
              "      <td>287430</td>\n",
              "      <td>Genetically engineered (GE) corn varieties</td>\n",
              "      <td>Percent of corn planted</td>\n",
              "      <td>All GE varieties</td>\n",
              "      <td>Michigan</td>\n",
              "      <td>0.40</td>\n",
              "      <td>900.0</td>\n",
              "    </tr>\n",
              "  </tbody>\n",
              "</table>\n",
              "</div>"
            ],
            "text/plain": [
              "   Year     State  Area planted  ... Attribute  Value  GM corn area\n",
              "0  2005  Illinois         12100  ...  Illinois   0.36        4356.0\n",
              "1  2005   Indiana          5900  ...   Indiana   0.26        1534.0\n",
              "2  2005      Iowa         12800  ...      Iowa   0.60        7680.0\n",
              "3  2005    Kansas          3650  ...    Kansas   0.63        2299.5\n",
              "4  2005  Michigan          2250  ...  Michigan   0.40         900.0\n",
              "\n",
              "[5 rows x 12 columns]"
            ]
          },
          "metadata": {
            "tags": []
          },
          "execution_count": 34
        }
      ]
    },
    {
      "cell_type": "code",
      "metadata": {
        "colab": {
          "base_uri": "https://localhost:8080/"
        },
        "id": "-0H5egeEm6jK",
        "outputId": "cdcb42ad-8b2a-4107-e782-08a16f262e1a"
      },
      "source": [
        "corn_table.shape"
      ],
      "execution_count": 35,
      "outputs": [
        {
          "output_type": "execute_result",
          "data": {
            "text/plain": [
              "(210, 12)"
            ]
          },
          "metadata": {
            "tags": []
          },
          "execution_count": 35
        }
      ]
    },
    {
      "cell_type": "code",
      "metadata": {
        "colab": {
          "base_uri": "https://localhost:8080/",
          "height": 334
        },
        "id": "1ju2NV40vCg1",
        "outputId": "ff6893d8-fb0c-457e-dc2c-da7e29fa5bf9"
      },
      "source": [
        "corn_table.describe()"
      ],
      "execution_count": 36,
      "outputs": [
        {
          "output_type": "execute_result",
          "data": {
            "text/html": [
              "<div>\n",
              "<style scoped>\n",
              "    .dataframe tbody tr th:only-of-type {\n",
              "        vertical-align: middle;\n",
              "    }\n",
              "\n",
              "    .dataframe tbody tr th {\n",
              "        vertical-align: top;\n",
              "    }\n",
              "\n",
              "    .dataframe thead th {\n",
              "        text-align: right;\n",
              "    }\n",
              "</style>\n",
              "<table border=\"1\" class=\"dataframe\">\n",
              "  <thead>\n",
              "    <tr style=\"text-align: right;\">\n",
              "      <th></th>\n",
              "      <th>Year</th>\n",
              "      <th>Area planted</th>\n",
              "      <th>Yield</th>\n",
              "      <th>Production</th>\n",
              "      <th>Value</th>\n",
              "      <th>GM corn area</th>\n",
              "    </tr>\n",
              "  </thead>\n",
              "  <tbody>\n",
              "    <tr>\n",
              "      <th>count</th>\n",
              "      <td>210.000000</td>\n",
              "      <td>210.000000</td>\n",
              "      <td>210.000000</td>\n",
              "      <td>2.100000e+02</td>\n",
              "      <td>210.000000</td>\n",
              "      <td>210.000000</td>\n",
              "    </tr>\n",
              "    <tr>\n",
              "      <th>mean</th>\n",
              "      <td>2012.000000</td>\n",
              "      <td>11835.647619</td>\n",
              "      <td>152.714286</td>\n",
              "      <td>1.760686e+06</td>\n",
              "      <td>0.838048</td>\n",
              "      <td>9999.321333</td>\n",
              "    </tr>\n",
              "    <tr>\n",
              "      <th>std</th>\n",
              "      <td>4.330818</td>\n",
              "      <td>21863.691164</td>\n",
              "      <td>24.403198</td>\n",
              "      <td>3.225541e+06</td>\n",
              "      <td>0.143679</td>\n",
              "      <td>18725.251119</td>\n",
              "    </tr>\n",
              "    <tr>\n",
              "      <th>min</th>\n",
              "      <td>2005.000000</td>\n",
              "      <td>1410.000000</td>\n",
              "      <td>75.000000</td>\n",
              "      <td>1.367100e+05</td>\n",
              "      <td>0.180000</td>\n",
              "      <td>621.000000</td>\n",
              "    </tr>\n",
              "    <tr>\n",
              "      <th>25%</th>\n",
              "      <td>2008.000000</td>\n",
              "      <td>3350.000000</td>\n",
              "      <td>137.000000</td>\n",
              "      <td>4.212700e+05</td>\n",
              "      <td>0.800000</td>\n",
              "      <td>2459.250000</td>\n",
              "    </tr>\n",
              "    <tr>\n",
              "      <th>50%</th>\n",
              "      <td>2012.000000</td>\n",
              "      <td>4875.000000</td>\n",
              "      <td>154.000000</td>\n",
              "      <td>6.139100e+05</td>\n",
              "      <td>0.885000</td>\n",
              "      <td>4276.250000</td>\n",
              "    </tr>\n",
              "    <tr>\n",
              "      <th>75%</th>\n",
              "      <td>2016.000000</td>\n",
              "      <td>9400.000000</td>\n",
              "      <td>171.000000</td>\n",
              "      <td>1.542000e+06</td>\n",
              "      <td>0.930000</td>\n",
              "      <td>8012.625000</td>\n",
              "    </tr>\n",
              "    <tr>\n",
              "      <th>max</th>\n",
              "      <td>2019.000000</td>\n",
              "      <td>97155.000000</td>\n",
              "      <td>210.000000</td>\n",
              "      <td>1.514804e+07</td>\n",
              "      <td>0.980000</td>\n",
              "      <td>86483.680000</td>\n",
              "    </tr>\n",
              "  </tbody>\n",
              "</table>\n",
              "</div>"
            ],
            "text/plain": [
              "              Year  Area planted  ...       Value  GM corn area\n",
              "count   210.000000    210.000000  ...  210.000000    210.000000\n",
              "mean   2012.000000  11835.647619  ...    0.838048   9999.321333\n",
              "std       4.330818  21863.691164  ...    0.143679  18725.251119\n",
              "min    2005.000000   1410.000000  ...    0.180000    621.000000\n",
              "25%    2008.000000   3350.000000  ...    0.800000   2459.250000\n",
              "50%    2012.000000   4875.000000  ...    0.885000   4276.250000\n",
              "75%    2016.000000   9400.000000  ...    0.930000   8012.625000\n",
              "max    2019.000000  97155.000000  ...    0.980000  86483.680000\n",
              "\n",
              "[8 rows x 6 columns]"
            ]
          },
          "metadata": {
            "tags": []
          },
          "execution_count": 36
        }
      ]
    },
    {
      "cell_type": "code",
      "metadata": {
        "id": "puwZSr5zv71k"
      },
      "source": [
        "corn_table.to_csv(r'C:\\Users\\KristinaKolesnikova\\Desktop\\export_dataframe.csv')"
      ],
      "execution_count": 37,
      "outputs": []
    },
    {
      "cell_type": "markdown",
      "metadata": {
        "id": "GSCy6hFVxYV0"
      },
      "source": [
        "How to export csv??"
      ]
    },
    {
      "cell_type": "markdown",
      "metadata": {
        "id": "Vzx5vyd70UvG"
      },
      "source": [
        "---"
      ]
    },
    {
      "cell_type": "code",
      "metadata": {
        "colab": {
          "base_uri": "https://localhost:8080/",
          "height": 204
        },
        "id": "ET_sMlcs0VCO",
        "outputId": "c520c38e-9e13-4447-929b-466a6aee8855"
      },
      "source": [
        "gdp_agri.head()"
      ],
      "execution_count": 38,
      "outputs": [
        {
          "output_type": "execute_result",
          "data": {
            "text/html": [
              "<div>\n",
              "<style scoped>\n",
              "    .dataframe tbody tr th:only-of-type {\n",
              "        vertical-align: middle;\n",
              "    }\n",
              "\n",
              "    .dataframe tbody tr th {\n",
              "        vertical-align: top;\n",
              "    }\n",
              "\n",
              "    .dataframe thead th {\n",
              "        text-align: right;\n",
              "    }\n",
              "</style>\n",
              "<table border=\"1\" class=\"dataframe\">\n",
              "  <thead>\n",
              "    <tr style=\"text-align: right;\">\n",
              "      <th></th>\n",
              "      <th>Year</th>\n",
              "      <th>State</th>\n",
              "      <th>Agri GDP</th>\n",
              "    </tr>\n",
              "  </thead>\n",
              "  <tbody>\n",
              "    <tr>\n",
              "      <th>0</th>\n",
              "      <td>2005</td>\n",
              "      <td>United States</td>\n",
              "      <td>196126.0</td>\n",
              "    </tr>\n",
              "    <tr>\n",
              "      <th>1</th>\n",
              "      <td>2005</td>\n",
              "      <td>Alabama</td>\n",
              "      <td>3837.0</td>\n",
              "    </tr>\n",
              "    <tr>\n",
              "      <th>2</th>\n",
              "      <td>2005</td>\n",
              "      <td>Alaska</td>\n",
              "      <td>417.0</td>\n",
              "    </tr>\n",
              "    <tr>\n",
              "      <th>3</th>\n",
              "      <td>2005</td>\n",
              "      <td>Arizona</td>\n",
              "      <td>3019.6</td>\n",
              "    </tr>\n",
              "    <tr>\n",
              "      <th>4</th>\n",
              "      <td>2005</td>\n",
              "      <td>Arkansas</td>\n",
              "      <td>4282.6</td>\n",
              "    </tr>\n",
              "  </tbody>\n",
              "</table>\n",
              "</div>"
            ],
            "text/plain": [
              "   Year          State  Agri GDP\n",
              "0  2005  United States  196126.0\n",
              "1  2005        Alabama    3837.0\n",
              "2  2005         Alaska     417.0\n",
              "3  2005        Arizona    3019.6\n",
              "4  2005       Arkansas    4282.6"
            ]
          },
          "metadata": {
            "tags": []
          },
          "execution_count": 38
        }
      ]
    },
    {
      "cell_type": "code",
      "metadata": {
        "colab": {
          "base_uri": "https://localhost:8080/"
        },
        "id": "RCjcRpU60YpZ",
        "outputId": "cf81a840-96ea-455f-820d-78785ebc3eee"
      },
      "source": [
        "gdp_agri.dtypes"
      ],
      "execution_count": 39,
      "outputs": [
        {
          "output_type": "execute_result",
          "data": {
            "text/plain": [
              "Year          int64\n",
              "State        object\n",
              "Agri GDP    float64\n",
              "dtype: object"
            ]
          },
          "metadata": {
            "tags": []
          },
          "execution_count": 39
        }
      ]
    },
    {
      "cell_type": "code",
      "metadata": {
        "id": "mWLAleiM0cSw"
      },
      "source": [
        "gdp_agri[\"Agri GDP\"] = gdp_agri[\"Agri GDP\"].astype(int)"
      ],
      "execution_count": 40,
      "outputs": []
    },
    {
      "cell_type": "code",
      "metadata": {
        "id": "06pUNSUA0weB"
      },
      "source": [
        "corn_table = corn_table.merge(gdp_agri, how='inner', left_on=['Year', 'State'], right_on=['Year', 'State'])"
      ],
      "execution_count": 41,
      "outputs": []
    },
    {
      "cell_type": "code",
      "metadata": {
        "colab": {
          "base_uri": "https://localhost:8080/",
          "height": 513
        },
        "id": "vfh4LRW90_Fn",
        "outputId": "581a72e8-370a-4fb1-b625-a160b220fc48"
      },
      "source": [
        "corn_table.head()"
      ],
      "execution_count": 42,
      "outputs": [
        {
          "output_type": "execute_result",
          "data": {
            "text/html": [
              "<div>\n",
              "<style scoped>\n",
              "    .dataframe tbody tr th:only-of-type {\n",
              "        vertical-align: middle;\n",
              "    }\n",
              "\n",
              "    .dataframe tbody tr th {\n",
              "        vertical-align: top;\n",
              "    }\n",
              "\n",
              "    .dataframe thead th {\n",
              "        text-align: right;\n",
              "    }\n",
              "</style>\n",
              "<table border=\"1\" class=\"dataframe\">\n",
              "  <thead>\n",
              "    <tr style=\"text-align: right;\">\n",
              "      <th></th>\n",
              "      <th>Year</th>\n",
              "      <th>State</th>\n",
              "      <th>Area planted</th>\n",
              "      <th>Area harvested for grain</th>\n",
              "      <th>Yield</th>\n",
              "      <th>Production</th>\n",
              "      <th>Table</th>\n",
              "      <th>Unit</th>\n",
              "      <th>Variety</th>\n",
              "      <th>Attribute</th>\n",
              "      <th>Value</th>\n",
              "      <th>GM corn area</th>\n",
              "      <th>Agri GDP</th>\n",
              "    </tr>\n",
              "  </thead>\n",
              "  <tbody>\n",
              "    <tr>\n",
              "      <th>0</th>\n",
              "      <td>2005</td>\n",
              "      <td>Illinois</td>\n",
              "      <td>12100</td>\n",
              "      <td>11950</td>\n",
              "      <td>143</td>\n",
              "      <td>1708850</td>\n",
              "      <td>Genetically engineered (GE) corn varieties</td>\n",
              "      <td>Percent of corn planted</td>\n",
              "      <td>All GE varieties</td>\n",
              "      <td>Illinois</td>\n",
              "      <td>0.36</td>\n",
              "      <td>4356.0</td>\n",
              "      <td>3923</td>\n",
              "    </tr>\n",
              "    <tr>\n",
              "      <th>1</th>\n",
              "      <td>2005</td>\n",
              "      <td>Indiana</td>\n",
              "      <td>5900</td>\n",
              "      <td>5770</td>\n",
              "      <td>154</td>\n",
              "      <td>888580</td>\n",
              "      <td>Genetically engineered (GE) corn varieties</td>\n",
              "      <td>Percent of corn planted</td>\n",
              "      <td>All GE varieties</td>\n",
              "      <td>Indiana</td>\n",
              "      <td>0.26</td>\n",
              "      <td>1534.0</td>\n",
              "      <td>3334</td>\n",
              "    </tr>\n",
              "    <tr>\n",
              "      <th>2</th>\n",
              "      <td>2005</td>\n",
              "      <td>Iowa</td>\n",
              "      <td>12800</td>\n",
              "      <td>12500</td>\n",
              "      <td>173</td>\n",
              "      <td>2162500</td>\n",
              "      <td>Genetically engineered (GE) corn varieties</td>\n",
              "      <td>Percent of corn planted</td>\n",
              "      <td>All GE varieties</td>\n",
              "      <td>Iowa</td>\n",
              "      <td>0.60</td>\n",
              "      <td>7680.0</td>\n",
              "      <td>7813</td>\n",
              "    </tr>\n",
              "    <tr>\n",
              "      <th>3</th>\n",
              "      <td>2005</td>\n",
              "      <td>Kansas</td>\n",
              "      <td>3650</td>\n",
              "      <td>3450</td>\n",
              "      <td>135</td>\n",
              "      <td>465750</td>\n",
              "      <td>Genetically engineered (GE) corn varieties</td>\n",
              "      <td>Percent of corn planted</td>\n",
              "      <td>All GE varieties</td>\n",
              "      <td>Kansas</td>\n",
              "      <td>0.63</td>\n",
              "      <td>2299.5</td>\n",
              "      <td>5063</td>\n",
              "    </tr>\n",
              "    <tr>\n",
              "      <th>4</th>\n",
              "      <td>2005</td>\n",
              "      <td>Michigan</td>\n",
              "      <td>2250</td>\n",
              "      <td>2010</td>\n",
              "      <td>143</td>\n",
              "      <td>287430</td>\n",
              "      <td>Genetically engineered (GE) corn varieties</td>\n",
              "      <td>Percent of corn planted</td>\n",
              "      <td>All GE varieties</td>\n",
              "      <td>Michigan</td>\n",
              "      <td>0.40</td>\n",
              "      <td>900.0</td>\n",
              "      <td>3481</td>\n",
              "    </tr>\n",
              "  </tbody>\n",
              "</table>\n",
              "</div>"
            ],
            "text/plain": [
              "   Year     State  Area planted  ... Value  GM corn area  Agri GDP\n",
              "0  2005  Illinois         12100  ...  0.36        4356.0      3923\n",
              "1  2005   Indiana          5900  ...  0.26        1534.0      3334\n",
              "2  2005      Iowa         12800  ...  0.60        7680.0      7813\n",
              "3  2005    Kansas          3650  ...  0.63        2299.5      5063\n",
              "4  2005  Michigan          2250  ...  0.40         900.0      3481\n",
              "\n",
              "[5 rows x 13 columns]"
            ]
          },
          "metadata": {
            "tags": []
          },
          "execution_count": 42
        }
      ]
    },
    {
      "cell_type": "code",
      "metadata": {
        "colab": {
          "base_uri": "https://localhost:8080/",
          "height": 513
        },
        "id": "vZnE-kCxBrlf",
        "outputId": "f1384006-eca0-45b2-9c2f-7b1c8043d9eb"
      },
      "source": [
        "corn_table.tail()"
      ],
      "execution_count": 43,
      "outputs": [
        {
          "output_type": "execute_result",
          "data": {
            "text/html": [
              "<div>\n",
              "<style scoped>\n",
              "    .dataframe tbody tr th:only-of-type {\n",
              "        vertical-align: middle;\n",
              "    }\n",
              "\n",
              "    .dataframe tbody tr th {\n",
              "        vertical-align: top;\n",
              "    }\n",
              "\n",
              "    .dataframe thead th {\n",
              "        text-align: right;\n",
              "    }\n",
              "</style>\n",
              "<table border=\"1\" class=\"dataframe\">\n",
              "  <thead>\n",
              "    <tr style=\"text-align: right;\">\n",
              "      <th></th>\n",
              "      <th>Year</th>\n",
              "      <th>State</th>\n",
              "      <th>Area planted</th>\n",
              "      <th>Area harvested for grain</th>\n",
              "      <th>Yield</th>\n",
              "      <th>Production</th>\n",
              "      <th>Table</th>\n",
              "      <th>Unit</th>\n",
              "      <th>Variety</th>\n",
              "      <th>Attribute</th>\n",
              "      <th>Value</th>\n",
              "      <th>GM corn area</th>\n",
              "      <th>Agri GDP</th>\n",
              "    </tr>\n",
              "  </thead>\n",
              "  <tbody>\n",
              "    <tr>\n",
              "      <th>205</th>\n",
              "      <td>2019</td>\n",
              "      <td>Ohio</td>\n",
              "      <td>2800</td>\n",
              "      <td>2570</td>\n",
              "      <td>164</td>\n",
              "      <td>421480</td>\n",
              "      <td>Genetically engineered (GE) corn varieties</td>\n",
              "      <td>Percent of corn planted</td>\n",
              "      <td>All GE varieties</td>\n",
              "      <td>Ohio</td>\n",
              "      <td>0.89</td>\n",
              "      <td>2492.0</td>\n",
              "      <td>4458</td>\n",
              "    </tr>\n",
              "    <tr>\n",
              "      <th>206</th>\n",
              "      <td>2019</td>\n",
              "      <td>South Dakota</td>\n",
              "      <td>4350</td>\n",
              "      <td>3910</td>\n",
              "      <td>145</td>\n",
              "      <td>566950</td>\n",
              "      <td>Genetically engineered (GE) corn varieties</td>\n",
              "      <td>Percent of corn planted</td>\n",
              "      <td>All GE varieties</td>\n",
              "      <td>South Dakota</td>\n",
              "      <td>0.94</td>\n",
              "      <td>4089.0</td>\n",
              "      <td>5001</td>\n",
              "    </tr>\n",
              "    <tr>\n",
              "      <th>207</th>\n",
              "      <td>2019</td>\n",
              "      <td>Texas</td>\n",
              "      <td>2500</td>\n",
              "      <td>2150</td>\n",
              "      <td>133</td>\n",
              "      <td>285950</td>\n",
              "      <td>Genetically engineered (GE) corn varieties</td>\n",
              "      <td>Percent of corn planted</td>\n",
              "      <td>All GE varieties</td>\n",
              "      <td>Texas</td>\n",
              "      <td>0.95</td>\n",
              "      <td>2375.0</td>\n",
              "      <td>13521</td>\n",
              "    </tr>\n",
              "    <tr>\n",
              "      <th>208</th>\n",
              "      <td>2019</td>\n",
              "      <td>Wisconsin</td>\n",
              "      <td>3800</td>\n",
              "      <td>2680</td>\n",
              "      <td>168</td>\n",
              "      <td>450240</td>\n",
              "      <td>Genetically engineered (GE) corn varieties</td>\n",
              "      <td>Percent of corn planted</td>\n",
              "      <td>All GE varieties</td>\n",
              "      <td>Wisconsin</td>\n",
              "      <td>0.89</td>\n",
              "      <td>3382.0</td>\n",
              "      <td>7182</td>\n",
              "    </tr>\n",
              "    <tr>\n",
              "      <th>209</th>\n",
              "      <td>2019</td>\n",
              "      <td>United States</td>\n",
              "      <td>89700</td>\n",
              "      <td>81482</td>\n",
              "      <td>168</td>\n",
              "      <td>13691561</td>\n",
              "      <td>Genetically engineered (GE) corn varieties</td>\n",
              "      <td>Percent of corn planted</td>\n",
              "      <td>All GE varieties</td>\n",
              "      <td>United States</td>\n",
              "      <td>0.92</td>\n",
              "      <td>82524.0</td>\n",
              "      <td>243607</td>\n",
              "    </tr>\n",
              "  </tbody>\n",
              "</table>\n",
              "</div>"
            ],
            "text/plain": [
              "     Year          State  Area planted  ... Value  GM corn area  Agri GDP\n",
              "205  2019           Ohio          2800  ...  0.89        2492.0      4458\n",
              "206  2019   South Dakota          4350  ...  0.94        4089.0      5001\n",
              "207  2019          Texas          2500  ...  0.95        2375.0     13521\n",
              "208  2019      Wisconsin          3800  ...  0.89        3382.0      7182\n",
              "209  2019  United States         89700  ...  0.92       82524.0    243607\n",
              "\n",
              "[5 rows x 13 columns]"
            ]
          },
          "metadata": {
            "tags": []
          },
          "execution_count": 43
        }
      ]
    },
    {
      "cell_type": "code",
      "metadata": {
        "colab": {
          "base_uri": "https://localhost:8080/",
          "height": 334
        },
        "id": "c_wfbkrU1BbS",
        "outputId": "c7505e86-e6ec-470a-b11d-ca5682170817"
      },
      "source": [
        "corn_table.describe()"
      ],
      "execution_count": 44,
      "outputs": [
        {
          "output_type": "execute_result",
          "data": {
            "text/html": [
              "<div>\n",
              "<style scoped>\n",
              "    .dataframe tbody tr th:only-of-type {\n",
              "        vertical-align: middle;\n",
              "    }\n",
              "\n",
              "    .dataframe tbody tr th {\n",
              "        vertical-align: top;\n",
              "    }\n",
              "\n",
              "    .dataframe thead th {\n",
              "        text-align: right;\n",
              "    }\n",
              "</style>\n",
              "<table border=\"1\" class=\"dataframe\">\n",
              "  <thead>\n",
              "    <tr style=\"text-align: right;\">\n",
              "      <th></th>\n",
              "      <th>Year</th>\n",
              "      <th>Area planted</th>\n",
              "      <th>Yield</th>\n",
              "      <th>Production</th>\n",
              "      <th>Value</th>\n",
              "      <th>GM corn area</th>\n",
              "      <th>Agri GDP</th>\n",
              "    </tr>\n",
              "  </thead>\n",
              "  <tbody>\n",
              "    <tr>\n",
              "      <th>count</th>\n",
              "      <td>210.000000</td>\n",
              "      <td>210.000000</td>\n",
              "      <td>210.000000</td>\n",
              "      <td>2.100000e+02</td>\n",
              "      <td>210.000000</td>\n",
              "      <td>210.000000</td>\n",
              "      <td>210.000000</td>\n",
              "    </tr>\n",
              "    <tr>\n",
              "      <th>mean</th>\n",
              "      <td>2012.000000</td>\n",
              "      <td>11835.647619</td>\n",
              "      <td>152.714286</td>\n",
              "      <td>1.760686e+06</td>\n",
              "      <td>0.838048</td>\n",
              "      <td>9999.321333</td>\n",
              "      <td>20757.033333</td>\n",
              "    </tr>\n",
              "    <tr>\n",
              "      <th>std</th>\n",
              "      <td>4.330818</td>\n",
              "      <td>21863.691164</td>\n",
              "      <td>24.403198</td>\n",
              "      <td>3.225541e+06</td>\n",
              "      <td>0.143679</td>\n",
              "      <td>18725.251119</td>\n",
              "      <td>52491.743304</td>\n",
              "    </tr>\n",
              "    <tr>\n",
              "      <th>min</th>\n",
              "      <td>2005.000000</td>\n",
              "      <td>1410.000000</td>\n",
              "      <td>75.000000</td>\n",
              "      <td>1.367100e+05</td>\n",
              "      <td>0.180000</td>\n",
              "      <td>621.000000</td>\n",
              "      <td>2300.000000</td>\n",
              "    </tr>\n",
              "    <tr>\n",
              "      <th>25%</th>\n",
              "      <td>2008.000000</td>\n",
              "      <td>3350.000000</td>\n",
              "      <td>137.000000</td>\n",
              "      <td>4.212700e+05</td>\n",
              "      <td>0.800000</td>\n",
              "      <td>2459.250000</td>\n",
              "      <td>4317.500000</td>\n",
              "    </tr>\n",
              "    <tr>\n",
              "      <th>50%</th>\n",
              "      <td>2012.000000</td>\n",
              "      <td>4875.000000</td>\n",
              "      <td>154.000000</td>\n",
              "      <td>6.139100e+05</td>\n",
              "      <td>0.885000</td>\n",
              "      <td>4276.250000</td>\n",
              "      <td>5631.000000</td>\n",
              "    </tr>\n",
              "    <tr>\n",
              "      <th>75%</th>\n",
              "      <td>2016.000000</td>\n",
              "      <td>9400.000000</td>\n",
              "      <td>171.000000</td>\n",
              "      <td>1.542000e+06</td>\n",
              "      <td>0.930000</td>\n",
              "      <td>8012.625000</td>\n",
              "      <td>8303.250000</td>\n",
              "    </tr>\n",
              "    <tr>\n",
              "      <th>max</th>\n",
              "      <td>2019.000000</td>\n",
              "      <td>97155.000000</td>\n",
              "      <td>210.000000</td>\n",
              "      <td>1.514804e+07</td>\n",
              "      <td>0.980000</td>\n",
              "      <td>86483.680000</td>\n",
              "      <td>243607.000000</td>\n",
              "    </tr>\n",
              "  </tbody>\n",
              "</table>\n",
              "</div>"
            ],
            "text/plain": [
              "              Year  Area planted  ...  GM corn area       Agri GDP\n",
              "count   210.000000    210.000000  ...    210.000000     210.000000\n",
              "mean   2012.000000  11835.647619  ...   9999.321333   20757.033333\n",
              "std       4.330818  21863.691164  ...  18725.251119   52491.743304\n",
              "min    2005.000000   1410.000000  ...    621.000000    2300.000000\n",
              "25%    2008.000000   3350.000000  ...   2459.250000    4317.500000\n",
              "50%    2012.000000   4875.000000  ...   4276.250000    5631.000000\n",
              "75%    2016.000000   9400.000000  ...   8012.625000    8303.250000\n",
              "max    2019.000000  97155.000000  ...  86483.680000  243607.000000\n",
              "\n",
              "[8 rows x 7 columns]"
            ]
          },
          "metadata": {
            "tags": []
          },
          "execution_count": 44
        }
      ]
    },
    {
      "cell_type": "code",
      "metadata": {
        "id": "6mWmbPyA5d3v"
      },
      "source": [
        "corn_table.to_csv('corn_dataframe.csv')"
      ],
      "execution_count": 45,
      "outputs": []
    },
    {
      "cell_type": "code",
      "metadata": {
        "id": "rFA5rTso1PFg"
      },
      "source": [
        "corn_general = corn_table[(corn_table['State']=='United States')]"
      ],
      "execution_count": 46,
      "outputs": []
    },
    {
      "cell_type": "code",
      "metadata": {
        "colab": {
          "base_uri": "https://localhost:8080/",
          "height": 1000
        },
        "id": "YC8b6oTwhT1P",
        "outputId": "2f0e62bd-4617-41dc-db2b-9d476a918e28"
      },
      "source": [
        "corn_table[(corn_table['Agri GDP']>14000)]"
      ],
      "execution_count": 47,
      "outputs": [
        {
          "output_type": "execute_result",
          "data": {
            "text/html": [
              "<div>\n",
              "<style scoped>\n",
              "    .dataframe tbody tr th:only-of-type {\n",
              "        vertical-align: middle;\n",
              "    }\n",
              "\n",
              "    .dataframe tbody tr th {\n",
              "        vertical-align: top;\n",
              "    }\n",
              "\n",
              "    .dataframe thead th {\n",
              "        text-align: right;\n",
              "    }\n",
              "</style>\n",
              "<table border=\"1\" class=\"dataframe\">\n",
              "  <thead>\n",
              "    <tr style=\"text-align: right;\">\n",
              "      <th></th>\n",
              "      <th>Year</th>\n",
              "      <th>State</th>\n",
              "      <th>Area planted</th>\n",
              "      <th>Area harvested for grain</th>\n",
              "      <th>Yield</th>\n",
              "      <th>Production</th>\n",
              "      <th>Table</th>\n",
              "      <th>Unit</th>\n",
              "      <th>Variety</th>\n",
              "      <th>Attribute</th>\n",
              "      <th>Value</th>\n",
              "      <th>GM corn area</th>\n",
              "      <th>Agri GDP</th>\n",
              "    </tr>\n",
              "  </thead>\n",
              "  <tbody>\n",
              "    <tr>\n",
              "      <th>13</th>\n",
              "      <td>2005</td>\n",
              "      <td>United States</td>\n",
              "      <td>81779</td>\n",
              "      <td>75117</td>\n",
              "      <td>148</td>\n",
              "      <td>11114082</td>\n",
              "      <td>Genetically engineered (GE) corn varieties</td>\n",
              "      <td>Percent of corn planted</td>\n",
              "      <td>All GE varieties</td>\n",
              "      <td>United States</td>\n",
              "      <td>0.52</td>\n",
              "      <td>42525.08</td>\n",
              "      <td>196126</td>\n",
              "    </tr>\n",
              "    <tr>\n",
              "      <th>27</th>\n",
              "      <td>2006</td>\n",
              "      <td>United States</td>\n",
              "      <td>78327</td>\n",
              "      <td>70648</td>\n",
              "      <td>149</td>\n",
              "      <td>10534868</td>\n",
              "      <td>Genetically engineered (GE) corn varieties</td>\n",
              "      <td>Percent of corn planted</td>\n",
              "      <td>All GE varieties</td>\n",
              "      <td>United States</td>\n",
              "      <td>0.61</td>\n",
              "      <td>47779.47</td>\n",
              "      <td>199349</td>\n",
              "    </tr>\n",
              "    <tr>\n",
              "      <th>41</th>\n",
              "      <td>2007</td>\n",
              "      <td>United States</td>\n",
              "      <td>93600</td>\n",
              "      <td>86542</td>\n",
              "      <td>151</td>\n",
              "      <td>13073893</td>\n",
              "      <td>Genetically engineered (GE) corn varieties</td>\n",
              "      <td>Percent of corn planted</td>\n",
              "      <td>All GE varieties</td>\n",
              "      <td>United States</td>\n",
              "      <td>0.73</td>\n",
              "      <td>68328.00</td>\n",
              "      <td>176569</td>\n",
              "    </tr>\n",
              "    <tr>\n",
              "      <th>55</th>\n",
              "      <td>2008</td>\n",
              "      <td>United States</td>\n",
              "      <td>85982</td>\n",
              "      <td>78570</td>\n",
              "      <td>154</td>\n",
              "      <td>12091648</td>\n",
              "      <td>Genetically engineered (GE) corn varieties</td>\n",
              "      <td>Percent of corn planted</td>\n",
              "      <td>All GE varieties</td>\n",
              "      <td>United States</td>\n",
              "      <td>0.80</td>\n",
              "      <td>68785.60</td>\n",
              "      <td>180295</td>\n",
              "    </tr>\n",
              "    <tr>\n",
              "      <th>69</th>\n",
              "      <td>2009</td>\n",
              "      <td>United States</td>\n",
              "      <td>86382</td>\n",
              "      <td>79490</td>\n",
              "      <td>165</td>\n",
              "      <td>13091862</td>\n",
              "      <td>Genetically engineered (GE) corn varieties</td>\n",
              "      <td>Percent of corn planted</td>\n",
              "      <td>All GE varieties</td>\n",
              "      <td>United States</td>\n",
              "      <td>0.85</td>\n",
              "      <td>73424.70</td>\n",
              "      <td>199976</td>\n",
              "    </tr>\n",
              "    <tr>\n",
              "      <th>83</th>\n",
              "      <td>2010</td>\n",
              "      <td>United States</td>\n",
              "      <td>88192</td>\n",
              "      <td>81446</td>\n",
              "      <td>153</td>\n",
              "      <td>12446865</td>\n",
              "      <td>Genetically engineered (GE) corn varieties</td>\n",
              "      <td>Percent of corn planted</td>\n",
              "      <td>All GE varieties</td>\n",
              "      <td>United States</td>\n",
              "      <td>0.86</td>\n",
              "      <td>75845.12</td>\n",
              "      <td>193856</td>\n",
              "    </tr>\n",
              "    <tr>\n",
              "      <th>97</th>\n",
              "      <td>2011</td>\n",
              "      <td>United States</td>\n",
              "      <td>91936</td>\n",
              "      <td>83989</td>\n",
              "      <td>147</td>\n",
              "      <td>12359612</td>\n",
              "      <td>Genetically engineered (GE) corn varieties</td>\n",
              "      <td>Percent of corn planted</td>\n",
              "      <td>All GE varieties</td>\n",
              "      <td>United States</td>\n",
              "      <td>0.88</td>\n",
              "      <td>80903.68</td>\n",
              "      <td>186395</td>\n",
              "    </tr>\n",
              "    <tr>\n",
              "      <th>111</th>\n",
              "      <td>2012</td>\n",
              "      <td>United States</td>\n",
              "      <td>97155</td>\n",
              "      <td>87375</td>\n",
              "      <td>123</td>\n",
              "      <td>10780296</td>\n",
              "      <td>Genetically engineered (GE) corn varieties</td>\n",
              "      <td>Percent of corn planted</td>\n",
              "      <td>All GE varieties</td>\n",
              "      <td>United States</td>\n",
              "      <td>0.88</td>\n",
              "      <td>85496.40</td>\n",
              "      <td>179573</td>\n",
              "    </tr>\n",
              "    <tr>\n",
              "      <th>125</th>\n",
              "      <td>2013</td>\n",
              "      <td>United States</td>\n",
              "      <td>95365</td>\n",
              "      <td>87668</td>\n",
              "      <td>159</td>\n",
              "      <td>13925147</td>\n",
              "      <td>Genetically engineered (GE) corn varieties</td>\n",
              "      <td>Percent of corn planted</td>\n",
              "      <td>All GE varieties</td>\n",
              "      <td>United States</td>\n",
              "      <td>0.90</td>\n",
              "      <td>85828.50</td>\n",
              "      <td>209388</td>\n",
              "    </tr>\n",
              "    <tr>\n",
              "      <th>139</th>\n",
              "      <td>2014</td>\n",
              "      <td>United States</td>\n",
              "      <td>90597</td>\n",
              "      <td>83136</td>\n",
              "      <td>171</td>\n",
              "      <td>14215532</td>\n",
              "      <td>Genetically engineered (GE) corn varieties</td>\n",
              "      <td>Percent of corn planted</td>\n",
              "      <td>All GE varieties</td>\n",
              "      <td>United States</td>\n",
              "      <td>0.93</td>\n",
              "      <td>84255.21</td>\n",
              "      <td>211758</td>\n",
              "    </tr>\n",
              "    <tr>\n",
              "      <th>151</th>\n",
              "      <td>2015</td>\n",
              "      <td>Texas</td>\n",
              "      <td>2300</td>\n",
              "      <td>1970</td>\n",
              "      <td>135</td>\n",
              "      <td>294520</td>\n",
              "      <td>Genetically engineered (GE) corn varieties</td>\n",
              "      <td>Percent of corn planted</td>\n",
              "      <td>All GE varieties</td>\n",
              "      <td>Texas</td>\n",
              "      <td>0.89</td>\n",
              "      <td>2047.00</td>\n",
              "      <td>15607</td>\n",
              "    </tr>\n",
              "    <tr>\n",
              "      <th>153</th>\n",
              "      <td>2015</td>\n",
              "      <td>United States</td>\n",
              "      <td>88019</td>\n",
              "      <td>80753</td>\n",
              "      <td>168</td>\n",
              "      <td>14215532</td>\n",
              "      <td>Genetically engineered (GE) corn varieties</td>\n",
              "      <td>Percent of corn planted</td>\n",
              "      <td>All GE varieties</td>\n",
              "      <td>United States</td>\n",
              "      <td>0.92</td>\n",
              "      <td>80977.48</td>\n",
              "      <td>227217</td>\n",
              "    </tr>\n",
              "    <tr>\n",
              "      <th>167</th>\n",
              "      <td>2016</td>\n",
              "      <td>United States</td>\n",
              "      <td>94004</td>\n",
              "      <td>86748</td>\n",
              "      <td>175</td>\n",
              "      <td>15148038</td>\n",
              "      <td>Genetically engineered (GE) corn varieties</td>\n",
              "      <td>Percent of corn planted</td>\n",
              "      <td>All GE varieties</td>\n",
              "      <td>United States</td>\n",
              "      <td>0.92</td>\n",
              "      <td>86483.68</td>\n",
              "      <td>238834</td>\n",
              "    </tr>\n",
              "    <tr>\n",
              "      <th>181</th>\n",
              "      <td>2017</td>\n",
              "      <td>United States</td>\n",
              "      <td>90167</td>\n",
              "      <td>82733</td>\n",
              "      <td>177</td>\n",
              "      <td>14609407</td>\n",
              "      <td>Genetically engineered (GE) corn varieties</td>\n",
              "      <td>Percent of corn planted</td>\n",
              "      <td>All GE varieties</td>\n",
              "      <td>United States</td>\n",
              "      <td>0.92</td>\n",
              "      <td>82953.64</td>\n",
              "      <td>233675</td>\n",
              "    </tr>\n",
              "    <tr>\n",
              "      <th>193</th>\n",
              "      <td>2018</td>\n",
              "      <td>Texas</td>\n",
              "      <td>2200</td>\n",
              "      <td>1750</td>\n",
              "      <td>108</td>\n",
              "      <td>189000</td>\n",
              "      <td>Genetically engineered (GE) corn varieties</td>\n",
              "      <td>Percent of corn planted</td>\n",
              "      <td>All GE varieties</td>\n",
              "      <td>Texas</td>\n",
              "      <td>0.93</td>\n",
              "      <td>2046.00</td>\n",
              "      <td>14341</td>\n",
              "    </tr>\n",
              "    <tr>\n",
              "      <th>195</th>\n",
              "      <td>2018</td>\n",
              "      <td>United States</td>\n",
              "      <td>88871</td>\n",
              "      <td>81276</td>\n",
              "      <td>176</td>\n",
              "      <td>14340369</td>\n",
              "      <td>Genetically engineered (GE) corn varieties</td>\n",
              "      <td>Percent of corn planted</td>\n",
              "      <td>All GE varieties</td>\n",
              "      <td>United States</td>\n",
              "      <td>0.92</td>\n",
              "      <td>81761.32</td>\n",
              "      <td>243393</td>\n",
              "    </tr>\n",
              "    <tr>\n",
              "      <th>209</th>\n",
              "      <td>2019</td>\n",
              "      <td>United States</td>\n",
              "      <td>89700</td>\n",
              "      <td>81482</td>\n",
              "      <td>168</td>\n",
              "      <td>13691561</td>\n",
              "      <td>Genetically engineered (GE) corn varieties</td>\n",
              "      <td>Percent of corn planted</td>\n",
              "      <td>All GE varieties</td>\n",
              "      <td>United States</td>\n",
              "      <td>0.92</td>\n",
              "      <td>82524.00</td>\n",
              "      <td>243607</td>\n",
              "    </tr>\n",
              "  </tbody>\n",
              "</table>\n",
              "</div>"
            ],
            "text/plain": [
              "     Year          State  Area planted  ... Value  GM corn area  Agri GDP\n",
              "13   2005  United States         81779  ...  0.52      42525.08    196126\n",
              "27   2006  United States         78327  ...  0.61      47779.47    199349\n",
              "41   2007  United States         93600  ...  0.73      68328.00    176569\n",
              "55   2008  United States         85982  ...  0.80      68785.60    180295\n",
              "69   2009  United States         86382  ...  0.85      73424.70    199976\n",
              "83   2010  United States         88192  ...  0.86      75845.12    193856\n",
              "97   2011  United States         91936  ...  0.88      80903.68    186395\n",
              "111  2012  United States         97155  ...  0.88      85496.40    179573\n",
              "125  2013  United States         95365  ...  0.90      85828.50    209388\n",
              "139  2014  United States         90597  ...  0.93      84255.21    211758\n",
              "151  2015          Texas          2300  ...  0.89       2047.00     15607\n",
              "153  2015  United States         88019  ...  0.92      80977.48    227217\n",
              "167  2016  United States         94004  ...  0.92      86483.68    238834\n",
              "181  2017  United States         90167  ...  0.92      82953.64    233675\n",
              "193  2018          Texas          2200  ...  0.93       2046.00     14341\n",
              "195  2018  United States         88871  ...  0.92      81761.32    243393\n",
              "209  2019  United States         89700  ...  0.92      82524.00    243607\n",
              "\n",
              "[17 rows x 13 columns]"
            ]
          },
          "metadata": {
            "tags": []
          },
          "execution_count": 47
        }
      ]
    },
    {
      "cell_type": "code",
      "metadata": {
        "colab": {
          "base_uri": "https://localhost:8080/",
          "height": 513
        },
        "id": "lLl1KS2OsmpG",
        "outputId": "e0c85309-23b2-4eba-b910-c2d3fe1ee239"
      },
      "source": [
        "corn_general.head()"
      ],
      "execution_count": 48,
      "outputs": [
        {
          "output_type": "execute_result",
          "data": {
            "text/html": [
              "<div>\n",
              "<style scoped>\n",
              "    .dataframe tbody tr th:only-of-type {\n",
              "        vertical-align: middle;\n",
              "    }\n",
              "\n",
              "    .dataframe tbody tr th {\n",
              "        vertical-align: top;\n",
              "    }\n",
              "\n",
              "    .dataframe thead th {\n",
              "        text-align: right;\n",
              "    }\n",
              "</style>\n",
              "<table border=\"1\" class=\"dataframe\">\n",
              "  <thead>\n",
              "    <tr style=\"text-align: right;\">\n",
              "      <th></th>\n",
              "      <th>Year</th>\n",
              "      <th>State</th>\n",
              "      <th>Area planted</th>\n",
              "      <th>Area harvested for grain</th>\n",
              "      <th>Yield</th>\n",
              "      <th>Production</th>\n",
              "      <th>Table</th>\n",
              "      <th>Unit</th>\n",
              "      <th>Variety</th>\n",
              "      <th>Attribute</th>\n",
              "      <th>Value</th>\n",
              "      <th>GM corn area</th>\n",
              "      <th>Agri GDP</th>\n",
              "    </tr>\n",
              "  </thead>\n",
              "  <tbody>\n",
              "    <tr>\n",
              "      <th>13</th>\n",
              "      <td>2005</td>\n",
              "      <td>United States</td>\n",
              "      <td>81779</td>\n",
              "      <td>75117</td>\n",
              "      <td>148</td>\n",
              "      <td>11114082</td>\n",
              "      <td>Genetically engineered (GE) corn varieties</td>\n",
              "      <td>Percent of corn planted</td>\n",
              "      <td>All GE varieties</td>\n",
              "      <td>United States</td>\n",
              "      <td>0.52</td>\n",
              "      <td>42525.08</td>\n",
              "      <td>196126</td>\n",
              "    </tr>\n",
              "    <tr>\n",
              "      <th>27</th>\n",
              "      <td>2006</td>\n",
              "      <td>United States</td>\n",
              "      <td>78327</td>\n",
              "      <td>70648</td>\n",
              "      <td>149</td>\n",
              "      <td>10534868</td>\n",
              "      <td>Genetically engineered (GE) corn varieties</td>\n",
              "      <td>Percent of corn planted</td>\n",
              "      <td>All GE varieties</td>\n",
              "      <td>United States</td>\n",
              "      <td>0.61</td>\n",
              "      <td>47779.47</td>\n",
              "      <td>199349</td>\n",
              "    </tr>\n",
              "    <tr>\n",
              "      <th>41</th>\n",
              "      <td>2007</td>\n",
              "      <td>United States</td>\n",
              "      <td>93600</td>\n",
              "      <td>86542</td>\n",
              "      <td>151</td>\n",
              "      <td>13073893</td>\n",
              "      <td>Genetically engineered (GE) corn varieties</td>\n",
              "      <td>Percent of corn planted</td>\n",
              "      <td>All GE varieties</td>\n",
              "      <td>United States</td>\n",
              "      <td>0.73</td>\n",
              "      <td>68328.00</td>\n",
              "      <td>176569</td>\n",
              "    </tr>\n",
              "    <tr>\n",
              "      <th>55</th>\n",
              "      <td>2008</td>\n",
              "      <td>United States</td>\n",
              "      <td>85982</td>\n",
              "      <td>78570</td>\n",
              "      <td>154</td>\n",
              "      <td>12091648</td>\n",
              "      <td>Genetically engineered (GE) corn varieties</td>\n",
              "      <td>Percent of corn planted</td>\n",
              "      <td>All GE varieties</td>\n",
              "      <td>United States</td>\n",
              "      <td>0.80</td>\n",
              "      <td>68785.60</td>\n",
              "      <td>180295</td>\n",
              "    </tr>\n",
              "    <tr>\n",
              "      <th>69</th>\n",
              "      <td>2009</td>\n",
              "      <td>United States</td>\n",
              "      <td>86382</td>\n",
              "      <td>79490</td>\n",
              "      <td>165</td>\n",
              "      <td>13091862</td>\n",
              "      <td>Genetically engineered (GE) corn varieties</td>\n",
              "      <td>Percent of corn planted</td>\n",
              "      <td>All GE varieties</td>\n",
              "      <td>United States</td>\n",
              "      <td>0.85</td>\n",
              "      <td>73424.70</td>\n",
              "      <td>199976</td>\n",
              "    </tr>\n",
              "  </tbody>\n",
              "</table>\n",
              "</div>"
            ],
            "text/plain": [
              "    Year          State  Area planted  ... Value  GM corn area  Agri GDP\n",
              "13  2005  United States         81779  ...  0.52      42525.08    196126\n",
              "27  2006  United States         78327  ...  0.61      47779.47    199349\n",
              "41  2007  United States         93600  ...  0.73      68328.00    176569\n",
              "55  2008  United States         85982  ...  0.80      68785.60    180295\n",
              "69  2009  United States         86382  ...  0.85      73424.70    199976\n",
              "\n",
              "[5 rows x 13 columns]"
            ]
          },
          "metadata": {
            "tags": []
          },
          "execution_count": 48
        }
      ]
    },
    {
      "cell_type": "code",
      "metadata": {
        "colab": {
          "base_uri": "https://localhost:8080/"
        },
        "id": "YQTeQemYs7Yq",
        "outputId": "3c479479-2e24-4e4a-906e-10a9755a08c5"
      },
      "source": [
        "corn_general.dtypes"
      ],
      "execution_count": 49,
      "outputs": [
        {
          "output_type": "execute_result",
          "data": {
            "text/plain": [
              "Year                          int64\n",
              "State                        object\n",
              "Area planted                  int64\n",
              "Area harvested for grain     object\n",
              "Yield                         int64\n",
              "Production                    int64\n",
              "Table                        object\n",
              "Unit                         object\n",
              "Variety                      object\n",
              "Attribute                    object\n",
              "Value                       float64\n",
              "GM corn area                float64\n",
              "Agri GDP                      int64\n",
              "dtype: object"
            ]
          },
          "metadata": {
            "tags": []
          },
          "execution_count": 49
        }
      ]
    },
    {
      "cell_type": "code",
      "metadata": {
        "id": "a0nSCxKWtNHu"
      },
      "source": [
        "corn_table1 = corn_table[corn_table['State']!='United States']"
      ],
      "execution_count": 50,
      "outputs": []
    },
    {
      "cell_type": "code",
      "metadata": {
        "id": "83xeoxIGjTBp"
      },
      "source": [
        "corn_table1 = corn_table1[corn_table1['State']!='Texas']"
      ],
      "execution_count": 51,
      "outputs": []
    },
    {
      "cell_type": "code",
      "metadata": {
        "colab": {
          "base_uri": "https://localhost:8080/",
          "height": 296
        },
        "id": "UAq04jnw2IY9",
        "outputId": "11882a5d-11a6-41fd-eacb-a5b9d5fb3306"
      },
      "source": [
        "corn_general.plot(x= 'Year', y = 'Agri GDP')"
      ],
      "execution_count": 52,
      "outputs": [
        {
          "output_type": "execute_result",
          "data": {
            "text/plain": [
              "<matplotlib.axes._subplots.AxesSubplot at 0x7f5e03ec1780>"
            ]
          },
          "metadata": {
            "tags": []
          },
          "execution_count": 52
        },
        {
          "output_type": "display_data",
          "data": {
            "image/png": "[encoded data removed]",
            "text/plain": [
              "<Figure size 432x288 with 1 Axes>"
            ]
          },
          "metadata": {
            "tags": [],
            "needs_background": "light"
          }
        }
      ]
    },
    {
      "cell_type": "code",
      "metadata": {
        "colab": {
          "base_uri": "https://localhost:8080/",
          "height": 296
        },
        "id": "b_N5JJ8c2UsV",
        "outputId": "6db906b1-48dd-467f-879c-1fb9405e7209"
      },
      "source": [
        "corn_general.plot(x= 'Year', y = 'GM corn area')"
      ],
      "execution_count": 53,
      "outputs": [
        {
          "output_type": "execute_result",
          "data": {
            "text/plain": [
              "<matplotlib.axes._subplots.AxesSubplot at 0x7f5e03e11588>"
            ]
          },
          "metadata": {
            "tags": []
          },
          "execution_count": 53
        },
        {
          "output_type": "display_data",
          "data": {
            "image/png": "[encoded data removed]",
            "text/plain": [
              "<Figure size 432x288 with 1 Axes>"
            ]
          },
          "metadata": {
            "tags": [],
            "needs_background": "light"
          }
        }
      ]
    },
    {
      "cell_type": "code",
      "metadata": {
        "colab": {
          "base_uri": "https://localhost:8080/",
          "height": 307
        },
        "id": "HnmqXtLj2ZCl",
        "outputId": "1143b473-08d9-48a6-deaf-b4193e9c554e"
      },
      "source": [
        "corn_general.plot(x= 'Year', y = 'Production')"
      ],
      "execution_count": 54,
      "outputs": [
        {
          "output_type": "execute_result",
          "data": {
            "text/plain": [
              "<matplotlib.axes._subplots.AxesSubplot at 0x7f5e039599b0>"
            ]
          },
          "metadata": {
            "tags": []
          },
          "execution_count": 54
        },
        {
          "output_type": "display_data",
          "data": {
            "image/png": "[encoded data removed]",
            "text/plain": [
              "<Figure size 432x288 with 1 Axes>"
            ]
          },
          "metadata": {
            "tags": [],
            "needs_background": "light"
          }
        }
      ]
    },
    {
      "cell_type": "code",
      "metadata": {
        "colab": {
          "base_uri": "https://localhost:8080/",
          "height": 296
        },
        "id": "f0sksI8A2h8A",
        "outputId": "86b715bc-db15-4840-fd67-388204fbbef2"
      },
      "source": [
        "corn_general.plot(x= 'Year', y = 'Yield')"
      ],
      "execution_count": 55,
      "outputs": [
        {
          "output_type": "execute_result",
          "data": {
            "text/plain": [
              "<matplotlib.axes._subplots.AxesSubplot at 0x7f5e038be630>"
            ]
          },
          "metadata": {
            "tags": []
          },
          "execution_count": 55
        },
        {
          "output_type": "display_data",
          "data": {
            "image/png": "[encoded data removed]",
            "text/plain": [
              "<Figure size 432x288 with 1 Axes>"
            ]
          },
          "metadata": {
            "tags": [],
            "needs_background": "light"
          }
        }
      ]
    },
    {
      "cell_type": "code",
      "metadata": {
        "colab": {
          "base_uri": "https://localhost:8080/",
          "height": 296
        },
        "id": "Y8xAo3jk2jqb",
        "outputId": "24816af5-20c5-4c81-f6b0-00e8c7442727"
      },
      "source": [
        "corn_general.plot(x= 'Year', y = 'Area planted')"
      ],
      "execution_count": 56,
      "outputs": [
        {
          "output_type": "execute_result",
          "data": {
            "text/plain": [
              "<matplotlib.axes._subplots.AxesSubplot at 0x7f5e03875080>"
            ]
          },
          "metadata": {
            "tags": []
          },
          "execution_count": 56
        },
        {
          "output_type": "display_data",
          "data": {
            "image/png": "[encoded data removed]",
            "text/plain": [
              "<Figure size 432x288 with 1 Axes>"
            ]
          },
          "metadata": {
            "tags": [],
            "needs_background": "light"
          }
        }
      ]
    },
    {
      "cell_type": "code",
      "metadata": {
        "colab": {
          "base_uri": "https://localhost:8080/",
          "height": 296
        },
        "id": "puDEONQW2uLh",
        "outputId": "7621b71a-e136-4391-cd9d-05e32c766877"
      },
      "source": [
        "corn_general.plot.scatter(x= 'GM corn area', y = 'Agri GDP')"
      ],
      "execution_count": 57,
      "outputs": [
        {
          "output_type": "execute_result",
          "data": {
            "text/plain": [
              "<matplotlib.axes._subplots.AxesSubplot at 0x7f5e038ad518>"
            ]
          },
          "metadata": {
            "tags": []
          },
          "execution_count": 57
        },
        {
          "output_type": "display_data",
          "data": {
            "image/png": "[encoded data removed]",
            "text/plain": [
              "<Figure size 432x288 with 1 Axes>"
            ]
          },
          "metadata": {
            "tags": [],
            "needs_background": "light"
          }
        }
      ]
    },
    {
      "cell_type": "code",
      "metadata": {
        "colab": {
          "base_uri": "https://localhost:8080/",
          "height": 296
        },
        "id": "gbcV9R783Cnr",
        "outputId": "fa48bdd2-71a8-476d-889b-f25ab9c57a78"
      },
      "source": [
        "corn_table[corn_table['State']!='United States'].plot.scatter(x='GM corn area', y ='Agri GDP')"
      ],
      "execution_count": 58,
      "outputs": [
        {
          "output_type": "execute_result",
          "data": {
            "text/plain": [
              "<matplotlib.axes._subplots.AxesSubplot at 0x7f5e037776a0>"
            ]
          },
          "metadata": {
            "tags": []
          },
          "execution_count": 58
        },
        {
          "output_type": "display_data",
          "data": {
            "image/png": "[encoded data removed]",
            "text/plain": [
              "<Figure size 432x288 with 1 Axes>"
            ]
          },
          "metadata": {
            "tags": [],
            "needs_background": "light"
          }
        }
      ]
    },
    {
      "cell_type": "code",
      "metadata": {
        "colab": {
          "base_uri": "https://localhost:8080/",
          "height": 296
        },
        "id": "972jOqcljCdG",
        "outputId": "e43e4f8a-59d8-4a32-9cee-d702a26be2f3"
      },
      "source": [
        "corn_table1.plot.scatter(x='GM corn area', y ='Agri GDP')"
      ],
      "execution_count": 59,
      "outputs": [
        {
          "output_type": "execute_result",
          "data": {
            "text/plain": [
              "<matplotlib.axes._subplots.AxesSubplot at 0x7f5e0373a4a8>"
            ]
          },
          "metadata": {
            "tags": []
          },
          "execution_count": 59
        },
        {
          "output_type": "display_data",
          "data": {
            "image/png": "[encoded data removed]",
            "text/plain": [
              "<Figure size 432x288 with 1 Axes>"
            ]
          },
          "metadata": {
            "tags": [],
            "needs_background": "light"
          }
        }
      ]
    },
    {
      "cell_type": "code",
      "metadata": {
        "colab": {
          "base_uri": "https://localhost:8080/",
          "height": 296
        },
        "id": "ik7uvWZv3Uck",
        "outputId": "9032aefe-b4ad-4418-acf3-8dd84813c064"
      },
      "source": [
        "corn_table[corn_table['State']!='United States'].plot.scatter(x='Production', y ='Agri GDP')"
      ],
      "execution_count": 60,
      "outputs": [
        {
          "output_type": "execute_result",
          "data": {
            "text/plain": [
              "<matplotlib.axes._subplots.AxesSubplot at 0x7f5e036b87b8>"
            ]
          },
          "metadata": {
            "tags": []
          },
          "execution_count": 60
        },
        {
          "output_type": "display_data",
          "data": {
            "image/png": "[encoded data removed]",
            "text/plain": [
              "<Figure size 432x288 with 1 Axes>"
            ]
          },
          "metadata": {
            "tags": [],
            "needs_background": "light"
          }
        }
      ]
    },
    {
      "cell_type": "code",
      "metadata": {
        "colab": {
          "base_uri": "https://localhost:8080/",
          "height": 296
        },
        "id": "6c0otpvT6w13",
        "outputId": "ab708822-c3e0-4378-de57-f5c0ddb594c0"
      },
      "source": [
        "corn_table[corn_table['State']!='United States'].plot.scatter(x='Yield', y ='Agri GDP')"
      ],
      "execution_count": 61,
      "outputs": [
        {
          "output_type": "execute_result",
          "data": {
            "text/plain": [
              "<matplotlib.axes._subplots.AxesSubplot at 0x7f5e03636c50>"
            ]
          },
          "metadata": {
            "tags": []
          },
          "execution_count": 61
        },
        {
          "output_type": "display_data",
          "data": {
            "image/png": "[encoded data removed]",
            "text/plain": [
              "<Figure size 432x288 with 1 Axes>"
            ]
          },
          "metadata": {
            "tags": [],
            "needs_background": "light"
          }
        }
      ]
    },
    {
      "cell_type": "code",
      "metadata": {
        "colab": {
          "base_uri": "https://localhost:8080/",
          "height": 296
        },
        "id": "8BSFrJme7Mm5",
        "outputId": "54f348b0-e34b-4735-eaa2-11535aad6660"
      },
      "source": [
        "corn_table[corn_table['State']!='United States'].plot.scatter(x='Area planted', y ='Agri GDP')"
      ],
      "execution_count": 62,
      "outputs": [
        {
          "output_type": "execute_result",
          "data": {
            "text/plain": [
              "<matplotlib.axes._subplots.AxesSubplot at 0x7f5e051f2ba8>"
            ]
          },
          "metadata": {
            "tags": []
          },
          "execution_count": 62
        },
        {
          "output_type": "display_data",
          "data": {
            "image/png": "[encoded data removed]",
            "text/plain": [
              "<Figure size 432x288 with 1 Axes>"
            ]
          },
          "metadata": {
            "tags": [],
            "needs_background": "light"
          }
        }
      ]
    },
    {
      "cell_type": "code",
      "metadata": {
        "colab": {
          "base_uri": "https://localhost:8080/"
        },
        "id": "siadJQgf7kso",
        "outputId": "0627a359-87e4-4d01-fca7-c54f6465ac99"
      },
      "source": [
        "corn_table.dtypes"
      ],
      "execution_count": 63,
      "outputs": [
        {
          "output_type": "execute_result",
          "data": {
            "text/plain": [
              "Year                          int64\n",
              "State                        object\n",
              "Area planted                  int64\n",
              "Area harvested for grain     object\n",
              "Yield                         int64\n",
              "Production                    int64\n",
              "Table                        object\n",
              "Unit                         object\n",
              "Variety                      object\n",
              "Attribute                    object\n",
              "Value                       float64\n",
              "GM corn area                float64\n",
              "Agri GDP                      int64\n",
              "dtype: object"
            ]
          },
          "metadata": {
            "tags": []
          },
          "execution_count": 63
        }
      ]
    },
    {
      "cell_type": "code",
      "metadata": {
        "id": "JhKGpYSm703M"
      },
      "source": [
        "corn_table[\"Area harvested for grain\"] = corn_table[\"Area harvested for grain\"].astype(float).astype(int)"
      ],
      "execution_count": 64,
      "outputs": []
    },
    {
      "cell_type": "code",
      "metadata": {
        "id": "lsqAeqF-8Ip6"
      },
      "source": [
        "corn_table[\"Value\"] = corn_table[\"Value\"].astype(float).astype(int)\n",
        "corn_table[\"GM corn area\"] = corn_table[\"GM corn area\"].astype(float).astype(int)"
      ],
      "execution_count": 65,
      "outputs": []
    },
    {
      "cell_type": "code",
      "metadata": {
        "colab": {
          "base_uri": "https://localhost:8080/",
          "height": 296
        },
        "id": "jDF5G-FU8ZQN",
        "outputId": "2f3e5add-884e-4404-e55a-5dd7c4a6296c"
      },
      "source": [
        "corn_table[corn_table['State']!='United States'].plot.scatter(x='Area harvested for grain', y ='Agri GDP')"
      ],
      "execution_count": 66,
      "outputs": [
        {
          "output_type": "execute_result",
          "data": {
            "text/plain": [
              "<matplotlib.axes._subplots.AxesSubplot at 0x7f5e0376e0f0>"
            ]
          },
          "metadata": {
            "tags": []
          },
          "execution_count": 66
        },
        {
          "output_type": "display_data",
          "data": {
            "image/png": "[encoded data removed]",
            "text/plain": [
              "<Figure size 432x288 with 1 Axes>"
            ]
          },
          "metadata": {
            "tags": [],
            "needs_background": "light"
          }
        }
      ]
    },
    {
      "cell_type": "code",
      "metadata": {
        "colab": {
          "base_uri": "https://localhost:8080/",
          "height": 296
        },
        "id": "jCAIi9Ai8je6",
        "outputId": "7b824f25-28d3-41fd-e7ae-9412a4a7f9fe"
      },
      "source": [
        "corn_table[corn_table['State']!='United States'].plot.scatter(x='GM corn area', y ='Yield')"
      ],
      "execution_count": 67,
      "outputs": [
        {
          "output_type": "execute_result",
          "data": {
            "text/plain": [
              "<matplotlib.axes._subplots.AxesSubplot at 0x7f5e03943fd0>"
            ]
          },
          "metadata": {
            "tags": []
          },
          "execution_count": 67
        },
        {
          "output_type": "display_data",
          "data": {
            "image/png": "[encoded data removed]",
            "text/plain": [
              "<Figure size 432x288 with 1 Axes>"
            ]
          },
          "metadata": {
            "tags": [],
            "needs_background": "light"
          }
        }
      ]
    },
    {
      "cell_type": "code",
      "metadata": {
        "colab": {
          "base_uri": "https://localhost:8080/",
          "height": 307
        },
        "id": "0x94qrCB8_Ib",
        "outputId": "d9e6f1cd-76b3-4038-b3a3-98be16af7d75"
      },
      "source": [
        "corn_table[corn_table['State']!='United States'].plot.scatter(x='GM corn area', y ='Production')"
      ],
      "execution_count": 68,
      "outputs": [
        {
          "output_type": "execute_result",
          "data": {
            "text/plain": [
              "<matplotlib.axes._subplots.AxesSubplot at 0x7f5e035210b8>"
            ]
          },
          "metadata": {
            "tags": []
          },
          "execution_count": 68
        },
        {
          "output_type": "display_data",
          "data": {
            "image/png": "[encoded data removed]",
            "text/plain": [
              "<Figure size 432x288 with 1 Axes>"
            ]
          },
          "metadata": {
            "tags": [],
            "needs_background": "light"
          }
        }
      ]
    },
    {
      "cell_type": "markdown",
      "metadata": {
        "id": "qhup89w1KdtC"
      },
      "source": [
        "---"
      ]
    },
    {
      "cell_type": "code",
      "metadata": {
        "colab": {
          "base_uri": "https://localhost:8080/",
          "height": 357
        },
        "id": "0AhdV_5OIqRY",
        "outputId": "fc12bb25-f3d9-4716-f332-7f30a21d1234"
      },
      "source": [
        "corn_table1[corn_table1['Year']==2019].plot.bar('State','Agri GDP')"
      ],
      "execution_count": 69,
      "outputs": [
        {
          "output_type": "execute_result",
          "data": {
            "text/plain": [
              "<matplotlib.axes._subplots.AxesSubplot at 0x7f5e036117f0>"
            ]
          },
          "metadata": {
            "tags": []
          },
          "execution_count": 69
        },
        {
          "output_type": "display_data",
          "data": {
            "image/png": "[encoded data removed]",
            "text/plain": [
              "<Figure size 432x288 with 1 Axes>"
            ]
          },
          "metadata": {
            "tags": [],
            "needs_background": "light"
          }
        }
      ]
    },
    {
      "cell_type": "code",
      "metadata": {
        "colab": {
          "base_uri": "https://localhost:8080/",
          "height": 354
        },
        "id": "397bbzhlJiER",
        "outputId": "9c35775a-5ce2-4ff3-f3de-8be08672c63c"
      },
      "source": [
        "corn_table1[corn_table1['Year']==2019].plot.bar('State','GM corn area')"
      ],
      "execution_count": 70,
      "outputs": [
        {
          "output_type": "execute_result",
          "data": {
            "text/plain": [
              "<matplotlib.axes._subplots.AxesSubplot at 0x7f5e03405710>"
            ]
          },
          "metadata": {
            "tags": []
          },
          "execution_count": 70
        },
        {
          "output_type": "display_data",
          "data": {
            "image/png": "[encoded data removed]",
            "text/plain": [
              "<Figure size 432x288 with 1 Axes>"
            ]
          },
          "metadata": {
            "tags": [],
            "needs_background": "light"
          }
        }
      ]
    },
    {
      "cell_type": "code",
      "metadata": {
        "colab": {
          "base_uri": "https://localhost:8080/",
          "height": 424
        },
        "id": "W8vnEFsAJt5A",
        "outputId": "38f954f7-f3c8-4813-dd85-6b8412544805"
      },
      "source": [
        "corn[corn['Year']==2019][corn['State']!='United States'].plot.bar('State','Area planted')"
      ],
      "execution_count": 71,
      "outputs": [
        {
          "output_type": "stream",
          "text": [
            "/usr/local/lib/python3.6/dist-packages/ipykernel_launcher.py:1: UserWarning: Boolean Series key will be reindexed to match DataFrame index.\n",
            "  \"\"\"Entry point for launching an IPython kernel.\n"
          ],
          "name": "stderr"
        },
        {
          "output_type": "execute_result",
          "data": {
            "text/plain": [
              "<matplotlib.axes._subplots.AxesSubplot at 0x7f5e033960b8>"
            ]
          },
          "metadata": {
            "tags": []
          },
          "execution_count": 71
        },
        {
          "output_type": "display_data",
          "data": {
            "image/png": "[encoded data removed]",
            "text/plain": [
              "<Figure size 432x288 with 1 Axes>"
            ]
          },
          "metadata": {
            "tags": [],
            "needs_background": "light"
          }
        }
      ]
    },
    {
      "cell_type": "code",
      "metadata": {
        "colab": {
          "base_uri": "https://localhost:8080/"
        },
        "id": "VUKNnvPjLRr9",
        "outputId": "fa651dc1-812c-4f1b-f2ca-aba61a6344a6"
      },
      "source": [
        "gdp_agri.dtypes"
      ],
      "execution_count": 72,
      "outputs": [
        {
          "output_type": "execute_result",
          "data": {
            "text/plain": [
              "Year         int64\n",
              "State       object\n",
              "Agri GDP     int64\n",
              "dtype: object"
            ]
          },
          "metadata": {
            "tags": []
          },
          "execution_count": 72
        }
      ]
    },
    {
      "cell_type": "code",
      "metadata": {
        "colab": {
          "base_uri": "https://localhost:8080/"
        },
        "id": "ZFMtJL5JbmRs",
        "outputId": "456dc6e0-137a-4faa-849b-4e4707aee9b1"
      },
      "source": [
        "gdp_agri['Year'].max()"
      ],
      "execution_count": 76,
      "outputs": [
        {
          "output_type": "execute_result",
          "data": {
            "text/plain": [
              "2019"
            ]
          },
          "metadata": {
            "tags": []
          },
          "execution_count": 76
        }
      ]
    },
    {
      "cell_type": "code",
      "metadata": {
        "colab": {
          "base_uri": "https://localhost:8080/",
          "height": 385
        },
        "id": "Sf5K1GCYKm0C",
        "outputId": "60b7b7c4-fe79-424e-b364-07b4cc1936a7"
      },
      "source": [
        "gdp_agri[(gdp_agri['Year']==2019)&(gdp_agri['State']!='United States')].plot.bar('State','Agri GDP')"
      ],
      "execution_count": 78,
      "outputs": [
        {
          "output_type": "execute_result",
          "data": {
            "text/plain": [
              "<matplotlib.axes._subplots.AxesSubplot at 0x7f5dfb1ce320>"
            ]
          },
          "metadata": {
            "tags": []
          },
          "execution_count": 78
        },
        {
          "output_type": "display_data",
          "data": {
            "image/png": "[encoded data removed]",
            "text/plain": [
              "<Figure size 432x288 with 1 Axes>"
            ]
          },
          "metadata": {
            "tags": [],
            "needs_background": "light"
          }
        }
      ]
    },
    {
      "cell_type": "code",
      "metadata": {
        "colab": {
          "base_uri": "https://localhost:8080/",
          "height": 450
        },
        "id": "9NXLaOdGb-ib",
        "outputId": "d18853dd-58e3-4591-8d1e-f979de6b1b58"
      },
      "source": [
        "gdp_agri.groupby(['Year', 'State']).count().sort_values(ascending=False, by ='Agri GDP')"
      ],
      "execution_count": 83,
      "outputs": [
        {
          "output_type": "execute_result",
          "data": {
            "text/html": [
              "<div>\n",
              "<style scoped>\n",
              "    .dataframe tbody tr th:only-of-type {\n",
              "        vertical-align: middle;\n",
              "    }\n",
              "\n",
              "    .dataframe tbody tr th {\n",
              "        vertical-align: top;\n",
              "    }\n",
              "\n",
              "    .dataframe thead th {\n",
              "        text-align: right;\n",
              "    }\n",
              "</style>\n",
              "<table border=\"1\" class=\"dataframe\">\n",
              "  <thead>\n",
              "    <tr style=\"text-align: right;\">\n",
              "      <th></th>\n",
              "      <th></th>\n",
              "      <th>Agri GDP</th>\n",
              "    </tr>\n",
              "    <tr>\n",
              "      <th>Year</th>\n",
              "      <th>State</th>\n",
              "      <th></th>\n",
              "    </tr>\n",
              "  </thead>\n",
              "  <tbody>\n",
              "    <tr>\n",
              "      <th>2019</th>\n",
              "      <th>Far West</th>\n",
              "      <td>2</td>\n",
              "    </tr>\n",
              "    <tr>\n",
              "      <th>2005</th>\n",
              "      <th>Alabama</th>\n",
              "      <td>1</td>\n",
              "    </tr>\n",
              "    <tr>\n",
              "      <th>2015</th>\n",
              "      <th>Colorado</th>\n",
              "      <td>1</td>\n",
              "    </tr>\n",
              "    <tr>\n",
              "      <th rowspan=\"2\" valign=\"top\">2014</th>\n",
              "      <th>Vermont</th>\n",
              "      <td>1</td>\n",
              "    </tr>\n",
              "    <tr>\n",
              "      <th>Virginia</th>\n",
              "      <td>1</td>\n",
              "    </tr>\n",
              "    <tr>\n",
              "      <th>...</th>\n",
              "      <th>...</th>\n",
              "      <td>...</td>\n",
              "    </tr>\n",
              "    <tr>\n",
              "      <th rowspan=\"4\" valign=\"top\">2010</th>\n",
              "      <th>Arkansas</th>\n",
              "      <td>1</td>\n",
              "    </tr>\n",
              "    <tr>\n",
              "      <th>California</th>\n",
              "      <td>1</td>\n",
              "    </tr>\n",
              "    <tr>\n",
              "      <th>Colorado</th>\n",
              "      <td>1</td>\n",
              "    </tr>\n",
              "    <tr>\n",
              "      <th>Connecticut</th>\n",
              "      <td>1</td>\n",
              "    </tr>\n",
              "    <tr>\n",
              "      <th>2019</th>\n",
              "      <th>Wyoming</th>\n",
              "      <td>1</td>\n",
              "    </tr>\n",
              "  </tbody>\n",
              "</table>\n",
              "<p>899 rows × 1 columns</p>\n",
              "</div>"
            ],
            "text/plain": [
              "                  Agri GDP\n",
              "Year State                \n",
              "2019 Far West            2\n",
              "2005 Alabama             1\n",
              "2015 Colorado            1\n",
              "2014 Vermont             1\n",
              "     Virginia            1\n",
              "...                    ...\n",
              "2010 Arkansas            1\n",
              "     California          1\n",
              "     Colorado            1\n",
              "     Connecticut         1\n",
              "2019 Wyoming             1\n",
              "\n",
              "[899 rows x 1 columns]"
            ]
          },
          "metadata": {
            "tags": []
          },
          "execution_count": 83
        }
      ]
    },
    {
      "cell_type": "code",
      "metadata": {
        "colab": {
          "base_uri": "https://localhost:8080/",
          "height": 111
        },
        "id": "TMIzYElxctx6",
        "outputId": "228d5725-479f-4f4f-e473-e5dfc21d9a8c"
      },
      "source": [
        "gdp_agri[(gdp_agri['Year']==2019)&(gdp_agri['State']=='Far West')]"
      ],
      "execution_count": 84,
      "outputs": [
        {
          "output_type": "execute_result",
          "data": {
            "text/html": [
              "<div>\n",
              "<style scoped>\n",
              "    .dataframe tbody tr th:only-of-type {\n",
              "        vertical-align: middle;\n",
              "    }\n",
              "\n",
              "    .dataframe tbody tr th {\n",
              "        vertical-align: top;\n",
              "    }\n",
              "\n",
              "    .dataframe thead th {\n",
              "        text-align: right;\n",
              "    }\n",
              "</style>\n",
              "<table border=\"1\" class=\"dataframe\">\n",
              "  <thead>\n",
              "    <tr style=\"text-align: right;\">\n",
              "      <th></th>\n",
              "      <th>Year</th>\n",
              "      <th>State</th>\n",
              "      <th>Agri GDP</th>\n",
              "    </tr>\n",
              "  </thead>\n",
              "  <tbody>\n",
              "    <tr>\n",
              "      <th>839</th>\n",
              "      <td>2019</td>\n",
              "      <td>Far West</td>\n",
              "      <td>66002</td>\n",
              "    </tr>\n",
              "    <tr>\n",
              "      <th>899</th>\n",
              "      <td>2019</td>\n",
              "      <td>Far West</td>\n",
              "      <td>68707</td>\n",
              "    </tr>\n",
              "  </tbody>\n",
              "</table>\n",
              "</div>"
            ],
            "text/plain": [
              "     Year     State  Agri GDP\n",
              "839  2019  Far West     66002\n",
              "899  2019  Far West     68707"
            ]
          },
          "metadata": {
            "tags": []
          },
          "execution_count": 84
        }
      ]
    },
    {
      "cell_type": "markdown",
      "metadata": {
        "id": "GgzdzmMAKYho"
      },
      "source": [
        "---"
      ]
    },
    {
      "cell_type": "markdown",
      "metadata": {
        "id": "o4XB-fmyMnWK"
      },
      "source": [
        "Checking correlation just for 1 year"
      ]
    },
    {
      "cell_type": "code",
      "metadata": {
        "colab": {
          "base_uri": "https://localhost:8080/",
          "height": 298
        },
        "id": "XZx4c4RACX59",
        "outputId": "d652edcc-840b-4d2c-945d-5e4f22a880ab"
      },
      "source": [
        "corn_table1[corn_table1['Year']==2016].plot.scatter(x= 'GM corn area', y = 'Agri GDP')"
      ],
      "execution_count": 85,
      "outputs": [
        {
          "output_type": "execute_result",
          "data": {
            "text/plain": [
              "<matplotlib.axes._subplots.AxesSubplot at 0x7f5dfaeed4e0>"
            ]
          },
          "metadata": {
            "tags": []
          },
          "execution_count": 85
        },
        {
          "output_type": "display_data",
          "data": {
            "image/png": "[encoded data removed]",
            "text/plain": [
              "<Figure size 432x288 with 1 Axes>"
            ]
          },
          "metadata": {
            "tags": [],
            "needs_background": "light"
          }
        }
      ]
    },
    {
      "cell_type": "code",
      "metadata": {
        "colab": {
          "base_uri": "https://localhost:8080/",
          "height": 297
        },
        "id": "QX2DTg9AMrJY",
        "outputId": "03ae3d4c-e231-48e4-ea65-60d15968eb24"
      },
      "source": [
        "corn_table1[corn_table1['Year']==2005].plot.scatter(x= 'GM corn area', y = 'Agri GDP')"
      ],
      "execution_count": 86,
      "outputs": [
        {
          "output_type": "execute_result",
          "data": {
            "text/plain": [
              "<matplotlib.axes._subplots.AxesSubplot at 0x7f5dfaee5e48>"
            ]
          },
          "metadata": {
            "tags": []
          },
          "execution_count": 86
        },
        {
          "output_type": "display_data",
          "data": {
            "image/png": "[encoded data removed]",
            "text/plain": [
              "<Figure size 432x288 with 1 Axes>"
            ]
          },
          "metadata": {
            "tags": [],
            "needs_background": "light"
          }
        }
      ]
    },
    {
      "cell_type": "markdown",
      "metadata": {
        "id": "rOf0yXf6lbXe"
      },
      "source": [
        "---"
      ]
    },
    {
      "cell_type": "markdown",
      "metadata": {
        "id": "a2FzGbrWlfel"
      },
      "source": [
        "Checking for correlations"
      ]
    },
    {
      "cell_type": "code",
      "metadata": {
        "id": "VLTVkQf2F1wh",
        "colab": {
          "base_uri": "https://localhost:8080/",
          "height": 419
        },
        "outputId": "63473bbb-91a7-40cc-faf4-df55dcf4e9fa"
      },
      "source": [
        "corn_table[corn_table['State']!='United States'].corr()"
      ],
      "execution_count": 87,
      "outputs": [
        {
          "output_type": "execute_result",
          "data": {
            "text/html": [
              "<div>\n",
              "<style scoped>\n",
              "    .dataframe tbody tr th:only-of-type {\n",
              "        vertical-align: middle;\n",
              "    }\n",
              "\n",
              "    .dataframe tbody tr th {\n",
              "        vertical-align: top;\n",
              "    }\n",
              "\n",
              "    .dataframe thead th {\n",
              "        text-align: right;\n",
              "    }\n",
              "</style>\n",
              "<table border=\"1\" class=\"dataframe\">\n",
              "  <thead>\n",
              "    <tr style=\"text-align: right;\">\n",
              "      <th></th>\n",
              "      <th>Year</th>\n",
              "      <th>Area planted</th>\n",
              "      <th>Area harvested for grain</th>\n",
              "      <th>Yield</th>\n",
              "      <th>Production</th>\n",
              "      <th>Value</th>\n",
              "      <th>GM corn area</th>\n",
              "      <th>Agri GDP</th>\n",
              "    </tr>\n",
              "  </thead>\n",
              "  <tbody>\n",
              "    <tr>\n",
              "      <th>Year</th>\n",
              "      <td>1.000000</td>\n",
              "      <td>0.037916</td>\n",
              "      <td>0.033849</td>\n",
              "      <td>0.339200</td>\n",
              "      <td>0.101815</td>\n",
              "      <td>NaN</td>\n",
              "      <td>0.201898</td>\n",
              "      <td>0.258209</td>\n",
              "    </tr>\n",
              "    <tr>\n",
              "      <th>Area planted</th>\n",
              "      <td>0.037916</td>\n",
              "      <td>1.000000</td>\n",
              "      <td>0.998061</td>\n",
              "      <td>0.547011</td>\n",
              "      <td>0.974593</td>\n",
              "      <td>NaN</td>\n",
              "      <td>0.962466</td>\n",
              "      <td>0.489489</td>\n",
              "    </tr>\n",
              "    <tr>\n",
              "      <th>Area harvested for grain</th>\n",
              "      <td>0.033849</td>\n",
              "      <td>0.998061</td>\n",
              "      <td>1.000000</td>\n",
              "      <td>0.553025</td>\n",
              "      <td>0.978386</td>\n",
              "      <td>NaN</td>\n",
              "      <td>0.958149</td>\n",
              "      <td>0.484225</td>\n",
              "    </tr>\n",
              "    <tr>\n",
              "      <th>Yield</th>\n",
              "      <td>0.339200</td>\n",
              "      <td>0.547011</td>\n",
              "      <td>0.553025</td>\n",
              "      <td>1.000000</td>\n",
              "      <td>0.674699</td>\n",
              "      <td>NaN</td>\n",
              "      <td>0.555540</td>\n",
              "      <td>0.347681</td>\n",
              "    </tr>\n",
              "    <tr>\n",
              "      <th>Production</th>\n",
              "      <td>0.101815</td>\n",
              "      <td>0.974593</td>\n",
              "      <td>0.978386</td>\n",
              "      <td>0.674699</td>\n",
              "      <td>1.000000</td>\n",
              "      <td>NaN</td>\n",
              "      <td>0.948528</td>\n",
              "      <td>0.517038</td>\n",
              "    </tr>\n",
              "    <tr>\n",
              "      <th>Value</th>\n",
              "      <td>NaN</td>\n",
              "      <td>NaN</td>\n",
              "      <td>NaN</td>\n",
              "      <td>NaN</td>\n",
              "      <td>NaN</td>\n",
              "      <td>NaN</td>\n",
              "      <td>NaN</td>\n",
              "      <td>NaN</td>\n",
              "    </tr>\n",
              "    <tr>\n",
              "      <th>GM corn area</th>\n",
              "      <td>0.201898</td>\n",
              "      <td>0.962466</td>\n",
              "      <td>0.958149</td>\n",
              "      <td>0.555540</td>\n",
              "      <td>0.948528</td>\n",
              "      <td>NaN</td>\n",
              "      <td>1.000000</td>\n",
              "      <td>0.545486</td>\n",
              "    </tr>\n",
              "    <tr>\n",
              "      <th>Agri GDP</th>\n",
              "      <td>0.258209</td>\n",
              "      <td>0.489489</td>\n",
              "      <td>0.484225</td>\n",
              "      <td>0.347681</td>\n",
              "      <td>0.517038</td>\n",
              "      <td>NaN</td>\n",
              "      <td>0.545486</td>\n",
              "      <td>1.000000</td>\n",
              "    </tr>\n",
              "  </tbody>\n",
              "</table>\n",
              "</div>"
            ],
            "text/plain": [
              "                              Year  Area planted  ...  GM corn area  Agri GDP\n",
              "Year                      1.000000      0.037916  ...      0.201898  0.258209\n",
              "Area planted              0.037916      1.000000  ...      0.962466  0.489489\n",
              "Area harvested for grain  0.033849      0.998061  ...      0.958149  0.484225\n",
              "Yield                     0.339200      0.547011  ...      0.555540  0.347681\n",
              "Production                0.101815      0.974593  ...      0.948528  0.517038\n",
              "Value                          NaN           NaN  ...           NaN       NaN\n",
              "GM corn area              0.201898      0.962466  ...      1.000000  0.545486\n",
              "Agri GDP                  0.258209      0.489489  ...      0.545486  1.000000\n",
              "\n",
              "[8 rows x 8 columns]"
            ]
          },
          "metadata": {
            "tags": []
          },
          "execution_count": 87
        }
      ]
    },
    {
      "cell_type": "code",
      "metadata": {
        "id": "5cMDK5JkJXbM"
      },
      "source": [
        "import seaborn as sns"
      ],
      "execution_count": 88,
      "outputs": []
    },
    {
      "cell_type": "code",
      "metadata": {
        "id": "a9m6_BQDM5pK"
      },
      "source": [
        "corn_for_cor=corn_table1.drop(columns='Year')"
      ],
      "execution_count": 90,
      "outputs": []
    },
    {
      "cell_type": "code",
      "metadata": {
        "id": "MSv-yNoYPRWQ"
      },
      "source": [
        "corn_for_cor=corn_table1.drop(columns='Value')"
      ],
      "execution_count": 91,
      "outputs": []
    },
    {
      "cell_type": "code",
      "metadata": {
        "id": "1Ws-0MdKQTPi"
      },
      "source": [
        "corn_for_cor=corn_for_cor.drop(columns='Year')"
      ],
      "execution_count": 92,
      "outputs": []
    },
    {
      "cell_type": "code",
      "metadata": {
        "colab": {
          "base_uri": "https://localhost:8080/",
          "height": 204
        },
        "id": "5O3kj5cmPmcN",
        "outputId": "bb47a064-e34a-4363-8fd4-ef80d0d81b66"
      },
      "source": [
        "corn_for_cor.corr()"
      ],
      "execution_count": 93,
      "outputs": [
        {
          "output_type": "execute_result",
          "data": {
            "text/html": [
              "<div>\n",
              "<style scoped>\n",
              "    .dataframe tbody tr th:only-of-type {\n",
              "        vertical-align: middle;\n",
              "    }\n",
              "\n",
              "    .dataframe tbody tr th {\n",
              "        vertical-align: top;\n",
              "    }\n",
              "\n",
              "    .dataframe thead th {\n",
              "        text-align: right;\n",
              "    }\n",
              "</style>\n",
              "<table border=\"1\" class=\"dataframe\">\n",
              "  <thead>\n",
              "    <tr style=\"text-align: right;\">\n",
              "      <th></th>\n",
              "      <th>Area planted</th>\n",
              "      <th>Yield</th>\n",
              "      <th>Production</th>\n",
              "      <th>GM corn area</th>\n",
              "      <th>Agri GDP</th>\n",
              "    </tr>\n",
              "  </thead>\n",
              "  <tbody>\n",
              "    <tr>\n",
              "      <th>Area planted</th>\n",
              "      <td>1.000000</td>\n",
              "      <td>0.515347</td>\n",
              "      <td>0.972699</td>\n",
              "      <td>0.959574</td>\n",
              "      <td>0.829025</td>\n",
              "    </tr>\n",
              "    <tr>\n",
              "      <th>Yield</th>\n",
              "      <td>0.515347</td>\n",
              "      <td>1.000000</td>\n",
              "      <td>0.655348</td>\n",
              "      <td>0.527436</td>\n",
              "      <td>0.634722</td>\n",
              "    </tr>\n",
              "    <tr>\n",
              "      <th>Production</th>\n",
              "      <td>0.972699</td>\n",
              "      <td>0.655348</td>\n",
              "      <td>1.000000</td>\n",
              "      <td>0.944657</td>\n",
              "      <td>0.847893</td>\n",
              "    </tr>\n",
              "    <tr>\n",
              "      <th>GM corn area</th>\n",
              "      <td>0.959574</td>\n",
              "      <td>0.527436</td>\n",
              "      <td>0.944657</td>\n",
              "      <td>1.000000</td>\n",
              "      <td>0.879661</td>\n",
              "    </tr>\n",
              "    <tr>\n",
              "      <th>Agri GDP</th>\n",
              "      <td>0.829025</td>\n",
              "      <td>0.634722</td>\n",
              "      <td>0.847893</td>\n",
              "      <td>0.879661</td>\n",
              "      <td>1.000000</td>\n",
              "    </tr>\n",
              "  </tbody>\n",
              "</table>\n",
              "</div>"
            ],
            "text/plain": [
              "              Area planted     Yield  Production  GM corn area  Agri GDP\n",
              "Area planted      1.000000  0.515347    0.972699      0.959574  0.829025\n",
              "Yield             0.515347  1.000000    0.655348      0.527436  0.634722\n",
              "Production        0.972699  0.655348    1.000000      0.944657  0.847893\n",
              "GM corn area      0.959574  0.527436    0.944657      1.000000  0.879661\n",
              "Agri GDP          0.829025  0.634722    0.847893      0.879661  1.000000"
            ]
          },
          "metadata": {
            "tags": []
          },
          "execution_count": 93
        }
      ]
    },
    {
      "cell_type": "code",
      "metadata": {
        "colab": {
          "base_uri": "https://localhost:8080/",
          "height": 343
        },
        "id": "SL9DoeEPP28Z",
        "outputId": "98e9bd7c-aa83-4872-88d6-08796d0b1e45"
      },
      "source": [
        "sns.heatmap(corn_for_cor[corn_for_cor['State']!='United States'].corr())"
      ],
      "execution_count": 94,
      "outputs": [
        {
          "output_type": "execute_result",
          "data": {
            "text/plain": [
              "<matplotlib.axes._subplots.AxesSubplot at 0x7f5df0eb15c0>"
            ]
          },
          "metadata": {
            "tags": []
          },
          "execution_count": 94
        },
        {
          "output_type": "display_data",
          "data": {
            "image/png": "[encoded data removed]",
            "text/plain": [
              "<Figure size 432x288 with 2 Axes>"
            ]
          },
          "metadata": {
            "tags": [],
            "needs_background": "light"
          }
        }
      ]
    },
    {
      "cell_type": "markdown",
      "metadata": {
        "id": "P_8WxFtalVAa"
      },
      "source": [
        "---"
      ]
    },
    {
      "cell_type": "markdown",
      "metadata": {
        "id": "4hsS9WfmlXMQ"
      },
      "source": [
        "Trying descriptive statistics"
      ]
    },
    {
      "cell_type": "code",
      "metadata": {
        "colab": {
          "base_uri": "https://localhost:8080/",
          "height": 335
        },
        "id": "rHE4NTjlReud",
        "outputId": "5c42939a-5062-4624-c9d7-cb0a74c0a32e"
      },
      "source": [
        "corn_table1.hist(column='Agri GDP')"
      ],
      "execution_count": 95,
      "outputs": [
        {
          "output_type": "execute_result",
          "data": {
            "text/plain": [
              "array([[<matplotlib.axes._subplots.AxesSubplot object at 0x7f5dee5d5240>]],\n",
              "      dtype=object)"
            ]
          },
          "metadata": {
            "tags": []
          },
          "execution_count": 95
        },
        {
          "output_type": "display_data",
          "data": {
            "image/png": "[encoded data removed]",
            "text/plain": [
              "<Figure size 432x288 with 1 Axes>"
            ]
          },
          "metadata": {
            "tags": [],
            "needs_background": "light"
          }
        }
      ]
    },
    {
      "cell_type": "code",
      "metadata": {
        "colab": {
          "base_uri": "https://localhost:8080/",
          "height": 335
        },
        "id": "AsFDFYbAlBga",
        "outputId": "7a07b257-2243-406e-a2fb-fb5b6be98b18"
      },
      "source": [
        "corn_table[corn_table['State']!='United States'].hist(column='Agri GDP')"
      ],
      "execution_count": 96,
      "outputs": [
        {
          "output_type": "execute_result",
          "data": {
            "text/plain": [
              "array([[<matplotlib.axes._subplots.AxesSubplot object at 0x7f5dee56c208>]],\n",
              "      dtype=object)"
            ]
          },
          "metadata": {
            "tags": []
          },
          "execution_count": 96
        },
        {
          "output_type": "display_data",
          "data": {
            "image/png": "[encoded data removed]",
            "text/plain": [
              "<Figure size 432x288 with 1 Axes>"
            ]
          },
          "metadata": {
            "tags": [],
            "needs_background": "light"
          }
        }
      ]
    },
    {
      "cell_type": "code",
      "metadata": {
        "colab": {
          "base_uri": "https://localhost:8080/",
          "height": 335
        },
        "id": "2Qe01CyjR0gc",
        "outputId": "50a2fb21-688f-4ea1-a081-458f1c2764e6"
      },
      "source": [
        "corn_table[corn_table['State']!='United States'].hist(column='GM corn area')"
      ],
      "execution_count": 98,
      "outputs": [
        {
          "output_type": "execute_result",
          "data": {
            "text/plain": [
              "array([[<matplotlib.axes._subplots.AxesSubplot object at 0x7f5dfaee5198>]],\n",
              "      dtype=object)"
            ]
          },
          "metadata": {
            "tags": []
          },
          "execution_count": 98
        },
        {
          "output_type": "display_data",
          "data": {
            "image/png": "[encoded data removed]",
            "text/plain": [
              "<Figure size 432x288 with 1 Axes>"
            ]
          },
          "metadata": {
            "tags": [],
            "needs_background": "light"
          }
        }
      ]
    },
    {
      "cell_type": "code",
      "metadata": {
        "colab": {
          "base_uri": "https://localhost:8080/",
          "height": 296
        },
        "id": "EmRGY7JKTmFm",
        "outputId": "4ee07559-5c5d-4ead-9ca7-e5d3c30b53fc"
      },
      "source": [
        "g = sns.FacetGrid(corn_table, col=\"State\", sharex=False)\n",
        "g.map(sns.boxplot, 'Agri GDP')"
      ],
      "execution_count": 99,
      "outputs": [
        {
          "output_type": "stream",
          "text": [
            "/usr/local/lib/python3.6/dist-packages/seaborn/axisgrid.py:645: UserWarning: Using the boxplot function without specifying `order` is likely to produce an incorrect plot.\n",
            "  warnings.warn(warning)\n"
          ],
          "name": "stderr"
        },
        {
          "output_type": "execute_result",
          "data": {
            "text/plain": [
              "<seaborn.axisgrid.FacetGrid at 0x7f5dee410fd0>"
            ]
          },
          "metadata": {
            "tags": []
          },
          "execution_count": 99
        },
        {
          "output_type": "display_data",
          "data": {
            "image/png": "[encoded data removed]",
            "text/plain": [
              "<Figure size 3024x216 with 14 Axes>"
            ]
          },
          "metadata": {
            "tags": [],
            "needs_background": "light"
          }
        }
      ]
    },
    {
      "cell_type": "markdown",
      "metadata": {
        "id": "Eu1BE_L-6LBM"
      },
      "source": [
        "---"
      ]
    },
    {
      "cell_type": "markdown",
      "metadata": {
        "id": "Qjvd2AVi6MOq"
      },
      "source": [
        "Doing correlations within each state"
      ]
    },
    {
      "cell_type": "code",
      "metadata": {
        "colab": {
          "base_uri": "https://localhost:8080/",
          "height": 296
        },
        "id": "Ycecdo9A3ssK",
        "outputId": "48e5ca6f-9b32-4aad-827e-352f392ac4cf"
      },
      "source": [
        "corn_table[corn_table['State']=='United States'].plot.scatter('GM corn area','Agri GDP')"
      ],
      "execution_count": 127,
      "outputs": [
        {
          "output_type": "execute_result",
          "data": {
            "text/plain": [
              "<matplotlib.axes._subplots.AxesSubplot at 0x7f5deb5defd0>"
            ]
          },
          "metadata": {
            "tags": []
          },
          "execution_count": 127
        },
        {
          "output_type": "display_data",
          "data": {
            "image/png": "[encoded data removed]",
            "text/plain": [
              "<Figure size 432x288 with 1 Axes>"
            ]
          },
          "metadata": {
            "tags": [],
            "needs_background": "light"
          }
        }
      ]
    },
    {
      "cell_type": "code",
      "metadata": {
        "colab": {
          "base_uri": "https://localhost:8080/"
        },
        "id": "L36CdgWjiaBq",
        "outputId": "ca80a68d-8f67-44ef-98af-39f6de180a6c"
      },
      "source": [
        "from scipy.stats import pearsonr\n",
        "# calculate Pearson's correlation\n",
        "corr, _ = pearsonr(corn_table1[corn_table1['State']=='Illinois']['GM corn area'], corn_table1[corn_table1['State']=='Illinois']['Agri GDP'])\n",
        "print('Pearsons correlation: %.3f' % corr)"
      ],
      "execution_count": 115,
      "outputs": [
        {
          "output_type": "stream",
          "text": [
            "Pearsons correlation: 0.624\n"
          ],
          "name": "stdout"
        }
      ]
    },
    {
      "cell_type": "code",
      "metadata": {
        "colab": {
          "base_uri": "https://localhost:8080/"
        },
        "id": "1V3EtldA3z9C",
        "outputId": "5b0b027b-8306-4e83-e270-6d940da67585"
      },
      "source": [
        "from scipy.stats import pearsonr\n",
        "# calculate Pearson's correlation\n",
        "corr, _ = pearsonr(corn_table1[corn_table1['State']=='Indiana']['GM corn area'], corn_table1[corn_table1['State']=='Illinois']['Agri GDP'])\n",
        "print('Pearsons correlation: %.3f' % corr)"
      ],
      "execution_count": 128,
      "outputs": [
        {
          "output_type": "stream",
          "text": [
            "Pearsons correlation: 0.614\n"
          ],
          "name": "stdout"
        }
      ]
    },
    {
      "cell_type": "code",
      "metadata": {
        "colab": {
          "base_uri": "https://localhost:8080/"
        },
        "id": "Tsd97jLP33mU",
        "outputId": "6efbcba6-1aef-4e56-ec96-97d127d7c34b"
      },
      "source": [
        "from scipy.stats import pearsonr\n",
        "# calculate Pearson's correlation\n",
        "corr, _ = pearsonr(corn_table1[corn_table1['State']=='Iowa']['GM corn area'], corn_table1[corn_table1['State']=='Illinois']['Agri GDP'])\n",
        "print('Pearsons correlation: %.3f' % corr)"
      ],
      "execution_count": 129,
      "outputs": [
        {
          "output_type": "stream",
          "text": [
            "Pearsons correlation: 0.598\n"
          ],
          "name": "stdout"
        }
      ]
    },
    {
      "cell_type": "code",
      "metadata": {
        "colab": {
          "base_uri": "https://localhost:8080/"
        },
        "id": "7XYi4_8E37D3",
        "outputId": "79aecbae-f6ae-4056-f0f8-92550e1359ae"
      },
      "source": [
        "from scipy.stats import pearsonr\n",
        "# calculate Pearson's correlation\n",
        "corr, _ = pearsonr(corn_table1[corn_table1['State']=='Kansas']['GM corn area'], corn_table1[corn_table1['State']=='Illinois']['Agri GDP'])\n",
        "print('Pearsons correlation: %.3f' % corr)"
      ],
      "execution_count": 131,
      "outputs": [
        {
          "output_type": "stream",
          "text": [
            "Pearsons correlation: 0.527\n"
          ],
          "name": "stdout"
        }
      ]
    },
    {
      "cell_type": "code",
      "metadata": {
        "colab": {
          "base_uri": "https://localhost:8080/"
        },
        "id": "fGTiLQLc393_",
        "outputId": "59fe1d11-77ee-45fe-bb53-8bcff3f9aa3e"
      },
      "source": [
        "from scipy.stats import pearsonr\n",
        "# calculate Pearson's correlation\n",
        "corr, _ = pearsonr(corn_table1[corn_table1['State']=='Michigan']['GM corn area'], corn_table1[corn_table1['State']=='Illinois']['Agri GDP'])\n",
        "print('Pearsons correlation: %.3f' % corr)"
      ],
      "execution_count": 132,
      "outputs": [
        {
          "output_type": "stream",
          "text": [
            "Pearsons correlation: 0.610\n"
          ],
          "name": "stdout"
        }
      ]
    },
    {
      "cell_type": "code",
      "metadata": {
        "colab": {
          "base_uri": "https://localhost:8080/"
        },
        "id": "FfLE79C74CgC",
        "outputId": "6d653cfb-e1cf-456d-f9d1-9e78688053cf"
      },
      "source": [
        "from scipy.stats import pearsonr\n",
        "# calculate Pearson's correlation\n",
        "corr, _ = pearsonr(corn_table1[corn_table1['State']=='Minnesota']['GM corn area'], corn_table1[corn_table1['State']=='Illinois']['Agri GDP'])\n",
        "print('Pearsons correlation: %.3f' % corr)"
      ],
      "execution_count": 133,
      "outputs": [
        {
          "output_type": "stream",
          "text": [
            "Pearsons correlation: 0.634\n"
          ],
          "name": "stdout"
        }
      ]
    },
    {
      "cell_type": "code",
      "metadata": {
        "colab": {
          "base_uri": "https://localhost:8080/"
        },
        "id": "ip3cNhGI4FBd",
        "outputId": "1b587445-4c93-4918-8ee9-2b62501db5db"
      },
      "source": [
        "from scipy.stats import pearsonr\n",
        "# calculate Pearson's correlation\n",
        "corr, _ = pearsonr(corn_table1[corn_table1['State']=='Missouri']['GM corn area'], corn_table1[corn_table1['State']=='Illinois']['Agri GDP'])\n",
        "print('Pearsons correlation: %.3f' % corr)"
      ],
      "execution_count": 134,
      "outputs": [
        {
          "output_type": "stream",
          "text": [
            "Pearsons correlation: 0.604\n"
          ],
          "name": "stdout"
        }
      ]
    },
    {
      "cell_type": "code",
      "metadata": {
        "colab": {
          "base_uri": "https://localhost:8080/"
        },
        "id": "5ehsMB6B4NB9",
        "outputId": "261b6f46-527c-4f11-da31-f589aed9a706"
      },
      "source": [
        "from scipy.stats import pearsonr\n",
        "# calculate Pearson's correlation\n",
        "corr, _ = pearsonr(corn_table1[corn_table1['State']=='Nebraska']['GM corn area'], corn_table1[corn_table1['State']=='Illinois']['Agri GDP'])\n",
        "print('Pearsons correlation: %.3f' % corr)"
      ],
      "execution_count": 135,
      "outputs": [
        {
          "output_type": "stream",
          "text": [
            "Pearsons correlation: 0.641\n"
          ],
          "name": "stdout"
        }
      ]
    },
    {
      "cell_type": "code",
      "metadata": {
        "colab": {
          "base_uri": "https://localhost:8080/"
        },
        "id": "pEsAb6zT4QjS",
        "outputId": "793ac34b-3694-4e99-aa65-e0ff58e339da"
      },
      "source": [
        "from scipy.stats import pearsonr\n",
        "# calculate Pearson's correlation\n",
        "corr, _ = pearsonr(corn_table1[corn_table1['State']=='North Dakota']['GM corn area'], corn_table1[corn_table1['State']=='Illinois']['Agri GDP'])\n",
        "print('Pearsons correlation: %.3f' % corr)"
      ],
      "execution_count": 136,
      "outputs": [
        {
          "output_type": "stream",
          "text": [
            "Pearsons correlation: 0.603\n"
          ],
          "name": "stdout"
        }
      ]
    },
    {
      "cell_type": "code",
      "metadata": {
        "colab": {
          "base_uri": "https://localhost:8080/"
        },
        "id": "IWKM6_bU4Tzy",
        "outputId": "aff4edf7-f85f-4340-9f60-33b69ff4f7b3"
      },
      "source": [
        "from scipy.stats import pearsonr\n",
        "# calculate Pearson's correlation\n",
        "corr, _ = pearsonr(corn_table1[corn_table1['State']=='Ohio']['GM corn area'], corn_table1[corn_table1['State']=='Illinois']['Agri GDP'])\n",
        "print('Pearsons correlation: %.3f' % corr)"
      ],
      "execution_count": 137,
      "outputs": [
        {
          "output_type": "stream",
          "text": [
            "Pearsons correlation: 0.691\n"
          ],
          "name": "stdout"
        }
      ]
    },
    {
      "cell_type": "code",
      "metadata": {
        "colab": {
          "base_uri": "https://localhost:8080/"
        },
        "id": "384OriKK4Wie",
        "outputId": "501fc73f-1a02-433d-9497-05b76b6b85ef"
      },
      "source": [
        "from scipy.stats import pearsonr\n",
        "# calculate Pearson's correlation\n",
        "corr, _ = pearsonr(corn_table1[corn_table1['State']=='South Dakota']['GM corn area'], corn_table1[corn_table1['State']=='Illinois']['Agri GDP'])\n",
        "print('Pearsons correlation: %.3f' % corr)"
      ],
      "execution_count": 138,
      "outputs": [
        {
          "output_type": "stream",
          "text": [
            "Pearsons correlation: 0.590\n"
          ],
          "name": "stdout"
        }
      ]
    },
    {
      "cell_type": "code",
      "metadata": {
        "colab": {
          "base_uri": "https://localhost:8080/"
        },
        "id": "GdTTpJn24aUE",
        "outputId": "16925892-2942-426c-cae1-06d4b5031f06"
      },
      "source": [
        "from scipy.stats import pearsonr\n",
        "# calculate Pearson's correlation\n",
        "corr, _ = pearsonr(corn_table[corn_table['State']=='Texas']['GM corn area'], corn_table1[corn_table1['State']=='Illinois']['Agri GDP'])\n",
        "print('Pearsons correlation: %.3f' % corr)"
      ],
      "execution_count": 139,
      "outputs": [
        {
          "output_type": "stream",
          "text": [
            "Pearsons correlation: 0.614\n"
          ],
          "name": "stdout"
        }
      ]
    },
    {
      "cell_type": "code",
      "metadata": {
        "colab": {
          "base_uri": "https://localhost:8080/"
        },
        "id": "btLkcAVI4fVl",
        "outputId": "9a86cd93-ed10-4fd2-fbd5-903d83eec09d"
      },
      "source": [
        "from scipy.stats import pearsonr\n",
        "# calculate Pearson's correlation\n",
        "corr, _ = pearsonr(corn_table1[corn_table1['State']=='Wisconsin']['GM corn area'], corn_table1[corn_table1['State']=='Illinois']['Agri GDP'])\n",
        "print('Pearsons correlation: %.3f' % corr)"
      ],
      "execution_count": 140,
      "outputs": [
        {
          "output_type": "stream",
          "text": [
            "Pearsons correlation: 0.565\n"
          ],
          "name": "stdout"
        }
      ]
    },
    {
      "cell_type": "code",
      "metadata": {
        "colab": {
          "base_uri": "https://localhost:8080/",
          "height": 646
        },
        "id": "d8SvQFpaXNc9",
        "outputId": "055c34d2-5489-4a1c-bf0e-ce80e019c3bf"
      },
      "source": [
        "fig, axes = plt.subplots(5, 3, sharex=True, sharey=True, figsize=(10,10))\n",
        "corn_table[corn_table['State']=='Illinois'].plot.scatter('GM corn area','Agri GDP', ax=axes[0,0])\n",
        "axes[0,0].set_title('Illinois corr:0.624')\n",
        "corn_table[corn_table['State']=='Indiana'].plot.scatter('GM corn area','Agri GDP', ax=axes[0,1])\n",
        "axes[0,1].set_title('Indiana corr:0.614')\n",
        "corn_table[corn_table['State']=='Iowa'].plot.scatter('GM corn area','Agri GDP', ax=axes[0,2])\n",
        "axes[0,2].set_title('Iowa corr:0.598')\n",
        "corn_table[corn_table['State']=='Kansas'].plot.scatter('GM corn area','Agri GDP', ax=axes[1,0])\n",
        "axes[1,0].set_title('Kansas corr:0.527')\n",
        "corn_table[corn_table['State']=='Michigan'].plot.scatter('GM corn area','Agri GDP', ax=axes[1,1])\n",
        "axes[1,1].set_title('Michigan corr:0.610')\n",
        "corn_table[corn_table['State']=='Minnesota'].plot.scatter('GM corn area','Agri GDP', ax=axes[1,2])\n",
        "axes[1,2].set_title('Minnesota corr:0.634')\n",
        "corn_table[corn_table['State']=='Missouri'].plot.scatter('GM corn area','Agri GDP', ax=axes[2,0])\n",
        "axes[2,0].set_title('Missouri corr:0.604')\n",
        "corn_table1[corn_table1['State']=='Nebraska'].plot.scatter('GM corn area','Agri GDP', ax=axes[2,1])\n",
        "axes[2,1].set_title('Nebraska corr:0.641')\n",
        "corn_table1[corn_table1['State']=='North Dakota'].plot.scatter('GM corn area','Agri GDP', ax=axes[2,2])\n",
        "axes[2,2].set_title('North Dakota corr:0.603')\n",
        "corn_table1[corn_table1['State']=='Ohio'].plot.scatter('GM corn area','Agri GDP', ax=axes[3,0])\n",
        "axes[3,0].set_title('Ohio corr:0.691')\n",
        "corn_table1[corn_table1['State']=='South Dakota'].plot.scatter('GM corn area','Agri GDP', ax=axes[3,1])\n",
        "axes[3,1].set_title('South Dakota corr:0.590')\n",
        "corn_table[corn_table['State']=='Texas'].plot.scatter('GM corn area','Agri GDP', ax=axes[3,2])\n",
        "axes[3,2].set_title('Texas corr:0.614')\n",
        "corn_table1[corn_table1['State']=='Wisconsin'].plot.scatter('GM corn area','Agri GDP', ax=axes[4,0])\n",
        "axes[4,0].set_title('Wisconsin corr:0.565')\n",
        "\n",
        "plt.tight_layout()\n",
        "fig.show()"
      ],
      "execution_count": 142,
      "outputs": [
        {
          "output_type": "display_data",
          "data": {
            "image/png": "[encoded data removed]",
            "text/plain": [
              "<Figure size 720x720 with 15 Axes>"
            ]
          },
          "metadata": {
            "tags": [],
            "needs_background": "light"
          }
        }
      ]
    },
    {
      "cell_type": "markdown",
      "metadata": {
        "id": "wbCBPl5XZzml"
      },
      "source": [
        "---"
      ]
    },
    {
      "cell_type": "markdown",
      "metadata": {
        "id": "t1t7f-2eZ2Jp"
      },
      "source": [
        "Trying panel regressions"
      ]
    },
    {
      "cell_type": "code",
      "metadata": {
        "id": "UsM86MdLgtHO"
      },
      "source": [
        "regression = corn_table.set_index([\"State\"])"
      ],
      "execution_count": 116,
      "outputs": []
    },
    {
      "cell_type": "code",
      "metadata": {
        "id": "LvLZc1h_g9tl"
      },
      "source": [
        "regression=pd.to_datetime(regression.Year, format='%Y')"
      ],
      "execution_count": 117,
      "outputs": []
    },
    {
      "cell_type": "code",
      "metadata": {
        "id": "5nAp3_lUh3Xq"
      },
      "source": [
        "regression1 = corn_table.set_index([\"State\", \"Year\"])"
      ],
      "execution_count": 118,
      "outputs": []
    },
    {
      "cell_type": "code",
      "metadata": {
        "id": "G72OgbsrZ0Jl",
        "colab": {
          "base_uri": "https://localhost:8080/"
        },
        "outputId": "57cbcf73-4e13-4303-f437-2f61a1b1771e"
      },
      "source": [
        "!pip install linearmodels\n",
        "from linearmodels import PanelOLS\n",
        "PanelOLS(regression1['Agri GDP'],regression1['GM corn area'], entity_effects=True, time_effects=True)"
      ],
      "execution_count": 119,
      "outputs": [
        {
          "output_type": "stream",
          "text": [
            "Collecting linearmodels\n",
            "\u001b[?25l  Downloading https://files.pythonhosted.org/packages/33/98/9606898621df26cad70021f928ab977926a7ed6ad30a10572cc93f67a970/linearmodels-4.17-cp36-cp36m-manylinux1_x86_64.whl (1.5MB)\n",
            "\u001b[K     |████████████████████████████████| 1.5MB 6.7MB/s \n",
            "\u001b[?25hCollecting property-cached>=1.6.3\n",
            "  Downloading https://files.pythonhosted.org/packages/5c/6c/94d8e520b20a2502e508e1c558f338061cf409cbee78fd6a3a5c6ae812bd/property_cached-1.6.4-py2.py3-none-any.whl\n",
            "Requirement already satisfied: Cython>=0.29.14 in /usr/local/lib/python3.6/dist-packages (from linearmodels) (0.29.21)\n",
            "Requirement already satisfied: patsy in /usr/local/lib/python3.6/dist-packages (from linearmodels) (0.5.1)\n",
            "Requirement already satisfied: pandas>=0.23 in /usr/local/lib/python3.6/dist-packages (from linearmodels) (1.1.4)\n",
            "Collecting mypy-extensions>=0.4\n",
            "  Downloading https://files.pythonhosted.org/packages/5c/eb/975c7c080f3223a5cdaff09612f3a5221e4ba534f7039db34c35d95fa6a5/mypy_extensions-0.4.3-py2.py3-none-any.whl\n",
            "Requirement already satisfied: statsmodels>=0.9 in /usr/local/lib/python3.6/dist-packages (from linearmodels) (0.10.2)\n",
            "Requirement already satisfied: numpy>=1.15 in /usr/local/lib/python3.6/dist-packages (from linearmodels) (1.18.5)\n",
            "Requirement already satisfied: scipy>=1 in /usr/local/lib/python3.6/dist-packages (from linearmodels) (1.4.1)\n",
            "Requirement already satisfied: six in /usr/local/lib/python3.6/dist-packages (from patsy->linearmodels) (1.15.0)\n",
            "Requirement already satisfied: pytz>=2017.2 in /usr/local/lib/python3.6/dist-packages (from pandas>=0.23->linearmodels) (2018.9)\n",
            "Requirement already satisfied: python-dateutil>=2.7.3 in /usr/local/lib/python3.6/dist-packages (from pandas>=0.23->linearmodels) (2.8.1)\n",
            "Installing collected packages: property-cached, mypy-extensions, linearmodels\n",
            "Successfully installed linearmodels-4.17 mypy-extensions-0.4.3 property-cached-1.6.4\n"
          ],
          "name": "stdout"
        },
        {
          "output_type": "stream",
          "text": [
            "/usr/local/lib/python3.6/dist-packages/statsmodels/tools/_testing.py:19: FutureWarning: pandas.util.testing is deprecated. Use the functions in the public API at pandas.testing instead.\n",
            "  import pandas.util.testing as tm\n",
            "/usr/local/lib/python3.6/dist-packages/linearmodels/panel/data.py:98: FutureWarning: is_categorical is deprecated and will be removed in a future version.  Use is_categorical_dtype instead\n",
            "  if is_categorical(s):\n"
          ],
          "name": "stderr"
        },
        {
          "output_type": "execute_result",
          "data": {
            "text/plain": [
              "PanelOLS \n",
              "Num exog: 1, Constant: False\n",
              "Entity Effects: True, Time Effects: True, Num Other Effects: 0\n",
              "id: 0x7f5dec822780"
            ]
          },
          "metadata": {
            "tags": []
          },
          "execution_count": 119
        }
      ]
    },
    {
      "cell_type": "code",
      "metadata": {
        "id": "Q2iJeacUc1Hz",
        "colab": {
          "base_uri": "https://localhost:8080/"
        },
        "outputId": "84d1f949-7944-4ce0-c56e-b4c3e45d9bd8"
      },
      "source": [
        "mod = PanelOLS(regression1['Agri GDP'],regression1['GM corn area'], entity_effects=True, time_effects=True)\n"
      ],
      "execution_count": 120,
      "outputs": [
        {
          "output_type": "stream",
          "text": [
            "/usr/local/lib/python3.6/dist-packages/linearmodels/panel/data.py:98: FutureWarning: is_categorical is deprecated and will be removed in a future version.  Use is_categorical_dtype instead\n",
            "  if is_categorical(s):\n"
          ],
          "name": "stderr"
        }
      ]
    },
    {
      "cell_type": "code",
      "metadata": {
        "id": "Xb3v0UVpiYq-",
        "colab": {
          "base_uri": "https://localhost:8080/"
        },
        "outputId": "ca6df6be-6532-427a-8b9e-a4ad673c1e97"
      },
      "source": [
        "print(mod)"
      ],
      "execution_count": 121,
      "outputs": [
        {
          "output_type": "stream",
          "text": [
            "PanelOLS \n",
            "Num exog: 1, Constant: False\n",
            "Entity Effects: True, Time Effects: True, Num Other Effects: 0\n"
          ],
          "name": "stdout"
        }
      ]
    },
    {
      "cell_type": "code",
      "metadata": {
        "id": "tyj6EYK5mTBJ"
      },
      "source": [
        ""
      ],
      "execution_count": null,
      "outputs": []
    }
  ]
}
